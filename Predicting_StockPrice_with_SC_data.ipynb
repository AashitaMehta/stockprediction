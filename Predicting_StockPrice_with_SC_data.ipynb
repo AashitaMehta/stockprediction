{
  "cells": [
    {
      "cell_type": "markdown",
      "metadata": {
        "id": "view-in-github",
        "colab_type": "text"
      },
      "source": [
        "<a href=\"https://colab.research.google.com/github/AashitaMehta/stockprediction/blob/main/Predicting_StockPrice_with_SC_data.ipynb\" target=\"_parent\"><img src=\"https://colab.research.google.com/assets/colab-badge.svg\" alt=\"Open In Colab\"/></a>"
      ]
    },
    {
      "cell_type": "code",
      "execution_count": null,
      "metadata": {
        "colab": {
          "base_uri": "https://localhost:8080/"
        },
        "id": "s2Q5KBd3lA_d",
        "outputId": "3735064d-5f66-40ac-af87-36872c96f20e"
      },
      "outputs": [
        {
          "name": "stdout",
          "output_type": "stream",
          "text": [
            "Mounted at /content/drive\n"
          ]
        }
      ],
      "source": [
        "from google.colab import drive\n",
        "drive.mount('/content/drive')"
      ]
    },
    {
      "cell_type": "code",
      "execution_count": null,
      "metadata": {
        "colab": {
          "base_uri": "https://localhost:8080/"
        },
        "id": "MLfXZx63lKYn",
        "outputId": "8f0c4dc2-5ab2-4fb9-82eb-1cd5416e5d01"
      },
      "outputs": [
        {
          "name": "stdout",
          "output_type": "stream",
          "text": [
            "/content/drive/MyDrive/Task\n"
          ]
        }
      ],
      "source": [
        "%cd '/content/drive/MyDrive/Task'"
      ]
    },
    {
      "cell_type": "markdown",
      "source": [
        "Here, we are loading the dataset using pandas library. "
      ],
      "metadata": {
        "id": "DsbMCQKlM8MO"
      }
    },
    {
      "cell_type": "code",
      "execution_count": 5,
      "metadata": {
        "colab": {
          "base_uri": "https://localhost:8080/",
          "height": 366
        },
        "id": "Ryu5f9zVmA-9",
        "outputId": "1ebc779c-dc85-4c12-cd12-ed33fddd972e"
      },
      "outputs": [
        {
          "output_type": "execute_result",
          "data": {
            "text/plain": [
              "       Date         Time    Open     High      Low     Last   Volume  \\\n",
              "0  2018/1/1   17:59:00.0  6405.0  6409.75  6401.50  6407.75    675.0   \n",
              "1  2018/1/1   18:01:00.0  6408.0  6412.00  6407.50  6411.25    477.0   \n",
              "2  2018/1/1   18:03:00.0  6411.5  6412.00  6411.00  6411.50    152.0   \n",
              "3  2018/1/1   18:05:00.0  6411.0  6415.00  6411.00  6415.00    177.0   \n",
              "4  2018/1/1   18:07:00.0  6414.5  6415.50  6413.25  6413.50    111.0   \n",
              "\n",
              "    # of Trades   OHLC Avg   HLC Avg  ...   DeltaRatio -2 STD  \\\n",
              "0         362.0    6406.00   6406.33  ...             6411.55   \n",
              "1         266.0    6409.69   6410.25  ...                0.00   \n",
              "2          96.0    6411.50   6411.50  ...                0.00   \n",
              "3         136.0    6413.00   6413.67  ...                0.00   \n",
              "4          96.0    6414.19   6414.08  ...                0.00   \n",
              "\n",
              "    Ask Bid Trade Ratio +1 STD   Ask Bid Trade Ratio +2 STD  \\\n",
              "0                          0.0                          0.0   \n",
              "1                       6405.5                          0.0   \n",
              "2                          0.0                          0.0   \n",
              "3                       6409.0                          0.0   \n",
              "4                          0.0                          0.0   \n",
              "\n",
              "    Ask Bid Trade Ratio -1 STD   Ask Bid Trade Ratio -2 STD  \\\n",
              "0                          0.0                      6411.75   \n",
              "1                          0.0                         0.00   \n",
              "2                       6414.0                         0.00   \n",
              "3                          0.0                         0.00   \n",
              "4                          0.0                         0.00   \n",
              "\n",
              "    Median Ask Volume   Median Bid Volume  \\\n",
              "0                10.0                 5.0   \n",
              "1                 9.0                 7.0   \n",
              "2                 9.0                12.0   \n",
              "3                10.0                 3.0   \n",
              "4                 8.0                 5.0   \n",
              "\n",
              "    Ask Volume Bid Volume Difference Per Tick   Volume Above Volume POC  \\\n",
              "0                                         4.0                     363.0   \n",
              "1                                        -1.0                      95.0   \n",
              "2                                       -20.0                      63.0   \n",
              "3                                         6.0                      91.0   \n",
              "4                                         1.0                      36.0   \n",
              "\n",
              "    Volume Below Volume POC  \n",
              "0                     109.0  \n",
              "1                     228.0  \n",
              "2                       0.0  \n",
              "3                      62.0  \n",
              "4                      52.0  \n",
              "\n",
              "[5 rows x 67 columns]"
            ],
            "text/html": [
              "\n",
              "  <div id=\"df-58ed35cb-d3b0-47aa-9c27-5672b308f3bc\">\n",
              "    <div class=\"colab-df-container\">\n",
              "      <div>\n",
              "<style scoped>\n",
              "    .dataframe tbody tr th:only-of-type {\n",
              "        vertical-align: middle;\n",
              "    }\n",
              "\n",
              "    .dataframe tbody tr th {\n",
              "        vertical-align: top;\n",
              "    }\n",
              "\n",
              "    .dataframe thead th {\n",
              "        text-align: right;\n",
              "    }\n",
              "</style>\n",
              "<table border=\"1\" class=\"dataframe\">\n",
              "  <thead>\n",
              "    <tr style=\"text-align: right;\">\n",
              "      <th></th>\n",
              "      <th>Date</th>\n",
              "      <th>Time</th>\n",
              "      <th>Open</th>\n",
              "      <th>High</th>\n",
              "      <th>Low</th>\n",
              "      <th>Last</th>\n",
              "      <th>Volume</th>\n",
              "      <th># of Trades</th>\n",
              "      <th>OHLC Avg</th>\n",
              "      <th>HLC Avg</th>\n",
              "      <th>...</th>\n",
              "      <th>DeltaRatio -2 STD</th>\n",
              "      <th>Ask Bid Trade Ratio +1 STD</th>\n",
              "      <th>Ask Bid Trade Ratio +2 STD</th>\n",
              "      <th>Ask Bid Trade Ratio -1 STD</th>\n",
              "      <th>Ask Bid Trade Ratio -2 STD</th>\n",
              "      <th>Median Ask Volume</th>\n",
              "      <th>Median Bid Volume</th>\n",
              "      <th>Ask Volume Bid Volume Difference Per Tick</th>\n",
              "      <th>Volume Above Volume POC</th>\n",
              "      <th>Volume Below Volume POC</th>\n",
              "    </tr>\n",
              "  </thead>\n",
              "  <tbody>\n",
              "    <tr>\n",
              "      <th>0</th>\n",
              "      <td>2018/1/1</td>\n",
              "      <td>17:59:00.0</td>\n",
              "      <td>6405.0</td>\n",
              "      <td>6409.75</td>\n",
              "      <td>6401.50</td>\n",
              "      <td>6407.75</td>\n",
              "      <td>675.0</td>\n",
              "      <td>362.0</td>\n",
              "      <td>6406.00</td>\n",
              "      <td>6406.33</td>\n",
              "      <td>...</td>\n",
              "      <td>6411.55</td>\n",
              "      <td>0.0</td>\n",
              "      <td>0.0</td>\n",
              "      <td>0.0</td>\n",
              "      <td>6411.75</td>\n",
              "      <td>10.0</td>\n",
              "      <td>5.0</td>\n",
              "      <td>4.0</td>\n",
              "      <td>363.0</td>\n",
              "      <td>109.0</td>\n",
              "    </tr>\n",
              "    <tr>\n",
              "      <th>1</th>\n",
              "      <td>2018/1/1</td>\n",
              "      <td>18:01:00.0</td>\n",
              "      <td>6408.0</td>\n",
              "      <td>6412.00</td>\n",
              "      <td>6407.50</td>\n",
              "      <td>6411.25</td>\n",
              "      <td>477.0</td>\n",
              "      <td>266.0</td>\n",
              "      <td>6409.69</td>\n",
              "      <td>6410.25</td>\n",
              "      <td>...</td>\n",
              "      <td>0.00</td>\n",
              "      <td>6405.5</td>\n",
              "      <td>0.0</td>\n",
              "      <td>0.0</td>\n",
              "      <td>0.00</td>\n",
              "      <td>9.0</td>\n",
              "      <td>7.0</td>\n",
              "      <td>-1.0</td>\n",
              "      <td>95.0</td>\n",
              "      <td>228.0</td>\n",
              "    </tr>\n",
              "    <tr>\n",
              "      <th>2</th>\n",
              "      <td>2018/1/1</td>\n",
              "      <td>18:03:00.0</td>\n",
              "      <td>6411.5</td>\n",
              "      <td>6412.00</td>\n",
              "      <td>6411.00</td>\n",
              "      <td>6411.50</td>\n",
              "      <td>152.0</td>\n",
              "      <td>96.0</td>\n",
              "      <td>6411.50</td>\n",
              "      <td>6411.50</td>\n",
              "      <td>...</td>\n",
              "      <td>0.00</td>\n",
              "      <td>0.0</td>\n",
              "      <td>0.0</td>\n",
              "      <td>6414.0</td>\n",
              "      <td>0.00</td>\n",
              "      <td>9.0</td>\n",
              "      <td>12.0</td>\n",
              "      <td>-20.0</td>\n",
              "      <td>63.0</td>\n",
              "      <td>0.0</td>\n",
              "    </tr>\n",
              "    <tr>\n",
              "      <th>3</th>\n",
              "      <td>2018/1/1</td>\n",
              "      <td>18:05:00.0</td>\n",
              "      <td>6411.0</td>\n",
              "      <td>6415.00</td>\n",
              "      <td>6411.00</td>\n",
              "      <td>6415.00</td>\n",
              "      <td>177.0</td>\n",
              "      <td>136.0</td>\n",
              "      <td>6413.00</td>\n",
              "      <td>6413.67</td>\n",
              "      <td>...</td>\n",
              "      <td>0.00</td>\n",
              "      <td>6409.0</td>\n",
              "      <td>0.0</td>\n",
              "      <td>0.0</td>\n",
              "      <td>0.00</td>\n",
              "      <td>10.0</td>\n",
              "      <td>3.0</td>\n",
              "      <td>6.0</td>\n",
              "      <td>91.0</td>\n",
              "      <td>62.0</td>\n",
              "    </tr>\n",
              "    <tr>\n",
              "      <th>4</th>\n",
              "      <td>2018/1/1</td>\n",
              "      <td>18:07:00.0</td>\n",
              "      <td>6414.5</td>\n",
              "      <td>6415.50</td>\n",
              "      <td>6413.25</td>\n",
              "      <td>6413.50</td>\n",
              "      <td>111.0</td>\n",
              "      <td>96.0</td>\n",
              "      <td>6414.19</td>\n",
              "      <td>6414.08</td>\n",
              "      <td>...</td>\n",
              "      <td>0.00</td>\n",
              "      <td>0.0</td>\n",
              "      <td>0.0</td>\n",
              "      <td>0.0</td>\n",
              "      <td>0.00</td>\n",
              "      <td>8.0</td>\n",
              "      <td>5.0</td>\n",
              "      <td>1.0</td>\n",
              "      <td>36.0</td>\n",
              "      <td>52.0</td>\n",
              "    </tr>\n",
              "  </tbody>\n",
              "</table>\n",
              "<p>5 rows × 67 columns</p>\n",
              "</div>\n",
              "      <button class=\"colab-df-convert\" onclick=\"convertToInteractive('df-58ed35cb-d3b0-47aa-9c27-5672b308f3bc')\"\n",
              "              title=\"Convert this dataframe to an interactive table.\"\n",
              "              style=\"display:none;\">\n",
              "        \n",
              "  <svg xmlns=\"http://www.w3.org/2000/svg\" height=\"24px\"viewBox=\"0 0 24 24\"\n",
              "       width=\"24px\">\n",
              "    <path d=\"M0 0h24v24H0V0z\" fill=\"none\"/>\n",
              "    <path d=\"M18.56 5.44l.94 2.06.94-2.06 2.06-.94-2.06-.94-.94-2.06-.94 2.06-2.06.94zm-11 1L8.5 8.5l.94-2.06 2.06-.94-2.06-.94L8.5 2.5l-.94 2.06-2.06.94zm10 10l.94 2.06.94-2.06 2.06-.94-2.06-.94-.94-2.06-.94 2.06-2.06.94z\"/><path d=\"M17.41 7.96l-1.37-1.37c-.4-.4-.92-.59-1.43-.59-.52 0-1.04.2-1.43.59L10.3 9.45l-7.72 7.72c-.78.78-.78 2.05 0 2.83L4 21.41c.39.39.9.59 1.41.59.51 0 1.02-.2 1.41-.59l7.78-7.78 2.81-2.81c.8-.78.8-2.07 0-2.86zM5.41 20L4 18.59l7.72-7.72 1.47 1.35L5.41 20z\"/>\n",
              "  </svg>\n",
              "      </button>\n",
              "      \n",
              "  <style>\n",
              "    .colab-df-container {\n",
              "      display:flex;\n",
              "      flex-wrap:wrap;\n",
              "      gap: 12px;\n",
              "    }\n",
              "\n",
              "    .colab-df-convert {\n",
              "      background-color: #E8F0FE;\n",
              "      border: none;\n",
              "      border-radius: 50%;\n",
              "      cursor: pointer;\n",
              "      display: none;\n",
              "      fill: #1967D2;\n",
              "      height: 32px;\n",
              "      padding: 0 0 0 0;\n",
              "      width: 32px;\n",
              "    }\n",
              "\n",
              "    .colab-df-convert:hover {\n",
              "      background-color: #E2EBFA;\n",
              "      box-shadow: 0px 1px 2px rgba(60, 64, 67, 0.3), 0px 1px 3px 1px rgba(60, 64, 67, 0.15);\n",
              "      fill: #174EA6;\n",
              "    }\n",
              "\n",
              "    [theme=dark] .colab-df-convert {\n",
              "      background-color: #3B4455;\n",
              "      fill: #D2E3FC;\n",
              "    }\n",
              "\n",
              "    [theme=dark] .colab-df-convert:hover {\n",
              "      background-color: #434B5C;\n",
              "      box-shadow: 0px 1px 3px 1px rgba(0, 0, 0, 0.15);\n",
              "      filter: drop-shadow(0px 1px 2px rgba(0, 0, 0, 0.3));\n",
              "      fill: #FFFFFF;\n",
              "    }\n",
              "  </style>\n",
              "\n",
              "      <script>\n",
              "        const buttonEl =\n",
              "          document.querySelector('#df-58ed35cb-d3b0-47aa-9c27-5672b308f3bc button.colab-df-convert');\n",
              "        buttonEl.style.display =\n",
              "          google.colab.kernel.accessAllowed ? 'block' : 'none';\n",
              "\n",
              "        async function convertToInteractive(key) {\n",
              "          const element = document.querySelector('#df-58ed35cb-d3b0-47aa-9c27-5672b308f3bc');\n",
              "          const dataTable =\n",
              "            await google.colab.kernel.invokeFunction('convertToInteractive',\n",
              "                                                     [key], {});\n",
              "          if (!dataTable) return;\n",
              "\n",
              "          const docLinkHtml = 'Like what you see? Visit the ' +\n",
              "            '<a target=\"_blank\" href=https://colab.research.google.com/notebooks/data_table.ipynb>data table notebook</a>'\n",
              "            + ' to learn more about interactive tables.';\n",
              "          element.innerHTML = '';\n",
              "          dataTable['output_type'] = 'display_data';\n",
              "          await google.colab.output.renderOutput(dataTable, element);\n",
              "          const docLink = document.createElement('div');\n",
              "          docLink.innerHTML = docLinkHtml;\n",
              "          element.appendChild(docLink);\n",
              "        }\n",
              "      </script>\n",
              "    </div>\n",
              "  </div>\n",
              "  "
            ]
          },
          "metadata": {},
          "execution_count": 5
        }
      ],
      "source": [
        "import pandas as pd\n",
        "df = pd.read_csv(\"GraphData.txt\")\n",
        "df.head()"
      ]
    },
    {
      "cell_type": "code",
      "execution_count": 6,
      "metadata": {
        "id": "pgCF0qcNmBk1"
      },
      "outputs": [],
      "source": [
        "df = df.iloc[:,0:7]"
      ]
    },
    {
      "cell_type": "code",
      "execution_count": 3,
      "metadata": {
        "colab": {
          "base_uri": "https://localhost:8080/",
          "height": 206
        },
        "id": "7tzlhejRmMNi",
        "outputId": "0cc407eb-c381-40f3-fa70-75e60f3e3d0c"
      },
      "outputs": [
        {
          "output_type": "execute_result",
          "data": {
            "text/plain": [
              "       Date         Time    Open     High      Low     Last   Volume\n",
              "0  2018/1/1   17:59:00.0  6405.0  6409.75  6401.50  6407.75      675\n",
              "1  2018/1/1   18:01:00.0  6408.0  6412.00  6407.50  6411.25      477\n",
              "2  2018/1/1   18:03:00.0  6411.5  6412.00  6411.00  6411.50      152\n",
              "3  2018/1/1   18:05:00.0  6411.0  6415.00  6411.00  6415.00      177\n",
              "4  2018/1/1   18:07:00.0  6414.5  6415.50  6413.25  6413.50      111"
            ],
            "text/html": [
              "\n",
              "  <div id=\"df-7fcbcabd-7439-4d25-8789-a4a9e5a62f67\">\n",
              "    <div class=\"colab-df-container\">\n",
              "      <div>\n",
              "<style scoped>\n",
              "    .dataframe tbody tr th:only-of-type {\n",
              "        vertical-align: middle;\n",
              "    }\n",
              "\n",
              "    .dataframe tbody tr th {\n",
              "        vertical-align: top;\n",
              "    }\n",
              "\n",
              "    .dataframe thead th {\n",
              "        text-align: right;\n",
              "    }\n",
              "</style>\n",
              "<table border=\"1\" class=\"dataframe\">\n",
              "  <thead>\n",
              "    <tr style=\"text-align: right;\">\n",
              "      <th></th>\n",
              "      <th>Date</th>\n",
              "      <th>Time</th>\n",
              "      <th>Open</th>\n",
              "      <th>High</th>\n",
              "      <th>Low</th>\n",
              "      <th>Last</th>\n",
              "      <th>Volume</th>\n",
              "    </tr>\n",
              "  </thead>\n",
              "  <tbody>\n",
              "    <tr>\n",
              "      <th>0</th>\n",
              "      <td>2018/1/1</td>\n",
              "      <td>17:59:00.0</td>\n",
              "      <td>6405.0</td>\n",
              "      <td>6409.75</td>\n",
              "      <td>6401.50</td>\n",
              "      <td>6407.75</td>\n",
              "      <td>675</td>\n",
              "    </tr>\n",
              "    <tr>\n",
              "      <th>1</th>\n",
              "      <td>2018/1/1</td>\n",
              "      <td>18:01:00.0</td>\n",
              "      <td>6408.0</td>\n",
              "      <td>6412.00</td>\n",
              "      <td>6407.50</td>\n",
              "      <td>6411.25</td>\n",
              "      <td>477</td>\n",
              "    </tr>\n",
              "    <tr>\n",
              "      <th>2</th>\n",
              "      <td>2018/1/1</td>\n",
              "      <td>18:03:00.0</td>\n",
              "      <td>6411.5</td>\n",
              "      <td>6412.00</td>\n",
              "      <td>6411.00</td>\n",
              "      <td>6411.50</td>\n",
              "      <td>152</td>\n",
              "    </tr>\n",
              "    <tr>\n",
              "      <th>3</th>\n",
              "      <td>2018/1/1</td>\n",
              "      <td>18:05:00.0</td>\n",
              "      <td>6411.0</td>\n",
              "      <td>6415.00</td>\n",
              "      <td>6411.00</td>\n",
              "      <td>6415.00</td>\n",
              "      <td>177</td>\n",
              "    </tr>\n",
              "    <tr>\n",
              "      <th>4</th>\n",
              "      <td>2018/1/1</td>\n",
              "      <td>18:07:00.0</td>\n",
              "      <td>6414.5</td>\n",
              "      <td>6415.50</td>\n",
              "      <td>6413.25</td>\n",
              "      <td>6413.50</td>\n",
              "      <td>111</td>\n",
              "    </tr>\n",
              "  </tbody>\n",
              "</table>\n",
              "</div>\n",
              "      <button class=\"colab-df-convert\" onclick=\"convertToInteractive('df-7fcbcabd-7439-4d25-8789-a4a9e5a62f67')\"\n",
              "              title=\"Convert this dataframe to an interactive table.\"\n",
              "              style=\"display:none;\">\n",
              "        \n",
              "  <svg xmlns=\"http://www.w3.org/2000/svg\" height=\"24px\"viewBox=\"0 0 24 24\"\n",
              "       width=\"24px\">\n",
              "    <path d=\"M0 0h24v24H0V0z\" fill=\"none\"/>\n",
              "    <path d=\"M18.56 5.44l.94 2.06.94-2.06 2.06-.94-2.06-.94-.94-2.06-.94 2.06-2.06.94zm-11 1L8.5 8.5l.94-2.06 2.06-.94-2.06-.94L8.5 2.5l-.94 2.06-2.06.94zm10 10l.94 2.06.94-2.06 2.06-.94-2.06-.94-.94-2.06-.94 2.06-2.06.94z\"/><path d=\"M17.41 7.96l-1.37-1.37c-.4-.4-.92-.59-1.43-.59-.52 0-1.04.2-1.43.59L10.3 9.45l-7.72 7.72c-.78.78-.78 2.05 0 2.83L4 21.41c.39.39.9.59 1.41.59.51 0 1.02-.2 1.41-.59l7.78-7.78 2.81-2.81c.8-.78.8-2.07 0-2.86zM5.41 20L4 18.59l7.72-7.72 1.47 1.35L5.41 20z\"/>\n",
              "  </svg>\n",
              "      </button>\n",
              "      \n",
              "  <style>\n",
              "    .colab-df-container {\n",
              "      display:flex;\n",
              "      flex-wrap:wrap;\n",
              "      gap: 12px;\n",
              "    }\n",
              "\n",
              "    .colab-df-convert {\n",
              "      background-color: #E8F0FE;\n",
              "      border: none;\n",
              "      border-radius: 50%;\n",
              "      cursor: pointer;\n",
              "      display: none;\n",
              "      fill: #1967D2;\n",
              "      height: 32px;\n",
              "      padding: 0 0 0 0;\n",
              "      width: 32px;\n",
              "    }\n",
              "\n",
              "    .colab-df-convert:hover {\n",
              "      background-color: #E2EBFA;\n",
              "      box-shadow: 0px 1px 2px rgba(60, 64, 67, 0.3), 0px 1px 3px 1px rgba(60, 64, 67, 0.15);\n",
              "      fill: #174EA6;\n",
              "    }\n",
              "\n",
              "    [theme=dark] .colab-df-convert {\n",
              "      background-color: #3B4455;\n",
              "      fill: #D2E3FC;\n",
              "    }\n",
              "\n",
              "    [theme=dark] .colab-df-convert:hover {\n",
              "      background-color: #434B5C;\n",
              "      box-shadow: 0px 1px 3px 1px rgba(0, 0, 0, 0.15);\n",
              "      filter: drop-shadow(0px 1px 2px rgba(0, 0, 0, 0.3));\n",
              "      fill: #FFFFFF;\n",
              "    }\n",
              "  </style>\n",
              "\n",
              "      <script>\n",
              "        const buttonEl =\n",
              "          document.querySelector('#df-7fcbcabd-7439-4d25-8789-a4a9e5a62f67 button.colab-df-convert');\n",
              "        buttonEl.style.display =\n",
              "          google.colab.kernel.accessAllowed ? 'block' : 'none';\n",
              "\n",
              "        async function convertToInteractive(key) {\n",
              "          const element = document.querySelector('#df-7fcbcabd-7439-4d25-8789-a4a9e5a62f67');\n",
              "          const dataTable =\n",
              "            await google.colab.kernel.invokeFunction('convertToInteractive',\n",
              "                                                     [key], {});\n",
              "          if (!dataTable) return;\n",
              "\n",
              "          const docLinkHtml = 'Like what you see? Visit the ' +\n",
              "            '<a target=\"_blank\" href=https://colab.research.google.com/notebooks/data_table.ipynb>data table notebook</a>'\n",
              "            + ' to learn more about interactive tables.';\n",
              "          element.innerHTML = '';\n",
              "          dataTable['output_type'] = 'display_data';\n",
              "          await google.colab.output.renderOutput(dataTable, element);\n",
              "          const docLink = document.createElement('div');\n",
              "          docLink.innerHTML = docLinkHtml;\n",
              "          element.appendChild(docLink);\n",
              "        }\n",
              "      </script>\n",
              "    </div>\n",
              "  </div>\n",
              "  "
            ]
          },
          "metadata": {},
          "execution_count": 3
        }
      ],
      "source": [
        "df.head()"
      ]
    },
    {
      "cell_type": "code",
      "execution_count": 4,
      "metadata": {
        "colab": {
          "base_uri": "https://localhost:8080/"
        },
        "id": "fWNLx4wZmNr8",
        "outputId": "583e3997-f6d4-4961-fb91-55d220962b12"
      },
      "outputs": [
        {
          "output_type": "execute_result",
          "data": {
            "text/plain": [
              "Index(['Date', ' Time', ' Open', ' High', ' Low', ' Last', ' Volume'], dtype='object')"
            ]
          },
          "metadata": {},
          "execution_count": 4
        }
      ],
      "source": [
        "df.columns"
      ]
    },
    {
      "cell_type": "code",
      "execution_count": 7,
      "metadata": {
        "id": "saefSOL1mPTX"
      },
      "outputs": [],
      "source": [
        "df1 = df.reset_index()[' Last']"
      ]
    },
    {
      "cell_type": "code",
      "execution_count": 6,
      "metadata": {
        "colab": {
          "base_uri": "https://localhost:8080/"
        },
        "id": "KkYyD3NwmQ6K",
        "outputId": "66c28e3c-78da-41a8-cc58-ce37e490c6e9"
      },
      "outputs": [
        {
          "output_type": "execute_result",
          "data": {
            "text/plain": [
              "0        6407.75\n",
              "1        6411.25\n",
              "2        6411.50\n",
              "3        6415.00\n",
              "4        6413.50\n",
              "          ...   \n",
              "47420    6592.25\n",
              "47421    6592.50\n",
              "47422    6591.25\n",
              "47423    6593.75\n",
              "47424    6592.75\n",
              "Name:  Last, Length: 47425, dtype: float64"
            ]
          },
          "metadata": {},
          "execution_count": 6
        }
      ],
      "source": [
        "df1"
      ]
    },
    {
      "cell_type": "code",
      "execution_count": 7,
      "metadata": {
        "colab": {
          "base_uri": "https://localhost:8080/"
        },
        "id": "UTNBvJUamSu0",
        "outputId": "6e8ad5ce-cc7a-48c4-8853-382bd4c50be6"
      },
      "outputs": [
        {
          "output_type": "execute_result",
          "data": {
            "text/plain": [
              "0    6407.75\n",
              "1    6411.25\n",
              "2    6411.50\n",
              "3    6415.00\n",
              "4    6413.50\n",
              "Name:  Last, dtype: float64"
            ]
          },
          "metadata": {},
          "execution_count": 7
        }
      ],
      "source": [
        "df1.head()"
      ]
    },
    {
      "cell_type": "code",
      "execution_count": 8,
      "metadata": {
        "colab": {
          "base_uri": "https://localhost:8080/",
          "height": 282
        },
        "id": "LDmRbMhmmVYi",
        "outputId": "35f964e8-f28a-445f-e31f-18e75c4a893d"
      },
      "outputs": [
        {
          "output_type": "execute_result",
          "data": {
            "text/plain": [
              "[<matplotlib.lines.Line2D at 0x7f1380085590>]"
            ]
          },
          "metadata": {},
          "execution_count": 8
        },
        {
          "output_type": "display_data",
          "data": {
            "text/plain": [
              "<Figure size 432x288 with 1 Axes>"
            ],
            "image/png": "[encoded data removed]"
          },
          "metadata": {
            "needs_background": "light"
          }
        }
      ],
      "source": [
        "import matplotlib.pyplot as plt\n",
        "plt.plot(df1)"
      ]
    },
    {
      "cell_type": "markdown",
      "source": [
        "Here, we perform Data Normalization and convert the values to lie between 0 and 1"
      ],
      "metadata": {
        "id": "dnnZBIh3NTOb"
      }
    },
    {
      "cell_type": "code",
      "execution_count": 9,
      "metadata": {
        "id": "jiqlStUhmXeX"
      },
      "outputs": [],
      "source": [
        "import numpy as np\n",
        "from sklearn.preprocessing import MinMaxScaler\n",
        "\n",
        "scaler=MinMaxScaler(feature_range=(0,1))\n",
        "df1=scaler.fit_transform(np.array(df1).reshape(-1,1))\n"
      ]
    },
    {
      "cell_type": "code",
      "execution_count": 10,
      "metadata": {
        "colab": {
          "base_uri": "https://localhost:8080/"
        },
        "id": "VKbwTs6HmZ_c",
        "outputId": "a95485fd-95bb-4a0b-d534-8ca05679f428"
      },
      "outputs": [
        {
          "output_type": "execute_result",
          "data": {
            "text/plain": [
              "array([[0.25813031],\n",
              "       [0.25971671],\n",
              "       [0.25983003],\n",
              "       ...,\n",
              "       [0.93745042],\n",
              "       [0.93767705],\n",
              "       [       nan]])"
            ]
          },
          "metadata": {},
          "execution_count": 10
        }
      ],
      "source": [
        "df1"
      ]
    },
    {
      "cell_type": "code",
      "execution_count": 11,
      "metadata": {
        "id": "zpGG9wtNmbhF"
      },
      "outputs": [],
      "source": [
        "##splitting dataset into train and test split\n",
        "training_size=int(len(df1)*0.70)\n",
        "test_size=len(df1)-training_size\n",
        "train_data,test_data=df1[0:training_size,:],df1[training_size:len(df1),:1]"
      ]
    },
    {
      "cell_type": "code",
      "execution_count": 12,
      "metadata": {
        "colab": {
          "base_uri": "https://localhost:8080/"
        },
        "id": "uEuJ-y3pmel7",
        "outputId": "2abba8ab-1095-4bea-a5a1-b5b3da246418"
      },
      "outputs": [
        {
          "output_type": "execute_result",
          "data": {
            "text/plain": [
              "(222975, 95561)"
            ]
          },
          "metadata": {},
          "execution_count": 12
        }
      ],
      "source": [
        "len(train_data),len(test_data)"
      ]
    },
    {
      "cell_type": "code",
      "execution_count": 13,
      "metadata": {
        "colab": {
          "base_uri": "https://localhost:8080/"
        },
        "id": "rPN7ryIOucLy",
        "outputId": "36e1f50e-fc66-44a6-faaf-b655ee685acc"
      },
      "outputs": [
        {
          "output_type": "execute_result",
          "data": {
            "text/plain": [
              "222975"
            ]
          },
          "metadata": {},
          "execution_count": 13
        }
      ],
      "source": [
        "training_size"
      ]
    },
    {
      "cell_type": "markdown",
      "source": [
        "For the LSTM model data needs to be entered in the form of a 3D array. Here, we are taking 100 timesteps and it is converted into array using numPy. "
      ],
      "metadata": {
        "id": "mCvLEKb0qhD2"
      }
    },
    {
      "cell_type": "code",
      "execution_count": 14,
      "metadata": {
        "id": "AirwaK83mgBj"
      },
      "outputs": [],
      "source": [
        "import numpy\n",
        "# convert an array of values into a dataset matrix\n",
        "def create_dataset(dataset, time_step):\n",
        "\tdataX, dataY = [], []\n",
        "\tfor i in range(len(dataset)-time_step-1):\n",
        "\t\ta = dataset[i:(i+time_step), 0]   ###i=0, 0,1,2,3-----99   100 \n",
        "\t\tdataX.append(a)\n",
        "\t\tdataY.append(dataset[i + time_step, 0])\n",
        "\treturn numpy.array(dataX), numpy.array(dataY)\n"
      ]
    },
    {
      "cell_type": "code",
      "execution_count": 15,
      "metadata": {
        "id": "U1WByGWMmhol"
      },
      "outputs": [],
      "source": [
        "# reshape into X=t,t+1,t+2,t+3 and Y=t+4\n",
        "time_step = 100\n",
        "X_train, Y_train = create_dataset(train_data, time_step)\n",
        "X_test, Y_test = create_dataset(test_data, time_step)"
      ]
    },
    {
      "cell_type": "code",
      "execution_count": 16,
      "metadata": {
        "colab": {
          "base_uri": "https://localhost:8080/"
        },
        "id": "Nfa-1htlmjNx",
        "outputId": "718db874-9910-42e2-a53b-73529d4abd9a"
      },
      "outputs": [
        {
          "output_type": "execute_result",
          "data": {
            "text/plain": [
              "((222874, 100), (222874,))"
            ]
          },
          "metadata": {},
          "execution_count": 16
        }
      ],
      "source": [
        "X_train.shape , Y_train.shape"
      ]
    },
    {
      "cell_type": "code",
      "execution_count": 17,
      "metadata": {
        "colab": {
          "base_uri": "https://localhost:8080/"
        },
        "id": "Doz2yw0smlGt",
        "outputId": "2de098df-470e-4f92-f924-68917136f440"
      },
      "outputs": [
        {
          "output_type": "execute_result",
          "data": {
            "text/plain": [
              "((95460, 100), (95460,))"
            ]
          },
          "metadata": {},
          "execution_count": 17
        }
      ],
      "source": [
        "X_test.shape , Y_test.shape"
      ]
    },
    {
      "cell_type": "code",
      "execution_count": 18,
      "metadata": {
        "id": "Mn9SP8ydmm0S"
      },
      "outputs": [],
      "source": [
        "#reshape input to be [samples, time steps, features] which is required for LSTM\n",
        "X_train =X_train.reshape(X_train.shape[0],X_train.shape[1] , 1)\n",
        "X_test = X_test.reshape(X_test.shape[0],X_test.shape[1] , 1)"
      ]
    },
    {
      "cell_type": "code",
      "execution_count": null,
      "metadata": {
        "colab": {
          "base_uri": "https://localhost:8080/"
        },
        "id": "USXOo16xmooU",
        "outputId": "48be6f35-e3e6-470d-826e-de972d7e3a4f"
      },
      "outputs": [
        {
          "data": {
            "text/plain": [
              "((533804, 100, 1), (533804,))"
            ]
          },
          "execution_count": 23,
          "metadata": {},
          "output_type": "execute_result"
        }
      ],
      "source": [
        "X_train.shape , Y_train.shape"
      ]
    },
    {
      "cell_type": "code",
      "execution_count": 19,
      "metadata": {
        "colab": {
          "base_uri": "https://localhost:8080/"
        },
        "id": "Qfscqf3kmqQG",
        "outputId": "6a76b41c-2b6c-4143-bb3b-868986956e5f"
      },
      "outputs": [
        {
          "output_type": "execute_result",
          "data": {
            "text/plain": [
              "((95460, 100, 1), (95460,))"
            ]
          },
          "metadata": {},
          "execution_count": 19
        }
      ],
      "source": [
        "X_test.shape , Y_test.shape"
      ]
    },
    {
      "cell_type": "markdown",
      "source": [
        "Here, we are importing different modules for the LSTM Module. I have added an extra module 'Dropout' and 'LSTM' which prevents overfitting along with the dropout layers."
      ],
      "metadata": {
        "id": "ud9J8CfQro67"
      }
    },
    {
      "cell_type": "code",
      "execution_count": 20,
      "metadata": {
        "id": "MpV9lcsmmsAI"
      },
      "outputs": [],
      "source": [
        "### Create the Stacked LSTM model\n",
        "from tensorflow.keras.models import Sequential\n",
        "from tensorflow.keras.layers import Dense\n",
        "from tensorflow.keras.layers import LSTM\n",
        "from tensorflow.keras.layers import Dropout"
      ]
    },
    {
      "cell_type": "markdown",
      "source": [
        "Here we are adding arguments to the LSTM Layer. \n",
        "50 is the units which specifies dimensionality of the output space.\n",
        "return_sequences = True is necessary for stacking the LSTM Layers so that they are in a 3-D sequence input.\n",
        "input_shape defines the shape of the training set.\n"
      ],
      "metadata": {
        "id": "_YxPy6I8s3D9"
      }
    },
    {
      "cell_type": "markdown",
      "source": [
        "0.2 in the dropout layer specifies that 20% of the layers will be dropped. After this Dense Layer is added which specifies output of one unit."
      ],
      "metadata": {
        "id": "CzshDbf6teIO"
      }
    },
    {
      "cell_type": "code",
      "execution_count": 21,
      "metadata": {
        "id": "DFcSwOA5mt4_"
      },
      "outputs": [],
      "source": [
        "model=Sequential()\n",
        "model.add(LSTM(50,return_sequences=True,input_shape=(100,1)))\n",
        "model.add(Dropout(0.2))\n",
        "model.add(LSTM(50,return_sequences=True))\n",
        "model.add(Dropout(0.2))\n",
        "model.add(LSTM(50))\n",
        "model.add(Dropout(0.2))\n",
        "model.add(Dense(1))\n",
        "model.compile(loss='mean_squared_error',optimizer='adam')"
      ]
    },
    {
      "cell_type": "code",
      "execution_count": 22,
      "metadata": {
        "colab": {
          "base_uri": "https://localhost:8080/"
        },
        "id": "_fiC3LC3mvsn",
        "outputId": "c42d9be3-7fed-483f-d8ce-875a595c09f8"
      },
      "outputs": [
        {
          "output_type": "stream",
          "name": "stdout",
          "text": [
            "Model: \"sequential_1\"\n",
            "_________________________________________________________________\n",
            " Layer (type)                Output Shape              Param #   \n",
            "=================================================================\n",
            " lstm_3 (LSTM)               (None, 100, 50)           10400     \n",
            "                                                                 \n",
            " dropout_3 (Dropout)         (None, 100, 50)           0         \n",
            "                                                                 \n",
            " lstm_4 (LSTM)               (None, 100, 50)           20200     \n",
            "                                                                 \n",
            " dropout_4 (Dropout)         (None, 100, 50)           0         \n",
            "                                                                 \n",
            " lstm_5 (LSTM)               (None, 50)                20200     \n",
            "                                                                 \n",
            " dropout_5 (Dropout)         (None, 50)                0         \n",
            "                                                                 \n",
            " dense_1 (Dense)             (None, 1)                 51        \n",
            "                                                                 \n",
            "=================================================================\n",
            "Total params: 50,851\n",
            "Trainable params: 50,851\n",
            "Non-trainable params: 0\n",
            "_________________________________________________________________\n"
          ]
        }
      ],
      "source": [
        "model.summary()"
      ]
    },
    {
      "cell_type": "markdown",
      "source": [
        "epochs are set to 30(epochs are the number of times the learning algorithm will work through the entire training set) with a batch size of 32"
      ],
      "metadata": {
        "id": "kDoLDvuetzRV"
      }
    },
    {
      "cell_type": "code",
      "execution_count": 23,
      "metadata": {
        "colab": {
          "base_uri": "https://localhost:8080/"
        },
        "id": "UE67UDINm28L",
        "outputId": "2936c925-e3fe-4c7f-e796-745d265529c4"
      },
      "outputs": [
        {
          "output_type": "stream",
          "name": "stdout",
          "text": [
            "Epoch 1/30\n",
            "6965/6965 [==============================] - 112s 15ms/step - loss: 9.8788e-04 - val_loss: 2.2804e-04\n",
            "Epoch 2/30\n",
            "6965/6965 [==============================] - 103s 15ms/step - loss: 2.1668e-04 - val_loss: 3.6647e-04\n",
            "Epoch 3/30\n",
            "6965/6965 [==============================] - 103s 15ms/step - loss: 2.0406e-04 - val_loss: 2.9655e-04\n",
            "Epoch 4/30\n",
            "6965/6965 [==============================] - 102s 15ms/step - loss: 1.9647e-04 - val_loss: 3.1016e-04\n",
            "Epoch 5/30\n",
            "6965/6965 [==============================] - 103s 15ms/step - loss: 1.8880e-04 - val_loss: 0.0012\n",
            "Epoch 6/30\n",
            "6965/6965 [==============================] - 103s 15ms/step - loss: 1.8582e-04 - val_loss: 0.0019\n",
            "Epoch 7/30\n",
            "6965/6965 [==============================] - 102s 15ms/step - loss: 1.8221e-04 - val_loss: 0.0015\n",
            "Epoch 8/30\n",
            "6965/6965 [==============================] - 102s 15ms/step - loss: 1.8132e-04 - val_loss: 0.0021\n",
            "Epoch 9/30\n",
            "6965/6965 [==============================] - 101s 15ms/step - loss: 1.7913e-04 - val_loss: 0.0013\n",
            "Epoch 10/30\n",
            "6965/6965 [==============================] - 102s 15ms/step - loss: 1.7454e-04 - val_loss: 0.0011\n",
            "Epoch 11/30\n",
            "6965/6965 [==============================] - 102s 15ms/step - loss: 1.7156e-04 - val_loss: 7.1401e-04\n",
            "Epoch 12/30\n",
            "6965/6965 [==============================] - 101s 15ms/step - loss: 1.7137e-04 - val_loss: 8.1606e-04\n",
            "Epoch 13/30\n",
            "6965/6965 [==============================] - 101s 14ms/step - loss: 1.8998e-04 - val_loss: 3.0718e-04\n",
            "Epoch 14/30\n",
            "6965/6965 [==============================] - 102s 15ms/step - loss: 1.8887e-04 - val_loss: 2.2612e-04\n",
            "Epoch 15/30\n",
            "6965/6965 [==============================] - 101s 15ms/step - loss: 2.0261e-04 - val_loss: 2.3790e-04\n",
            "Epoch 16/30\n",
            "6965/6965 [==============================] - 101s 15ms/step - loss: 1.7919e-04 - val_loss: 4.9080e-04\n",
            "Epoch 17/30\n",
            "6965/6965 [==============================] - 102s 15ms/step - loss: 1.6428e-04 - val_loss: 0.0011\n",
            "Epoch 18/30\n",
            "6965/6965 [==============================] - 101s 14ms/step - loss: 1.6320e-04 - val_loss: 3.5760e-04\n",
            "Epoch 19/30\n",
            "6965/6965 [==============================] - 101s 14ms/step - loss: 1.6077e-04 - val_loss: 2.6837e-04\n",
            "Epoch 20/30\n",
            "6965/6965 [==============================] - 102s 15ms/step - loss: 1.6083e-04 - val_loss: 8.7175e-04\n",
            "Epoch 21/30\n",
            "6965/6965 [==============================] - 105s 15ms/step - loss: 1.5952e-04 - val_loss: 0.0011\n",
            "Epoch 22/30\n",
            "6965/6965 [==============================] - 101s 15ms/step - loss: 1.5911e-04 - val_loss: 0.0012\n",
            "Epoch 23/30\n",
            "6965/6965 [==============================] - 101s 15ms/step - loss: 1.5802e-04 - val_loss: 0.0011\n",
            "Epoch 24/30\n",
            "6965/6965 [==============================] - 101s 15ms/step - loss: 1.5840e-04 - val_loss: 0.0013\n",
            "Epoch 25/30\n",
            "6965/6965 [==============================] - 102s 15ms/step - loss: 1.5728e-04 - val_loss: 8.2481e-04\n",
            "Epoch 26/30\n",
            "6965/6965 [==============================] - 101s 14ms/step - loss: 1.5554e-04 - val_loss: 0.0013\n",
            "Epoch 27/30\n",
            "6965/6965 [==============================] - 101s 14ms/step - loss: 1.5448e-04 - val_loss: 0.0018\n",
            "Epoch 28/30\n",
            "6965/6965 [==============================] - 101s 15ms/step - loss: 1.5455e-04 - val_loss: 0.0024\n",
            "Epoch 29/30\n",
            "6965/6965 [==============================] - 101s 15ms/step - loss: 1.5291e-04 - val_loss: 0.0015\n",
            "Epoch 30/30\n",
            "6965/6965 [==============================] - 102s 15ms/step - loss: 1.5262e-04 - val_loss: 0.0017\n"
          ]
        },
        {
          "output_type": "execute_result",
          "data": {
            "text/plain": [
              "<keras.callbacks.History at 0x7f1302cfc110>"
            ]
          },
          "metadata": {},
          "execution_count": 23
        }
      ],
      "source": [
        "model.fit(X_train,Y_train,validation_data=(X_test,Y_test),epochs=30,batch_size=32,verbose=1)"
      ]
    },
    {
      "cell_type": "code",
      "execution_count": 24,
      "metadata": {
        "id": "b-Tz4WBum6ZH"
      },
      "outputs": [],
      "source": [
        "model.save('stockModel.h5')"
      ]
    },
    {
      "cell_type": "code",
      "execution_count": 25,
      "metadata": {
        "id": "N4_WZqb_r25a"
      },
      "outputs": [],
      "source": [
        "from keras.models import load_model\n",
        "\n",
        "model = load_model('stockModel.h5')"
      ]
    },
    {
      "cell_type": "code",
      "execution_count": 26,
      "metadata": {
        "id": "4QgjOqDur72-"
      },
      "outputs": [],
      "source": [
        "import tensorflow as tf"
      ]
    },
    {
      "cell_type": "code",
      "execution_count": 27,
      "metadata": {
        "id": "51vgIvX4r760"
      },
      "outputs": [],
      "source": [
        "### Lets Do the prediction and check performance metrics\n",
        "train_predict=model.predict(X_train)\n",
        "test_predict=model.predict(X_test)"
      ]
    },
    {
      "cell_type": "code",
      "execution_count": 28,
      "metadata": {
        "colab": {
          "base_uri": "https://localhost:8080/"
        },
        "id": "7QDCmyOQr781",
        "outputId": "8e3aa5b1-513f-4df8-ec07-047ad8d0d8a6"
      },
      "outputs": [
        {
          "output_type": "stream",
          "name": "stdout",
          "text": [
            "[[0.26683405]\n",
            " [0.2666985 ]\n",
            " [0.2664327 ]\n",
            " ...\n",
            " [0.8057263 ]\n",
            " [0.80564415]\n",
            " [0.8055768 ]]\n",
            "[[0.79460347]\n",
            " [0.79467386]\n",
            " [0.7946234 ]\n",
            " ...\n",
            " [0.8739177 ]\n",
            " [0.8730563 ]\n",
            " [0.87372166]]\n"
          ]
        }
      ],
      "source": [
        "print(train_predict)\n",
        "print(test_predict)"
      ]
    },
    {
      "cell_type": "code",
      "execution_count": 29,
      "metadata": {
        "id": "nbo1Us9Gr8AB"
      },
      "outputs": [],
      "source": [
        "##Transformback to original form\n",
        "train_predict=scaler.inverse_transform(train_predict)\n",
        "test_predict=scaler.inverse_transform(test_predict)"
      ]
    },
    {
      "cell_type": "code",
      "execution_count": 30,
      "metadata": {
        "colab": {
          "base_uri": "https://localhost:8080/"
        },
        "id": "FmuFs3wcr8Ci",
        "outputId": "34aae21a-02f6-46d5-e9cf-93f9f1c72f7b"
      },
      "outputs": [
        {
          "output_type": "stream",
          "name": "stdout",
          "text": [
            "[[6426.9526]\n",
            " [6426.6533]\n",
            " [6426.067 ]\n",
            " ...\n",
            " [7615.884 ]\n",
            " [7615.702 ]\n",
            " [7615.554 ]]\n",
            "[[7591.3438]\n",
            " [7591.499 ]\n",
            " [7591.388 ]\n",
            " ...\n",
            " [7766.331 ]\n",
            " [7764.43  ]\n",
            " [7765.8984]]\n"
          ]
        }
      ],
      "source": [
        "print(train_predict)\n",
        "print(test_predict)"
      ]
    },
    {
      "cell_type": "code",
      "execution_count": 31,
      "metadata": {
        "colab": {
          "base_uri": "https://localhost:8080/"
        },
        "id": "Q0CbhOGdr8FS",
        "outputId": "16d35c4f-45fb-4505-bc45-d31fa60ca7a3"
      },
      "outputs": [
        {
          "output_type": "execute_result",
          "data": {
            "text/plain": [
              "7018.4432985403655"
            ]
          },
          "metadata": {},
          "execution_count": 31
        }
      ],
      "source": [
        "### Calculate RMSE performance metrics\n",
        "import math\n",
        "from sklearn.metrics import mean_squared_error\n",
        "math.sqrt(mean_squared_error(Y_train,train_predict))"
      ]
    },
    {
      "cell_type": "code",
      "execution_count": 32,
      "metadata": {
        "colab": {
          "base_uri": "https://localhost:8080/"
        },
        "id": "C61I2wswsb-N",
        "outputId": "dad8ef95-91d1-4187-a42b-f40db88a1cd6"
      },
      "outputs": [
        {
          "output_type": "execute_result",
          "data": {
            "text/plain": [
              "7647.870023054712"
            ]
          },
          "metadata": {},
          "execution_count": 32
        }
      ],
      "source": [
        "### Test Data RMSE\n",
        "math.sqrt(mean_squared_error(Y_test,test_predict))"
      ]
    },
    {
      "cell_type": "code",
      "execution_count": 33,
      "metadata": {
        "colab": {
          "base_uri": "https://localhost:8080/",
          "height": 265
        },
        "id": "na-iZmtcsktC",
        "outputId": "aaa30294-199f-4287-fddc-812fb1c940f7"
      },
      "outputs": [
        {
          "output_type": "display_data",
          "data": {
            "text/plain": [
              "<Figure size 432x288 with 1 Axes>"
            ],
            "image/png": "[encoded data removed]"
          },
          "metadata": {
            "needs_background": "light"
          }
        }
      ],
      "source": [
        "### Plotting \n",
        "# shift train predictions for plotting\n",
        "look_back=100\n",
        "trainPredictPlot = numpy.empty_like(df1)\n",
        "trainPredictPlot[:, :] = np.nan\n",
        "trainPredictPlot[look_back:len(train_predict)+look_back, :] = train_predict\n",
        "# shift test predictions for plotting\n",
        "testPredictPlot = numpy.empty_like(df1)\n",
        "testPredictPlot[:, :] = numpy.nan\n",
        "testPredictPlot[len(train_predict)+(look_back*2)+1:len(df1)-1, :] = test_predict\n",
        "# plot baseline and predictions\n",
        "plt.plot(scaler.inverse_transform(df1))\n",
        "plt.plot(trainPredictPlot)\n",
        "plt.plot(testPredictPlot)\n",
        "plt.legend([\"ActualData\", \"TrainingPredicted\",\"TestingPredicted\"])\n",
        "plt.show()"
      ]
    },
    {
      "cell_type": "code",
      "execution_count": 34,
      "metadata": {
        "colab": {
          "base_uri": "https://localhost:8080/",
          "height": 206
        },
        "id": "JykK_pgltC4P",
        "outputId": "ec3273f0-8ae1-4aa1-ef25-4d0117f9d28b"
      },
      "outputs": [
        {
          "output_type": "execute_result",
          "data": {
            "text/plain": [
              "              Date         Time     Open     High      Low    Last   Volume\n",
              "318531  2019/10/23   16:43:00.0  7907.25  7908.00  7906.25  7907.0     92.0\n",
              "318532  2019/10/23   16:45:00.0  7907.25  7908.25  7906.25  7907.0     87.0\n",
              "318533  2019/10/23   16:47:00.0  7907.25  7907.50  7906.25  7906.5     71.0\n",
              "318534  2019/10/23   16:49:00.0  7906.50  7908.00  7906.00  7907.0     69.0\n",
              "318535  2019/10/23          16:      NaN      NaN      NaN     NaN      NaN"
            ],
            "text/html": [
              "\n",
              "  <div id=\"df-388512fa-fbff-4642-b06b-551faffbdc24\">\n",
              "    <div class=\"colab-df-container\">\n",
              "      <div>\n",
              "<style scoped>\n",
              "    .dataframe tbody tr th:only-of-type {\n",
              "        vertical-align: middle;\n",
              "    }\n",
              "\n",
              "    .dataframe tbody tr th {\n",
              "        vertical-align: top;\n",
              "    }\n",
              "\n",
              "    .dataframe thead th {\n",
              "        text-align: right;\n",
              "    }\n",
              "</style>\n",
              "<table border=\"1\" class=\"dataframe\">\n",
              "  <thead>\n",
              "    <tr style=\"text-align: right;\">\n",
              "      <th></th>\n",
              "      <th>Date</th>\n",
              "      <th>Time</th>\n",
              "      <th>Open</th>\n",
              "      <th>High</th>\n",
              "      <th>Low</th>\n",
              "      <th>Last</th>\n",
              "      <th>Volume</th>\n",
              "    </tr>\n",
              "  </thead>\n",
              "  <tbody>\n",
              "    <tr>\n",
              "      <th>318531</th>\n",
              "      <td>2019/10/23</td>\n",
              "      <td>16:43:00.0</td>\n",
              "      <td>7907.25</td>\n",
              "      <td>7908.00</td>\n",
              "      <td>7906.25</td>\n",
              "      <td>7907.0</td>\n",
              "      <td>92.0</td>\n",
              "    </tr>\n",
              "    <tr>\n",
              "      <th>318532</th>\n",
              "      <td>2019/10/23</td>\n",
              "      <td>16:45:00.0</td>\n",
              "      <td>7907.25</td>\n",
              "      <td>7908.25</td>\n",
              "      <td>7906.25</td>\n",
              "      <td>7907.0</td>\n",
              "      <td>87.0</td>\n",
              "    </tr>\n",
              "    <tr>\n",
              "      <th>318533</th>\n",
              "      <td>2019/10/23</td>\n",
              "      <td>16:47:00.0</td>\n",
              "      <td>7907.25</td>\n",
              "      <td>7907.50</td>\n",
              "      <td>7906.25</td>\n",
              "      <td>7906.5</td>\n",
              "      <td>71.0</td>\n",
              "    </tr>\n",
              "    <tr>\n",
              "      <th>318534</th>\n",
              "      <td>2019/10/23</td>\n",
              "      <td>16:49:00.0</td>\n",
              "      <td>7906.50</td>\n",
              "      <td>7908.00</td>\n",
              "      <td>7906.00</td>\n",
              "      <td>7907.0</td>\n",
              "      <td>69.0</td>\n",
              "    </tr>\n",
              "    <tr>\n",
              "      <th>318535</th>\n",
              "      <td>2019/10/23</td>\n",
              "      <td>16:</td>\n",
              "      <td>NaN</td>\n",
              "      <td>NaN</td>\n",
              "      <td>NaN</td>\n",
              "      <td>NaN</td>\n",
              "      <td>NaN</td>\n",
              "    </tr>\n",
              "  </tbody>\n",
              "</table>\n",
              "</div>\n",
              "      <button class=\"colab-df-convert\" onclick=\"convertToInteractive('df-388512fa-fbff-4642-b06b-551faffbdc24')\"\n",
              "              title=\"Convert this dataframe to an interactive table.\"\n",
              "              style=\"display:none;\">\n",
              "        \n",
              "  <svg xmlns=\"http://www.w3.org/2000/svg\" height=\"24px\"viewBox=\"0 0 24 24\"\n",
              "       width=\"24px\">\n",
              "    <path d=\"M0 0h24v24H0V0z\" fill=\"none\"/>\n",
              "    <path d=\"M18.56 5.44l.94 2.06.94-2.06 2.06-.94-2.06-.94-.94-2.06-.94 2.06-2.06.94zm-11 1L8.5 8.5l.94-2.06 2.06-.94-2.06-.94L8.5 2.5l-.94 2.06-2.06.94zm10 10l.94 2.06.94-2.06 2.06-.94-2.06-.94-.94-2.06-.94 2.06-2.06.94z\"/><path d=\"M17.41 7.96l-1.37-1.37c-.4-.4-.92-.59-1.43-.59-.52 0-1.04.2-1.43.59L10.3 9.45l-7.72 7.72c-.78.78-.78 2.05 0 2.83L4 21.41c.39.39.9.59 1.41.59.51 0 1.02-.2 1.41-.59l7.78-7.78 2.81-2.81c.8-.78.8-2.07 0-2.86zM5.41 20L4 18.59l7.72-7.72 1.47 1.35L5.41 20z\"/>\n",
              "  </svg>\n",
              "      </button>\n",
              "      \n",
              "  <style>\n",
              "    .colab-df-container {\n",
              "      display:flex;\n",
              "      flex-wrap:wrap;\n",
              "      gap: 12px;\n",
              "    }\n",
              "\n",
              "    .colab-df-convert {\n",
              "      background-color: #E8F0FE;\n",
              "      border: none;\n",
              "      border-radius: 50%;\n",
              "      cursor: pointer;\n",
              "      display: none;\n",
              "      fill: #1967D2;\n",
              "      height: 32px;\n",
              "      padding: 0 0 0 0;\n",
              "      width: 32px;\n",
              "    }\n",
              "\n",
              "    .colab-df-convert:hover {\n",
              "      background-color: #E2EBFA;\n",
              "      box-shadow: 0px 1px 2px rgba(60, 64, 67, 0.3), 0px 1px 3px 1px rgba(60, 64, 67, 0.15);\n",
              "      fill: #174EA6;\n",
              "    }\n",
              "\n",
              "    [theme=dark] .colab-df-convert {\n",
              "      background-color: #3B4455;\n",
              "      fill: #D2E3FC;\n",
              "    }\n",
              "\n",
              "    [theme=dark] .colab-df-convert:hover {\n",
              "      background-color: #434B5C;\n",
              "      box-shadow: 0px 1px 3px 1px rgba(0, 0, 0, 0.15);\n",
              "      filter: drop-shadow(0px 1px 2px rgba(0, 0, 0, 0.3));\n",
              "      fill: #FFFFFF;\n",
              "    }\n",
              "  </style>\n",
              "\n",
              "      <script>\n",
              "        const buttonEl =\n",
              "          document.querySelector('#df-388512fa-fbff-4642-b06b-551faffbdc24 button.colab-df-convert');\n",
              "        buttonEl.style.display =\n",
              "          google.colab.kernel.accessAllowed ? 'block' : 'none';\n",
              "\n",
              "        async function convertToInteractive(key) {\n",
              "          const element = document.querySelector('#df-388512fa-fbff-4642-b06b-551faffbdc24');\n",
              "          const dataTable =\n",
              "            await google.colab.kernel.invokeFunction('convertToInteractive',\n",
              "                                                     [key], {});\n",
              "          if (!dataTable) return;\n",
              "\n",
              "          const docLinkHtml = 'Like what you see? Visit the ' +\n",
              "            '<a target=\"_blank\" href=https://colab.research.google.com/notebooks/data_table.ipynb>data table notebook</a>'\n",
              "            + ' to learn more about interactive tables.';\n",
              "          element.innerHTML = '';\n",
              "          dataTable['output_type'] = 'display_data';\n",
              "          await google.colab.output.renderOutput(dataTable, element);\n",
              "          const docLink = document.createElement('div');\n",
              "          docLink.innerHTML = docLinkHtml;\n",
              "          element.appendChild(docLink);\n",
              "        }\n",
              "      </script>\n",
              "    </div>\n",
              "  </div>\n",
              "  "
            ]
          },
          "metadata": {},
          "execution_count": 34
        }
      ],
      "source": [
        "df.tail()"
      ]
    },
    {
      "cell_type": "code",
      "execution_count": 35,
      "metadata": {
        "colab": {
          "base_uri": "https://localhost:8080/"
        },
        "id": "fXD9b29ZuAZl",
        "outputId": "8705bfb1-c047-4f57-a26b-0d22a1f2e121"
      },
      "outputs": [
        {
          "output_type": "execute_result",
          "data": {
            "text/plain": [
              "95561"
            ]
          },
          "metadata": {},
          "execution_count": 35
        }
      ],
      "source": [
        "len(test_data)"
      ]
    },
    {
      "cell_type": "code",
      "execution_count": 36,
      "metadata": {
        "colab": {
          "base_uri": "https://localhost:8080/"
        },
        "id": "MI49X_IhuSUi",
        "outputId": "bad5191e-7d39-42c5-d9d0-fc20b50496f8"
      },
      "outputs": [
        {
          "output_type": "execute_result",
          "data": {
            "text/plain": [
              "(1, 0)"
            ]
          },
          "metadata": {},
          "execution_count": 36
        }
      ],
      "source": [
        "x_input=test_data[228717:].reshape(1,-1)\n",
        "x_input.shape"
      ]
    },
    {
      "cell_type": "code",
      "execution_count": 37,
      "metadata": {
        "id": "uwC5i8XRubOp"
      },
      "outputs": [],
      "source": [
        "temp_input=list(x_input)\n",
        "temp_input=temp_input[0].tolist()"
      ]
    },
    {
      "cell_type": "code",
      "execution_count": 38,
      "metadata": {
        "colab": {
          "base_uri": "https://localhost:8080/"
        },
        "id": "ZeQwusBEudxt",
        "outputId": "8b7c1bcd-10a6-4a3a-c956-a3559a518672"
      },
      "outputs": [
        {
          "output_type": "execute_result",
          "data": {
            "text/plain": [
              "[]"
            ]
          },
          "metadata": {},
          "execution_count": 38
        }
      ],
      "source": [
        "temp_input\n"
      ]
    },
    {
      "cell_type": "code",
      "execution_count": 39,
      "metadata": {
        "colab": {
          "base_uri": "https://localhost:8080/",
          "height": 235
        },
        "id": "CsivNlgCufpV",
        "outputId": "6ea778c6-351a-4b67-ea25-1b99f289b51e"
      },
      "outputs": [
        {
          "output_type": "error",
          "ename": "ValueError",
          "evalue": "ignored",
          "traceback": [
            "\u001b[0;31m---------------------------------------------------------------------------\u001b[0m",
            "\u001b[0;31mValueError\u001b[0m                                Traceback (most recent call last)",
            "\u001b[0;32m<ipython-input-39-1d454fa1dd21>\u001b[0m in \u001b[0;36m<module>\u001b[0;34m()\u001b[0m\n\u001b[1;32m     22\u001b[0m         \u001b[0mi\u001b[0m\u001b[0;34m=\u001b[0m\u001b[0mi\u001b[0m\u001b[0;34m+\u001b[0m\u001b[0;36m1\u001b[0m\u001b[0;34m\u001b[0m\u001b[0;34m\u001b[0m\u001b[0m\n\u001b[1;32m     23\u001b[0m     \u001b[0;32melse\u001b[0m\u001b[0;34m:\u001b[0m\u001b[0;34m\u001b[0m\u001b[0;34m\u001b[0m\u001b[0m\n\u001b[0;32m---> 24\u001b[0;31m         \u001b[0mx_input\u001b[0m \u001b[0;34m=\u001b[0m \u001b[0mx_input\u001b[0m\u001b[0;34m.\u001b[0m\u001b[0mreshape\u001b[0m\u001b[0;34m(\u001b[0m\u001b[0;34m(\u001b[0m\u001b[0;36m1\u001b[0m\u001b[0;34m,\u001b[0m \u001b[0mn_steps\u001b[0m\u001b[0;34m,\u001b[0m\u001b[0;36m1\u001b[0m\u001b[0;34m)\u001b[0m\u001b[0;34m)\u001b[0m\u001b[0;34m\u001b[0m\u001b[0;34m\u001b[0m\u001b[0m\n\u001b[0m\u001b[1;32m     25\u001b[0m         \u001b[0myhat\u001b[0m \u001b[0;34m=\u001b[0m \u001b[0mmodel\u001b[0m\u001b[0;34m.\u001b[0m\u001b[0mpredict\u001b[0m\u001b[0;34m(\u001b[0m\u001b[0mx_input\u001b[0m\u001b[0;34m,\u001b[0m \u001b[0mverbose\u001b[0m\u001b[0;34m=\u001b[0m\u001b[0;36m0\u001b[0m\u001b[0;34m)\u001b[0m\u001b[0;34m\u001b[0m\u001b[0;34m\u001b[0m\u001b[0m\n\u001b[1;32m     26\u001b[0m         \u001b[0mprint\u001b[0m\u001b[0;34m(\u001b[0m\u001b[0myhat\u001b[0m\u001b[0;34m[\u001b[0m\u001b[0;36m0\u001b[0m\u001b[0;34m]\u001b[0m\u001b[0;34m)\u001b[0m\u001b[0;34m\u001b[0m\u001b[0;34m\u001b[0m\u001b[0m\n",
            "\u001b[0;31mValueError\u001b[0m: cannot reshape array of size 0 into shape (1,100,1)"
          ]
        }
      ],
      "source": [
        "# demonstrate prediction for next 1 hour\n",
        "from numpy import array\n",
        "\n",
        "lst_output=[]\n",
        "n_steps=100\n",
        "i=0\n",
        "while(i<30):\n",
        "    \n",
        "    if(len(temp_input)>100):\n",
        "        #print(temp_input)\n",
        "        x_input=np.array(temp_input[1:])\n",
        "        print(\"{} min input {}\".format(i,x_input))\n",
        "        x_input=x_input.reshape(1,-1)\n",
        "        x_input = x_input.reshape((1, n_steps, 1))\n",
        "        #print(x_input)\n",
        "        yhat = model.predict(x_input, verbose=0)\n",
        "        #print(\"{} day output {}\".format(i,yhat))\n",
        "        temp_input.extend(yhat[0].tolist())\n",
        "        temp_input=temp_input[1:]\n",
        "        #print(temp_input)\n",
        "        lst_output.extend(yhat.tolist())\n",
        "        i=i+1\n",
        "    else:\n",
        "        x_input = x_input.reshape((1, n_steps,1))\n",
        "        yhat = model.predict(x_input, verbose=0)\n",
        "        print(yhat[0])\n",
        "        temp_input.extend(yhat[0].tolist())\n",
        "        print(len(temp_input))\n",
        "        lst_output.extend(yhat.tolist())\n",
        "        i=i+1\n",
        "    \n",
        "\n",
        "print(lst_output)"
      ]
    },
    {
      "cell_type": "code",
      "execution_count": 40,
      "metadata": {
        "id": "8uOZ0hyivxGJ",
        "outputId": "2953c5b3-b1eb-4472-8e8d-51b49e2e2bf7",
        "colab": {
          "base_uri": "https://localhost:8080/",
          "height": 363
        }
      },
      "outputs": [
        {
          "output_type": "error",
          "ename": "ValueError",
          "evalue": "ignored",
          "traceback": [
            "\u001b[0;31m---------------------------------------------------------------------------\u001b[0m",
            "\u001b[0;31mValueError\u001b[0m                                Traceback (most recent call last)",
            "\u001b[0;32m<ipython-input-40-865f85c88779>\u001b[0m in \u001b[0;36m<module>\u001b[0;34m()\u001b[0m\n\u001b[0;32m----> 1\u001b[0;31m \u001b[0moutput\u001b[0m \u001b[0;34m=\u001b[0m \u001b[0mscaler\u001b[0m\u001b[0;34m.\u001b[0m\u001b[0minverse_transform\u001b[0m\u001b[0;34m(\u001b[0m\u001b[0mlst_output\u001b[0m\u001b[0;34m)\u001b[0m\u001b[0;34m\u001b[0m\u001b[0;34m\u001b[0m\u001b[0m\n\u001b[0m",
            "\u001b[0;32m/usr/local/lib/python3.7/dist-packages/sklearn/preprocessing/_data.py\u001b[0m in \u001b[0;36minverse_transform\u001b[0;34m(self, X)\u001b[0m\n\u001b[1;32m    524\u001b[0m \u001b[0;34m\u001b[0m\u001b[0m\n\u001b[1;32m    525\u001b[0m         X = check_array(\n\u001b[0;32m--> 526\u001b[0;31m             \u001b[0mX\u001b[0m\u001b[0;34m,\u001b[0m \u001b[0mcopy\u001b[0m\u001b[0;34m=\u001b[0m\u001b[0mself\u001b[0m\u001b[0;34m.\u001b[0m\u001b[0mcopy\u001b[0m\u001b[0;34m,\u001b[0m \u001b[0mdtype\u001b[0m\u001b[0;34m=\u001b[0m\u001b[0mFLOAT_DTYPES\u001b[0m\u001b[0;34m,\u001b[0m \u001b[0mforce_all_finite\u001b[0m\u001b[0;34m=\u001b[0m\u001b[0;34m\"allow-nan\"\u001b[0m\u001b[0;34m\u001b[0m\u001b[0;34m\u001b[0m\u001b[0m\n\u001b[0m\u001b[1;32m    527\u001b[0m         )\n\u001b[1;32m    528\u001b[0m \u001b[0;34m\u001b[0m\u001b[0m\n",
            "\u001b[0;32m/usr/local/lib/python3.7/dist-packages/sklearn/utils/validation.py\u001b[0m in \u001b[0;36mcheck_array\u001b[0;34m(array, accept_sparse, accept_large_sparse, dtype, order, copy, force_all_finite, ensure_2d, allow_nd, ensure_min_samples, ensure_min_features, estimator)\u001b[0m\n\u001b[1;32m    771\u001b[0m                     \u001b[0;34m\"Reshape your data either using array.reshape(-1, 1) if \"\u001b[0m\u001b[0;34m\u001b[0m\u001b[0;34m\u001b[0m\u001b[0m\n\u001b[1;32m    772\u001b[0m                     \u001b[0;34m\"your data has a single feature or array.reshape(1, -1) \"\u001b[0m\u001b[0;34m\u001b[0m\u001b[0;34m\u001b[0m\u001b[0m\n\u001b[0;32m--> 773\u001b[0;31m                     \u001b[0;34m\"if it contains a single sample.\"\u001b[0m\u001b[0;34m.\u001b[0m\u001b[0mformat\u001b[0m\u001b[0;34m(\u001b[0m\u001b[0marray\u001b[0m\u001b[0;34m)\u001b[0m\u001b[0;34m\u001b[0m\u001b[0;34m\u001b[0m\u001b[0m\n\u001b[0m\u001b[1;32m    774\u001b[0m                 )\n\u001b[1;32m    775\u001b[0m \u001b[0;34m\u001b[0m\u001b[0m\n",
            "\u001b[0;31mValueError\u001b[0m: Expected 2D array, got 1D array instead:\narray=[].\nReshape your data either using array.reshape(-1, 1) if your data has a single feature or array.reshape(1, -1) if it contains a single sample."
          ]
        }
      ],
      "source": [
        "output = scaler.inverse_transform(lst_output)"
      ]
    },
    {
      "cell_type": "code",
      "execution_count": null,
      "metadata": {
        "colab": {
          "base_uri": "https://localhost:8080/"
        },
        "id": "XnNXtv55yP_Q",
        "outputId": "88551841-cd56-48e8-e951-d01318ccc779"
      },
      "outputs": [
        {
          "data": {
            "text/plain": [
              "array([[13169.86208463],\n",
              "       [13209.38731146],\n",
              "       [13244.43120825],\n",
              "       [13277.79916048],\n",
              "       [13309.5640353 ],\n",
              "       [13340.15262604],\n",
              "       [13369.92796728],\n",
              "       [13399.11386529],\n",
              "       [13427.81376539],\n",
              "       [13456.05889638],\n",
              "       [13483.84275225],\n",
              "       [13511.14711621],\n",
              "       [13537.96678348],\n",
              "       [13564.30435644],\n",
              "       [13590.17544949],\n",
              "       [13615.60738781],\n",
              "       [13640.63205078],\n",
              "       [13665.28457078],\n",
              "       [13689.60463439],\n",
              "       [13713.62932578],\n",
              "       [13737.39703032],\n",
              "       [13760.94222981],\n",
              "       [13784.29680361],\n",
              "       [13807.49132991],\n",
              "       [13830.55443509],\n",
              "       [13853.50823954],\n",
              "       [13876.37551424],\n",
              "       [13899.17512658],\n",
              "       [13921.92269096],\n",
              "       [13944.63121936]])"
            ]
          },
          "execution_count": 39,
          "metadata": {},
          "output_type": "execute_result"
        }
      ],
      "source": [
        "output"
      ]
    },
    {
      "cell_type": "code",
      "execution_count": null,
      "metadata": {
        "colab": {
          "base_uri": "https://localhost:8080/",
          "height": 206
        },
        "id": "fDwVM8Kiybqb",
        "outputId": "07dda1c8-b1fc-4a59-a297-e8c7745c589c"
      },
      "outputs": [
        {
          "data": {
            "text/html": [
              "\n",
              "  <div id=\"df-b02ede5f-3f2c-4232-97fc-b7df30495e4a\">\n",
              "    <div class=\"colab-df-container\">\n",
              "      <div>\n",
              "<style scoped>\n",
              "    .dataframe tbody tr th:only-of-type {\n",
              "        vertical-align: middle;\n",
              "    }\n",
              "\n",
              "    .dataframe tbody tr th {\n",
              "        vertical-align: top;\n",
              "    }\n",
              "\n",
              "    .dataframe thead th {\n",
              "        text-align: right;\n",
              "    }\n",
              "</style>\n",
              "<table border=\"1\" class=\"dataframe\">\n",
              "  <thead>\n",
              "    <tr style=\"text-align: right;\">\n",
              "      <th></th>\n",
              "      <th>Date</th>\n",
              "      <th>Time</th>\n",
              "      <th>Open</th>\n",
              "      <th>High</th>\n",
              "      <th>Low</th>\n",
              "      <th>Last</th>\n",
              "      <th>Volume</th>\n",
              "    </tr>\n",
              "  </thead>\n",
              "  <tbody>\n",
              "    <tr>\n",
              "      <th>762717</th>\n",
              "      <td>2022/5/3</td>\n",
              "      <td>01:17:00.0</td>\n",
              "      <td>13140.75</td>\n",
              "      <td>13145.25</td>\n",
              "      <td>13137.0</td>\n",
              "      <td>13140.00</td>\n",
              "      <td>174</td>\n",
              "    </tr>\n",
              "    <tr>\n",
              "      <th>762718</th>\n",
              "      <td>2022/5/3</td>\n",
              "      <td>01:19:00.0</td>\n",
              "      <td>13140.50</td>\n",
              "      <td>13141.50</td>\n",
              "      <td>13132.5</td>\n",
              "      <td>13133.50</td>\n",
              "      <td>97</td>\n",
              "    </tr>\n",
              "    <tr>\n",
              "      <th>762719</th>\n",
              "      <td>2022/5/3</td>\n",
              "      <td>01:21:00.0</td>\n",
              "      <td>13133.50</td>\n",
              "      <td>13135.00</td>\n",
              "      <td>13130.5</td>\n",
              "      <td>13133.50</td>\n",
              "      <td>44</td>\n",
              "    </tr>\n",
              "    <tr>\n",
              "      <th>762720</th>\n",
              "      <td>2022/5/3</td>\n",
              "      <td>01:23:00.0</td>\n",
              "      <td>13133.00</td>\n",
              "      <td>13137.25</td>\n",
              "      <td>13130.5</td>\n",
              "      <td>13135.00</td>\n",
              "      <td>86</td>\n",
              "    </tr>\n",
              "    <tr>\n",
              "      <th>762721</th>\n",
              "      <td>2022/5/3</td>\n",
              "      <td>01:25:00.0</td>\n",
              "      <td>13135.50</td>\n",
              "      <td>13136.75</td>\n",
              "      <td>13126.5</td>\n",
              "      <td>13131.75</td>\n",
              "      <td>171</td>\n",
              "    </tr>\n",
              "  </tbody>\n",
              "</table>\n",
              "</div>\n",
              "      <button class=\"colab-df-convert\" onclick=\"convertToInteractive('df-b02ede5f-3f2c-4232-97fc-b7df30495e4a')\"\n",
              "              title=\"Convert this dataframe to an interactive table.\"\n",
              "              style=\"display:none;\">\n",
              "        \n",
              "  <svg xmlns=\"http://www.w3.org/2000/svg\" height=\"24px\"viewBox=\"0 0 24 24\"\n",
              "       width=\"24px\">\n",
              "    <path d=\"M0 0h24v24H0V0z\" fill=\"none\"/>\n",
              "    <path d=\"M18.56 5.44l.94 2.06.94-2.06 2.06-.94-2.06-.94-.94-2.06-.94 2.06-2.06.94zm-11 1L8.5 8.5l.94-2.06 2.06-.94-2.06-.94L8.5 2.5l-.94 2.06-2.06.94zm10 10l.94 2.06.94-2.06 2.06-.94-2.06-.94-.94-2.06-.94 2.06-2.06.94z\"/><path d=\"M17.41 7.96l-1.37-1.37c-.4-.4-.92-.59-1.43-.59-.52 0-1.04.2-1.43.59L10.3 9.45l-7.72 7.72c-.78.78-.78 2.05 0 2.83L4 21.41c.39.39.9.59 1.41.59.51 0 1.02-.2 1.41-.59l7.78-7.78 2.81-2.81c.8-.78.8-2.07 0-2.86zM5.41 20L4 18.59l7.72-7.72 1.47 1.35L5.41 20z\"/>\n",
              "  </svg>\n",
              "      </button>\n",
              "      \n",
              "  <style>\n",
              "    .colab-df-container {\n",
              "      display:flex;\n",
              "      flex-wrap:wrap;\n",
              "      gap: 12px;\n",
              "    }\n",
              "\n",
              "    .colab-df-convert {\n",
              "      background-color: #E8F0FE;\n",
              "      border: none;\n",
              "      border-radius: 50%;\n",
              "      cursor: pointer;\n",
              "      display: none;\n",
              "      fill: #1967D2;\n",
              "      height: 32px;\n",
              "      padding: 0 0 0 0;\n",
              "      width: 32px;\n",
              "    }\n",
              "\n",
              "    .colab-df-convert:hover {\n",
              "      background-color: #E2EBFA;\n",
              "      box-shadow: 0px 1px 2px rgba(60, 64, 67, 0.3), 0px 1px 3px 1px rgba(60, 64, 67, 0.15);\n",
              "      fill: #174EA6;\n",
              "    }\n",
              "\n",
              "    [theme=dark] .colab-df-convert {\n",
              "      background-color: #3B4455;\n",
              "      fill: #D2E3FC;\n",
              "    }\n",
              "\n",
              "    [theme=dark] .colab-df-convert:hover {\n",
              "      background-color: #434B5C;\n",
              "      box-shadow: 0px 1px 3px 1px rgba(0, 0, 0, 0.15);\n",
              "      filter: drop-shadow(0px 1px 2px rgba(0, 0, 0, 0.3));\n",
              "      fill: #FFFFFF;\n",
              "    }\n",
              "  </style>\n",
              "\n",
              "      <script>\n",
              "        const buttonEl =\n",
              "          document.querySelector('#df-b02ede5f-3f2c-4232-97fc-b7df30495e4a button.colab-df-convert');\n",
              "        buttonEl.style.display =\n",
              "          google.colab.kernel.accessAllowed ? 'block' : 'none';\n",
              "\n",
              "        async function convertToInteractive(key) {\n",
              "          const element = document.querySelector('#df-b02ede5f-3f2c-4232-97fc-b7df30495e4a');\n",
              "          const dataTable =\n",
              "            await google.colab.kernel.invokeFunction('convertToInteractive',\n",
              "                                                     [key], {});\n",
              "          if (!dataTable) return;\n",
              "\n",
              "          const docLinkHtml = 'Like what you see? Visit the ' +\n",
              "            '<a target=\"_blank\" href=https://colab.research.google.com/notebooks/data_table.ipynb>data table notebook</a>'\n",
              "            + ' to learn more about interactive tables.';\n",
              "          element.innerHTML = '';\n",
              "          dataTable['output_type'] = 'display_data';\n",
              "          await google.colab.output.renderOutput(dataTable, element);\n",
              "          const docLink = document.createElement('div');\n",
              "          docLink.innerHTML = docLinkHtml;\n",
              "          element.appendChild(docLink);\n",
              "        }\n",
              "      </script>\n",
              "    </div>\n",
              "  </div>\n",
              "  "
            ],
            "text/plain": [
              "            Date         Time      Open      High      Low      Last   Volume\n",
              "762717  2022/5/3   01:17:00.0  13140.75  13145.25  13137.0  13140.00      174\n",
              "762718  2022/5/3   01:19:00.0  13140.50  13141.50  13132.5  13133.50       97\n",
              "762719  2022/5/3   01:21:00.0  13133.50  13135.00  13130.5  13133.50       44\n",
              "762720  2022/5/3   01:23:00.0  13133.00  13137.25  13130.5  13135.00       86\n",
              "762721  2022/5/3   01:25:00.0  13135.50  13136.75  13126.5  13131.75      171"
            ]
          },
          "execution_count": 40,
          "metadata": {},
          "output_type": "execute_result"
        }
      ],
      "source": [
        "df.tail()"
      ]
    },
    {
      "cell_type": "code",
      "execution_count": null,
      "metadata": {
        "id": "stwlAi5U7qNX"
      },
      "outputs": [],
      "source": [
        "d = \"2022/5/3\"\n",
        "t = \"01:25:00.0\"\n",
        "a = d.split(\"/\")"
      ]
    },
    {
      "cell_type": "code",
      "execution_count": null,
      "metadata": {
        "colab": {
          "base_uri": "https://localhost:8080/",
          "height": 35
        },
        "id": "d8F4RYPV8DqF",
        "outputId": "b8353587-5c86-4f91-b858-660e08670dd0"
      },
      "outputs": [
        {
          "data": {
            "application/vnd.google.colaboratory.intrinsic+json": {
              "type": "string"
            },
            "text/plain": [
              "'2022'"
            ]
          },
          "execution_count": 119,
          "metadata": {},
          "output_type": "execute_result"
        }
      ],
      "source": [
        "a[0]"
      ]
    },
    {
      "cell_type": "code",
      "execution_count": null,
      "metadata": {
        "id": "MxaD8A278aha"
      },
      "outputs": [],
      "source": [
        "listdates=[\"2022/5/3\"]\n",
        "listtimes=[\"01:25:00.0\"]"
      ]
    },
    {
      "cell_type": "code",
      "execution_count": null,
      "metadata": {
        "colab": {
          "base_uri": "https://localhost:8080/"
        },
        "id": "JnnkUJTa1gAs",
        "outputId": "0112e94a-2abe-45ba-af92-1dea3f99c7c6"
      },
      "outputs": [
        {
          "data": {
            "text/plain": [
              "Index(['Date', ' Time', ' Open', ' High', ' Low', ' Last', ' Volume'], dtype='object')"
            ]
          },
          "execution_count": 42,
          "metadata": {},
          "output_type": "execute_result"
        }
      ],
      "source": [
        "df.columns"
      ]
    },
    {
      "cell_type": "code",
      "execution_count": null,
      "metadata": {
        "id": "1XpqhFST6Ni-"
      },
      "outputs": [],
      "source": [
        "from datetime import datetime\n",
        "from datetime import timedelta\n",
        "\n",
        "for i in range(0,30):\n",
        "  d = listdates[-1]\n",
        "  t = listtimes[-1]\n",
        "  a = d.split(\"/\")\n",
        "\n",
        "  time_str = a[2]+\"/\"+a[1]+\"/\"+a[0]+ \" \" + t\n",
        "  date_format_str = '%d/%m/%Y %H:%M:%S.%f'\n",
        "  given_time = datetime.strptime(time_str, date_format_str)\n",
        "  n = 2\n",
        "  final_time = given_time + timedelta(minutes=n)\n",
        "  final_time_str = final_time.strftime('%d/%m/%Y %H:%M:%S.%f')\n",
        "  keep = final_time_str.split(\" \")\n",
        "  main = keep[0].split(\"/\")\n",
        "  final = \"\".join(main[2]+\"/\"+main[1]+\"/\"+main[0])\n",
        "  listdates.append(final)\n",
        "  listtimes.append(keep[1])"
      ]
    },
    {
      "cell_type": "code",
      "execution_count": null,
      "metadata": {
        "colab": {
          "base_uri": "https://localhost:8080/",
          "height": 36
        },
        "id": "7jDpn9iu9hgt",
        "outputId": "a7248b6f-0461-4fe0-93de-025018ba9e28"
      },
      "outputs": [
        {
          "data": {
            "application/vnd.google.colaboratory.intrinsic+json": {
              "type": "string"
            },
            "text/plain": [
              "'01:25:00.0'"
            ]
          },
          "execution_count": 44,
          "metadata": {},
          "output_type": "execute_result"
        }
      ],
      "source": [
        "listtimes.pop(0)"
      ]
    },
    {
      "cell_type": "code",
      "execution_count": null,
      "metadata": {
        "colab": {
          "base_uri": "https://localhost:8080/",
          "height": 36
        },
        "id": "Abb6m2WJ9kPc",
        "outputId": "d9dae353-13a9-480f-f35c-71003c70677b"
      },
      "outputs": [
        {
          "data": {
            "application/vnd.google.colaboratory.intrinsic+json": {
              "type": "string"
            },
            "text/plain": [
              "'2022/5/3'"
            ]
          },
          "execution_count": 45,
          "metadata": {},
          "output_type": "execute_result"
        }
      ],
      "source": [
        "listdates.pop(0)"
      ]
    },
    {
      "cell_type": "code",
      "execution_count": null,
      "metadata": {
        "colab": {
          "base_uri": "https://localhost:8080/"
        },
        "id": "Mx0nqux29nDa",
        "outputId": "03c99077-1c95-404a-fe79-9d93ae863a19"
      },
      "outputs": [
        {
          "data": {
            "text/plain": [
              "['01:27:00.000000',\n",
              " '01:29:00.000000',\n",
              " '01:31:00.000000',\n",
              " '01:33:00.000000',\n",
              " '01:35:00.000000',\n",
              " '01:37:00.000000',\n",
              " '01:39:00.000000',\n",
              " '01:41:00.000000',\n",
              " '01:43:00.000000',\n",
              " '01:45:00.000000',\n",
              " '01:47:00.000000',\n",
              " '01:49:00.000000',\n",
              " '01:51:00.000000',\n",
              " '01:53:00.000000',\n",
              " '01:55:00.000000',\n",
              " '01:57:00.000000',\n",
              " '01:59:00.000000',\n",
              " '02:01:00.000000',\n",
              " '02:03:00.000000',\n",
              " '02:05:00.000000',\n",
              " '02:07:00.000000',\n",
              " '02:09:00.000000',\n",
              " '02:11:00.000000',\n",
              " '02:13:00.000000',\n",
              " '02:15:00.000000',\n",
              " '02:17:00.000000',\n",
              " '02:19:00.000000',\n",
              " '02:21:00.000000',\n",
              " '02:23:00.000000',\n",
              " '02:25:00.000000']"
            ]
          },
          "execution_count": 46,
          "metadata": {},
          "output_type": "execute_result"
        }
      ],
      "source": [
        "listtimes"
      ]
    },
    {
      "cell_type": "code",
      "execution_count": null,
      "metadata": {
        "colab": {
          "base_uri": "https://localhost:8080/"
        },
        "id": "-5kZgxfl99BX",
        "outputId": "6b13a687-c916-423e-b3be-4053af16caac"
      },
      "outputs": [
        {
          "data": {
            "text/plain": [
              "['2022/05/03',\n",
              " '2022/05/03',\n",
              " '2022/05/03',\n",
              " '2022/05/03',\n",
              " '2022/05/03',\n",
              " '2022/05/03',\n",
              " '2022/05/03',\n",
              " '2022/05/03',\n",
              " '2022/05/03',\n",
              " '2022/05/03',\n",
              " '2022/05/03',\n",
              " '2022/05/03',\n",
              " '2022/05/03',\n",
              " '2022/05/03',\n",
              " '2022/05/03',\n",
              " '2022/05/03',\n",
              " '2022/05/03',\n",
              " '2022/05/03',\n",
              " '2022/05/03',\n",
              " '2022/05/03',\n",
              " '2022/05/03',\n",
              " '2022/05/03',\n",
              " '2022/05/03',\n",
              " '2022/05/03',\n",
              " '2022/05/03',\n",
              " '2022/05/03',\n",
              " '2022/05/03',\n",
              " '2022/05/03',\n",
              " '2022/05/03',\n",
              " '2022/05/03']"
            ]
          },
          "execution_count": 47,
          "metadata": {},
          "output_type": "execute_result"
        }
      ],
      "source": [
        "listdates"
      ]
    },
    {
      "cell_type": "code",
      "execution_count": null,
      "metadata": {
        "id": "j6Hwx4nD_mbS"
      },
      "outputs": [],
      "source": [
        "listtrends=['Up']\n",
        "\n",
        "for i in range(1,len(output)):\n",
        "\n",
        "  if output[i] > output[i-1]:\n",
        "    listtrends.append('Up')\n",
        "\n",
        "  elif output[i] < output[i-1]:\n",
        "    listtrends.append('Bottom')\n",
        "\n",
        "  else:\n",
        "    listtrends.append('Flat')"
      ]
    },
    {
      "cell_type": "code",
      "execution_count": null,
      "metadata": {
        "colab": {
          "base_uri": "https://localhost:8080/"
        },
        "id": "bBEAM3O6-QO8",
        "outputId": "9bcf62be-80b0-40a8-f4a7-6493a58c8134"
      },
      "outputs": [
        {
          "data": {
            "text/plain": [
              "['Up',\n",
              " 'Up',\n",
              " 'Up',\n",
              " 'Up',\n",
              " 'Up',\n",
              " 'Up',\n",
              " 'Up',\n",
              " 'Up',\n",
              " 'Up',\n",
              " 'Up',\n",
              " 'Up',\n",
              " 'Up',\n",
              " 'Up',\n",
              " 'Up',\n",
              " 'Up',\n",
              " 'Up',\n",
              " 'Up',\n",
              " 'Up',\n",
              " 'Up',\n",
              " 'Up',\n",
              " 'Up',\n",
              " 'Up',\n",
              " 'Up',\n",
              " 'Up',\n",
              " 'Up',\n",
              " 'Up',\n",
              " 'Up',\n",
              " 'Up',\n",
              " 'Up',\n",
              " 'Up']"
            ]
          },
          "execution_count": 49,
          "metadata": {},
          "output_type": "execute_result"
        }
      ],
      "source": [
        "listtrends"
      ]
    },
    {
      "cell_type": "code",
      "execution_count": null,
      "metadata": {
        "colab": {
          "base_uri": "https://localhost:8080/"
        },
        "id": "qLj1pK4VCvXr",
        "outputId": "bb5b4bf1-38e8-4361-a5af-4df119f91a93"
      },
      "outputs": [
        {
          "data": {
            "text/plain": [
              "[[0.6716852188110352],\n",
              " [0.6753063201904297],\n",
              " [0.6785168647766113],\n",
              " [0.6815738677978516],\n",
              " [0.6844840049743652],\n",
              " [0.687286376953125],\n",
              " [0.6900142431259155],\n",
              " [0.6926881074905396],\n",
              " [0.6953174471855164],\n",
              " [0.6979051232337952],\n",
              " [0.7004505395889282],\n",
              " [0.7029520273208618],\n",
              " [0.7054091095924377],\n",
              " [0.7078220248222351],\n",
              " [0.7101922035217285],\n",
              " [0.7125221490859985],\n",
              " [0.7148147821426392],\n",
              " [0.7170733213424683],\n",
              " [0.7193014025688171],\n",
              " [0.721502423286438],\n",
              " [0.7236799001693726],\n",
              " [0.725836992263794],\n",
              " [0.7279766201972961],\n",
              " [0.7301015853881836],\n",
              " [0.7322145104408264],\n",
              " [0.734317421913147],\n",
              " [0.7364124059677124],\n",
              " [0.7385011911392212],\n",
              " [0.740585207939148],\n",
              " [0.7426656484603882]]"
            ]
          },
          "execution_count": 50,
          "metadata": {},
          "output_type": "execute_result"
        }
      ],
      "source": [
        "lst_output"
      ]
    },
    {
      "cell_type": "code",
      "execution_count": null,
      "metadata": {
        "colab": {
          "base_uri": "https://localhost:8080/"
        },
        "id": "D1V024eRC5xk",
        "outputId": "21e3cbf0-3a8b-4e4e-98a8-8f30b0f8a9ad"
      },
      "outputs": [
        {
          "data": {
            "text/plain": [
              "(['2022/05/03',\n",
              "  '2022/05/03',\n",
              "  '2022/05/03',\n",
              "  '2022/05/03',\n",
              "  '2022/05/03',\n",
              "  '2022/05/03',\n",
              "  '2022/05/03',\n",
              "  '2022/05/03',\n",
              "  '2022/05/03',\n",
              "  '2022/05/03',\n",
              "  '2022/05/03',\n",
              "  '2022/05/03',\n",
              "  '2022/05/03',\n",
              "  '2022/05/03',\n",
              "  '2022/05/03',\n",
              "  '2022/05/03',\n",
              "  '2022/05/03',\n",
              "  '2022/05/03',\n",
              "  '2022/05/03',\n",
              "  '2022/05/03',\n",
              "  '2022/05/03',\n",
              "  '2022/05/03',\n",
              "  '2022/05/03',\n",
              "  '2022/05/03',\n",
              "  '2022/05/03',\n",
              "  '2022/05/03',\n",
              "  '2022/05/03',\n",
              "  '2022/05/03',\n",
              "  '2022/05/03',\n",
              "  '2022/05/03'],\n",
              " ['01:27:00.000000',\n",
              "  '01:29:00.000000',\n",
              "  '01:31:00.000000',\n",
              "  '01:33:00.000000',\n",
              "  '01:35:00.000000',\n",
              "  '01:37:00.000000',\n",
              "  '01:39:00.000000',\n",
              "  '01:41:00.000000',\n",
              "  '01:43:00.000000',\n",
              "  '01:45:00.000000',\n",
              "  '01:47:00.000000',\n",
              "  '01:49:00.000000',\n",
              "  '01:51:00.000000',\n",
              "  '01:53:00.000000',\n",
              "  '01:55:00.000000',\n",
              "  '01:57:00.000000',\n",
              "  '01:59:00.000000',\n",
              "  '02:01:00.000000',\n",
              "  '02:03:00.000000',\n",
              "  '02:05:00.000000',\n",
              "  '02:07:00.000000',\n",
              "  '02:09:00.000000',\n",
              "  '02:11:00.000000',\n",
              "  '02:13:00.000000',\n",
              "  '02:15:00.000000',\n",
              "  '02:17:00.000000',\n",
              "  '02:19:00.000000',\n",
              "  '02:21:00.000000',\n",
              "  '02:23:00.000000',\n",
              "  '02:25:00.000000'],\n",
              " ['Up',\n",
              "  'Up',\n",
              "  'Up',\n",
              "  'Up',\n",
              "  'Up',\n",
              "  'Up',\n",
              "  'Up',\n",
              "  'Up',\n",
              "  'Up',\n",
              "  'Up',\n",
              "  'Up',\n",
              "  'Up',\n",
              "  'Up',\n",
              "  'Up',\n",
              "  'Up',\n",
              "  'Up',\n",
              "  'Up',\n",
              "  'Up',\n",
              "  'Up',\n",
              "  'Up',\n",
              "  'Up',\n",
              "  'Up',\n",
              "  'Up',\n",
              "  'Up',\n",
              "  'Up',\n",
              "  'Up',\n",
              "  'Up',\n",
              "  'Up',\n",
              "  'Up',\n",
              "  'Up'],\n",
              " [[0.6716852188110352],\n",
              "  [0.6753063201904297],\n",
              "  [0.6785168647766113],\n",
              "  [0.6815738677978516],\n",
              "  [0.6844840049743652],\n",
              "  [0.687286376953125],\n",
              "  [0.6900142431259155],\n",
              "  [0.6926881074905396],\n",
              "  [0.6953174471855164],\n",
              "  [0.6979051232337952],\n",
              "  [0.7004505395889282],\n",
              "  [0.7029520273208618],\n",
              "  [0.7054091095924377],\n",
              "  [0.7078220248222351],\n",
              "  [0.7101922035217285],\n",
              "  [0.7125221490859985],\n",
              "  [0.7148147821426392],\n",
              "  [0.7170733213424683],\n",
              "  [0.7193014025688171],\n",
              "  [0.721502423286438],\n",
              "  [0.7236799001693726],\n",
              "  [0.725836992263794],\n",
              "  [0.7279766201972961],\n",
              "  [0.7301015853881836],\n",
              "  [0.7322145104408264],\n",
              "  [0.734317421913147],\n",
              "  [0.7364124059677124],\n",
              "  [0.7385011911392212],\n",
              "  [0.740585207939148],\n",
              "  [0.7426656484603882]])"
            ]
          },
          "execution_count": 51,
          "metadata": {},
          "output_type": "execute_result"
        }
      ],
      "source": [
        "listdates , listtimes , listtrends , lst_output"
      ]
    },
    {
      "cell_type": "code",
      "execution_count": null,
      "metadata": {
        "colab": {
          "base_uri": "https://localhost:8080/"
        },
        "id": "TDS0IK-cGLUE",
        "outputId": "31bd96e3-b7a1-4061-9bc7-d82331f0fb22"
      },
      "outputs": [
        {
          "data": {
            "text/plain": [
              "(30, 30, 30, 30)"
            ]
          },
          "execution_count": 52,
          "metadata": {},
          "output_type": "execute_result"
        }
      ],
      "source": [
        "len(listdates) , len(listtimes), len(listtrends) , len(lst_output)"
      ]
    },
    {
      "cell_type": "code",
      "execution_count": null,
      "metadata": {
        "id": "XWTrNs7AES3w"
      },
      "outputs": [],
      "source": [
        "import pandas as pd\n",
        "finaldf = pd.DataFrame({'Date':listdates,\n",
        "                        'Time':listtimes,\n",
        "                        'Trend':listtrends,\n",
        "                        'Future Close Price':list(output),\n",
        "                        'strength':lst_output\n",
        "                        ,})"
      ]
    },
    {
      "cell_type": "code",
      "execution_count": null,
      "metadata": {
        "colab": {
          "base_uri": "https://localhost:8080/",
          "height": 990
        },
        "id": "oitseI6OFRji",
        "outputId": "347d6aa5-7676-49ec-ff00-659ba2fa68cd"
      },
      "outputs": [
        {
          "data": {
            "text/html": [
              "\n",
              "  <div id=\"df-d5c6e68e-af05-4dbf-88f6-bedb492162a5\">\n",
              "    <div class=\"colab-df-container\">\n",
              "      <div>\n",
              "<style scoped>\n",
              "    .dataframe tbody tr th:only-of-type {\n",
              "        vertical-align: middle;\n",
              "    }\n",
              "\n",
              "    .dataframe tbody tr th {\n",
              "        vertical-align: top;\n",
              "    }\n",
              "\n",
              "    .dataframe thead th {\n",
              "        text-align: right;\n",
              "    }\n",
              "</style>\n",
              "<table border=\"1\" class=\"dataframe\">\n",
              "  <thead>\n",
              "    <tr style=\"text-align: right;\">\n",
              "      <th></th>\n",
              "      <th>Date</th>\n",
              "      <th>Time</th>\n",
              "      <th>Trend</th>\n",
              "      <th>Future Close Price</th>\n",
              "      <th>strength</th>\n",
              "    </tr>\n",
              "  </thead>\n",
              "  <tbody>\n",
              "    <tr>\n",
              "      <th>0</th>\n",
              "      <td>2022/05/03</td>\n",
              "      <td>01:27:00.000000</td>\n",
              "      <td>Up</td>\n",
              "      <td>[13169.862084627151]</td>\n",
              "      <td>[0.6716852188110352]</td>\n",
              "    </tr>\n",
              "    <tr>\n",
              "      <th>1</th>\n",
              "      <td>2022/05/03</td>\n",
              "      <td>01:29:00.000000</td>\n",
              "      <td>Up</td>\n",
              "      <td>[13209.387311458588]</td>\n",
              "      <td>[0.6753063201904297]</td>\n",
              "    </tr>\n",
              "    <tr>\n",
              "      <th>2</th>\n",
              "      <td>2022/05/03</td>\n",
              "      <td>01:31:00.000000</td>\n",
              "      <td>Up</td>\n",
              "      <td>[13244.431208252907]</td>\n",
              "      <td>[0.6785168647766113]</td>\n",
              "    </tr>\n",
              "    <tr>\n",
              "      <th>3</th>\n",
              "      <td>2022/05/03</td>\n",
              "      <td>01:33:00.000000</td>\n",
              "      <td>Up</td>\n",
              "      <td>[13277.7991604805]</td>\n",
              "      <td>[0.6815738677978516]</td>\n",
              "    </tr>\n",
              "    <tr>\n",
              "      <th>4</th>\n",
              "      <td>2022/05/03</td>\n",
              "      <td>01:35:00.000000</td>\n",
              "      <td>Up</td>\n",
              "      <td>[13309.56403529644]</td>\n",
              "      <td>[0.6844840049743652]</td>\n",
              "    </tr>\n",
              "    <tr>\n",
              "      <th>5</th>\n",
              "      <td>2022/05/03</td>\n",
              "      <td>01:37:00.000000</td>\n",
              "      <td>Up</td>\n",
              "      <td>[13340.152626037598]</td>\n",
              "      <td>[0.687286376953125]</td>\n",
              "    </tr>\n",
              "    <tr>\n",
              "      <th>6</th>\n",
              "      <td>2022/05/03</td>\n",
              "      <td>01:39:00.000000</td>\n",
              "      <td>Up</td>\n",
              "      <td>[13369.92796728015]</td>\n",
              "      <td>[0.6900142431259155]</td>\n",
              "    </tr>\n",
              "    <tr>\n",
              "      <th>7</th>\n",
              "      <td>2022/05/03</td>\n",
              "      <td>01:41:00.000000</td>\n",
              "      <td>Up</td>\n",
              "      <td>[13399.113865286112]</td>\n",
              "      <td>[0.6926881074905396]</td>\n",
              "    </tr>\n",
              "    <tr>\n",
              "      <th>8</th>\n",
              "      <td>2022/05/03</td>\n",
              "      <td>01:43:00.000000</td>\n",
              "      <td>Up</td>\n",
              "      <td>[13427.813765391707]</td>\n",
              "      <td>[0.6953174471855164]</td>\n",
              "    </tr>\n",
              "    <tr>\n",
              "      <th>9</th>\n",
              "      <td>2022/05/03</td>\n",
              "      <td>01:45:00.000000</td>\n",
              "      <td>Up</td>\n",
              "      <td>[13456.058896377683]</td>\n",
              "      <td>[0.6979051232337952]</td>\n",
              "    </tr>\n",
              "    <tr>\n",
              "      <th>10</th>\n",
              "      <td>2022/05/03</td>\n",
              "      <td>01:47:00.000000</td>\n",
              "      <td>Up</td>\n",
              "      <td>[13483.842752248049]</td>\n",
              "      <td>[0.7004505395889282]</td>\n",
              "    </tr>\n",
              "    <tr>\n",
              "      <th>11</th>\n",
              "      <td>2022/05/03</td>\n",
              "      <td>01:49:00.000000</td>\n",
              "      <td>Up</td>\n",
              "      <td>[13511.147116214037]</td>\n",
              "      <td>[0.7029520273208618]</td>\n",
              "    </tr>\n",
              "    <tr>\n",
              "      <th>12</th>\n",
              "      <td>2022/05/03</td>\n",
              "      <td>01:51:00.000000</td>\n",
              "      <td>Up</td>\n",
              "      <td>[13537.966783478856]</td>\n",
              "      <td>[0.7054091095924377]</td>\n",
              "    </tr>\n",
              "    <tr>\n",
              "      <th>13</th>\n",
              "      <td>2022/05/03</td>\n",
              "      <td>01:53:00.000000</td>\n",
              "      <td>Up</td>\n",
              "      <td>[13564.304356440902]</td>\n",
              "      <td>[0.7078220248222351]</td>\n",
              "    </tr>\n",
              "    <tr>\n",
              "      <th>14</th>\n",
              "      <td>2022/05/03</td>\n",
              "      <td>01:55:00.000000</td>\n",
              "      <td>Up</td>\n",
              "      <td>[13590.175449490547]</td>\n",
              "      <td>[0.7101922035217285]</td>\n",
              "    </tr>\n",
              "    <tr>\n",
              "      <th>15</th>\n",
              "      <td>2022/05/03</td>\n",
              "      <td>01:57:00.000000</td>\n",
              "      <td>Up</td>\n",
              "      <td>[13615.607387810946]</td>\n",
              "      <td>[0.7125221490859985]</td>\n",
              "    </tr>\n",
              "    <tr>\n",
              "      <th>16</th>\n",
              "      <td>2022/05/03</td>\n",
              "      <td>01:59:00.000000</td>\n",
              "      <td>Up</td>\n",
              "      <td>[13640.632050782442]</td>\n",
              "      <td>[0.7148147821426392]</td>\n",
              "    </tr>\n",
              "    <tr>\n",
              "      <th>17</th>\n",
              "      <td>2022/05/03</td>\n",
              "      <td>02:01:00.000000</td>\n",
              "      <td>Up</td>\n",
              "      <td>[13665.284570783377]</td>\n",
              "      <td>[0.7170733213424683]</td>\n",
              "    </tr>\n",
              "    <tr>\n",
              "      <th>18</th>\n",
              "      <td>2022/05/03</td>\n",
              "      <td>02:03:00.000000</td>\n",
              "      <td>Up</td>\n",
              "      <td>[13689.604634389281]</td>\n",
              "      <td>[0.7193014025688171]</td>\n",
              "    </tr>\n",
              "    <tr>\n",
              "      <th>19</th>\n",
              "      <td>2022/05/03</td>\n",
              "      <td>02:05:00.000000</td>\n",
              "      <td>Up</td>\n",
              "      <td>[13713.629325777292]</td>\n",
              "      <td>[0.721502423286438]</td>\n",
              "    </tr>\n",
              "    <tr>\n",
              "      <th>20</th>\n",
              "      <td>2022/05/03</td>\n",
              "      <td>02:07:00.000000</td>\n",
              "      <td>Up</td>\n",
              "      <td>[13737.397030323744]</td>\n",
              "      <td>[0.7236799001693726]</td>\n",
              "    </tr>\n",
              "    <tr>\n",
              "      <th>21</th>\n",
              "      <td>2022/05/03</td>\n",
              "      <td>02:09:00.000000</td>\n",
              "      <td>Up</td>\n",
              "      <td>[13760.942229807377]</td>\n",
              "      <td>[0.725836992263794]</td>\n",
              "    </tr>\n",
              "    <tr>\n",
              "      <th>22</th>\n",
              "      <td>2022/05/03</td>\n",
              "      <td>02:11:00.000000</td>\n",
              "      <td>Up</td>\n",
              "      <td>[13784.296803608537]</td>\n",
              "      <td>[0.7279766201972961]</td>\n",
              "    </tr>\n",
              "    <tr>\n",
              "      <th>23</th>\n",
              "      <td>2022/05/03</td>\n",
              "      <td>02:13:00.000000</td>\n",
              "      <td>Up</td>\n",
              "      <td>[13807.491329908371]</td>\n",
              "      <td>[0.7301015853881836]</td>\n",
              "    </tr>\n",
              "    <tr>\n",
              "      <th>24</th>\n",
              "      <td>2022/05/03</td>\n",
              "      <td>02:15:00.000000</td>\n",
              "      <td>Up</td>\n",
              "      <td>[13830.55443508923]</td>\n",
              "      <td>[0.7322145104408264]</td>\n",
              "    </tr>\n",
              "    <tr>\n",
              "      <th>25</th>\n",
              "      <td>2022/05/03</td>\n",
              "      <td>02:17:00.000000</td>\n",
              "      <td>Up</td>\n",
              "      <td>[13853.508239537477]</td>\n",
              "      <td>[0.734317421913147]</td>\n",
              "    </tr>\n",
              "    <tr>\n",
              "      <th>26</th>\n",
              "      <td>2022/05/03</td>\n",
              "      <td>02:19:00.000000</td>\n",
              "      <td>Up</td>\n",
              "      <td>[13876.375514239073]</td>\n",
              "      <td>[0.7364124059677124]</td>\n",
              "    </tr>\n",
              "    <tr>\n",
              "      <th>27</th>\n",
              "      <td>2022/05/03</td>\n",
              "      <td>02:21:00.000000</td>\n",
              "      <td>Up</td>\n",
              "      <td>[13899.175126582384]</td>\n",
              "      <td>[0.7385011911392212]</td>\n",
              "    </tr>\n",
              "    <tr>\n",
              "      <th>28</th>\n",
              "      <td>2022/05/03</td>\n",
              "      <td>02:23:00.000000</td>\n",
              "      <td>Up</td>\n",
              "      <td>[13921.922690957785]</td>\n",
              "      <td>[0.740585207939148]</td>\n",
              "    </tr>\n",
              "    <tr>\n",
              "      <th>29</th>\n",
              "      <td>2022/05/03</td>\n",
              "      <td>02:25:00.000000</td>\n",
              "      <td>Up</td>\n",
              "      <td>[13944.631219357252]</td>\n",
              "      <td>[0.7426656484603882]</td>\n",
              "    </tr>\n",
              "  </tbody>\n",
              "</table>\n",
              "</div>\n",
              "      <button class=\"colab-df-convert\" onclick=\"convertToInteractive('df-d5c6e68e-af05-4dbf-88f6-bedb492162a5')\"\n",
              "              title=\"Convert this dataframe to an interactive table.\"\n",
              "              style=\"display:none;\">\n",
              "        \n",
              "  <svg xmlns=\"http://www.w3.org/2000/svg\" height=\"24px\"viewBox=\"0 0 24 24\"\n",
              "       width=\"24px\">\n",
              "    <path d=\"M0 0h24v24H0V0z\" fill=\"none\"/>\n",
              "    <path d=\"M18.56 5.44l.94 2.06.94-2.06 2.06-.94-2.06-.94-.94-2.06-.94 2.06-2.06.94zm-11 1L8.5 8.5l.94-2.06 2.06-.94-2.06-.94L8.5 2.5l-.94 2.06-2.06.94zm10 10l.94 2.06.94-2.06 2.06-.94-2.06-.94-.94-2.06-.94 2.06-2.06.94z\"/><path d=\"M17.41 7.96l-1.37-1.37c-.4-.4-.92-.59-1.43-.59-.52 0-1.04.2-1.43.59L10.3 9.45l-7.72 7.72c-.78.78-.78 2.05 0 2.83L4 21.41c.39.39.9.59 1.41.59.51 0 1.02-.2 1.41-.59l7.78-7.78 2.81-2.81c.8-.78.8-2.07 0-2.86zM5.41 20L4 18.59l7.72-7.72 1.47 1.35L5.41 20z\"/>\n",
              "  </svg>\n",
              "      </button>\n",
              "      \n",
              "  <style>\n",
              "    .colab-df-container {\n",
              "      display:flex;\n",
              "      flex-wrap:wrap;\n",
              "      gap: 12px;\n",
              "    }\n",
              "\n",
              "    .colab-df-convert {\n",
              "      background-color: #E8F0FE;\n",
              "      border: none;\n",
              "      border-radius: 50%;\n",
              "      cursor: pointer;\n",
              "      display: none;\n",
              "      fill: #1967D2;\n",
              "      height: 32px;\n",
              "      padding: 0 0 0 0;\n",
              "      width: 32px;\n",
              "    }\n",
              "\n",
              "    .colab-df-convert:hover {\n",
              "      background-color: #E2EBFA;\n",
              "      box-shadow: 0px 1px 2px rgba(60, 64, 67, 0.3), 0px 1px 3px 1px rgba(60, 64, 67, 0.15);\n",
              "      fill: #174EA6;\n",
              "    }\n",
              "\n",
              "    [theme=dark] .colab-df-convert {\n",
              "      background-color: #3B4455;\n",
              "      fill: #D2E3FC;\n",
              "    }\n",
              "\n",
              "    [theme=dark] .colab-df-convert:hover {\n",
              "      background-color: #434B5C;\n",
              "      box-shadow: 0px 1px 3px 1px rgba(0, 0, 0, 0.15);\n",
              "      filter: drop-shadow(0px 1px 2px rgba(0, 0, 0, 0.3));\n",
              "      fill: #FFFFFF;\n",
              "    }\n",
              "  </style>\n",
              "\n",
              "      <script>\n",
              "        const buttonEl =\n",
              "          document.querySelector('#df-d5c6e68e-af05-4dbf-88f6-bedb492162a5 button.colab-df-convert');\n",
              "        buttonEl.style.display =\n",
              "          google.colab.kernel.accessAllowed ? 'block' : 'none';\n",
              "\n",
              "        async function convertToInteractive(key) {\n",
              "          const element = document.querySelector('#df-d5c6e68e-af05-4dbf-88f6-bedb492162a5');\n",
              "          const dataTable =\n",
              "            await google.colab.kernel.invokeFunction('convertToInteractive',\n",
              "                                                     [key], {});\n",
              "          if (!dataTable) return;\n",
              "\n",
              "          const docLinkHtml = 'Like what you see? Visit the ' +\n",
              "            '<a target=\"_blank\" href=https://colab.research.google.com/notebooks/data_table.ipynb>data table notebook</a>'\n",
              "            + ' to learn more about interactive tables.';\n",
              "          element.innerHTML = '';\n",
              "          dataTable['output_type'] = 'display_data';\n",
              "          await google.colab.output.renderOutput(dataTable, element);\n",
              "          const docLink = document.createElement('div');\n",
              "          docLink.innerHTML = docLinkHtml;\n",
              "          element.appendChild(docLink);\n",
              "        }\n",
              "      </script>\n",
              "    </div>\n",
              "  </div>\n",
              "  "
            ],
            "text/plain": [
              "          Date             Time Trend    Future Close Price  \\\n",
              "0   2022/05/03  01:27:00.000000    Up  [13169.862084627151]   \n",
              "1   2022/05/03  01:29:00.000000    Up  [13209.387311458588]   \n",
              "2   2022/05/03  01:31:00.000000    Up  [13244.431208252907]   \n",
              "3   2022/05/03  01:33:00.000000    Up    [13277.7991604805]   \n",
              "4   2022/05/03  01:35:00.000000    Up   [13309.56403529644]   \n",
              "5   2022/05/03  01:37:00.000000    Up  [13340.152626037598]   \n",
              "6   2022/05/03  01:39:00.000000    Up   [13369.92796728015]   \n",
              "7   2022/05/03  01:41:00.000000    Up  [13399.113865286112]   \n",
              "8   2022/05/03  01:43:00.000000    Up  [13427.813765391707]   \n",
              "9   2022/05/03  01:45:00.000000    Up  [13456.058896377683]   \n",
              "10  2022/05/03  01:47:00.000000    Up  [13483.842752248049]   \n",
              "11  2022/05/03  01:49:00.000000    Up  [13511.147116214037]   \n",
              "12  2022/05/03  01:51:00.000000    Up  [13537.966783478856]   \n",
              "13  2022/05/03  01:53:00.000000    Up  [13564.304356440902]   \n",
              "14  2022/05/03  01:55:00.000000    Up  [13590.175449490547]   \n",
              "15  2022/05/03  01:57:00.000000    Up  [13615.607387810946]   \n",
              "16  2022/05/03  01:59:00.000000    Up  [13640.632050782442]   \n",
              "17  2022/05/03  02:01:00.000000    Up  [13665.284570783377]   \n",
              "18  2022/05/03  02:03:00.000000    Up  [13689.604634389281]   \n",
              "19  2022/05/03  02:05:00.000000    Up  [13713.629325777292]   \n",
              "20  2022/05/03  02:07:00.000000    Up  [13737.397030323744]   \n",
              "21  2022/05/03  02:09:00.000000    Up  [13760.942229807377]   \n",
              "22  2022/05/03  02:11:00.000000    Up  [13784.296803608537]   \n",
              "23  2022/05/03  02:13:00.000000    Up  [13807.491329908371]   \n",
              "24  2022/05/03  02:15:00.000000    Up   [13830.55443508923]   \n",
              "25  2022/05/03  02:17:00.000000    Up  [13853.508239537477]   \n",
              "26  2022/05/03  02:19:00.000000    Up  [13876.375514239073]   \n",
              "27  2022/05/03  02:21:00.000000    Up  [13899.175126582384]   \n",
              "28  2022/05/03  02:23:00.000000    Up  [13921.922690957785]   \n",
              "29  2022/05/03  02:25:00.000000    Up  [13944.631219357252]   \n",
              "\n",
              "                strength  \n",
              "0   [0.6716852188110352]  \n",
              "1   [0.6753063201904297]  \n",
              "2   [0.6785168647766113]  \n",
              "3   [0.6815738677978516]  \n",
              "4   [0.6844840049743652]  \n",
              "5    [0.687286376953125]  \n",
              "6   [0.6900142431259155]  \n",
              "7   [0.6926881074905396]  \n",
              "8   [0.6953174471855164]  \n",
              "9   [0.6979051232337952]  \n",
              "10  [0.7004505395889282]  \n",
              "11  [0.7029520273208618]  \n",
              "12  [0.7054091095924377]  \n",
              "13  [0.7078220248222351]  \n",
              "14  [0.7101922035217285]  \n",
              "15  [0.7125221490859985]  \n",
              "16  [0.7148147821426392]  \n",
              "17  [0.7170733213424683]  \n",
              "18  [0.7193014025688171]  \n",
              "19   [0.721502423286438]  \n",
              "20  [0.7236799001693726]  \n",
              "21   [0.725836992263794]  \n",
              "22  [0.7279766201972961]  \n",
              "23  [0.7301015853881836]  \n",
              "24  [0.7322145104408264]  \n",
              "25   [0.734317421913147]  \n",
              "26  [0.7364124059677124]  \n",
              "27  [0.7385011911392212]  \n",
              "28   [0.740585207939148]  \n",
              "29  [0.7426656484603882]  "
            ]
          },
          "execution_count": 54,
          "metadata": {},
          "output_type": "execute_result"
        }
      ],
      "source": [
        "finaldf"
      ]
    },
    {
      "cell_type": "code",
      "execution_count": null,
      "metadata": {
        "colab": {
          "base_uri": "https://localhost:8080/"
        },
        "id": "s7qyvIEbLLcD",
        "outputId": "aed44fcc-4fb0-4887-cd57-3a2aaabbf0e0"
      },
      "outputs": [
        {
          "data": {
            "text/plain": [
              "(1, 100)"
            ]
          },
          "execution_count": 57,
          "metadata": {},
          "output_type": "execute_result"
        }
      ],
      "source": [
        "testing_inp = train_data[533805:].reshape(1,-1)\n",
        "testing_inp.shape"
      ]
    },
    {
      "cell_type": "code",
      "execution_count": null,
      "metadata": {
        "id": "cRexxxn1MbYh"
      },
      "outputs": [],
      "source": [
        "start_date = '2021/1/18'\n",
        "start_time = '01:09:00.0'\n",
        "n = 228817\n",
        "close_price = df.iloc[533905:,5]"
      ]
    },
    {
      "cell_type": "code",
      "execution_count": null,
      "metadata": {
        "id": "2R_MOC-NCRmA"
      },
      "outputs": [],
      "source": [
        "import numpy\n",
        "p = numpy.squeeze(output)"
      ]
    },
    {
      "cell_type": "code",
      "execution_count": null,
      "metadata": {
        "colab": {
          "base_uri": "https://localhost:8080/",
          "height": 424
        },
        "id": "bjmCsJN4DDLS",
        "outputId": "dd50a4d5-e7a3-41af-8a7a-2da2810b213e"
      },
      "outputs": [
        {
          "data": {
            "text/html": [
              "\n",
              "  <div id=\"df-622a9c17-f0a8-4df7-8506-a41d47d81e0a\">\n",
              "    <div class=\"colab-df-container\">\n",
              "      <div>\n",
              "<style scoped>\n",
              "    .dataframe tbody tr th:only-of-type {\n",
              "        vertical-align: middle;\n",
              "    }\n",
              "\n",
              "    .dataframe tbody tr th {\n",
              "        vertical-align: top;\n",
              "    }\n",
              "\n",
              "    .dataframe thead th {\n",
              "        text-align: right;\n",
              "    }\n",
              "</style>\n",
              "<table border=\"1\" class=\"dataframe\">\n",
              "  <thead>\n",
              "    <tr style=\"text-align: right;\">\n",
              "      <th></th>\n",
              "      <th>Date</th>\n",
              "      <th>Time</th>\n",
              "      <th>Open</th>\n",
              "      <th>High</th>\n",
              "      <th>Low</th>\n",
              "      <th>Last</th>\n",
              "      <th>Volume</th>\n",
              "    </tr>\n",
              "  </thead>\n",
              "  <tbody>\n",
              "    <tr>\n",
              "      <th>533905</th>\n",
              "      <td>2021/1/18</td>\n",
              "      <td>01:09:00.0</td>\n",
              "      <td>12778.00</td>\n",
              "      <td>12780.00</td>\n",
              "      <td>12776.50</td>\n",
              "      <td>12779.00</td>\n",
              "      <td>29</td>\n",
              "    </tr>\n",
              "    <tr>\n",
              "      <th>533906</th>\n",
              "      <td>2021/1/18</td>\n",
              "      <td>01:11:00.0</td>\n",
              "      <td>12777.25</td>\n",
              "      <td>12779.50</td>\n",
              "      <td>12776.50</td>\n",
              "      <td>12776.50</td>\n",
              "      <td>35</td>\n",
              "    </tr>\n",
              "    <tr>\n",
              "      <th>533907</th>\n",
              "      <td>2021/1/18</td>\n",
              "      <td>01:13:00.0</td>\n",
              "      <td>12775.25</td>\n",
              "      <td>12777.75</td>\n",
              "      <td>12775.25</td>\n",
              "      <td>12775.75</td>\n",
              "      <td>22</td>\n",
              "    </tr>\n",
              "    <tr>\n",
              "      <th>533908</th>\n",
              "      <td>2021/1/18</td>\n",
              "      <td>01:15:00.0</td>\n",
              "      <td>12777.00</td>\n",
              "      <td>12778.00</td>\n",
              "      <td>12775.50</td>\n",
              "      <td>12776.50</td>\n",
              "      <td>39</td>\n",
              "    </tr>\n",
              "    <tr>\n",
              "      <th>533909</th>\n",
              "      <td>2021/1/18</td>\n",
              "      <td>01:17:00.0</td>\n",
              "      <td>12777.25</td>\n",
              "      <td>12777.75</td>\n",
              "      <td>12776.25</td>\n",
              "      <td>12777.75</td>\n",
              "      <td>14</td>\n",
              "    </tr>\n",
              "    <tr>\n",
              "      <th>...</th>\n",
              "      <td>...</td>\n",
              "      <td>...</td>\n",
              "      <td>...</td>\n",
              "      <td>...</td>\n",
              "      <td>...</td>\n",
              "      <td>...</td>\n",
              "      <td>...</td>\n",
              "    </tr>\n",
              "    <tr>\n",
              "      <th>762717</th>\n",
              "      <td>2022/5/3</td>\n",
              "      <td>01:17:00.0</td>\n",
              "      <td>13140.75</td>\n",
              "      <td>13145.25</td>\n",
              "      <td>13137.00</td>\n",
              "      <td>13140.00</td>\n",
              "      <td>174</td>\n",
              "    </tr>\n",
              "    <tr>\n",
              "      <th>762718</th>\n",
              "      <td>2022/5/3</td>\n",
              "      <td>01:19:00.0</td>\n",
              "      <td>13140.50</td>\n",
              "      <td>13141.50</td>\n",
              "      <td>13132.50</td>\n",
              "      <td>13133.50</td>\n",
              "      <td>97</td>\n",
              "    </tr>\n",
              "    <tr>\n",
              "      <th>762719</th>\n",
              "      <td>2022/5/3</td>\n",
              "      <td>01:21:00.0</td>\n",
              "      <td>13133.50</td>\n",
              "      <td>13135.00</td>\n",
              "      <td>13130.50</td>\n",
              "      <td>13133.50</td>\n",
              "      <td>44</td>\n",
              "    </tr>\n",
              "    <tr>\n",
              "      <th>762720</th>\n",
              "      <td>2022/5/3</td>\n",
              "      <td>01:23:00.0</td>\n",
              "      <td>13133.00</td>\n",
              "      <td>13137.25</td>\n",
              "      <td>13130.50</td>\n",
              "      <td>13135.00</td>\n",
              "      <td>86</td>\n",
              "    </tr>\n",
              "    <tr>\n",
              "      <th>762721</th>\n",
              "      <td>2022/5/3</td>\n",
              "      <td>01:25:00.0</td>\n",
              "      <td>13135.50</td>\n",
              "      <td>13136.75</td>\n",
              "      <td>13126.50</td>\n",
              "      <td>13131.75</td>\n",
              "      <td>171</td>\n",
              "    </tr>\n",
              "  </tbody>\n",
              "</table>\n",
              "<p>228817 rows × 7 columns</p>\n",
              "</div>\n",
              "      <button class=\"colab-df-convert\" onclick=\"convertToInteractive('df-622a9c17-f0a8-4df7-8506-a41d47d81e0a')\"\n",
              "              title=\"Convert this dataframe to an interactive table.\"\n",
              "              style=\"display:none;\">\n",
              "        \n",
              "  <svg xmlns=\"http://www.w3.org/2000/svg\" height=\"24px\"viewBox=\"0 0 24 24\"\n",
              "       width=\"24px\">\n",
              "    <path d=\"M0 0h24v24H0V0z\" fill=\"none\"/>\n",
              "    <path d=\"M18.56 5.44l.94 2.06.94-2.06 2.06-.94-2.06-.94-.94-2.06-.94 2.06-2.06.94zm-11 1L8.5 8.5l.94-2.06 2.06-.94-2.06-.94L8.5 2.5l-.94 2.06-2.06.94zm10 10l.94 2.06.94-2.06 2.06-.94-2.06-.94-.94-2.06-.94 2.06-2.06.94z\"/><path d=\"M17.41 7.96l-1.37-1.37c-.4-.4-.92-.59-1.43-.59-.52 0-1.04.2-1.43.59L10.3 9.45l-7.72 7.72c-.78.78-.78 2.05 0 2.83L4 21.41c.39.39.9.59 1.41.59.51 0 1.02-.2 1.41-.59l7.78-7.78 2.81-2.81c.8-.78.8-2.07 0-2.86zM5.41 20L4 18.59l7.72-7.72 1.47 1.35L5.41 20z\"/>\n",
              "  </svg>\n",
              "      </button>\n",
              "      \n",
              "  <style>\n",
              "    .colab-df-container {\n",
              "      display:flex;\n",
              "      flex-wrap:wrap;\n",
              "      gap: 12px;\n",
              "    }\n",
              "\n",
              "    .colab-df-convert {\n",
              "      background-color: #E8F0FE;\n",
              "      border: none;\n",
              "      border-radius: 50%;\n",
              "      cursor: pointer;\n",
              "      display: none;\n",
              "      fill: #1967D2;\n",
              "      height: 32px;\n",
              "      padding: 0 0 0 0;\n",
              "      width: 32px;\n",
              "    }\n",
              "\n",
              "    .colab-df-convert:hover {\n",
              "      background-color: #E2EBFA;\n",
              "      box-shadow: 0px 1px 2px rgba(60, 64, 67, 0.3), 0px 1px 3px 1px rgba(60, 64, 67, 0.15);\n",
              "      fill: #174EA6;\n",
              "    }\n",
              "\n",
              "    [theme=dark] .colab-df-convert {\n",
              "      background-color: #3B4455;\n",
              "      fill: #D2E3FC;\n",
              "    }\n",
              "\n",
              "    [theme=dark] .colab-df-convert:hover {\n",
              "      background-color: #434B5C;\n",
              "      box-shadow: 0px 1px 3px 1px rgba(0, 0, 0, 0.15);\n",
              "      filter: drop-shadow(0px 1px 2px rgba(0, 0, 0, 0.3));\n",
              "      fill: #FFFFFF;\n",
              "    }\n",
              "  </style>\n",
              "\n",
              "      <script>\n",
              "        const buttonEl =\n",
              "          document.querySelector('#df-622a9c17-f0a8-4df7-8506-a41d47d81e0a button.colab-df-convert');\n",
              "        buttonEl.style.display =\n",
              "          google.colab.kernel.accessAllowed ? 'block' : 'none';\n",
              "\n",
              "        async function convertToInteractive(key) {\n",
              "          const element = document.querySelector('#df-622a9c17-f0a8-4df7-8506-a41d47d81e0a');\n",
              "          const dataTable =\n",
              "            await google.colab.kernel.invokeFunction('convertToInteractive',\n",
              "                                                     [key], {});\n",
              "          if (!dataTable) return;\n",
              "\n",
              "          const docLinkHtml = 'Like what you see? Visit the ' +\n",
              "            '<a target=\"_blank\" href=https://colab.research.google.com/notebooks/data_table.ipynb>data table notebook</a>'\n",
              "            + ' to learn more about interactive tables.';\n",
              "          element.innerHTML = '';\n",
              "          dataTable['output_type'] = 'display_data';\n",
              "          await google.colab.output.renderOutput(dataTable, element);\n",
              "          const docLink = document.createElement('div');\n",
              "          docLink.innerHTML = docLinkHtml;\n",
              "          element.appendChild(docLink);\n",
              "        }\n",
              "      </script>\n",
              "    </div>\n",
              "  </div>\n",
              "  "
            ],
            "text/plain": [
              "             Date         Time      Open      High       Low      Last  \\\n",
              "533905  2021/1/18   01:09:00.0  12778.00  12780.00  12776.50  12779.00   \n",
              "533906  2021/1/18   01:11:00.0  12777.25  12779.50  12776.50  12776.50   \n",
              "533907  2021/1/18   01:13:00.0  12775.25  12777.75  12775.25  12775.75   \n",
              "533908  2021/1/18   01:15:00.0  12777.00  12778.00  12775.50  12776.50   \n",
              "533909  2021/1/18   01:17:00.0  12777.25  12777.75  12776.25  12777.75   \n",
              "...           ...          ...       ...       ...       ...       ...   \n",
              "762717   2022/5/3   01:17:00.0  13140.75  13145.25  13137.00  13140.00   \n",
              "762718   2022/5/3   01:19:00.0  13140.50  13141.50  13132.50  13133.50   \n",
              "762719   2022/5/3   01:21:00.0  13133.50  13135.00  13130.50  13133.50   \n",
              "762720   2022/5/3   01:23:00.0  13133.00  13137.25  13130.50  13135.00   \n",
              "762721   2022/5/3   01:25:00.0  13135.50  13136.75  13126.50  13131.75   \n",
              "\n",
              "         Volume  \n",
              "533905       29  \n",
              "533906       35  \n",
              "533907       22  \n",
              "533908       39  \n",
              "533909       14  \n",
              "...         ...  \n",
              "762717      174  \n",
              "762718       97  \n",
              "762719       44  \n",
              "762720       86  \n",
              "762721      171  \n",
              "\n",
              "[228817 rows x 7 columns]"
            ]
          },
          "execution_count": 79,
          "metadata": {},
          "output_type": "execute_result"
        }
      ],
      "source": [
        "df[533905:]"
      ]
    },
    {
      "cell_type": "code",
      "execution_count": null,
      "metadata": {
        "id": "NoNBs6S6I6n6"
      },
      "outputs": [],
      "source": [
        "finallistdates = [\"2021/1/18\"]\n",
        "finallisttimes = [\"01:09:00.0\"]"
      ]
    },
    {
      "cell_type": "code",
      "execution_count": null,
      "metadata": {
        "id": "R_9ECkY-K75B"
      },
      "outputs": [],
      "source": [
        "from datetime import datetime\n",
        "from datetime import timedelta\n",
        "\n",
        "for i in range(0,n):\n",
        "  d = finallistdates[-1]\n",
        "  t = finallisttimes[-1]\n",
        "  a = d.split(\"/\")\n",
        "\n",
        "  time_str = a[2]+\"/\"+a[1]+\"/\"+a[0]+ \" \" + t\n",
        "  date_format_str = '%d/%m/%Y %H:%M:%S.%f'\n",
        "  given_time = datetime.strptime(time_str, date_format_str)\n",
        "  final_time = given_time + timedelta(minutes=2)\n",
        "  final_time_str = final_time.strftime('%d/%m/%Y %H:%M:%S.%f')\n",
        "  keep = final_time_str.split(\" \")\n",
        "  main = keep[0].split(\"/\")\n",
        "  final = \"\".join(main[2]+\"/\"+main[1]+\"/\"+main[0])\n",
        "  finallistdates.append(final)\n",
        "  finallisttimes.append(keep[1])"
      ]
    },
    {
      "cell_type": "code",
      "execution_count": null,
      "metadata": {
        "colab": {
          "base_uri": "https://localhost:8080/",
          "height": 36
        },
        "id": "QMuuN9YOLOs9",
        "outputId": "b1156855-a497-4213-a67e-54ac5cc864dc"
      },
      "outputs": [
        {
          "data": {
            "application/vnd.google.colaboratory.intrinsic+json": {
              "type": "string"
            },
            "text/plain": [
              "'2021/12/01'"
            ]
          },
          "execution_count": 94,
          "metadata": {},
          "output_type": "execute_result"
        }
      ],
      "source": [
        "finallistdates[-1]"
      ]
    },
    {
      "cell_type": "code",
      "execution_count": null,
      "metadata": {
        "colab": {
          "base_uri": "https://localhost:8080/",
          "height": 36
        },
        "id": "4j3KEVapPBl1",
        "outputId": "c2a9b5a4-d6c7-4323-e0c4-d7b03dc33abd"
      },
      "outputs": [
        {
          "data": {
            "application/vnd.google.colaboratory.intrinsic+json": {
              "type": "string"
            },
            "text/plain": [
              "'20:23:00.000000'"
            ]
          },
          "execution_count": 95,
          "metadata": {},
          "output_type": "execute_result"
        }
      ],
      "source": [
        "finallisttimes[-1]"
      ]
    },
    {
      "cell_type": "code",
      "execution_count": null,
      "metadata": {
        "id": "X0riipwnQB7v"
      },
      "outputs": [],
      "source": [
        "finallistdates = list(df.iloc[534006:,0])\n",
        "finallisttimes = list(df.iloc[534006:,1])\n",
        "finallistcloseprice = list(df.iloc[534006:,5])\n"
      ]
    },
    {
      "cell_type": "code",
      "execution_count": null,
      "metadata": {
        "colab": {
          "base_uri": "https://localhost:8080/"
        },
        "id": "GHvQUDf7SwOn",
        "outputId": "54708c73-39d6-4125-9204-84e751b4d449"
      },
      "outputs": [
        {
          "data": {
            "text/plain": [
              "228717"
            ]
          },
          "execution_count": 245,
          "metadata": {},
          "output_type": "execute_result"
        }
      ],
      "source": [
        "len(df[534005:])"
      ]
    },
    {
      "cell_type": "code",
      "execution_count": null,
      "metadata": {
        "id": "ejGd8ZVpSumT"
      },
      "outputs": [],
      "source": [
        "finalactualtrends=['Up']\n",
        "\n",
        "for i in range(1,len(finallistcloseprice)):\n",
        "\n",
        "  if finallistcloseprice[i] > finallistcloseprice[i-1]:\n",
        "    finalactualtrends.append('Up')\n",
        "\n",
        "  elif finallistcloseprice[i] < finallistcloseprice[i-1]:\n",
        "    finalactualtrends.append('Bottom')\n",
        "\n",
        "  else:\n",
        "    finalactualtrends.append('Flat')"
      ]
    },
    {
      "cell_type": "code",
      "execution_count": null,
      "metadata": {
        "colab": {
          "base_uri": "https://localhost:8080/"
        },
        "id": "5wbntbZiTI2H",
        "outputId": "1b5bffb8-d38d-48b4-95e1-6f501c9ec575"
      },
      "outputs": [
        {
          "data": {
            "text/plain": [
              "228716"
            ]
          },
          "execution_count": 207,
          "metadata": {},
          "output_type": "execute_result"
        }
      ],
      "source": [
        "len(test_predict)"
      ]
    },
    {
      "cell_type": "code",
      "execution_count": null,
      "metadata": {
        "colab": {
          "base_uri": "https://localhost:8080/"
        },
        "id": "m8qUAbEbTONl",
        "outputId": "9ec3680d-8a77-45a3-d122-d7f53ae0987e"
      },
      "outputs": [
        {
          "data": {
            "text/plain": [
              "228716"
            ]
          },
          "execution_count": 208,
          "metadata": {},
          "output_type": "execute_result"
        }
      ],
      "source": [
        "len(finallistdates)"
      ]
    },
    {
      "cell_type": "code",
      "execution_count": null,
      "metadata": {
        "colab": {
          "base_uri": "https://localhost:8080/"
        },
        "id": "S8PB90YXYRRJ",
        "outputId": "e21b879a-aee1-40ef-ab8c-9a4e7020044b"
      },
      "outputs": [
        {
          "data": {
            "text/plain": [
              "(533905, 228817)"
            ]
          },
          "execution_count": 195,
          "metadata": {},
          "output_type": "execute_result"
        }
      ],
      "source": [
        "len(train_data),len(test_data)"
      ]
    },
    {
      "cell_type": "code",
      "execution_count": null,
      "metadata": {
        "colab": {
          "base_uri": "https://localhost:8080/"
        },
        "id": "cqIFHDRfYage",
        "outputId": "4e7b75a3-35bc-48ee-e155-ecaff5c4cde5"
      },
      "outputs": [
        {
          "data": {
            "text/plain": [
              "533804"
            ]
          },
          "execution_count": 140,
          "metadata": {},
          "output_type": "execute_result"
        }
      ],
      "source": [
        "len(train_predict)"
      ]
    },
    {
      "cell_type": "code",
      "execution_count": null,
      "metadata": {
        "colab": {
          "base_uri": "https://localhost:8080/"
        },
        "id": "8BmmZlwGYb7v",
        "outputId": "5b7fdff5-b601-43c7-8dff-99bdb6cecf63"
      },
      "outputs": [
        {
          "data": {
            "text/plain": [
              "(533804, 533804)"
            ]
          },
          "execution_count": 142,
          "metadata": {},
          "output_type": "execute_result"
        }
      ],
      "source": [
        "len(Y_train),len(train_predict)"
      ]
    },
    {
      "cell_type": "code",
      "execution_count": null,
      "metadata": {
        "colab": {
          "base_uri": "https://localhost:8080/"
        },
        "id": "PCu5kfkgZQA_",
        "outputId": "e6ae46dd-baf4-4001-a83a-2360a616d058"
      },
      "outputs": [
        {
          "data": {
            "text/plain": [
              "(228716, 228716)"
            ]
          },
          "execution_count": 144,
          "metadata": {},
          "output_type": "execute_result"
        }
      ],
      "source": [
        "len(Y_test),len(test_predict)"
      ]
    },
    {
      "cell_type": "code",
      "execution_count": null,
      "metadata": {
        "colab": {
          "base_uri": "https://localhost:8080/"
        },
        "id": "StKWtKmDZUmm",
        "outputId": "c3df9f03-e752-40ef-baef-c3096c095c3d"
      },
      "outputs": [
        {
          "data": {
            "text/plain": [
              "228716"
            ]
          },
          "execution_count": 149,
          "metadata": {},
          "output_type": "execute_result"
        }
      ],
      "source": [
        "len(test_predict)"
      ]
    },
    {
      "cell_type": "code",
      "execution_count": null,
      "metadata": {
        "colab": {
          "base_uri": "https://localhost:8080/",
          "height": 424
        },
        "id": "HycAr_JDZyQW",
        "outputId": "4dfd445d-ebd1-4b6a-d6a0-39c76342599f"
      },
      "outputs": [
        {
          "data": {
            "text/html": [
              "\n",
              "  <div id=\"df-a599390e-9346-49a1-98ae-64e291fc89ee\">\n",
              "    <div class=\"colab-df-container\">\n",
              "      <div>\n",
              "<style scoped>\n",
              "    .dataframe tbody tr th:only-of-type {\n",
              "        vertical-align: middle;\n",
              "    }\n",
              "\n",
              "    .dataframe tbody tr th {\n",
              "        vertical-align: top;\n",
              "    }\n",
              "\n",
              "    .dataframe thead th {\n",
              "        text-align: right;\n",
              "    }\n",
              "</style>\n",
              "<table border=\"1\" class=\"dataframe\">\n",
              "  <thead>\n",
              "    <tr style=\"text-align: right;\">\n",
              "      <th></th>\n",
              "      <th>Date</th>\n",
              "      <th>Time</th>\n",
              "      <th>Open</th>\n",
              "      <th>High</th>\n",
              "      <th>Low</th>\n",
              "      <th>Last</th>\n",
              "      <th>Volume</th>\n",
              "    </tr>\n",
              "  </thead>\n",
              "  <tbody>\n",
              "    <tr>\n",
              "      <th>533905</th>\n",
              "      <td>2021/1/18</td>\n",
              "      <td>01:09:00.0</td>\n",
              "      <td>12778.00</td>\n",
              "      <td>12780.00</td>\n",
              "      <td>12776.50</td>\n",
              "      <td>12779.00</td>\n",
              "      <td>29</td>\n",
              "    </tr>\n",
              "    <tr>\n",
              "      <th>533906</th>\n",
              "      <td>2021/1/18</td>\n",
              "      <td>01:11:00.0</td>\n",
              "      <td>12777.25</td>\n",
              "      <td>12779.50</td>\n",
              "      <td>12776.50</td>\n",
              "      <td>12776.50</td>\n",
              "      <td>35</td>\n",
              "    </tr>\n",
              "    <tr>\n",
              "      <th>533907</th>\n",
              "      <td>2021/1/18</td>\n",
              "      <td>01:13:00.0</td>\n",
              "      <td>12775.25</td>\n",
              "      <td>12777.75</td>\n",
              "      <td>12775.25</td>\n",
              "      <td>12775.75</td>\n",
              "      <td>22</td>\n",
              "    </tr>\n",
              "    <tr>\n",
              "      <th>533908</th>\n",
              "      <td>2021/1/18</td>\n",
              "      <td>01:15:00.0</td>\n",
              "      <td>12777.00</td>\n",
              "      <td>12778.00</td>\n",
              "      <td>12775.50</td>\n",
              "      <td>12776.50</td>\n",
              "      <td>39</td>\n",
              "    </tr>\n",
              "    <tr>\n",
              "      <th>533909</th>\n",
              "      <td>2021/1/18</td>\n",
              "      <td>01:17:00.0</td>\n",
              "      <td>12777.25</td>\n",
              "      <td>12777.75</td>\n",
              "      <td>12776.25</td>\n",
              "      <td>12777.75</td>\n",
              "      <td>14</td>\n",
              "    </tr>\n",
              "    <tr>\n",
              "      <th>...</th>\n",
              "      <td>...</td>\n",
              "      <td>...</td>\n",
              "      <td>...</td>\n",
              "      <td>...</td>\n",
              "      <td>...</td>\n",
              "      <td>...</td>\n",
              "      <td>...</td>\n",
              "    </tr>\n",
              "    <tr>\n",
              "      <th>762717</th>\n",
              "      <td>2022/5/3</td>\n",
              "      <td>01:17:00.0</td>\n",
              "      <td>13140.75</td>\n",
              "      <td>13145.25</td>\n",
              "      <td>13137.00</td>\n",
              "      <td>13140.00</td>\n",
              "      <td>174</td>\n",
              "    </tr>\n",
              "    <tr>\n",
              "      <th>762718</th>\n",
              "      <td>2022/5/3</td>\n",
              "      <td>01:19:00.0</td>\n",
              "      <td>13140.50</td>\n",
              "      <td>13141.50</td>\n",
              "      <td>13132.50</td>\n",
              "      <td>13133.50</td>\n",
              "      <td>97</td>\n",
              "    </tr>\n",
              "    <tr>\n",
              "      <th>762719</th>\n",
              "      <td>2022/5/3</td>\n",
              "      <td>01:21:00.0</td>\n",
              "      <td>13133.50</td>\n",
              "      <td>13135.00</td>\n",
              "      <td>13130.50</td>\n",
              "      <td>13133.50</td>\n",
              "      <td>44</td>\n",
              "    </tr>\n",
              "    <tr>\n",
              "      <th>762720</th>\n",
              "      <td>2022/5/3</td>\n",
              "      <td>01:23:00.0</td>\n",
              "      <td>13133.00</td>\n",
              "      <td>13137.25</td>\n",
              "      <td>13130.50</td>\n",
              "      <td>13135.00</td>\n",
              "      <td>86</td>\n",
              "    </tr>\n",
              "    <tr>\n",
              "      <th>762721</th>\n",
              "      <td>2022/5/3</td>\n",
              "      <td>01:25:00.0</td>\n",
              "      <td>13135.50</td>\n",
              "      <td>13136.75</td>\n",
              "      <td>13126.50</td>\n",
              "      <td>13131.75</td>\n",
              "      <td>171</td>\n",
              "    </tr>\n",
              "  </tbody>\n",
              "</table>\n",
              "<p>228817 rows × 7 columns</p>\n",
              "</div>\n",
              "      <button class=\"colab-df-convert\" onclick=\"convertToInteractive('df-a599390e-9346-49a1-98ae-64e291fc89ee')\"\n",
              "              title=\"Convert this dataframe to an interactive table.\"\n",
              "              style=\"display:none;\">\n",
              "        \n",
              "  <svg xmlns=\"http://www.w3.org/2000/svg\" height=\"24px\"viewBox=\"0 0 24 24\"\n",
              "       width=\"24px\">\n",
              "    <path d=\"M0 0h24v24H0V0z\" fill=\"none\"/>\n",
              "    <path d=\"M18.56 5.44l.94 2.06.94-2.06 2.06-.94-2.06-.94-.94-2.06-.94 2.06-2.06.94zm-11 1L8.5 8.5l.94-2.06 2.06-.94-2.06-.94L8.5 2.5l-.94 2.06-2.06.94zm10 10l.94 2.06.94-2.06 2.06-.94-2.06-.94-.94-2.06-.94 2.06-2.06.94z\"/><path d=\"M17.41 7.96l-1.37-1.37c-.4-.4-.92-.59-1.43-.59-.52 0-1.04.2-1.43.59L10.3 9.45l-7.72 7.72c-.78.78-.78 2.05 0 2.83L4 21.41c.39.39.9.59 1.41.59.51 0 1.02-.2 1.41-.59l7.78-7.78 2.81-2.81c.8-.78.8-2.07 0-2.86zM5.41 20L4 18.59l7.72-7.72 1.47 1.35L5.41 20z\"/>\n",
              "  </svg>\n",
              "      </button>\n",
              "      \n",
              "  <style>\n",
              "    .colab-df-container {\n",
              "      display:flex;\n",
              "      flex-wrap:wrap;\n",
              "      gap: 12px;\n",
              "    }\n",
              "\n",
              "    .colab-df-convert {\n",
              "      background-color: #E8F0FE;\n",
              "      border: none;\n",
              "      border-radius: 50%;\n",
              "      cursor: pointer;\n",
              "      display: none;\n",
              "      fill: #1967D2;\n",
              "      height: 32px;\n",
              "      padding: 0 0 0 0;\n",
              "      width: 32px;\n",
              "    }\n",
              "\n",
              "    .colab-df-convert:hover {\n",
              "      background-color: #E2EBFA;\n",
              "      box-shadow: 0px 1px 2px rgba(60, 64, 67, 0.3), 0px 1px 3px 1px rgba(60, 64, 67, 0.15);\n",
              "      fill: #174EA6;\n",
              "    }\n",
              "\n",
              "    [theme=dark] .colab-df-convert {\n",
              "      background-color: #3B4455;\n",
              "      fill: #D2E3FC;\n",
              "    }\n",
              "\n",
              "    [theme=dark] .colab-df-convert:hover {\n",
              "      background-color: #434B5C;\n",
              "      box-shadow: 0px 1px 3px 1px rgba(0, 0, 0, 0.15);\n",
              "      filter: drop-shadow(0px 1px 2px rgba(0, 0, 0, 0.3));\n",
              "      fill: #FFFFFF;\n",
              "    }\n",
              "  </style>\n",
              "\n",
              "      <script>\n",
              "        const buttonEl =\n",
              "          document.querySelector('#df-a599390e-9346-49a1-98ae-64e291fc89ee button.colab-df-convert');\n",
              "        buttonEl.style.display =\n",
              "          google.colab.kernel.accessAllowed ? 'block' : 'none';\n",
              "\n",
              "        async function convertToInteractive(key) {\n",
              "          const element = document.querySelector('#df-a599390e-9346-49a1-98ae-64e291fc89ee');\n",
              "          const dataTable =\n",
              "            await google.colab.kernel.invokeFunction('convertToInteractive',\n",
              "                                                     [key], {});\n",
              "          if (!dataTable) return;\n",
              "\n",
              "          const docLinkHtml = 'Like what you see? Visit the ' +\n",
              "            '<a target=\"_blank\" href=https://colab.research.google.com/notebooks/data_table.ipynb>data table notebook</a>'\n",
              "            + ' to learn more about interactive tables.';\n",
              "          element.innerHTML = '';\n",
              "          dataTable['output_type'] = 'display_data';\n",
              "          await google.colab.output.renderOutput(dataTable, element);\n",
              "          const docLink = document.createElement('div');\n",
              "          docLink.innerHTML = docLinkHtml;\n",
              "          element.appendChild(docLink);\n",
              "        }\n",
              "      </script>\n",
              "    </div>\n",
              "  </div>\n",
              "  "
            ],
            "text/plain": [
              "             Date         Time      Open      High       Low      Last  \\\n",
              "533905  2021/1/18   01:09:00.0  12778.00  12780.00  12776.50  12779.00   \n",
              "533906  2021/1/18   01:11:00.0  12777.25  12779.50  12776.50  12776.50   \n",
              "533907  2021/1/18   01:13:00.0  12775.25  12777.75  12775.25  12775.75   \n",
              "533908  2021/1/18   01:15:00.0  12777.00  12778.00  12775.50  12776.50   \n",
              "533909  2021/1/18   01:17:00.0  12777.25  12777.75  12776.25  12777.75   \n",
              "...           ...          ...       ...       ...       ...       ...   \n",
              "762717   2022/5/3   01:17:00.0  13140.75  13145.25  13137.00  13140.00   \n",
              "762718   2022/5/3   01:19:00.0  13140.50  13141.50  13132.50  13133.50   \n",
              "762719   2022/5/3   01:21:00.0  13133.50  13135.00  13130.50  13133.50   \n",
              "762720   2022/5/3   01:23:00.0  13133.00  13137.25  13130.50  13135.00   \n",
              "762721   2022/5/3   01:25:00.0  13135.50  13136.75  13126.50  13131.75   \n",
              "\n",
              "         Volume  \n",
              "533905       29  \n",
              "533906       35  \n",
              "533907       22  \n",
              "533908       39  \n",
              "533909       14  \n",
              "...         ...  \n",
              "762717      174  \n",
              "762718       97  \n",
              "762719       44  \n",
              "762720       86  \n",
              "762721      171  \n",
              "\n",
              "[228817 rows x 7 columns]"
            ]
          },
          "execution_count": 155,
          "metadata": {},
          "output_type": "execute_result"
        }
      ],
      "source": [
        "df[533905:]"
      ]
    },
    {
      "cell_type": "code",
      "execution_count": null,
      "metadata": {
        "colab": {
          "base_uri": "https://localhost:8080/"
        },
        "id": "CLCcVG7xZ-Py",
        "outputId": "55a42216-aa6e-4c42-cfc0-0a8785c1e256"
      },
      "outputs": [
        {
          "data": {
            "text/plain": [
              "array([[12821.024 ],\n",
              "       [12821.801 ],\n",
              "       [12820.384 ],\n",
              "       ...,\n",
              "       [13177.087 ],\n",
              "       [13171.1455],\n",
              "       [13171.976 ]], dtype=float32)"
            ]
          },
          "execution_count": 148,
          "metadata": {},
          "output_type": "execute_result"
        }
      ],
      "source": [
        "test_predict"
      ]
    },
    {
      "cell_type": "code",
      "execution_count": null,
      "metadata": {
        "colab": {
          "base_uri": "https://localhost:8080/"
        },
        "id": "GguLgthPaDNy",
        "outputId": "53cbc97c-37d7-4a12-8812-364ac5049150"
      },
      "outputs": [
        {
          "data": {
            "text/plain": [
              "22871600"
            ]
          },
          "execution_count": 161,
          "metadata": {},
          "output_type": "execute_result"
        }
      ],
      "source": [
        "dummy = scaler.inverse_transform(X_test.reshape(1,-1))\n",
        "len(dummy[0])"
      ]
    },
    {
      "cell_type": "code",
      "execution_count": null,
      "metadata": {
        "colab": {
          "base_uri": "https://localhost:8080/"
        },
        "id": "yzPiNV9SaaRZ",
        "outputId": "14b5762b-e52c-45ed-8957-6964794f8695"
      },
      "outputs": [
        {
          "data": {
            "text/plain": [
              "228716"
            ]
          },
          "execution_count": 162,
          "metadata": {},
          "output_type": "execute_result"
        }
      ],
      "source": [
        "len(test_predict)"
      ]
    },
    {
      "cell_type": "code",
      "execution_count": null,
      "metadata": {
        "id": "eSnnonYPbppi"
      },
      "outputs": [],
      "source": [
        "finalpredictedcloseprice = test_predict"
      ]
    },
    {
      "cell_type": "code",
      "execution_count": null,
      "metadata": {
        "id": "lj1yTkx2aiWr"
      },
      "outputs": [],
      "source": [
        "finalpredictedtrends = ['Up']\n",
        "\n",
        "for i in range(1,len(finalpredictedcloseprice)):\n",
        "\n",
        "  if finalpredictedcloseprice[i] > finalpredictedcloseprice[i-1]:\n",
        "    finalpredictedtrends.append('Up')\n",
        "\n",
        "  elif finalpredictedcloseprice[i] < finalpredictedcloseprice[i-1]:\n",
        "    finalpredictedtrends.append('Bottom')\n",
        "\n",
        "  else:\n",
        "    finalpredictedtrends.append('Flat')"
      ]
    },
    {
      "cell_type": "code",
      "execution_count": null,
      "metadata": {
        "colab": {
          "base_uri": "https://localhost:8080/"
        },
        "id": "gWB85c1OcC50",
        "outputId": "646a7296-decd-4ce0-f5e9-fb6f23ae1091"
      },
      "outputs": [
        {
          "data": {
            "text/plain": [
              "228716"
            ]
          },
          "execution_count": 228,
          "metadata": {},
          "output_type": "execute_result"
        }
      ],
      "source": [
        "len(finalpredictedtrends)"
      ]
    },
    {
      "cell_type": "code",
      "execution_count": null,
      "metadata": {
        "colab": {
          "base_uri": "https://localhost:8080/"
        },
        "id": "j30OGcqioTDg",
        "outputId": "3f848ad1-946c-48f0-f57f-facb9b856714"
      },
      "outputs": [
        {
          "data": {
            "text/plain": [
              "list"
            ]
          },
          "execution_count": 230,
          "metadata": {},
          "output_type": "execute_result"
        }
      ],
      "source": [
        "type(listtrends)"
      ]
    },
    {
      "cell_type": "code",
      "execution_count": null,
      "metadata": {
        "colab": {
          "base_uri": "https://localhost:8080/"
        },
        "id": "TsHYvy3aoONu",
        "outputId": "636ef25f-a49a-4dc3-c0e3-6f036ad13e0a"
      },
      "outputs": [
        {
          "data": {
            "text/plain": [
              "list"
            ]
          },
          "execution_count": 229,
          "metadata": {},
          "output_type": "execute_result"
        }
      ],
      "source": [
        "type(finalpredictedtrends)"
      ]
    },
    {
      "cell_type": "code",
      "execution_count": null,
      "metadata": {
        "id": "DbHWlsHOnr61"
      },
      "outputs": [],
      "source": [
        "finalpredictedtrends = list(finalpredictedtrends)"
      ]
    },
    {
      "cell_type": "code",
      "execution_count": null,
      "metadata": {
        "id": "QYHenBO0dSYK"
      },
      "outputs": [],
      "source": [
        "#For strength"
      ]
    },
    {
      "cell_type": "code",
      "execution_count": null,
      "metadata": {
        "id": "q1FdnQMKcFY1"
      },
      "outputs": [],
      "source": [
        "df2 = pd.DataFrame(df.reset_index()[' Last'])"
      ]
    },
    {
      "cell_type": "code",
      "execution_count": null,
      "metadata": {
        "colab": {
          "base_uri": "https://localhost:8080/",
          "height": 424
        },
        "id": "vPC4RpWwc_zt",
        "outputId": "5a46dfdc-a9ce-420a-fbfd-a6070a18ff91"
      },
      "outputs": [
        {
          "data": {
            "text/html": [
              "\n",
              "  <div id=\"df-7c44c5a5-c647-4ab1-bf22-6e45c503f101\">\n",
              "    <div class=\"colab-df-container\">\n",
              "      <div>\n",
              "<style scoped>\n",
              "    .dataframe tbody tr th:only-of-type {\n",
              "        vertical-align: middle;\n",
              "    }\n",
              "\n",
              "    .dataframe tbody tr th {\n",
              "        vertical-align: top;\n",
              "    }\n",
              "\n",
              "    .dataframe thead th {\n",
              "        text-align: right;\n",
              "    }\n",
              "</style>\n",
              "<table border=\"1\" class=\"dataframe\">\n",
              "  <thead>\n",
              "    <tr style=\"text-align: right;\">\n",
              "      <th></th>\n",
              "      <th>Last</th>\n",
              "    </tr>\n",
              "  </thead>\n",
              "  <tbody>\n",
              "    <tr>\n",
              "      <th>0</th>\n",
              "      <td>6407.75</td>\n",
              "    </tr>\n",
              "    <tr>\n",
              "      <th>1</th>\n",
              "      <td>6411.25</td>\n",
              "    </tr>\n",
              "    <tr>\n",
              "      <th>2</th>\n",
              "      <td>6411.50</td>\n",
              "    </tr>\n",
              "    <tr>\n",
              "      <th>3</th>\n",
              "      <td>6415.00</td>\n",
              "    </tr>\n",
              "    <tr>\n",
              "      <th>4</th>\n",
              "      <td>6413.50</td>\n",
              "    </tr>\n",
              "    <tr>\n",
              "      <th>...</th>\n",
              "      <td>...</td>\n",
              "    </tr>\n",
              "    <tr>\n",
              "      <th>762717</th>\n",
              "      <td>13140.00</td>\n",
              "    </tr>\n",
              "    <tr>\n",
              "      <th>762718</th>\n",
              "      <td>13133.50</td>\n",
              "    </tr>\n",
              "    <tr>\n",
              "      <th>762719</th>\n",
              "      <td>13133.50</td>\n",
              "    </tr>\n",
              "    <tr>\n",
              "      <th>762720</th>\n",
              "      <td>13135.00</td>\n",
              "    </tr>\n",
              "    <tr>\n",
              "      <th>762721</th>\n",
              "      <td>13131.75</td>\n",
              "    </tr>\n",
              "  </tbody>\n",
              "</table>\n",
              "<p>762722 rows × 1 columns</p>\n",
              "</div>\n",
              "      <button class=\"colab-df-convert\" onclick=\"convertToInteractive('df-7c44c5a5-c647-4ab1-bf22-6e45c503f101')\"\n",
              "              title=\"Convert this dataframe to an interactive table.\"\n",
              "              style=\"display:none;\">\n",
              "        \n",
              "  <svg xmlns=\"http://www.w3.org/2000/svg\" height=\"24px\"viewBox=\"0 0 24 24\"\n",
              "       width=\"24px\">\n",
              "    <path d=\"M0 0h24v24H0V0z\" fill=\"none\"/>\n",
              "    <path d=\"M18.56 5.44l.94 2.06.94-2.06 2.06-.94-2.06-.94-.94-2.06-.94 2.06-2.06.94zm-11 1L8.5 8.5l.94-2.06 2.06-.94-2.06-.94L8.5 2.5l-.94 2.06-2.06.94zm10 10l.94 2.06.94-2.06 2.06-.94-2.06-.94-.94-2.06-.94 2.06-2.06.94z\"/><path d=\"M17.41 7.96l-1.37-1.37c-.4-.4-.92-.59-1.43-.59-.52 0-1.04.2-1.43.59L10.3 9.45l-7.72 7.72c-.78.78-.78 2.05 0 2.83L4 21.41c.39.39.9.59 1.41.59.51 0 1.02-.2 1.41-.59l7.78-7.78 2.81-2.81c.8-.78.8-2.07 0-2.86zM5.41 20L4 18.59l7.72-7.72 1.47 1.35L5.41 20z\"/>\n",
              "  </svg>\n",
              "      </button>\n",
              "      \n",
              "  <style>\n",
              "    .colab-df-container {\n",
              "      display:flex;\n",
              "      flex-wrap:wrap;\n",
              "      gap: 12px;\n",
              "    }\n",
              "\n",
              "    .colab-df-convert {\n",
              "      background-color: #E8F0FE;\n",
              "      border: none;\n",
              "      border-radius: 50%;\n",
              "      cursor: pointer;\n",
              "      display: none;\n",
              "      fill: #1967D2;\n",
              "      height: 32px;\n",
              "      padding: 0 0 0 0;\n",
              "      width: 32px;\n",
              "    }\n",
              "\n",
              "    .colab-df-convert:hover {\n",
              "      background-color: #E2EBFA;\n",
              "      box-shadow: 0px 1px 2px rgba(60, 64, 67, 0.3), 0px 1px 3px 1px rgba(60, 64, 67, 0.15);\n",
              "      fill: #174EA6;\n",
              "    }\n",
              "\n",
              "    [theme=dark] .colab-df-convert {\n",
              "      background-color: #3B4455;\n",
              "      fill: #D2E3FC;\n",
              "    }\n",
              "\n",
              "    [theme=dark] .colab-df-convert:hover {\n",
              "      background-color: #434B5C;\n",
              "      box-shadow: 0px 1px 3px 1px rgba(0, 0, 0, 0.15);\n",
              "      filter: drop-shadow(0px 1px 2px rgba(0, 0, 0, 0.3));\n",
              "      fill: #FFFFFF;\n",
              "    }\n",
              "  </style>\n",
              "\n",
              "      <script>\n",
              "        const buttonEl =\n",
              "          document.querySelector('#df-7c44c5a5-c647-4ab1-bf22-6e45c503f101 button.colab-df-convert');\n",
              "        buttonEl.style.display =\n",
              "          google.colab.kernel.accessAllowed ? 'block' : 'none';\n",
              "\n",
              "        async function convertToInteractive(key) {\n",
              "          const element = document.querySelector('#df-7c44c5a5-c647-4ab1-bf22-6e45c503f101');\n",
              "          const dataTable =\n",
              "            await google.colab.kernel.invokeFunction('convertToInteractive',\n",
              "                                                     [key], {});\n",
              "          if (!dataTable) return;\n",
              "\n",
              "          const docLinkHtml = 'Like what you see? Visit the ' +\n",
              "            '<a target=\"_blank\" href=https://colab.research.google.com/notebooks/data_table.ipynb>data table notebook</a>'\n",
              "            + ' to learn more about interactive tables.';\n",
              "          element.innerHTML = '';\n",
              "          dataTable['output_type'] = 'display_data';\n",
              "          await google.colab.output.renderOutput(dataTable, element);\n",
              "          const docLink = document.createElement('div');\n",
              "          docLink.innerHTML = docLinkHtml;\n",
              "          element.appendChild(docLink);\n",
              "        }\n",
              "      </script>\n",
              "    </div>\n",
              "  </div>\n",
              "  "
            ],
            "text/plain": [
              "            Last\n",
              "0        6407.75\n",
              "1        6411.25\n",
              "2        6411.50\n",
              "3        6415.00\n",
              "4        6413.50\n",
              "...          ...\n",
              "762717  13140.00\n",
              "762718  13133.50\n",
              "762719  13133.50\n",
              "762720  13135.00\n",
              "762721  13131.75\n",
              "\n",
              "[762722 rows x 1 columns]"
            ]
          },
          "execution_count": 185,
          "metadata": {},
          "output_type": "execute_result"
        }
      ],
      "source": [
        "df2"
      ]
    },
    {
      "cell_type": "code",
      "execution_count": null,
      "metadata": {
        "colab": {
          "base_uri": "https://localhost:8080/",
          "height": 424
        },
        "id": "hb0AOJYBdNh5",
        "outputId": "db7a8fc7-1758-4d48-e7ad-f352afdc29df"
      },
      "outputs": [
        {
          "data": {
            "text/html": [
              "\n",
              "  <div id=\"df-44af76d6-088c-4330-8a9f-67840b81a637\">\n",
              "    <div class=\"colab-df-container\">\n",
              "      <div>\n",
              "<style scoped>\n",
              "    .dataframe tbody tr th:only-of-type {\n",
              "        vertical-align: middle;\n",
              "    }\n",
              "\n",
              "    .dataframe tbody tr th {\n",
              "        vertical-align: top;\n",
              "    }\n",
              "\n",
              "    .dataframe thead th {\n",
              "        text-align: right;\n",
              "    }\n",
              "</style>\n",
              "<table border=\"1\" class=\"dataframe\">\n",
              "  <thead>\n",
              "    <tr style=\"text-align: right;\">\n",
              "      <th></th>\n",
              "      <th>Last</th>\n",
              "      <th>diff</th>\n",
              "    </tr>\n",
              "  </thead>\n",
              "  <tbody>\n",
              "    <tr>\n",
              "      <th>0</th>\n",
              "      <td>6407.75</td>\n",
              "      <td>NaN</td>\n",
              "    </tr>\n",
              "    <tr>\n",
              "      <th>1</th>\n",
              "      <td>6411.25</td>\n",
              "      <td>3.50</td>\n",
              "    </tr>\n",
              "    <tr>\n",
              "      <th>2</th>\n",
              "      <td>6411.50</td>\n",
              "      <td>0.25</td>\n",
              "    </tr>\n",
              "    <tr>\n",
              "      <th>3</th>\n",
              "      <td>6415.00</td>\n",
              "      <td>3.50</td>\n",
              "    </tr>\n",
              "    <tr>\n",
              "      <th>4</th>\n",
              "      <td>6413.50</td>\n",
              "      <td>-1.50</td>\n",
              "    </tr>\n",
              "    <tr>\n",
              "      <th>...</th>\n",
              "      <td>...</td>\n",
              "      <td>...</td>\n",
              "    </tr>\n",
              "    <tr>\n",
              "      <th>762717</th>\n",
              "      <td>13140.00</td>\n",
              "      <td>-1.00</td>\n",
              "    </tr>\n",
              "    <tr>\n",
              "      <th>762718</th>\n",
              "      <td>13133.50</td>\n",
              "      <td>-6.50</td>\n",
              "    </tr>\n",
              "    <tr>\n",
              "      <th>762719</th>\n",
              "      <td>13133.50</td>\n",
              "      <td>0.00</td>\n",
              "    </tr>\n",
              "    <tr>\n",
              "      <th>762720</th>\n",
              "      <td>13135.00</td>\n",
              "      <td>1.50</td>\n",
              "    </tr>\n",
              "    <tr>\n",
              "      <th>762721</th>\n",
              "      <td>13131.75</td>\n",
              "      <td>-3.25</td>\n",
              "    </tr>\n",
              "  </tbody>\n",
              "</table>\n",
              "<p>762722 rows × 2 columns</p>\n",
              "</div>\n",
              "      <button class=\"colab-df-convert\" onclick=\"convertToInteractive('df-44af76d6-088c-4330-8a9f-67840b81a637')\"\n",
              "              title=\"Convert this dataframe to an interactive table.\"\n",
              "              style=\"display:none;\">\n",
              "        \n",
              "  <svg xmlns=\"http://www.w3.org/2000/svg\" height=\"24px\"viewBox=\"0 0 24 24\"\n",
              "       width=\"24px\">\n",
              "    <path d=\"M0 0h24v24H0V0z\" fill=\"none\"/>\n",
              "    <path d=\"M18.56 5.44l.94 2.06.94-2.06 2.06-.94-2.06-.94-.94-2.06-.94 2.06-2.06.94zm-11 1L8.5 8.5l.94-2.06 2.06-.94-2.06-.94L8.5 2.5l-.94 2.06-2.06.94zm10 10l.94 2.06.94-2.06 2.06-.94-2.06-.94-.94-2.06-.94 2.06-2.06.94z\"/><path d=\"M17.41 7.96l-1.37-1.37c-.4-.4-.92-.59-1.43-.59-.52 0-1.04.2-1.43.59L10.3 9.45l-7.72 7.72c-.78.78-.78 2.05 0 2.83L4 21.41c.39.39.9.59 1.41.59.51 0 1.02-.2 1.41-.59l7.78-7.78 2.81-2.81c.8-.78.8-2.07 0-2.86zM5.41 20L4 18.59l7.72-7.72 1.47 1.35L5.41 20z\"/>\n",
              "  </svg>\n",
              "      </button>\n",
              "      \n",
              "  <style>\n",
              "    .colab-df-container {\n",
              "      display:flex;\n",
              "      flex-wrap:wrap;\n",
              "      gap: 12px;\n",
              "    }\n",
              "\n",
              "    .colab-df-convert {\n",
              "      background-color: #E8F0FE;\n",
              "      border: none;\n",
              "      border-radius: 50%;\n",
              "      cursor: pointer;\n",
              "      display: none;\n",
              "      fill: #1967D2;\n",
              "      height: 32px;\n",
              "      padding: 0 0 0 0;\n",
              "      width: 32px;\n",
              "    }\n",
              "\n",
              "    .colab-df-convert:hover {\n",
              "      background-color: #E2EBFA;\n",
              "      box-shadow: 0px 1px 2px rgba(60, 64, 67, 0.3), 0px 1px 3px 1px rgba(60, 64, 67, 0.15);\n",
              "      fill: #174EA6;\n",
              "    }\n",
              "\n",
              "    [theme=dark] .colab-df-convert {\n",
              "      background-color: #3B4455;\n",
              "      fill: #D2E3FC;\n",
              "    }\n",
              "\n",
              "    [theme=dark] .colab-df-convert:hover {\n",
              "      background-color: #434B5C;\n",
              "      box-shadow: 0px 1px 3px 1px rgba(0, 0, 0, 0.15);\n",
              "      filter: drop-shadow(0px 1px 2px rgba(0, 0, 0, 0.3));\n",
              "      fill: #FFFFFF;\n",
              "    }\n",
              "  </style>\n",
              "\n",
              "      <script>\n",
              "        const buttonEl =\n",
              "          document.querySelector('#df-44af76d6-088c-4330-8a9f-67840b81a637 button.colab-df-convert');\n",
              "        buttonEl.style.display =\n",
              "          google.colab.kernel.accessAllowed ? 'block' : 'none';\n",
              "\n",
              "        async function convertToInteractive(key) {\n",
              "          const element = document.querySelector('#df-44af76d6-088c-4330-8a9f-67840b81a637');\n",
              "          const dataTable =\n",
              "            await google.colab.kernel.invokeFunction('convertToInteractive',\n",
              "                                                     [key], {});\n",
              "          if (!dataTable) return;\n",
              "\n",
              "          const docLinkHtml = 'Like what you see? Visit the ' +\n",
              "            '<a target=\"_blank\" href=https://colab.research.google.com/notebooks/data_table.ipynb>data table notebook</a>'\n",
              "            + ' to learn more about interactive tables.';\n",
              "          element.innerHTML = '';\n",
              "          dataTable['output_type'] = 'display_data';\n",
              "          await google.colab.output.renderOutput(dataTable, element);\n",
              "          const docLink = document.createElement('div');\n",
              "          docLink.innerHTML = docLinkHtml;\n",
              "          element.appendChild(docLink);\n",
              "        }\n",
              "      </script>\n",
              "    </div>\n",
              "  </div>\n",
              "  "
            ],
            "text/plain": [
              "            Last  diff\n",
              "0        6407.75   NaN\n",
              "1        6411.25  3.50\n",
              "2        6411.50  0.25\n",
              "3        6415.00  3.50\n",
              "4        6413.50 -1.50\n",
              "...          ...   ...\n",
              "762717  13140.00 -1.00\n",
              "762718  13133.50 -6.50\n",
              "762719  13133.50  0.00\n",
              "762720  13135.00  1.50\n",
              "762721  13131.75 -3.25\n",
              "\n",
              "[762722 rows x 2 columns]"
            ]
          },
          "execution_count": 186,
          "metadata": {},
          "output_type": "execute_result"
        }
      ],
      "source": [
        "df2['diff'] = df2.diff(1)\n",
        "df2"
      ]
    },
    {
      "cell_type": "code",
      "execution_count": null,
      "metadata": {
        "colab": {
          "base_uri": "https://localhost:8080/"
        },
        "id": "QjMi1fG7dVgf",
        "outputId": "04a6128d-e7d7-49d7-ec7c-875546217714"
      },
      "outputs": [
        {
          "data": {
            "text/plain": [
              "0          NaN\n",
              "1         3.50\n",
              "2         0.25\n",
              "3         3.50\n",
              "4        -1.50\n",
              "          ... \n",
              "762717   -1.00\n",
              "762718   -6.50\n",
              "762719    0.00\n",
              "762720    1.50\n",
              "762721   -3.25\n",
              "Name: diff, Length: 762722, dtype: float64"
            ]
          },
          "execution_count": 187,
          "metadata": {},
          "output_type": "execute_result"
        }
      ],
      "source": [
        "df2['diff']"
      ]
    },
    {
      "cell_type": "code",
      "execution_count": null,
      "metadata": {
        "id": "FKDQnBAkdb5Z"
      },
      "outputs": [],
      "source": [
        "df2['gain'] = df2['diff'].clip(lower=0).round(2)\n",
        "df2['loss'] = df2['diff'].clip(upper=0).abs().round(2)\n"
      ]
    },
    {
      "cell_type": "code",
      "execution_count": null,
      "metadata": {
        "colab": {
          "base_uri": "https://localhost:8080/",
          "height": 424
        },
        "id": "RC_ex73LdqNv",
        "outputId": "f05948c0-e4af-4f89-a822-f34e5511030a"
      },
      "outputs": [
        {
          "data": {
            "text/html": [
              "\n",
              "  <div id=\"df-e64fa1bd-8ef6-412b-956c-eeb48cf5523b\">\n",
              "    <div class=\"colab-df-container\">\n",
              "      <div>\n",
              "<style scoped>\n",
              "    .dataframe tbody tr th:only-of-type {\n",
              "        vertical-align: middle;\n",
              "    }\n",
              "\n",
              "    .dataframe tbody tr th {\n",
              "        vertical-align: top;\n",
              "    }\n",
              "\n",
              "    .dataframe thead th {\n",
              "        text-align: right;\n",
              "    }\n",
              "</style>\n",
              "<table border=\"1\" class=\"dataframe\">\n",
              "  <thead>\n",
              "    <tr style=\"text-align: right;\">\n",
              "      <th></th>\n",
              "      <th>Last</th>\n",
              "      <th>diff</th>\n",
              "      <th>gain</th>\n",
              "      <th>loss</th>\n",
              "    </tr>\n",
              "  </thead>\n",
              "  <tbody>\n",
              "    <tr>\n",
              "      <th>0</th>\n",
              "      <td>6407.75</td>\n",
              "      <td>NaN</td>\n",
              "      <td>NaN</td>\n",
              "      <td>NaN</td>\n",
              "    </tr>\n",
              "    <tr>\n",
              "      <th>1</th>\n",
              "      <td>6411.25</td>\n",
              "      <td>3.50</td>\n",
              "      <td>3.50</td>\n",
              "      <td>0.00</td>\n",
              "    </tr>\n",
              "    <tr>\n",
              "      <th>2</th>\n",
              "      <td>6411.50</td>\n",
              "      <td>0.25</td>\n",
              "      <td>0.25</td>\n",
              "      <td>0.00</td>\n",
              "    </tr>\n",
              "    <tr>\n",
              "      <th>3</th>\n",
              "      <td>6415.00</td>\n",
              "      <td>3.50</td>\n",
              "      <td>3.50</td>\n",
              "      <td>0.00</td>\n",
              "    </tr>\n",
              "    <tr>\n",
              "      <th>4</th>\n",
              "      <td>6413.50</td>\n",
              "      <td>-1.50</td>\n",
              "      <td>0.00</td>\n",
              "      <td>1.50</td>\n",
              "    </tr>\n",
              "    <tr>\n",
              "      <th>...</th>\n",
              "      <td>...</td>\n",
              "      <td>...</td>\n",
              "      <td>...</td>\n",
              "      <td>...</td>\n",
              "    </tr>\n",
              "    <tr>\n",
              "      <th>762717</th>\n",
              "      <td>13140.00</td>\n",
              "      <td>-1.00</td>\n",
              "      <td>0.00</td>\n",
              "      <td>1.00</td>\n",
              "    </tr>\n",
              "    <tr>\n",
              "      <th>762718</th>\n",
              "      <td>13133.50</td>\n",
              "      <td>-6.50</td>\n",
              "      <td>0.00</td>\n",
              "      <td>6.50</td>\n",
              "    </tr>\n",
              "    <tr>\n",
              "      <th>762719</th>\n",
              "      <td>13133.50</td>\n",
              "      <td>0.00</td>\n",
              "      <td>0.00</td>\n",
              "      <td>0.00</td>\n",
              "    </tr>\n",
              "    <tr>\n",
              "      <th>762720</th>\n",
              "      <td>13135.00</td>\n",
              "      <td>1.50</td>\n",
              "      <td>1.50</td>\n",
              "      <td>0.00</td>\n",
              "    </tr>\n",
              "    <tr>\n",
              "      <th>762721</th>\n",
              "      <td>13131.75</td>\n",
              "      <td>-3.25</td>\n",
              "      <td>0.00</td>\n",
              "      <td>3.25</td>\n",
              "    </tr>\n",
              "  </tbody>\n",
              "</table>\n",
              "<p>762722 rows × 4 columns</p>\n",
              "</div>\n",
              "      <button class=\"colab-df-convert\" onclick=\"convertToInteractive('df-e64fa1bd-8ef6-412b-956c-eeb48cf5523b')\"\n",
              "              title=\"Convert this dataframe to an interactive table.\"\n",
              "              style=\"display:none;\">\n",
              "        \n",
              "  <svg xmlns=\"http://www.w3.org/2000/svg\" height=\"24px\"viewBox=\"0 0 24 24\"\n",
              "       width=\"24px\">\n",
              "    <path d=\"M0 0h24v24H0V0z\" fill=\"none\"/>\n",
              "    <path d=\"M18.56 5.44l.94 2.06.94-2.06 2.06-.94-2.06-.94-.94-2.06-.94 2.06-2.06.94zm-11 1L8.5 8.5l.94-2.06 2.06-.94-2.06-.94L8.5 2.5l-.94 2.06-2.06.94zm10 10l.94 2.06.94-2.06 2.06-.94-2.06-.94-.94-2.06-.94 2.06-2.06.94z\"/><path d=\"M17.41 7.96l-1.37-1.37c-.4-.4-.92-.59-1.43-.59-.52 0-1.04.2-1.43.59L10.3 9.45l-7.72 7.72c-.78.78-.78 2.05 0 2.83L4 21.41c.39.39.9.59 1.41.59.51 0 1.02-.2 1.41-.59l7.78-7.78 2.81-2.81c.8-.78.8-2.07 0-2.86zM5.41 20L4 18.59l7.72-7.72 1.47 1.35L5.41 20z\"/>\n",
              "  </svg>\n",
              "      </button>\n",
              "      \n",
              "  <style>\n",
              "    .colab-df-container {\n",
              "      display:flex;\n",
              "      flex-wrap:wrap;\n",
              "      gap: 12px;\n",
              "    }\n",
              "\n",
              "    .colab-df-convert {\n",
              "      background-color: #E8F0FE;\n",
              "      border: none;\n",
              "      border-radius: 50%;\n",
              "      cursor: pointer;\n",
              "      display: none;\n",
              "      fill: #1967D2;\n",
              "      height: 32px;\n",
              "      padding: 0 0 0 0;\n",
              "      width: 32px;\n",
              "    }\n",
              "\n",
              "    .colab-df-convert:hover {\n",
              "      background-color: #E2EBFA;\n",
              "      box-shadow: 0px 1px 2px rgba(60, 64, 67, 0.3), 0px 1px 3px 1px rgba(60, 64, 67, 0.15);\n",
              "      fill: #174EA6;\n",
              "    }\n",
              "\n",
              "    [theme=dark] .colab-df-convert {\n",
              "      background-color: #3B4455;\n",
              "      fill: #D2E3FC;\n",
              "    }\n",
              "\n",
              "    [theme=dark] .colab-df-convert:hover {\n",
              "      background-color: #434B5C;\n",
              "      box-shadow: 0px 1px 3px 1px rgba(0, 0, 0, 0.15);\n",
              "      filter: drop-shadow(0px 1px 2px rgba(0, 0, 0, 0.3));\n",
              "      fill: #FFFFFF;\n",
              "    }\n",
              "  </style>\n",
              "\n",
              "      <script>\n",
              "        const buttonEl =\n",
              "          document.querySelector('#df-e64fa1bd-8ef6-412b-956c-eeb48cf5523b button.colab-df-convert');\n",
              "        buttonEl.style.display =\n",
              "          google.colab.kernel.accessAllowed ? 'block' : 'none';\n",
              "\n",
              "        async function convertToInteractive(key) {\n",
              "          const element = document.querySelector('#df-e64fa1bd-8ef6-412b-956c-eeb48cf5523b');\n",
              "          const dataTable =\n",
              "            await google.colab.kernel.invokeFunction('convertToInteractive',\n",
              "                                                     [key], {});\n",
              "          if (!dataTable) return;\n",
              "\n",
              "          const docLinkHtml = 'Like what you see? Visit the ' +\n",
              "            '<a target=\"_blank\" href=https://colab.research.google.com/notebooks/data_table.ipynb>data table notebook</a>'\n",
              "            + ' to learn more about interactive tables.';\n",
              "          element.innerHTML = '';\n",
              "          dataTable['output_type'] = 'display_data';\n",
              "          await google.colab.output.renderOutput(dataTable, element);\n",
              "          const docLink = document.createElement('div');\n",
              "          docLink.innerHTML = docLinkHtml;\n",
              "          element.appendChild(docLink);\n",
              "        }\n",
              "      </script>\n",
              "    </div>\n",
              "  </div>\n",
              "  "
            ],
            "text/plain": [
              "            Last  diff  gain  loss\n",
              "0        6407.75   NaN   NaN   NaN\n",
              "1        6411.25  3.50  3.50  0.00\n",
              "2        6411.50  0.25  0.25  0.00\n",
              "3        6415.00  3.50  3.50  0.00\n",
              "4        6413.50 -1.50  0.00  1.50\n",
              "...          ...   ...   ...   ...\n",
              "762717  13140.00 -1.00  0.00  1.00\n",
              "762718  13133.50 -6.50  0.00  6.50\n",
              "762719  13133.50  0.00  0.00  0.00\n",
              "762720  13135.00  1.50  1.50  0.00\n",
              "762721  13131.75 -3.25  0.00  3.25\n",
              "\n",
              "[762722 rows x 4 columns]"
            ]
          },
          "execution_count": 189,
          "metadata": {},
          "output_type": "execute_result"
        }
      ],
      "source": [
        "df2"
      ]
    },
    {
      "cell_type": "code",
      "execution_count": null,
      "metadata": {
        "id": "Eg3yhbJ-drJO"
      },
      "outputs": [],
      "source": [
        "window_length=100\n",
        "df2['avg_gain'] = df2['gain'].rolling(window=window_length, min_periods=window_length).mean()[:window_length+1]\n",
        "df2['avg_loss'] = df2['loss'].rolling(window=window_length, min_periods=window_length).mean()[:window_length+1]"
      ]
    },
    {
      "cell_type": "code",
      "execution_count": null,
      "metadata": {
        "id": "w98Www61d8ma"
      },
      "outputs": [],
      "source": [
        "for i, row in enumerate(df2['avg_gain'].iloc[window_length+1:]):\n",
        "    df2['avg_gain'].iloc[i + window_length + 1] =\\\n",
        "        (df2['avg_gain'].iloc[i + window_length] *\n",
        "         (window_length - 1) +\n",
        "         df2['gain'].iloc[i + window_length + 1])\\\n",
        "        / window_length\n",
        "# Average Losses\n",
        "for i, row in enumerate(df2['avg_loss'].iloc[window_length+1:]):\n",
        "    df2['avg_loss'].iloc[i + window_length + 1] =\\\n",
        "        (df2['avg_loss'].iloc[i + window_length] *\n",
        "         (window_length - 1) +\n",
        "         df2['loss'].iloc[i + window_length + 1])\\\n",
        "        / window_length\n"
      ]
    },
    {
      "cell_type": "code",
      "execution_count": null,
      "metadata": {
        "id": "AgE6SyYveGsR"
      },
      "outputs": [],
      "source": [
        "df2['rs'] = df2['avg_gain'] / df2['avg_loss']\n"
      ]
    },
    {
      "cell_type": "code",
      "execution_count": null,
      "metadata": {
        "colab": {
          "base_uri": "https://localhost:8080/"
        },
        "id": "1aQju7HheLLk",
        "outputId": "32a2b76e-c65b-4647-e673-c7d538cd6048"
      },
      "outputs": [
        {
          "name": "stdout",
          "output_type": "stream",
          "text": [
            "            Last  diff  gain  loss  avg_gain  avg_loss        rs        rsi\n",
            "0        6407.75   NaN   NaN   NaN       NaN       NaN       NaN        NaN\n",
            "1        6411.25  3.50  3.50  0.00       NaN       NaN       NaN        NaN\n",
            "2        6411.50  0.25  0.25  0.00       NaN       NaN       NaN        NaN\n",
            "3        6415.00  3.50  3.50  0.00       NaN       NaN       NaN        NaN\n",
            "4        6413.50 -1.50  0.00  1.50       NaN       NaN       NaN        NaN\n",
            "...          ...   ...   ...   ...       ...       ...       ...        ...\n",
            "762717  13140.00 -1.00  0.00  1.00  2.458924  2.020018  1.217278  54.899658\n",
            "762718  13133.50 -6.50  0.00  6.50  2.434334  2.064818  1.178958  54.106513\n",
            "762719  13133.50  0.00  0.00  0.00  2.409991  2.044170  1.178958  54.106513\n",
            "762720  13135.00  1.50  1.50  0.00  2.400891  2.023728  1.186370  54.262098\n",
            "762721  13131.75 -3.25  0.00  3.25  2.376882  2.035991  1.167433  53.862467\n",
            "\n",
            "[762722 rows x 8 columns]\n"
          ]
        }
      ],
      "source": [
        "df2['rsi'] = 100 - (100 / (1.0 + df2['rs']))\n",
        "# View Result\n",
        "print(df2)"
      ]
    },
    {
      "cell_type": "code",
      "execution_count": null,
      "metadata": {
        "colab": {
          "base_uri": "https://localhost:8080/"
        },
        "id": "C7Tk1xb3eUvT",
        "outputId": "22df6ec2-3512-4a98-dca2-6b016d65f368"
      },
      "outputs": [
        {
          "data": {
            "text/plain": [
              "0            NaN\n",
              "1            NaN\n",
              "2            NaN\n",
              "3            NaN\n",
              "4            NaN\n",
              "         ...    \n",
              "96           NaN\n",
              "97           NaN\n",
              "98           NaN\n",
              "99           NaN\n",
              "100    62.083333\n",
              "Name:  Last, Length: 101, dtype: float64"
            ]
          },
          "execution_count": 181,
          "metadata": {},
          "output_type": "execute_result"
        }
      ],
      "source": [
        "df2['rsi']"
      ]
    },
    {
      "cell_type": "code",
      "execution_count": null,
      "metadata": {
        "colab": {
          "base_uri": "https://localhost:8080/"
        },
        "id": "d1W1j2D-eXII",
        "outputId": "fdd8c0b2-33fe-4de7-82b4-2a0f099ad87e"
      },
      "outputs": [
        {
          "data": {
            "text/plain": [
              "(228716, 228716, 228716, 228716, 228716, 228716)"
            ]
          },
          "execution_count": 211,
          "metadata": {},
          "output_type": "execute_result"
        }
      ],
      "source": [
        "len(finallistdates) ,len(finallisttimes) , len(finallistcloseprice) , len(finalactualtrends) , len(finalpredictedcloseprice) , len(finalpredictedtrends)"
      ]
    },
    {
      "cell_type": "code",
      "execution_count": null,
      "metadata": {
        "id": "1iWPrWSPekE9"
      },
      "outputs": [],
      "source": [
        "finalliststrength = list(df2.iloc[534006:,7])"
      ]
    },
    {
      "cell_type": "code",
      "execution_count": null,
      "metadata": {
        "colab": {
          "base_uri": "https://localhost:8080/"
        },
        "id": "iraIlT-BemSj",
        "outputId": "a013a959-dc8f-41fc-fda4-95fc8f1d78fa"
      },
      "outputs": [
        {
          "data": {
            "text/plain": [
              "228716"
            ]
          },
          "execution_count": 217,
          "metadata": {},
          "output_type": "execute_result"
        }
      ],
      "source": [
        "len(finalliststrength)"
      ]
    },
    {
      "cell_type": "code",
      "execution_count": null,
      "metadata": {
        "id": "PuoBG-HXmhpC"
      },
      "outputs": [],
      "source": [
        "total_df = pd.DataFrame({'Date':finallistdates,\n",
        "                        'Time':finallisttimes,\n",
        "                        'Actual Close Price':finallistcloseprice,\n",
        "                        'Actual Trend': finalactualtrends,\n",
        "                        'strength':finalliststrength,\n",
        "                        'Predicted Close Price':list(finalpredictedcloseprice),\n",
        "                        'Predicted Trend':finalpredictedtrends})"
      ]
    },
    {
      "cell_type": "code",
      "execution_count": null,
      "metadata": {
        "colab": {
          "base_uri": "https://localhost:8080/",
          "height": 424
        },
        "id": "2B0Gkot4nl0M",
        "outputId": "ae3b5179-a7e9-41d4-bf55-139adabead7c"
      },
      "outputs": [
        {
          "data": {
            "text/html": [
              "\n",
              "  <div id=\"df-44af9dc6-faeb-4cf7-b3c0-de3df6b5ee7d\">\n",
              "    <div class=\"colab-df-container\">\n",
              "      <div>\n",
              "<style scoped>\n",
              "    .dataframe tbody tr th:only-of-type {\n",
              "        vertical-align: middle;\n",
              "    }\n",
              "\n",
              "    .dataframe tbody tr th {\n",
              "        vertical-align: top;\n",
              "    }\n",
              "\n",
              "    .dataframe thead th {\n",
              "        text-align: right;\n",
              "    }\n",
              "</style>\n",
              "<table border=\"1\" class=\"dataframe\">\n",
              "  <thead>\n",
              "    <tr style=\"text-align: right;\">\n",
              "      <th></th>\n",
              "      <th>Date</th>\n",
              "      <th>Time</th>\n",
              "      <th>Actual Close Price</th>\n",
              "      <th>Actual Trend</th>\n",
              "      <th>strength</th>\n",
              "      <th>Predicted Close Price</th>\n",
              "      <th>Predicted Trend</th>\n",
              "    </tr>\n",
              "  </thead>\n",
              "  <tbody>\n",
              "    <tr>\n",
              "      <th>0</th>\n",
              "      <td>2021/1/18</td>\n",
              "      <td>04:31:00.0</td>\n",
              "      <td>12783.75</td>\n",
              "      <td>Up</td>\n",
              "      <td>51.540493</td>\n",
              "      <td>[12821.024]</td>\n",
              "      <td>Up</td>\n",
              "    </tr>\n",
              "    <tr>\n",
              "      <th>1</th>\n",
              "      <td>2021/1/18</td>\n",
              "      <td>04:33:00.0</td>\n",
              "      <td>12784.00</td>\n",
              "      <td>Up</td>\n",
              "      <td>51.601824</td>\n",
              "      <td>[12821.801]</td>\n",
              "      <td>Up</td>\n",
              "    </tr>\n",
              "    <tr>\n",
              "      <th>2</th>\n",
              "      <td>2021/1/18</td>\n",
              "      <td>04:35:00.0</td>\n",
              "      <td>12785.25</td>\n",
              "      <td>Up</td>\n",
              "      <td>51.909217</td>\n",
              "      <td>[12820.384]</td>\n",
              "      <td>Bottom</td>\n",
              "    </tr>\n",
              "    <tr>\n",
              "      <th>3</th>\n",
              "      <td>2021/1/18</td>\n",
              "      <td>04:37:00.0</td>\n",
              "      <td>12785.00</td>\n",
              "      <td>Bottom</td>\n",
              "      <td>51.842697</td>\n",
              "      <td>[12820.87]</td>\n",
              "      <td>Up</td>\n",
              "    </tr>\n",
              "    <tr>\n",
              "      <th>4</th>\n",
              "      <td>2021/1/18</td>\n",
              "      <td>04:39:00.0</td>\n",
              "      <td>12783.00</td>\n",
              "      <td>Bottom</td>\n",
              "      <td>51.311359</td>\n",
              "      <td>[12822.038]</td>\n",
              "      <td>Up</td>\n",
              "    </tr>\n",
              "    <tr>\n",
              "      <th>...</th>\n",
              "      <td>...</td>\n",
              "      <td>...</td>\n",
              "      <td>...</td>\n",
              "      <td>...</td>\n",
              "      <td>...</td>\n",
              "      <td>...</td>\n",
              "      <td>...</td>\n",
              "    </tr>\n",
              "    <tr>\n",
              "      <th>228711</th>\n",
              "      <td>2022/5/3</td>\n",
              "      <td>01:17:00.0</td>\n",
              "      <td>13140.00</td>\n",
              "      <td>Bottom</td>\n",
              "      <td>54.899658</td>\n",
              "      <td>[13170.867]</td>\n",
              "      <td>Up</td>\n",
              "    </tr>\n",
              "    <tr>\n",
              "      <th>228712</th>\n",
              "      <td>2022/5/3</td>\n",
              "      <td>01:19:00.0</td>\n",
              "      <td>13133.50</td>\n",
              "      <td>Bottom</td>\n",
              "      <td>54.106513</td>\n",
              "      <td>[13178.624]</td>\n",
              "      <td>Up</td>\n",
              "    </tr>\n",
              "    <tr>\n",
              "      <th>228713</th>\n",
              "      <td>2022/5/3</td>\n",
              "      <td>01:21:00.0</td>\n",
              "      <td>13133.50</td>\n",
              "      <td>Flat</td>\n",
              "      <td>54.106513</td>\n",
              "      <td>[13177.087]</td>\n",
              "      <td>Bottom</td>\n",
              "    </tr>\n",
              "    <tr>\n",
              "      <th>228714</th>\n",
              "      <td>2022/5/3</td>\n",
              "      <td>01:23:00.0</td>\n",
              "      <td>13135.00</td>\n",
              "      <td>Up</td>\n",
              "      <td>54.262098</td>\n",
              "      <td>[13171.1455]</td>\n",
              "      <td>Bottom</td>\n",
              "    </tr>\n",
              "    <tr>\n",
              "      <th>228715</th>\n",
              "      <td>2022/5/3</td>\n",
              "      <td>01:25:00.0</td>\n",
              "      <td>13131.75</td>\n",
              "      <td>Bottom</td>\n",
              "      <td>53.862467</td>\n",
              "      <td>[13171.976]</td>\n",
              "      <td>Up</td>\n",
              "    </tr>\n",
              "  </tbody>\n",
              "</table>\n",
              "<p>228716 rows × 7 columns</p>\n",
              "</div>\n",
              "      <button class=\"colab-df-convert\" onclick=\"convertToInteractive('df-44af9dc6-faeb-4cf7-b3c0-de3df6b5ee7d')\"\n",
              "              title=\"Convert this dataframe to an interactive table.\"\n",
              "              style=\"display:none;\">\n",
              "        \n",
              "  <svg xmlns=\"http://www.w3.org/2000/svg\" height=\"24px\"viewBox=\"0 0 24 24\"\n",
              "       width=\"24px\">\n",
              "    <path d=\"M0 0h24v24H0V0z\" fill=\"none\"/>\n",
              "    <path d=\"M18.56 5.44l.94 2.06.94-2.06 2.06-.94-2.06-.94-.94-2.06-.94 2.06-2.06.94zm-11 1L8.5 8.5l.94-2.06 2.06-.94-2.06-.94L8.5 2.5l-.94 2.06-2.06.94zm10 10l.94 2.06.94-2.06 2.06-.94-2.06-.94-.94-2.06-.94 2.06-2.06.94z\"/><path d=\"M17.41 7.96l-1.37-1.37c-.4-.4-.92-.59-1.43-.59-.52 0-1.04.2-1.43.59L10.3 9.45l-7.72 7.72c-.78.78-.78 2.05 0 2.83L4 21.41c.39.39.9.59 1.41.59.51 0 1.02-.2 1.41-.59l7.78-7.78 2.81-2.81c.8-.78.8-2.07 0-2.86zM5.41 20L4 18.59l7.72-7.72 1.47 1.35L5.41 20z\"/>\n",
              "  </svg>\n",
              "      </button>\n",
              "      \n",
              "  <style>\n",
              "    .colab-df-container {\n",
              "      display:flex;\n",
              "      flex-wrap:wrap;\n",
              "      gap: 12px;\n",
              "    }\n",
              "\n",
              "    .colab-df-convert {\n",
              "      background-color: #E8F0FE;\n",
              "      border: none;\n",
              "      border-radius: 50%;\n",
              "      cursor: pointer;\n",
              "      display: none;\n",
              "      fill: #1967D2;\n",
              "      height: 32px;\n",
              "      padding: 0 0 0 0;\n",
              "      width: 32px;\n",
              "    }\n",
              "\n",
              "    .colab-df-convert:hover {\n",
              "      background-color: #E2EBFA;\n",
              "      box-shadow: 0px 1px 2px rgba(60, 64, 67, 0.3), 0px 1px 3px 1px rgba(60, 64, 67, 0.15);\n",
              "      fill: #174EA6;\n",
              "    }\n",
              "\n",
              "    [theme=dark] .colab-df-convert {\n",
              "      background-color: #3B4455;\n",
              "      fill: #D2E3FC;\n",
              "    }\n",
              "\n",
              "    [theme=dark] .colab-df-convert:hover {\n",
              "      background-color: #434B5C;\n",
              "      box-shadow: 0px 1px 3px 1px rgba(0, 0, 0, 0.15);\n",
              "      filter: drop-shadow(0px 1px 2px rgba(0, 0, 0, 0.3));\n",
              "      fill: #FFFFFF;\n",
              "    }\n",
              "  </style>\n",
              "\n",
              "      <script>\n",
              "        const buttonEl =\n",
              "          document.querySelector('#df-44af9dc6-faeb-4cf7-b3c0-de3df6b5ee7d button.colab-df-convert');\n",
              "        buttonEl.style.display =\n",
              "          google.colab.kernel.accessAllowed ? 'block' : 'none';\n",
              "\n",
              "        async function convertToInteractive(key) {\n",
              "          const element = document.querySelector('#df-44af9dc6-faeb-4cf7-b3c0-de3df6b5ee7d');\n",
              "          const dataTable =\n",
              "            await google.colab.kernel.invokeFunction('convertToInteractive',\n",
              "                                                     [key], {});\n",
              "          if (!dataTable) return;\n",
              "\n",
              "          const docLinkHtml = 'Like what you see? Visit the ' +\n",
              "            '<a target=\"_blank\" href=https://colab.research.google.com/notebooks/data_table.ipynb>data table notebook</a>'\n",
              "            + ' to learn more about interactive tables.';\n",
              "          element.innerHTML = '';\n",
              "          dataTable['output_type'] = 'display_data';\n",
              "          await google.colab.output.renderOutput(dataTable, element);\n",
              "          const docLink = document.createElement('div');\n",
              "          docLink.innerHTML = docLinkHtml;\n",
              "          element.appendChild(docLink);\n",
              "        }\n",
              "      </script>\n",
              "    </div>\n",
              "  </div>\n",
              "  "
            ],
            "text/plain": [
              "             Date         Time  Actual Close Price Actual Trend   strength  \\\n",
              "0       2021/1/18   04:31:00.0            12783.75           Up  51.540493   \n",
              "1       2021/1/18   04:33:00.0            12784.00           Up  51.601824   \n",
              "2       2021/1/18   04:35:00.0            12785.25           Up  51.909217   \n",
              "3       2021/1/18   04:37:00.0            12785.00       Bottom  51.842697   \n",
              "4       2021/1/18   04:39:00.0            12783.00       Bottom  51.311359   \n",
              "...           ...          ...                 ...          ...        ...   \n",
              "228711   2022/5/3   01:17:00.0            13140.00       Bottom  54.899658   \n",
              "228712   2022/5/3   01:19:00.0            13133.50       Bottom  54.106513   \n",
              "228713   2022/5/3   01:21:00.0            13133.50         Flat  54.106513   \n",
              "228714   2022/5/3   01:23:00.0            13135.00           Up  54.262098   \n",
              "228715   2022/5/3   01:25:00.0            13131.75       Bottom  53.862467   \n",
              "\n",
              "       Predicted Close Price Predicted Trend  \n",
              "0                [12821.024]              Up  \n",
              "1                [12821.801]              Up  \n",
              "2                [12820.384]          Bottom  \n",
              "3                 [12820.87]              Up  \n",
              "4                [12822.038]              Up  \n",
              "...                      ...             ...  \n",
              "228711           [13170.867]              Up  \n",
              "228712           [13178.624]              Up  \n",
              "228713           [13177.087]          Bottom  \n",
              "228714          [13171.1455]          Bottom  \n",
              "228715           [13171.976]              Up  \n",
              "\n",
              "[228716 rows x 7 columns]"
            ]
          },
          "execution_count": 237,
          "metadata": {},
          "output_type": "execute_result"
        }
      ],
      "source": [
        "total_df"
      ]
    },
    {
      "cell_type": "code",
      "execution_count": null,
      "metadata": {
        "colab": {
          "base_uri": "https://localhost:8080/"
        },
        "id": "r-pzxhv1n2mM",
        "outputId": "4e65ff68-11b0-4969-861d-e42a745b1b3e"
      },
      "outputs": [
        {
          "data": {
            "text/plain": [
              "0.3287690192564652"
            ]
          },
          "execution_count": 240,
          "metadata": {},
          "output_type": "execute_result"
        }
      ],
      "source": [
        "from sklearn.metrics import precision_score\n",
        "precision_score(finalactualtrends,finalpredictedtrends,average='macro')"
      ]
    },
    {
      "cell_type": "code",
      "execution_count": null,
      "metadata": {
        "id": "9QyJqsI2pZcz"
      },
      "outputs": [],
      "source": [
        ""
      ]
    }
  ],
  "metadata": {
    "accelerator": "GPU",
    "colab": {
      "name": "Predicting StockPrice with SC data.ipynb",
      "provenance": [],
      "include_colab_link": true
    },
    "kernelspec": {
      "display_name": "Python 3",
      "name": "python3"
    },
    "language_info": {
      "name": "python"
    }
  },
  "nbformat": 4,
  "nbformat_minor": 0
}
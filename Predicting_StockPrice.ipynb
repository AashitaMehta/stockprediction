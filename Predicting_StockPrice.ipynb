{
  "cells": [
    {
      "cell_type": "markdown",
      "metadata": {
        "id": "view-in-github",
        "colab_type": "text"
      },
      "source": [
        "<a href=\"https://colab.research.google.com/github/AashitaMehta/stockprediction/blob/main/Predicting_StockPrice.ipynb\" target=\"_parent\"><img src=\"https://colab.research.google.com/assets/colab-badge.svg\" alt=\"Open In Colab\"/></a>"
      ]
    },
    {
      "cell_type": "code",
      "execution_count": null,
      "metadata": {
        "colab": {
          "base_uri": "https://localhost:8080/"
        },
        "id": "s2Q5KBd3lA_d",
        "outputId": "3735064d-5f66-40ac-af87-36872c96f20e"
      },
      "outputs": [
        {
          "name": "stdout",
          "output_type": "stream",
          "text": [
            "Mounted at /content/drive\n"
          ]
        }
      ],
      "source": [
        "from google.colab import drive\n",
        "drive.mount('/content/drive')"
      ]
    },
    {
      "cell_type": "code",
      "execution_count": null,
      "metadata": {
        "colab": {
          "base_uri": "https://localhost:8080/"
        },
        "id": "MLfXZx63lKYn",
        "outputId": "8f0c4dc2-5ab2-4fb9-82eb-1cd5416e5d01"
      },
      "outputs": [
        {
          "name": "stdout",
          "output_type": "stream",
          "text": [
            "/content/drive/MyDrive/Task\n"
          ]
        }
      ],
      "source": [
        "%cd '/content/drive/MyDrive/Task'"
      ]
    },
    {
      "cell_type": "code",
      "execution_count": null,
      "metadata": {
        "colab": {
          "base_uri": "https://localhost:8080/",
          "height": 366
        },
        "id": "Ryu5f9zVmA-9",
        "outputId": "e17a31c3-bcfd-414a-a5a8-bb1d11f1f928"
      },
      "outputs": [
        {
          "data": {
            "text/html": [
              "\n",
              "  <div id=\"df-01a03e7e-70a8-495d-8223-9df1e8cd5288\">\n",
              "    <div class=\"colab-df-container\">\n",
              "      <div>\n",
              "<style scoped>\n",
              "    .dataframe tbody tr th:only-of-type {\n",
              "        vertical-align: middle;\n",
              "    }\n",
              "\n",
              "    .dataframe tbody tr th {\n",
              "        vertical-align: top;\n",
              "    }\n",
              "\n",
              "    .dataframe thead th {\n",
              "        text-align: right;\n",
              "    }\n",
              "</style>\n",
              "<table border=\"1\" class=\"dataframe\">\n",
              "  <thead>\n",
              "    <tr style=\"text-align: right;\">\n",
              "      <th></th>\n",
              "      <th>Date</th>\n",
              "      <th>Time</th>\n",
              "      <th>Open</th>\n",
              "      <th>High</th>\n",
              "      <th>Low</th>\n",
              "      <th>Last</th>\n",
              "      <th>Volume</th>\n",
              "      <th># of Trades</th>\n",
              "      <th>OHLC Avg</th>\n",
              "      <th>HLC Avg</th>\n",
              "      <th>...</th>\n",
              "      <th>DeltaRatio -2 STD</th>\n",
              "      <th>Ask Bid Trade Ratio +1 STD</th>\n",
              "      <th>Ask Bid Trade Ratio +2 STD</th>\n",
              "      <th>Ask Bid Trade Ratio -1 STD</th>\n",
              "      <th>Ask Bid Trade Ratio -2 STD</th>\n",
              "      <th>Median Ask Volume</th>\n",
              "      <th>Median Bid Volume</th>\n",
              "      <th>Ask Volume Bid Volume Difference Per Tick</th>\n",
              "      <th>Volume Above Volume POC</th>\n",
              "      <th>Volume Below Volume POC</th>\n",
              "    </tr>\n",
              "  </thead>\n",
              "  <tbody>\n",
              "    <tr>\n",
              "      <th>0</th>\n",
              "      <td>2018/1/1</td>\n",
              "      <td>17:59:00.0</td>\n",
              "      <td>6405.0</td>\n",
              "      <td>6409.75</td>\n",
              "      <td>6401.50</td>\n",
              "      <td>6407.75</td>\n",
              "      <td>675</td>\n",
              "      <td>362</td>\n",
              "      <td>6406.00</td>\n",
              "      <td>6406.33</td>\n",
              "      <td>...</td>\n",
              "      <td>6411.55</td>\n",
              "      <td>0.0</td>\n",
              "      <td>0.0</td>\n",
              "      <td>0.0</td>\n",
              "      <td>6411.75</td>\n",
              "      <td>10</td>\n",
              "      <td>5</td>\n",
              "      <td>4</td>\n",
              "      <td>363</td>\n",
              "      <td>109</td>\n",
              "    </tr>\n",
              "    <tr>\n",
              "      <th>1</th>\n",
              "      <td>2018/1/1</td>\n",
              "      <td>18:01:00.0</td>\n",
              "      <td>6408.0</td>\n",
              "      <td>6412.00</td>\n",
              "      <td>6407.50</td>\n",
              "      <td>6411.25</td>\n",
              "      <td>477</td>\n",
              "      <td>266</td>\n",
              "      <td>6409.69</td>\n",
              "      <td>6410.25</td>\n",
              "      <td>...</td>\n",
              "      <td>0.00</td>\n",
              "      <td>6405.5</td>\n",
              "      <td>0.0</td>\n",
              "      <td>0.0</td>\n",
              "      <td>0.00</td>\n",
              "      <td>9</td>\n",
              "      <td>7</td>\n",
              "      <td>-1</td>\n",
              "      <td>95</td>\n",
              "      <td>228</td>\n",
              "    </tr>\n",
              "    <tr>\n",
              "      <th>2</th>\n",
              "      <td>2018/1/1</td>\n",
              "      <td>18:03:00.0</td>\n",
              "      <td>6411.5</td>\n",
              "      <td>6412.00</td>\n",
              "      <td>6411.00</td>\n",
              "      <td>6411.50</td>\n",
              "      <td>152</td>\n",
              "      <td>96</td>\n",
              "      <td>6411.50</td>\n",
              "      <td>6411.50</td>\n",
              "      <td>...</td>\n",
              "      <td>0.00</td>\n",
              "      <td>0.0</td>\n",
              "      <td>0.0</td>\n",
              "      <td>6414.0</td>\n",
              "      <td>0.00</td>\n",
              "      <td>9</td>\n",
              "      <td>12</td>\n",
              "      <td>-20</td>\n",
              "      <td>63</td>\n",
              "      <td>0</td>\n",
              "    </tr>\n",
              "    <tr>\n",
              "      <th>3</th>\n",
              "      <td>2018/1/1</td>\n",
              "      <td>18:05:00.0</td>\n",
              "      <td>6411.0</td>\n",
              "      <td>6415.00</td>\n",
              "      <td>6411.00</td>\n",
              "      <td>6415.00</td>\n",
              "      <td>177</td>\n",
              "      <td>136</td>\n",
              "      <td>6413.00</td>\n",
              "      <td>6413.67</td>\n",
              "      <td>...</td>\n",
              "      <td>0.00</td>\n",
              "      <td>6409.0</td>\n",
              "      <td>0.0</td>\n",
              "      <td>0.0</td>\n",
              "      <td>0.00</td>\n",
              "      <td>10</td>\n",
              "      <td>3</td>\n",
              "      <td>6</td>\n",
              "      <td>91</td>\n",
              "      <td>62</td>\n",
              "    </tr>\n",
              "    <tr>\n",
              "      <th>4</th>\n",
              "      <td>2018/1/1</td>\n",
              "      <td>18:07:00.0</td>\n",
              "      <td>6414.5</td>\n",
              "      <td>6415.50</td>\n",
              "      <td>6413.25</td>\n",
              "      <td>6413.50</td>\n",
              "      <td>111</td>\n",
              "      <td>96</td>\n",
              "      <td>6414.19</td>\n",
              "      <td>6414.08</td>\n",
              "      <td>...</td>\n",
              "      <td>0.00</td>\n",
              "      <td>0.0</td>\n",
              "      <td>0.0</td>\n",
              "      <td>0.0</td>\n",
              "      <td>0.00</td>\n",
              "      <td>8</td>\n",
              "      <td>5</td>\n",
              "      <td>1</td>\n",
              "      <td>36</td>\n",
              "      <td>52</td>\n",
              "    </tr>\n",
              "  </tbody>\n",
              "</table>\n",
              "<p>5 rows × 67 columns</p>\n",
              "</div>\n",
              "      <button class=\"colab-df-convert\" onclick=\"convertToInteractive('df-01a03e7e-70a8-495d-8223-9df1e8cd5288')\"\n",
              "              title=\"Convert this dataframe to an interactive table.\"\n",
              "              style=\"display:none;\">\n",
              "        \n",
              "  <svg xmlns=\"http://www.w3.org/2000/svg\" height=\"24px\"viewBox=\"0 0 24 24\"\n",
              "       width=\"24px\">\n",
              "    <path d=\"M0 0h24v24H0V0z\" fill=\"none\"/>\n",
              "    <path d=\"M18.56 5.44l.94 2.06.94-2.06 2.06-.94-2.06-.94-.94-2.06-.94 2.06-2.06.94zm-11 1L8.5 8.5l.94-2.06 2.06-.94-2.06-.94L8.5 2.5l-.94 2.06-2.06.94zm10 10l.94 2.06.94-2.06 2.06-.94-2.06-.94-.94-2.06-.94 2.06-2.06.94z\"/><path d=\"M17.41 7.96l-1.37-1.37c-.4-.4-.92-.59-1.43-.59-.52 0-1.04.2-1.43.59L10.3 9.45l-7.72 7.72c-.78.78-.78 2.05 0 2.83L4 21.41c.39.39.9.59 1.41.59.51 0 1.02-.2 1.41-.59l7.78-7.78 2.81-2.81c.8-.78.8-2.07 0-2.86zM5.41 20L4 18.59l7.72-7.72 1.47 1.35L5.41 20z\"/>\n",
              "  </svg>\n",
              "      </button>\n",
              "      \n",
              "  <style>\n",
              "    .colab-df-container {\n",
              "      display:flex;\n",
              "      flex-wrap:wrap;\n",
              "      gap: 12px;\n",
              "    }\n",
              "\n",
              "    .colab-df-convert {\n",
              "      background-color: #E8F0FE;\n",
              "      border: none;\n",
              "      border-radius: 50%;\n",
              "      cursor: pointer;\n",
              "      display: none;\n",
              "      fill: #1967D2;\n",
              "      height: 32px;\n",
              "      padding: 0 0 0 0;\n",
              "      width: 32px;\n",
              "    }\n",
              "\n",
              "    .colab-df-convert:hover {\n",
              "      background-color: #E2EBFA;\n",
              "      box-shadow: 0px 1px 2px rgba(60, 64, 67, 0.3), 0px 1px 3px 1px rgba(60, 64, 67, 0.15);\n",
              "      fill: #174EA6;\n",
              "    }\n",
              "\n",
              "    [theme=dark] .colab-df-convert {\n",
              "      background-color: #3B4455;\n",
              "      fill: #D2E3FC;\n",
              "    }\n",
              "\n",
              "    [theme=dark] .colab-df-convert:hover {\n",
              "      background-color: #434B5C;\n",
              "      box-shadow: 0px 1px 3px 1px rgba(0, 0, 0, 0.15);\n",
              "      filter: drop-shadow(0px 1px 2px rgba(0, 0, 0, 0.3));\n",
              "      fill: #FFFFFF;\n",
              "    }\n",
              "  </style>\n",
              "\n",
              "      <script>\n",
              "        const buttonEl =\n",
              "          document.querySelector('#df-01a03e7e-70a8-495d-8223-9df1e8cd5288 button.colab-df-convert');\n",
              "        buttonEl.style.display =\n",
              "          google.colab.kernel.accessAllowed ? 'block' : 'none';\n",
              "\n",
              "        async function convertToInteractive(key) {\n",
              "          const element = document.querySelector('#df-01a03e7e-70a8-495d-8223-9df1e8cd5288');\n",
              "          const dataTable =\n",
              "            await google.colab.kernel.invokeFunction('convertToInteractive',\n",
              "                                                     [key], {});\n",
              "          if (!dataTable) return;\n",
              "\n",
              "          const docLinkHtml = 'Like what you see? Visit the ' +\n",
              "            '<a target=\"_blank\" href=https://colab.research.google.com/notebooks/data_table.ipynb>data table notebook</a>'\n",
              "            + ' to learn more about interactive tables.';\n",
              "          element.innerHTML = '';\n",
              "          dataTable['output_type'] = 'display_data';\n",
              "          await google.colab.output.renderOutput(dataTable, element);\n",
              "          const docLink = document.createElement('div');\n",
              "          docLink.innerHTML = docLinkHtml;\n",
              "          element.appendChild(docLink);\n",
              "        }\n",
              "      </script>\n",
              "    </div>\n",
              "  </div>\n",
              "  "
            ],
            "text/plain": [
              "       Date         Time    Open     High      Low     Last   Volume  \\\n",
              "0  2018/1/1   17:59:00.0  6405.0  6409.75  6401.50  6407.75      675   \n",
              "1  2018/1/1   18:01:00.0  6408.0  6412.00  6407.50  6411.25      477   \n",
              "2  2018/1/1   18:03:00.0  6411.5  6412.00  6411.00  6411.50      152   \n",
              "3  2018/1/1   18:05:00.0  6411.0  6415.00  6411.00  6415.00      177   \n",
              "4  2018/1/1   18:07:00.0  6414.5  6415.50  6413.25  6413.50      111   \n",
              "\n",
              "    # of Trades   OHLC Avg   HLC Avg  ...   DeltaRatio -2 STD  \\\n",
              "0           362    6406.00   6406.33  ...             6411.55   \n",
              "1           266    6409.69   6410.25  ...                0.00   \n",
              "2            96    6411.50   6411.50  ...                0.00   \n",
              "3           136    6413.00   6413.67  ...                0.00   \n",
              "4            96    6414.19   6414.08  ...                0.00   \n",
              "\n",
              "    Ask Bid Trade Ratio +1 STD   Ask Bid Trade Ratio +2 STD  \\\n",
              "0                          0.0                          0.0   \n",
              "1                       6405.5                          0.0   \n",
              "2                          0.0                          0.0   \n",
              "3                       6409.0                          0.0   \n",
              "4                          0.0                          0.0   \n",
              "\n",
              "    Ask Bid Trade Ratio -1 STD   Ask Bid Trade Ratio -2 STD  \\\n",
              "0                          0.0                      6411.75   \n",
              "1                          0.0                         0.00   \n",
              "2                       6414.0                         0.00   \n",
              "3                          0.0                         0.00   \n",
              "4                          0.0                         0.00   \n",
              "\n",
              "    Median Ask Volume   Median Bid Volume  \\\n",
              "0                  10                   5   \n",
              "1                   9                   7   \n",
              "2                   9                  12   \n",
              "3                  10                   3   \n",
              "4                   8                   5   \n",
              "\n",
              "    Ask Volume Bid Volume Difference Per Tick   Volume Above Volume POC  \\\n",
              "0                                           4                       363   \n",
              "1                                          -1                        95   \n",
              "2                                         -20                        63   \n",
              "3                                           6                        91   \n",
              "4                                           1                        36   \n",
              "\n",
              "    Volume Below Volume POC  \n",
              "0                       109  \n",
              "1                       228  \n",
              "2                         0  \n",
              "3                        62  \n",
              "4                        52  \n",
              "\n",
              "[5 rows x 67 columns]"
            ]
          },
          "execution_count": 5,
          "metadata": {},
          "output_type": "execute_result"
        }
      ],
      "source": [
        "import pandas as pd\n",
        "df = pd.read_csv(\"GraphData.txt\")\n",
        "df.head()"
      ]
    },
    {
      "cell_type": "code",
      "execution_count": null,
      "metadata": {
        "id": "pgCF0qcNmBk1"
      },
      "outputs": [],
      "source": [
        "df = df.iloc[:,0:7]"
      ]
    },
    {
      "cell_type": "code",
      "execution_count": null,
      "metadata": {
        "colab": {
          "base_uri": "https://localhost:8080/",
          "height": 206
        },
        "id": "7tzlhejRmMNi",
        "outputId": "90ab6a98-83c0-42dd-c0ed-6f542afae91d"
      },
      "outputs": [
        {
          "data": {
            "text/html": [
              "\n",
              "  <div id=\"df-0cb4c199-13bf-4fca-a31d-1c6495f9cde0\">\n",
              "    <div class=\"colab-df-container\">\n",
              "      <div>\n",
              "<style scoped>\n",
              "    .dataframe tbody tr th:only-of-type {\n",
              "        vertical-align: middle;\n",
              "    }\n",
              "\n",
              "    .dataframe tbody tr th {\n",
              "        vertical-align: top;\n",
              "    }\n",
              "\n",
              "    .dataframe thead th {\n",
              "        text-align: right;\n",
              "    }\n",
              "</style>\n",
              "<table border=\"1\" class=\"dataframe\">\n",
              "  <thead>\n",
              "    <tr style=\"text-align: right;\">\n",
              "      <th></th>\n",
              "      <th>Date</th>\n",
              "      <th>Time</th>\n",
              "      <th>Open</th>\n",
              "      <th>High</th>\n",
              "      <th>Low</th>\n",
              "      <th>Last</th>\n",
              "      <th>Volume</th>\n",
              "    </tr>\n",
              "  </thead>\n",
              "  <tbody>\n",
              "    <tr>\n",
              "      <th>0</th>\n",
              "      <td>2018/1/1</td>\n",
              "      <td>17:59:00.0</td>\n",
              "      <td>6405.0</td>\n",
              "      <td>6409.75</td>\n",
              "      <td>6401.50</td>\n",
              "      <td>6407.75</td>\n",
              "      <td>675</td>\n",
              "    </tr>\n",
              "    <tr>\n",
              "      <th>1</th>\n",
              "      <td>2018/1/1</td>\n",
              "      <td>18:01:00.0</td>\n",
              "      <td>6408.0</td>\n",
              "      <td>6412.00</td>\n",
              "      <td>6407.50</td>\n",
              "      <td>6411.25</td>\n",
              "      <td>477</td>\n",
              "    </tr>\n",
              "    <tr>\n",
              "      <th>2</th>\n",
              "      <td>2018/1/1</td>\n",
              "      <td>18:03:00.0</td>\n",
              "      <td>6411.5</td>\n",
              "      <td>6412.00</td>\n",
              "      <td>6411.00</td>\n",
              "      <td>6411.50</td>\n",
              "      <td>152</td>\n",
              "    </tr>\n",
              "    <tr>\n",
              "      <th>3</th>\n",
              "      <td>2018/1/1</td>\n",
              "      <td>18:05:00.0</td>\n",
              "      <td>6411.0</td>\n",
              "      <td>6415.00</td>\n",
              "      <td>6411.00</td>\n",
              "      <td>6415.00</td>\n",
              "      <td>177</td>\n",
              "    </tr>\n",
              "    <tr>\n",
              "      <th>4</th>\n",
              "      <td>2018/1/1</td>\n",
              "      <td>18:07:00.0</td>\n",
              "      <td>6414.5</td>\n",
              "      <td>6415.50</td>\n",
              "      <td>6413.25</td>\n",
              "      <td>6413.50</td>\n",
              "      <td>111</td>\n",
              "    </tr>\n",
              "  </tbody>\n",
              "</table>\n",
              "</div>\n",
              "      <button class=\"colab-df-convert\" onclick=\"convertToInteractive('df-0cb4c199-13bf-4fca-a31d-1c6495f9cde0')\"\n",
              "              title=\"Convert this dataframe to an interactive table.\"\n",
              "              style=\"display:none;\">\n",
              "        \n",
              "  <svg xmlns=\"http://www.w3.org/2000/svg\" height=\"24px\"viewBox=\"0 0 24 24\"\n",
              "       width=\"24px\">\n",
              "    <path d=\"M0 0h24v24H0V0z\" fill=\"none\"/>\n",
              "    <path d=\"M18.56 5.44l.94 2.06.94-2.06 2.06-.94-2.06-.94-.94-2.06-.94 2.06-2.06.94zm-11 1L8.5 8.5l.94-2.06 2.06-.94-2.06-.94L8.5 2.5l-.94 2.06-2.06.94zm10 10l.94 2.06.94-2.06 2.06-.94-2.06-.94-.94-2.06-.94 2.06-2.06.94z\"/><path d=\"M17.41 7.96l-1.37-1.37c-.4-.4-.92-.59-1.43-.59-.52 0-1.04.2-1.43.59L10.3 9.45l-7.72 7.72c-.78.78-.78 2.05 0 2.83L4 21.41c.39.39.9.59 1.41.59.51 0 1.02-.2 1.41-.59l7.78-7.78 2.81-2.81c.8-.78.8-2.07 0-2.86zM5.41 20L4 18.59l7.72-7.72 1.47 1.35L5.41 20z\"/>\n",
              "  </svg>\n",
              "      </button>\n",
              "      \n",
              "  <style>\n",
              "    .colab-df-container {\n",
              "      display:flex;\n",
              "      flex-wrap:wrap;\n",
              "      gap: 12px;\n",
              "    }\n",
              "\n",
              "    .colab-df-convert {\n",
              "      background-color: #E8F0FE;\n",
              "      border: none;\n",
              "      border-radius: 50%;\n",
              "      cursor: pointer;\n",
              "      display: none;\n",
              "      fill: #1967D2;\n",
              "      height: 32px;\n",
              "      padding: 0 0 0 0;\n",
              "      width: 32px;\n",
              "    }\n",
              "\n",
              "    .colab-df-convert:hover {\n",
              "      background-color: #E2EBFA;\n",
              "      box-shadow: 0px 1px 2px rgba(60, 64, 67, 0.3), 0px 1px 3px 1px rgba(60, 64, 67, 0.15);\n",
              "      fill: #174EA6;\n",
              "    }\n",
              "\n",
              "    [theme=dark] .colab-df-convert {\n",
              "      background-color: #3B4455;\n",
              "      fill: #D2E3FC;\n",
              "    }\n",
              "\n",
              "    [theme=dark] .colab-df-convert:hover {\n",
              "      background-color: #434B5C;\n",
              "      box-shadow: 0px 1px 3px 1px rgba(0, 0, 0, 0.15);\n",
              "      filter: drop-shadow(0px 1px 2px rgba(0, 0, 0, 0.3));\n",
              "      fill: #FFFFFF;\n",
              "    }\n",
              "  </style>\n",
              "\n",
              "      <script>\n",
              "        const buttonEl =\n",
              "          document.querySelector('#df-0cb4c199-13bf-4fca-a31d-1c6495f9cde0 button.colab-df-convert');\n",
              "        buttonEl.style.display =\n",
              "          google.colab.kernel.accessAllowed ? 'block' : 'none';\n",
              "\n",
              "        async function convertToInteractive(key) {\n",
              "          const element = document.querySelector('#df-0cb4c199-13bf-4fca-a31d-1c6495f9cde0');\n",
              "          const dataTable =\n",
              "            await google.colab.kernel.invokeFunction('convertToInteractive',\n",
              "                                                     [key], {});\n",
              "          if (!dataTable) return;\n",
              "\n",
              "          const docLinkHtml = 'Like what you see? Visit the ' +\n",
              "            '<a target=\"_blank\" href=https://colab.research.google.com/notebooks/data_table.ipynb>data table notebook</a>'\n",
              "            + ' to learn more about interactive tables.';\n",
              "          element.innerHTML = '';\n",
              "          dataTable['output_type'] = 'display_data';\n",
              "          await google.colab.output.renderOutput(dataTable, element);\n",
              "          const docLink = document.createElement('div');\n",
              "          docLink.innerHTML = docLinkHtml;\n",
              "          element.appendChild(docLink);\n",
              "        }\n",
              "      </script>\n",
              "    </div>\n",
              "  </div>\n",
              "  "
            ],
            "text/plain": [
              "       Date         Time    Open     High      Low     Last   Volume\n",
              "0  2018/1/1   17:59:00.0  6405.0  6409.75  6401.50  6407.75      675\n",
              "1  2018/1/1   18:01:00.0  6408.0  6412.00  6407.50  6411.25      477\n",
              "2  2018/1/1   18:03:00.0  6411.5  6412.00  6411.00  6411.50      152\n",
              "3  2018/1/1   18:05:00.0  6411.0  6415.00  6411.00  6415.00      177\n",
              "4  2018/1/1   18:07:00.0  6414.5  6415.50  6413.25  6413.50      111"
            ]
          },
          "execution_count": 7,
          "metadata": {},
          "output_type": "execute_result"
        }
      ],
      "source": [
        "df.head()"
      ]
    },
    {
      "cell_type": "code",
      "execution_count": null,
      "metadata": {
        "colab": {
          "base_uri": "https://localhost:8080/"
        },
        "id": "fWNLx4wZmNr8",
        "outputId": "e321b673-1813-4362-8c5e-3f0c0e85501a"
      },
      "outputs": [
        {
          "data": {
            "text/plain": [
              "Index(['Date', ' Time', ' Open', ' High', ' Low', ' Last', ' Volume'], dtype='object')"
            ]
          },
          "execution_count": 8,
          "metadata": {},
          "output_type": "execute_result"
        }
      ],
      "source": [
        "df.columns"
      ]
    },
    {
      "cell_type": "code",
      "execution_count": null,
      "metadata": {
        "id": "saefSOL1mPTX"
      },
      "outputs": [],
      "source": [
        "df1 = df.reset_index()[' Last']"
      ]
    },
    {
      "cell_type": "code",
      "execution_count": null,
      "metadata": {
        "colab": {
          "base_uri": "https://localhost:8080/"
        },
        "id": "KkYyD3NwmQ6K",
        "outputId": "1c1e8bd4-dc9c-450c-f56d-1352d63969b0"
      },
      "outputs": [
        {
          "data": {
            "text/plain": [
              "0          6407.75\n",
              "1          6411.25\n",
              "2          6411.50\n",
              "3          6415.00\n",
              "4          6413.50\n",
              "            ...   \n",
              "762717    13140.00\n",
              "762718    13133.50\n",
              "762719    13133.50\n",
              "762720    13135.00\n",
              "762721    13131.75\n",
              "Name:  Last, Length: 762722, dtype: float64"
            ]
          },
          "execution_count": 10,
          "metadata": {},
          "output_type": "execute_result"
        }
      ],
      "source": [
        "df1"
      ]
    },
    {
      "cell_type": "code",
      "execution_count": null,
      "metadata": {
        "colab": {
          "base_uri": "https://localhost:8080/"
        },
        "id": "UTNBvJUamSu0",
        "outputId": "fe6a9212-4e63-494e-867d-b2a734bf8f45"
      },
      "outputs": [
        {
          "data": {
            "text/plain": [
              "0    6407.75\n",
              "1    6411.25\n",
              "2    6411.50\n",
              "3    6415.00\n",
              "4    6413.50\n",
              "Name:  Last, dtype: float64"
            ]
          },
          "execution_count": 11,
          "metadata": {},
          "output_type": "execute_result"
        }
      ],
      "source": [
        "df1.head()"
      ]
    },
    {
      "cell_type": "code",
      "execution_count": null,
      "metadata": {
        "colab": {
          "base_uri": "https://localhost:8080/",
          "height": 282
        },
        "id": "LDmRbMhmmVYi",
        "outputId": "7cf1537b-33a8-4965-fac8-c8877ea36fb3"
      },
      "outputs": [
        {
          "data": {
            "text/plain": [
              "[<matplotlib.lines.Line2D at 0x7ff481439e50>]"
            ]
          },
          "execution_count": 12,
          "metadata": {},
          "output_type": "execute_result"
        },
        {
          "data": {
            "image/png": "[encoded data removed]",
            "text/plain": [
              "<Figure size 432x288 with 1 Axes>"
            ]
          },
          "metadata": {},
          "output_type": "display_data"
        }
      ],
      "source": [
        "import matplotlib.pyplot as plt\n",
        "plt.plot(df1)"
      ]
    },
    {
      "cell_type": "code",
      "execution_count": null,
      "metadata": {
        "id": "jiqlStUhmXeX"
      },
      "outputs": [],
      "source": [
        "import numpy as np\n",
        "from sklearn.preprocessing import MinMaxScaler\n",
        "\n",
        "scaler=MinMaxScaler(feature_range=(0,1))\n",
        "df1=scaler.fit_transform(np.array(df1).reshape(-1,1))\n"
      ]
    },
    {
      "cell_type": "code",
      "execution_count": null,
      "metadata": {
        "colab": {
          "base_uri": "https://localhost:8080/"
        },
        "id": "VKbwTs6HmZ_c",
        "outputId": "df28c823-9765-4d4f-fe83-a5f43197f8fe"
      },
      "outputs": [
        {
          "data": {
            "text/plain": [
              "array([[0.05217471],\n",
              "       [0.05249536],\n",
              "       [0.05251827],\n",
              "       ...,\n",
              "       [0.66835391],\n",
              "       [0.66849133],\n",
              "       [0.66819358]])"
            ]
          },
          "execution_count": 14,
          "metadata": {},
          "output_type": "execute_result"
        }
      ],
      "source": [
        "df1"
      ]
    },
    {
      "cell_type": "code",
      "execution_count": null,
      "metadata": {
        "id": "zpGG9wtNmbhF"
      },
      "outputs": [],
      "source": [
        "##splitting dataset into train and test split\n",
        "training_size=int(len(df1)*0.70)\n",
        "test_size=len(df1)-training_size\n",
        "train_data,test_data=df1[0:training_size,:],df1[training_size:len(df1),:1]"
      ]
    },
    {
      "cell_type": "code",
      "execution_count": null,
      "metadata": {
        "colab": {
          "base_uri": "https://localhost:8080/"
        },
        "id": "uEuJ-y3pmel7",
        "outputId": "2c0abd9c-f7c6-481d-a2f6-a7988c2f9985"
      },
      "outputs": [
        {
          "data": {
            "text/plain": [
              "(533905, 228817)"
            ]
          },
          "execution_count": 16,
          "metadata": {},
          "output_type": "execute_result"
        }
      ],
      "source": [
        "len(train_data),len(test_data)"
      ]
    },
    {
      "cell_type": "code",
      "execution_count": null,
      "metadata": {
        "colab": {
          "base_uri": "https://localhost:8080/"
        },
        "id": "rPN7ryIOucLy",
        "outputId": "20ced089-5aa4-4d13-e32f-02606c6e3a41"
      },
      "outputs": [
        {
          "data": {
            "text/plain": [
              "533905"
            ]
          },
          "execution_count": 17,
          "metadata": {},
          "output_type": "execute_result"
        }
      ],
      "source": [
        "training_size"
      ]
    },
    {
      "cell_type": "code",
      "execution_count": null,
      "metadata": {
        "id": "AirwaK83mgBj"
      },
      "outputs": [],
      "source": [
        "import numpy\n",
        "# convert an array of values into a dataset matrix\n",
        "def create_dataset(dataset, time_step):\n",
        "\tdataX, dataY = [], []\n",
        "\tfor i in range(len(dataset)-time_step-1):\n",
        "\t\ta = dataset[i:(i+time_step), 0]   ###i=0, 0,1,2,3-----99   100 \n",
        "\t\tdataX.append(a)\n",
        "\t\tdataY.append(dataset[i + time_step, 0])\n",
        "\treturn numpy.array(dataX), numpy.array(dataY)\n"
      ]
    },
    {
      "cell_type": "code",
      "execution_count": null,
      "metadata": {
        "id": "U1WByGWMmhol"
      },
      "outputs": [],
      "source": [
        "# reshape into X=t,t+1,t+2,t+3 and Y=t+4\n",
        "time_step = 100\n",
        "X_train, Y_train = create_dataset(train_data, time_step)\n",
        "X_test, Y_test = create_dataset(test_data, time_step)"
      ]
    },
    {
      "cell_type": "code",
      "execution_count": null,
      "metadata": {
        "colab": {
          "base_uri": "https://localhost:8080/"
        },
        "id": "Nfa-1htlmjNx",
        "outputId": "059a48f6-32d5-47e9-f224-c3793792a188"
      },
      "outputs": [
        {
          "data": {
            "text/plain": [
              "((533804, 100), (533804,))"
            ]
          },
          "execution_count": 20,
          "metadata": {},
          "output_type": "execute_result"
        }
      ],
      "source": [
        "X_train.shape , Y_train.shape"
      ]
    },
    {
      "cell_type": "code",
      "execution_count": null,
      "metadata": {
        "colab": {
          "base_uri": "https://localhost:8080/"
        },
        "id": "Doz2yw0smlGt",
        "outputId": "0d2e5153-7420-4926-89f1-8bd6eda497e8"
      },
      "outputs": [
        {
          "data": {
            "text/plain": [
              "((228716, 100), (228716,))"
            ]
          },
          "execution_count": 21,
          "metadata": {},
          "output_type": "execute_result"
        }
      ],
      "source": [
        "X_test.shape , Y_test.shape"
      ]
    },
    {
      "cell_type": "code",
      "execution_count": null,
      "metadata": {
        "id": "Mn9SP8ydmm0S"
      },
      "outputs": [],
      "source": [
        "#reshape input to be [samples, time steps, features] which is required for LSTM\n",
        "X_train =X_train.reshape(X_train.shape[0],X_train.shape[1] , 1)\n",
        "X_test = X_test.reshape(X_test.shape[0],X_test.shape[1] , 1)"
      ]
    },
    {
      "cell_type": "code",
      "execution_count": null,
      "metadata": {
        "colab": {
          "base_uri": "https://localhost:8080/"
        },
        "id": "USXOo16xmooU",
        "outputId": "48be6f35-e3e6-470d-826e-de972d7e3a4f"
      },
      "outputs": [
        {
          "data": {
            "text/plain": [
              "((533804, 100, 1), (533804,))"
            ]
          },
          "execution_count": 23,
          "metadata": {},
          "output_type": "execute_result"
        }
      ],
      "source": [
        "X_train.shape , Y_train.shape"
      ]
    },
    {
      "cell_type": "code",
      "execution_count": null,
      "metadata": {
        "colab": {
          "base_uri": "https://localhost:8080/"
        },
        "id": "Qfscqf3kmqQG",
        "outputId": "84cf1034-d501-4241-b943-b19966d5f78e"
      },
      "outputs": [
        {
          "data": {
            "text/plain": [
              "((228716, 100, 1), (228716,))"
            ]
          },
          "execution_count": 24,
          "metadata": {},
          "output_type": "execute_result"
        }
      ],
      "source": [
        "X_test.shape , Y_test.shape"
      ]
    },
    {
      "cell_type": "code",
      "execution_count": null,
      "metadata": {
        "id": "MpV9lcsmmsAI"
      },
      "outputs": [],
      "source": [
        "### Create the Stacked LSTM model\n",
        "from tensorflow.keras.models import Sequential\n",
        "from tensorflow.keras.layers import Dense\n",
        "from tensorflow.keras.layers import LSTM"
      ]
    },
    {
      "cell_type": "code",
      "execution_count": null,
      "metadata": {
        "id": "DFcSwOA5mt4_"
      },
      "outputs": [],
      "source": [
        "model=Sequential()\n",
        "model.add(LSTM(50,return_sequences=True,input_shape=(100,1)))\n",
        "model.add(LSTM(50,return_sequences=True))\n",
        "model.add(LSTM(50))\n",
        "model.add(Dense(1))\n",
        "model.compile(loss='mean_squared_error',optimizer='adam')"
      ]
    },
    {
      "cell_type": "code",
      "execution_count": null,
      "metadata": {
        "colab": {
          "base_uri": "https://localhost:8080/"
        },
        "id": "_fiC3LC3mvsn",
        "outputId": "99a15427-b056-4e72-d081-d6c7a5268286"
      },
      "outputs": [
        {
          "name": "stdout",
          "output_type": "stream",
          "text": [
            "Model: \"sequential\"\n",
            "_________________________________________________________________\n",
            " Layer (type)                Output Shape              Param #   \n",
            "=================================================================\n",
            " lstm (LSTM)                 (None, 100, 50)           10400     \n",
            "                                                                 \n",
            " lstm_1 (LSTM)               (None, 100, 50)           20200     \n",
            "                                                                 \n",
            " lstm_2 (LSTM)               (None, 50)                20200     \n",
            "                                                                 \n",
            " dense (Dense)               (None, 1)                 51        \n",
            "                                                                 \n",
            "=================================================================\n",
            "Total params: 50,851\n",
            "Trainable params: 50,851\n",
            "Non-trainable params: 0\n",
            "_________________________________________________________________\n"
          ]
        }
      ],
      "source": [
        "model.summary()"
      ]
    },
    {
      "cell_type": "code",
      "execution_count": null,
      "metadata": {
        "colab": {
          "base_uri": "https://localhost:8080/"
        },
        "id": "UE67UDINm28L",
        "outputId": "aabc1b13-58a5-49cd-f2fc-9c1c5888b18b"
      },
      "outputs": [
        {
          "name": "stdout",
          "output_type": "stream",
          "text": [
            "Epoch 1/10\n",
            "8341/8341 [==============================] - 144s 16ms/step - loss: 4.1837e-05 - val_loss: 1.8811e-05\n",
            "Epoch 2/10\n",
            "8341/8341 [==============================] - 132s 16ms/step - loss: 3.4810e-06 - val_loss: 5.6615e-06\n",
            "Epoch 3/10\n",
            "8341/8341 [==============================] - 132s 16ms/step - loss: 1.9414e-06 - val_loss: 6.9559e-06\n",
            "Epoch 4/10\n",
            "8341/8341 [==============================] - 131s 16ms/step - loss: 1.4183e-06 - val_loss: 1.2800e-05\n",
            "Epoch 5/10\n",
            "8341/8341 [==============================] - 131s 16ms/step - loss: 1.0599e-06 - val_loss: 1.0267e-05\n",
            "Epoch 6/10\n",
            "8341/8341 [==============================] - 131s 16ms/step - loss: 9.3852e-07 - val_loss: 2.5983e-06\n",
            "Epoch 7/10\n",
            "8341/8341 [==============================] - 132s 16ms/step - loss: 8.3658e-07 - val_loss: 2.4180e-06\n",
            "Epoch 8/10\n",
            "8341/8341 [==============================] - 132s 16ms/step - loss: 7.9915e-07 - val_loss: 4.3195e-06\n",
            "Epoch 9/10\n",
            "8341/8341 [==============================] - 132s 16ms/step - loss: 8.2894e-07 - val_loss: 1.9159e-05\n",
            "Epoch 10/10\n",
            "8341/8341 [==============================] - 137s 16ms/step - loss: 7.0278e-07 - val_loss: 1.1239e-05\n"
          ]
        },
        {
          "data": {
            "text/plain": [
              "<keras.callbacks.History at 0x7f3fea889ed0>"
            ]
          },
          "execution_count": 27,
          "metadata": {},
          "output_type": "execute_result"
        }
      ],
      "source": [
        "model.fit(X_train,Y_train,validation_data=(X_test,Y_test),epochs=10,batch_size=64,verbose=1)"
      ]
    },
    {
      "cell_type": "code",
      "execution_count": null,
      "metadata": {
        "id": "b-Tz4WBum6ZH"
      },
      "outputs": [],
      "source": [
        "model.save('stockModel.h5')"
      ]
    },
    {
      "cell_type": "code",
      "execution_count": null,
      "metadata": {
        "id": "N4_WZqb_r25a"
      },
      "outputs": [],
      "source": [
        "from keras.models import load_model\n",
        "\n",
        "model = load_model('stockModel.h5')"
      ]
    },
    {
      "cell_type": "code",
      "execution_count": null,
      "metadata": {
        "id": "4QgjOqDur72-"
      },
      "outputs": [],
      "source": [
        "import tensorflow as tf"
      ]
    },
    {
      "cell_type": "code",
      "execution_count": null,
      "metadata": {
        "colab": {
          "background_save": true
        },
        "id": "51vgIvX4r760"
      },
      "outputs": [],
      "source": [
        "### Lets Do the prediction and check performance metrics\n",
        "train_predict=model.predict(X_train)\n",
        "test_predict=model.predict(X_test)"
      ]
    },
    {
      "cell_type": "code",
      "execution_count": null,
      "metadata": {
        "colab": {
          "base_uri": "https://localhost:8080/"
        },
        "id": "7QDCmyOQr781",
        "outputId": "1755a5ba-5fe6-40ab-901f-bc97f92106cb"
      },
      "outputs": [
        {
          "name": "stdout",
          "output_type": "stream",
          "text": [
            "[[0.05383291]\n",
            " [0.05381002]\n",
            " [0.0537645 ]\n",
            " ...\n",
            " [0.639584  ]\n",
            " [0.639509  ]\n",
            " [0.6394616 ]]\n",
            "[[0.6397264 ]\n",
            " [0.63979757]\n",
            " [0.6396678 ]\n",
            " ...\n",
            " [0.6723471 ]\n",
            " [0.6718028 ]\n",
            " [0.6718789 ]]\n"
          ]
        }
      ],
      "source": [
        "print(train_predict)\n",
        "print(test_predict)"
      ]
    },
    {
      "cell_type": "code",
      "execution_count": null,
      "metadata": {
        "id": "nbo1Us9Gr8AB"
      },
      "outputs": [],
      "source": [
        "##Transformback to original form\n",
        "train_predict=scaler.inverse_transform(train_predict)\n",
        "test_predict=scaler.inverse_transform(test_predict)"
      ]
    },
    {
      "cell_type": "code",
      "execution_count": null,
      "metadata": {
        "colab": {
          "base_uri": "https://localhost:8080/"
        },
        "id": "FmuFs3wcr8Ci",
        "outputId": "26f06160-89e4-494a-ba37-e4d23af03f7b"
      },
      "outputs": [
        {
          "name": "stdout",
          "output_type": "stream",
          "text": [
            "[[ 6425.85 ]\n",
            " [ 6425.6  ]\n",
            " [ 6425.103]\n",
            " ...\n",
            " [12819.469]\n",
            " [12818.65 ]\n",
            " [12818.133]]\n",
            "[[12821.024 ]\n",
            " [12821.801 ]\n",
            " [12820.384 ]\n",
            " ...\n",
            " [13177.087 ]\n",
            " [13171.1455]\n",
            " [13171.976 ]]\n"
          ]
        }
      ],
      "source": [
        "print(train_predict)\n",
        "print(test_predict)"
      ]
    },
    {
      "cell_type": "code",
      "execution_count": null,
      "metadata": {
        "colab": {
          "base_uri": "https://localhost:8080/"
        },
        "id": "Q0CbhOGdr8FS",
        "outputId": "31a5687d-2540-4a0a-89dc-bc903ddd64a5"
      },
      "outputs": [
        {
          "data": {
            "text/plain": [
              "8566.973167922759"
            ]
          },
          "execution_count": 29,
          "metadata": {},
          "output_type": "execute_result"
        }
      ],
      "source": [
        "### Calculate RMSE performance metrics\n",
        "import math\n",
        "from sklearn.metrics import mean_squared_error\n",
        "math.sqrt(mean_squared_error(Y_train,train_predict))"
      ]
    },
    {
      "cell_type": "code",
      "execution_count": null,
      "metadata": {
        "colab": {
          "base_uri": "https://localhost:8080/"
        },
        "id": "C61I2wswsb-N",
        "outputId": "f567b485-1c0c-44cc-c308-aa9f56978ef5"
      },
      "outputs": [
        {
          "data": {
            "text/plain": [
              "14588.168259685359"
            ]
          },
          "execution_count": 30,
          "metadata": {},
          "output_type": "execute_result"
        }
      ],
      "source": [
        "### Test Data RMSE\n",
        "math.sqrt(mean_squared_error(Y_test,test_predict))"
      ]
    },
    {
      "cell_type": "code",
      "execution_count": null,
      "metadata": {
        "colab": {
          "base_uri": "https://localhost:8080/",
          "height": 265
        },
        "id": "na-iZmtcsktC",
        "outputId": "78d89c24-0010-4ce3-a107-1fda001a4271"
      },
      "outputs": [
        {
          "data": {
            "image/png": "[encoded data removed]",
            "text/plain": [
              "<Figure size 432x288 with 1 Axes>"
            ]
          },
          "metadata": {},
          "output_type": "display_data"
        }
      ],
      "source": [
        "### Plotting \n",
        "# shift train predictions for plotting\n",
        "look_back=100\n",
        "trainPredictPlot = numpy.empty_like(df1)\n",
        "trainPredictPlot[:, :] = np.nan\n",
        "trainPredictPlot[look_back:len(train_predict)+look_back, :] = train_predict\n",
        "# shift test predictions for plotting\n",
        "testPredictPlot = numpy.empty_like(df1)\n",
        "testPredictPlot[:, :] = numpy.nan\n",
        "testPredictPlot[len(train_predict)+(look_back*2)+1:len(df1)-1, :] = test_predict\n",
        "# plot baseline and predictions\n",
        "plt.plot(scaler.inverse_transform(df1))\n",
        "plt.plot(trainPredictPlot)\n",
        "plt.plot(testPredictPlot)\n",
        "plt.legend([\"ActualData\", \"TrainingPredicted\",\"TestingPredicted\"])\n",
        "plt.show()"
      ]
    },
    {
      "cell_type": "code",
      "execution_count": null,
      "metadata": {
        "colab": {
          "base_uri": "https://localhost:8080/",
          "height": 206
        },
        "id": "JykK_pgltC4P",
        "outputId": "03af5c54-014f-426a-8067-e33a5a8428c4"
      },
      "outputs": [
        {
          "data": {
            "text/html": [
              "\n",
              "  <div id=\"df-3060c653-fa13-4687-bb68-d28420e98389\">\n",
              "    <div class=\"colab-df-container\">\n",
              "      <div>\n",
              "<style scoped>\n",
              "    .dataframe tbody tr th:only-of-type {\n",
              "        vertical-align: middle;\n",
              "    }\n",
              "\n",
              "    .dataframe tbody tr th {\n",
              "        vertical-align: top;\n",
              "    }\n",
              "\n",
              "    .dataframe thead th {\n",
              "        text-align: right;\n",
              "    }\n",
              "</style>\n",
              "<table border=\"1\" class=\"dataframe\">\n",
              "  <thead>\n",
              "    <tr style=\"text-align: right;\">\n",
              "      <th></th>\n",
              "      <th>Date</th>\n",
              "      <th>Time</th>\n",
              "      <th>Open</th>\n",
              "      <th>High</th>\n",
              "      <th>Low</th>\n",
              "      <th>Last</th>\n",
              "      <th>Volume</th>\n",
              "    </tr>\n",
              "  </thead>\n",
              "  <tbody>\n",
              "    <tr>\n",
              "      <th>762717</th>\n",
              "      <td>2022/5/3</td>\n",
              "      <td>01:17:00.0</td>\n",
              "      <td>13140.75</td>\n",
              "      <td>13145.25</td>\n",
              "      <td>13137.0</td>\n",
              "      <td>13140.00</td>\n",
              "      <td>174</td>\n",
              "    </tr>\n",
              "    <tr>\n",
              "      <th>762718</th>\n",
              "      <td>2022/5/3</td>\n",
              "      <td>01:19:00.0</td>\n",
              "      <td>13140.50</td>\n",
              "      <td>13141.50</td>\n",
              "      <td>13132.5</td>\n",
              "      <td>13133.50</td>\n",
              "      <td>97</td>\n",
              "    </tr>\n",
              "    <tr>\n",
              "      <th>762719</th>\n",
              "      <td>2022/5/3</td>\n",
              "      <td>01:21:00.0</td>\n",
              "      <td>13133.50</td>\n",
              "      <td>13135.00</td>\n",
              "      <td>13130.5</td>\n",
              "      <td>13133.50</td>\n",
              "      <td>44</td>\n",
              "    </tr>\n",
              "    <tr>\n",
              "      <th>762720</th>\n",
              "      <td>2022/5/3</td>\n",
              "      <td>01:23:00.0</td>\n",
              "      <td>13133.00</td>\n",
              "      <td>13137.25</td>\n",
              "      <td>13130.5</td>\n",
              "      <td>13135.00</td>\n",
              "      <td>86</td>\n",
              "    </tr>\n",
              "    <tr>\n",
              "      <th>762721</th>\n",
              "      <td>2022/5/3</td>\n",
              "      <td>01:25:00.0</td>\n",
              "      <td>13135.50</td>\n",
              "      <td>13136.75</td>\n",
              "      <td>13126.5</td>\n",
              "      <td>13131.75</td>\n",
              "      <td>171</td>\n",
              "    </tr>\n",
              "  </tbody>\n",
              "</table>\n",
              "</div>\n",
              "      <button class=\"colab-df-convert\" onclick=\"convertToInteractive('df-3060c653-fa13-4687-bb68-d28420e98389')\"\n",
              "              title=\"Convert this dataframe to an interactive table.\"\n",
              "              style=\"display:none;\">\n",
              "        \n",
              "  <svg xmlns=\"http://www.w3.org/2000/svg\" height=\"24px\"viewBox=\"0 0 24 24\"\n",
              "       width=\"24px\">\n",
              "    <path d=\"M0 0h24v24H0V0z\" fill=\"none\"/>\n",
              "    <path d=\"M18.56 5.44l.94 2.06.94-2.06 2.06-.94-2.06-.94-.94-2.06-.94 2.06-2.06.94zm-11 1L8.5 8.5l.94-2.06 2.06-.94-2.06-.94L8.5 2.5l-.94 2.06-2.06.94zm10 10l.94 2.06.94-2.06 2.06-.94-2.06-.94-.94-2.06-.94 2.06-2.06.94z\"/><path d=\"M17.41 7.96l-1.37-1.37c-.4-.4-.92-.59-1.43-.59-.52 0-1.04.2-1.43.59L10.3 9.45l-7.72 7.72c-.78.78-.78 2.05 0 2.83L4 21.41c.39.39.9.59 1.41.59.51 0 1.02-.2 1.41-.59l7.78-7.78 2.81-2.81c.8-.78.8-2.07 0-2.86zM5.41 20L4 18.59l7.72-7.72 1.47 1.35L5.41 20z\"/>\n",
              "  </svg>\n",
              "      </button>\n",
              "      \n",
              "  <style>\n",
              "    .colab-df-container {\n",
              "      display:flex;\n",
              "      flex-wrap:wrap;\n",
              "      gap: 12px;\n",
              "    }\n",
              "\n",
              "    .colab-df-convert {\n",
              "      background-color: #E8F0FE;\n",
              "      border: none;\n",
              "      border-radius: 50%;\n",
              "      cursor: pointer;\n",
              "      display: none;\n",
              "      fill: #1967D2;\n",
              "      height: 32px;\n",
              "      padding: 0 0 0 0;\n",
              "      width: 32px;\n",
              "    }\n",
              "\n",
              "    .colab-df-convert:hover {\n",
              "      background-color: #E2EBFA;\n",
              "      box-shadow: 0px 1px 2px rgba(60, 64, 67, 0.3), 0px 1px 3px 1px rgba(60, 64, 67, 0.15);\n",
              "      fill: #174EA6;\n",
              "    }\n",
              "\n",
              "    [theme=dark] .colab-df-convert {\n",
              "      background-color: #3B4455;\n",
              "      fill: #D2E3FC;\n",
              "    }\n",
              "\n",
              "    [theme=dark] .colab-df-convert:hover {\n",
              "      background-color: #434B5C;\n",
              "      box-shadow: 0px 1px 3px 1px rgba(0, 0, 0, 0.15);\n",
              "      filter: drop-shadow(0px 1px 2px rgba(0, 0, 0, 0.3));\n",
              "      fill: #FFFFFF;\n",
              "    }\n",
              "  </style>\n",
              "\n",
              "      <script>\n",
              "        const buttonEl =\n",
              "          document.querySelector('#df-3060c653-fa13-4687-bb68-d28420e98389 button.colab-df-convert');\n",
              "        buttonEl.style.display =\n",
              "          google.colab.kernel.accessAllowed ? 'block' : 'none';\n",
              "\n",
              "        async function convertToInteractive(key) {\n",
              "          const element = document.querySelector('#df-3060c653-fa13-4687-bb68-d28420e98389');\n",
              "          const dataTable =\n",
              "            await google.colab.kernel.invokeFunction('convertToInteractive',\n",
              "                                                     [key], {});\n",
              "          if (!dataTable) return;\n",
              "\n",
              "          const docLinkHtml = 'Like what you see? Visit the ' +\n",
              "            '<a target=\"_blank\" href=https://colab.research.google.com/notebooks/data_table.ipynb>data table notebook</a>'\n",
              "            + ' to learn more about interactive tables.';\n",
              "          element.innerHTML = '';\n",
              "          dataTable['output_type'] = 'display_data';\n",
              "          await google.colab.output.renderOutput(dataTable, element);\n",
              "          const docLink = document.createElement('div');\n",
              "          docLink.innerHTML = docLinkHtml;\n",
              "          element.appendChild(docLink);\n",
              "        }\n",
              "      </script>\n",
              "    </div>\n",
              "  </div>\n",
              "  "
            ],
            "text/plain": [
              "            Date         Time      Open      High      Low      Last   Volume\n",
              "762717  2022/5/3   01:17:00.0  13140.75  13145.25  13137.0  13140.00      174\n",
              "762718  2022/5/3   01:19:00.0  13140.50  13141.50  13132.5  13133.50       97\n",
              "762719  2022/5/3   01:21:00.0  13133.50  13135.00  13130.5  13133.50       44\n",
              "762720  2022/5/3   01:23:00.0  13133.00  13137.25  13130.5  13135.00       86\n",
              "762721  2022/5/3   01:25:00.0  13135.50  13136.75  13126.5  13131.75      171"
            ]
          },
          "execution_count": 32,
          "metadata": {},
          "output_type": "execute_result"
        }
      ],
      "source": [
        "df.tail()"
      ]
    },
    {
      "cell_type": "code",
      "execution_count": null,
      "metadata": {
        "colab": {
          "base_uri": "https://localhost:8080/"
        },
        "id": "fXD9b29ZuAZl",
        "outputId": "8e4c4388-62c6-40ee-c52d-9cd8d1f8a088"
      },
      "outputs": [
        {
          "data": {
            "text/plain": [
              "228817"
            ]
          },
          "execution_count": 33,
          "metadata": {},
          "output_type": "execute_result"
        }
      ],
      "source": [
        "len(test_data)"
      ]
    },
    {
      "cell_type": "code",
      "execution_count": null,
      "metadata": {
        "colab": {
          "base_uri": "https://localhost:8080/"
        },
        "id": "MI49X_IhuSUi",
        "outputId": "e577ba89-3131-4a96-cc00-68f7169d0d9c"
      },
      "outputs": [
        {
          "data": {
            "text/plain": [
              "(1, 100)"
            ]
          },
          "execution_count": 34,
          "metadata": {},
          "output_type": "execute_result"
        }
      ],
      "source": [
        "x_input=test_data[228717:].reshape(1,-1)\n",
        "x_input.shape"
      ]
    },
    {
      "cell_type": "code",
      "execution_count": null,
      "metadata": {
        "id": "uwC5i8XRubOp"
      },
      "outputs": [],
      "source": [
        "temp_input=list(x_input)\n",
        "temp_input=temp_input[0].tolist()"
      ]
    },
    {
      "cell_type": "code",
      "execution_count": null,
      "metadata": {
        "colab": {
          "base_uri": "https://localhost:8080/"
        },
        "id": "ZeQwusBEudxt",
        "outputId": "cf87d997-280c-4172-df50-70c3459a24ef"
      },
      "outputs": [
        {
          "data": {
            "text/plain": [
              "[0.669270057946451,\n",
              " 0.669018116854859,\n",
              " 0.6691555392684547,\n",
              " 0.6692013467396531,\n",
              " 0.6697968438652344,\n",
              " 0.6697739401296352,\n",
              " 0.6698884588076315,\n",
              " 0.6699800737500285,\n",
              " 0.6697968438652344,\n",
              " 0.6698655550720323,\n",
              " 0.6699571700144293,\n",
              " 0.6694761915668446,\n",
              " 0.6692471542108518,\n",
              " 0.6690868280616569,\n",
              " 0.6694074803600467,\n",
              " 0.6690410205904582,\n",
              " 0.6692242504752526,\n",
              " 0.6696823251872379,\n",
              " 0.6701633036348229,\n",
              " 0.6703007260484184,\n",
              " 0.6710794530587938,\n",
              " 0.670758800760404,\n",
              " 0.6710336455875954,\n",
              " 0.6714459128283823,\n",
              " 0.6709878381163967,\n",
              " 0.6704152447264149,\n",
              " 0.6701403998992235,\n",
              " 0.6701403998992235,\n",
              " 0.6701403998992235,\n",
              " 0.67025491857722,\n",
              " 0.6704610521976133,\n",
              " 0.6699342662788301,\n",
              " 0.670346533519617,\n",
              " 0.670094592428025,\n",
              " 0.6703236297840178,\n",
              " 0.6697968438652344,\n",
              " 0.6694532878312451,\n",
              " 0.6700029774856278,\n",
              " 0.6694761915668446,\n",
              " 0.6687890794988662,\n",
              " 0.6690410205904582,\n",
              " 0.6689035981768625,\n",
              " 0.6690410205904582,\n",
              " 0.6682164861088844,\n",
              " 0.668926501912462,\n",
              " 0.6686287533496713,\n",
              " 0.668766175763267,\n",
              " 0.6682622935800828,\n",
              " 0.6681248711664871,\n",
              " 0.6683081010512815,\n",
              " 0.6686287533496713,\n",
              " 0.66803325622409,\n",
              " 0.6681248711664871,\n",
              " 0.667941641281693,\n",
              " 0.6677584113968988,\n",
              " 0.6673232404205125,\n",
              " 0.6678958338104946,\n",
              " 0.6680103524884908,\n",
              " 0.6670254918577219,\n",
              " 0.6675293740409061,\n",
              " 0.667781315132498,\n",
              " 0.6683310047868807,\n",
              " 0.6683768122580793,\n",
              " 0.6682851973156823,\n",
              " 0.6682622935800828,\n",
              " 0.6681248711664871,\n",
              " 0.6681706786376858,\n",
              " 0.6682622935800828,\n",
              " 0.6681477749020865,\n",
              " 0.6679187375460938,\n",
              " 0.6682393898444836,\n",
              " 0.6680790636952887,\n",
              " 0.6687432720276676,\n",
              " 0.6686974645564692,\n",
              " 0.6688348869700649,\n",
              " 0.6684455234648772,\n",
              " 0.6683768122580793,\n",
              " 0.6686058496140721,\n",
              " 0.6686974645564692,\n",
              " 0.6685829458784727,\n",
              " 0.6683539085224799,\n",
              " 0.6676667964545018,\n",
              " 0.6680561599596895,\n",
              " 0.66803325622409,\n",
              " 0.6674606628341082,\n",
              " 0.6674148553629096,\n",
              " 0.6669338769153248,\n",
              " 0.6667735507661299,\n",
              " 0.6666590320881336,\n",
              " 0.6670712993289205,\n",
              " 0.6673461441561119,\n",
              " 0.6674835665697074,\n",
              " 0.6675522777765053,\n",
              " 0.6682622935800828,\n",
              " 0.6690410205904582,\n",
              " 0.6689494056480612,\n",
              " 0.6683539085224799,\n",
              " 0.6683539085224799,\n",
              " 0.6684913309360756,\n",
              " 0.668193582373285]"
            ]
          },
          "execution_count": 36,
          "metadata": {},
          "output_type": "execute_result"
        }
      ],
      "source": [
        "temp_input\n"
      ]
    },
    {
      "cell_type": "code",
      "execution_count": null,
      "metadata": {
        "colab": {
          "base_uri": "https://localhost:8080/"
        },
        "id": "CsivNlgCufpV",
        "outputId": "14392973-39ad-4cb6-8983-fe4d05c22664"
      },
      "outputs": [
        {
          "name": "stdout",
          "output_type": "stream",
          "text": [
            "[0.6716852]\n",
            "101\n",
            "1 min input [0.66901812 0.66915554 0.66920135 0.66979684 0.66977394 0.66988846\n",
            " 0.66998007 0.66979684 0.66986556 0.66995717 0.66947619 0.66924715\n",
            " 0.66908683 0.66940748 0.66904102 0.66922425 0.66968233 0.6701633\n",
            " 0.67030073 0.67107945 0.6707588  0.67103365 0.67144591 0.67098784\n",
            " 0.67041524 0.6701404  0.6701404  0.6701404  0.67025492 0.67046105\n",
            " 0.66993427 0.67034653 0.67009459 0.67032363 0.66979684 0.66945329\n",
            " 0.67000298 0.66947619 0.66878908 0.66904102 0.6689036  0.66904102\n",
            " 0.66821649 0.6689265  0.66862875 0.66876618 0.66826229 0.66812487\n",
            " 0.6683081  0.66862875 0.66803326 0.66812487 0.66794164 0.66775841\n",
            " 0.66732324 0.66789583 0.66801035 0.66702549 0.66752937 0.66778132\n",
            " 0.668331   0.66837681 0.6682852  0.66826229 0.66812487 0.66817068\n",
            " 0.66826229 0.66814777 0.66791874 0.66823939 0.66807906 0.66874327\n",
            " 0.66869746 0.66883489 0.66844552 0.66837681 0.66860585 0.66869746\n",
            " 0.66858295 0.66835391 0.6676668  0.66805616 0.66803326 0.66746066\n",
            " 0.66741486 0.66693388 0.66677355 0.66665903 0.6670713  0.66734614\n",
            " 0.66748357 0.66755228 0.66826229 0.66904102 0.66894941 0.66835391\n",
            " 0.66835391 0.66849133 0.66819358 0.67168522]\n",
            "2 min input [0.66915554 0.66920135 0.66979684 0.66977394 0.66988846 0.66998007\n",
            " 0.66979684 0.66986556 0.66995717 0.66947619 0.66924715 0.66908683\n",
            " 0.66940748 0.66904102 0.66922425 0.66968233 0.6701633  0.67030073\n",
            " 0.67107945 0.6707588  0.67103365 0.67144591 0.67098784 0.67041524\n",
            " 0.6701404  0.6701404  0.6701404  0.67025492 0.67046105 0.66993427\n",
            " 0.67034653 0.67009459 0.67032363 0.66979684 0.66945329 0.67000298\n",
            " 0.66947619 0.66878908 0.66904102 0.6689036  0.66904102 0.66821649\n",
            " 0.6689265  0.66862875 0.66876618 0.66826229 0.66812487 0.6683081\n",
            " 0.66862875 0.66803326 0.66812487 0.66794164 0.66775841 0.66732324\n",
            " 0.66789583 0.66801035 0.66702549 0.66752937 0.66778132 0.668331\n",
            " 0.66837681 0.6682852  0.66826229 0.66812487 0.66817068 0.66826229\n",
            " 0.66814777 0.66791874 0.66823939 0.66807906 0.66874327 0.66869746\n",
            " 0.66883489 0.66844552 0.66837681 0.66860585 0.66869746 0.66858295\n",
            " 0.66835391 0.6676668  0.66805616 0.66803326 0.66746066 0.66741486\n",
            " 0.66693388 0.66677355 0.66665903 0.6670713  0.66734614 0.66748357\n",
            " 0.66755228 0.66826229 0.66904102 0.66894941 0.66835391 0.66835391\n",
            " 0.66849133 0.66819358 0.67168522 0.67530632]\n",
            "3 min input [0.66920135 0.66979684 0.66977394 0.66988846 0.66998007 0.66979684\n",
            " 0.66986556 0.66995717 0.66947619 0.66924715 0.66908683 0.66940748\n",
            " 0.66904102 0.66922425 0.66968233 0.6701633  0.67030073 0.67107945\n",
            " 0.6707588  0.67103365 0.67144591 0.67098784 0.67041524 0.6701404\n",
            " 0.6701404  0.6701404  0.67025492 0.67046105 0.66993427 0.67034653\n",
            " 0.67009459 0.67032363 0.66979684 0.66945329 0.67000298 0.66947619\n",
            " 0.66878908 0.66904102 0.6689036  0.66904102 0.66821649 0.6689265\n",
            " 0.66862875 0.66876618 0.66826229 0.66812487 0.6683081  0.66862875\n",
            " 0.66803326 0.66812487 0.66794164 0.66775841 0.66732324 0.66789583\n",
            " 0.66801035 0.66702549 0.66752937 0.66778132 0.668331   0.66837681\n",
            " 0.6682852  0.66826229 0.66812487 0.66817068 0.66826229 0.66814777\n",
            " 0.66791874 0.66823939 0.66807906 0.66874327 0.66869746 0.66883489\n",
            " 0.66844552 0.66837681 0.66860585 0.66869746 0.66858295 0.66835391\n",
            " 0.6676668  0.66805616 0.66803326 0.66746066 0.66741486 0.66693388\n",
            " 0.66677355 0.66665903 0.6670713  0.66734614 0.66748357 0.66755228\n",
            " 0.66826229 0.66904102 0.66894941 0.66835391 0.66835391 0.66849133\n",
            " 0.66819358 0.67168522 0.67530632 0.67851686]\n",
            "4 min input [0.66979684 0.66977394 0.66988846 0.66998007 0.66979684 0.66986556\n",
            " 0.66995717 0.66947619 0.66924715 0.66908683 0.66940748 0.66904102\n",
            " 0.66922425 0.66968233 0.6701633  0.67030073 0.67107945 0.6707588\n",
            " 0.67103365 0.67144591 0.67098784 0.67041524 0.6701404  0.6701404\n",
            " 0.6701404  0.67025492 0.67046105 0.66993427 0.67034653 0.67009459\n",
            " 0.67032363 0.66979684 0.66945329 0.67000298 0.66947619 0.66878908\n",
            " 0.66904102 0.6689036  0.66904102 0.66821649 0.6689265  0.66862875\n",
            " 0.66876618 0.66826229 0.66812487 0.6683081  0.66862875 0.66803326\n",
            " 0.66812487 0.66794164 0.66775841 0.66732324 0.66789583 0.66801035\n",
            " 0.66702549 0.66752937 0.66778132 0.668331   0.66837681 0.6682852\n",
            " 0.66826229 0.66812487 0.66817068 0.66826229 0.66814777 0.66791874\n",
            " 0.66823939 0.66807906 0.66874327 0.66869746 0.66883489 0.66844552\n",
            " 0.66837681 0.66860585 0.66869746 0.66858295 0.66835391 0.6676668\n",
            " 0.66805616 0.66803326 0.66746066 0.66741486 0.66693388 0.66677355\n",
            " 0.66665903 0.6670713  0.66734614 0.66748357 0.66755228 0.66826229\n",
            " 0.66904102 0.66894941 0.66835391 0.66835391 0.66849133 0.66819358\n",
            " 0.67168522 0.67530632 0.67851686 0.68157387]\n",
            "5 min input [0.66977394 0.66988846 0.66998007 0.66979684 0.66986556 0.66995717\n",
            " 0.66947619 0.66924715 0.66908683 0.66940748 0.66904102 0.66922425\n",
            " 0.66968233 0.6701633  0.67030073 0.67107945 0.6707588  0.67103365\n",
            " 0.67144591 0.67098784 0.67041524 0.6701404  0.6701404  0.6701404\n",
            " 0.67025492 0.67046105 0.66993427 0.67034653 0.67009459 0.67032363\n",
            " 0.66979684 0.66945329 0.67000298 0.66947619 0.66878908 0.66904102\n",
            " 0.6689036  0.66904102 0.66821649 0.6689265  0.66862875 0.66876618\n",
            " 0.66826229 0.66812487 0.6683081  0.66862875 0.66803326 0.66812487\n",
            " 0.66794164 0.66775841 0.66732324 0.66789583 0.66801035 0.66702549\n",
            " 0.66752937 0.66778132 0.668331   0.66837681 0.6682852  0.66826229\n",
            " 0.66812487 0.66817068 0.66826229 0.66814777 0.66791874 0.66823939\n",
            " 0.66807906 0.66874327 0.66869746 0.66883489 0.66844552 0.66837681\n",
            " 0.66860585 0.66869746 0.66858295 0.66835391 0.6676668  0.66805616\n",
            " 0.66803326 0.66746066 0.66741486 0.66693388 0.66677355 0.66665903\n",
            " 0.6670713  0.66734614 0.66748357 0.66755228 0.66826229 0.66904102\n",
            " 0.66894941 0.66835391 0.66835391 0.66849133 0.66819358 0.67168522\n",
            " 0.67530632 0.67851686 0.68157387 0.684484  ]\n",
            "6 min input [0.66988846 0.66998007 0.66979684 0.66986556 0.66995717 0.66947619\n",
            " 0.66924715 0.66908683 0.66940748 0.66904102 0.66922425 0.66968233\n",
            " 0.6701633  0.67030073 0.67107945 0.6707588  0.67103365 0.67144591\n",
            " 0.67098784 0.67041524 0.6701404  0.6701404  0.6701404  0.67025492\n",
            " 0.67046105 0.66993427 0.67034653 0.67009459 0.67032363 0.66979684\n",
            " 0.66945329 0.67000298 0.66947619 0.66878908 0.66904102 0.6689036\n",
            " 0.66904102 0.66821649 0.6689265  0.66862875 0.66876618 0.66826229\n",
            " 0.66812487 0.6683081  0.66862875 0.66803326 0.66812487 0.66794164\n",
            " 0.66775841 0.66732324 0.66789583 0.66801035 0.66702549 0.66752937\n",
            " 0.66778132 0.668331   0.66837681 0.6682852  0.66826229 0.66812487\n",
            " 0.66817068 0.66826229 0.66814777 0.66791874 0.66823939 0.66807906\n",
            " 0.66874327 0.66869746 0.66883489 0.66844552 0.66837681 0.66860585\n",
            " 0.66869746 0.66858295 0.66835391 0.6676668  0.66805616 0.66803326\n",
            " 0.66746066 0.66741486 0.66693388 0.66677355 0.66665903 0.6670713\n",
            " 0.66734614 0.66748357 0.66755228 0.66826229 0.66904102 0.66894941\n",
            " 0.66835391 0.66835391 0.66849133 0.66819358 0.67168522 0.67530632\n",
            " 0.67851686 0.68157387 0.684484   0.68728638]\n",
            "7 min input [0.66998007 0.66979684 0.66986556 0.66995717 0.66947619 0.66924715\n",
            " 0.66908683 0.66940748 0.66904102 0.66922425 0.66968233 0.6701633\n",
            " 0.67030073 0.67107945 0.6707588  0.67103365 0.67144591 0.67098784\n",
            " 0.67041524 0.6701404  0.6701404  0.6701404  0.67025492 0.67046105\n",
            " 0.66993427 0.67034653 0.67009459 0.67032363 0.66979684 0.66945329\n",
            " 0.67000298 0.66947619 0.66878908 0.66904102 0.6689036  0.66904102\n",
            " 0.66821649 0.6689265  0.66862875 0.66876618 0.66826229 0.66812487\n",
            " 0.6683081  0.66862875 0.66803326 0.66812487 0.66794164 0.66775841\n",
            " 0.66732324 0.66789583 0.66801035 0.66702549 0.66752937 0.66778132\n",
            " 0.668331   0.66837681 0.6682852  0.66826229 0.66812487 0.66817068\n",
            " 0.66826229 0.66814777 0.66791874 0.66823939 0.66807906 0.66874327\n",
            " 0.66869746 0.66883489 0.66844552 0.66837681 0.66860585 0.66869746\n",
            " 0.66858295 0.66835391 0.6676668  0.66805616 0.66803326 0.66746066\n",
            " 0.66741486 0.66693388 0.66677355 0.66665903 0.6670713  0.66734614\n",
            " 0.66748357 0.66755228 0.66826229 0.66904102 0.66894941 0.66835391\n",
            " 0.66835391 0.66849133 0.66819358 0.67168522 0.67530632 0.67851686\n",
            " 0.68157387 0.684484   0.68728638 0.69001424]\n",
            "8 min input [0.66979684 0.66986556 0.66995717 0.66947619 0.66924715 0.66908683\n",
            " 0.66940748 0.66904102 0.66922425 0.66968233 0.6701633  0.67030073\n",
            " 0.67107945 0.6707588  0.67103365 0.67144591 0.67098784 0.67041524\n",
            " 0.6701404  0.6701404  0.6701404  0.67025492 0.67046105 0.66993427\n",
            " 0.67034653 0.67009459 0.67032363 0.66979684 0.66945329 0.67000298\n",
            " 0.66947619 0.66878908 0.66904102 0.6689036  0.66904102 0.66821649\n",
            " 0.6689265  0.66862875 0.66876618 0.66826229 0.66812487 0.6683081\n",
            " 0.66862875 0.66803326 0.66812487 0.66794164 0.66775841 0.66732324\n",
            " 0.66789583 0.66801035 0.66702549 0.66752937 0.66778132 0.668331\n",
            " 0.66837681 0.6682852  0.66826229 0.66812487 0.66817068 0.66826229\n",
            " 0.66814777 0.66791874 0.66823939 0.66807906 0.66874327 0.66869746\n",
            " 0.66883489 0.66844552 0.66837681 0.66860585 0.66869746 0.66858295\n",
            " 0.66835391 0.6676668  0.66805616 0.66803326 0.66746066 0.66741486\n",
            " 0.66693388 0.66677355 0.66665903 0.6670713  0.66734614 0.66748357\n",
            " 0.66755228 0.66826229 0.66904102 0.66894941 0.66835391 0.66835391\n",
            " 0.66849133 0.66819358 0.67168522 0.67530632 0.67851686 0.68157387\n",
            " 0.684484   0.68728638 0.69001424 0.69268811]\n",
            "9 min input [0.66986556 0.66995717 0.66947619 0.66924715 0.66908683 0.66940748\n",
            " 0.66904102 0.66922425 0.66968233 0.6701633  0.67030073 0.67107945\n",
            " 0.6707588  0.67103365 0.67144591 0.67098784 0.67041524 0.6701404\n",
            " 0.6701404  0.6701404  0.67025492 0.67046105 0.66993427 0.67034653\n",
            " 0.67009459 0.67032363 0.66979684 0.66945329 0.67000298 0.66947619\n",
            " 0.66878908 0.66904102 0.6689036  0.66904102 0.66821649 0.6689265\n",
            " 0.66862875 0.66876618 0.66826229 0.66812487 0.6683081  0.66862875\n",
            " 0.66803326 0.66812487 0.66794164 0.66775841 0.66732324 0.66789583\n",
            " 0.66801035 0.66702549 0.66752937 0.66778132 0.668331   0.66837681\n",
            " 0.6682852  0.66826229 0.66812487 0.66817068 0.66826229 0.66814777\n",
            " 0.66791874 0.66823939 0.66807906 0.66874327 0.66869746 0.66883489\n",
            " 0.66844552 0.66837681 0.66860585 0.66869746 0.66858295 0.66835391\n",
            " 0.6676668  0.66805616 0.66803326 0.66746066 0.66741486 0.66693388\n",
            " 0.66677355 0.66665903 0.6670713  0.66734614 0.66748357 0.66755228\n",
            " 0.66826229 0.66904102 0.66894941 0.66835391 0.66835391 0.66849133\n",
            " 0.66819358 0.67168522 0.67530632 0.67851686 0.68157387 0.684484\n",
            " 0.68728638 0.69001424 0.69268811 0.69531745]\n",
            "10 min input [0.66995717 0.66947619 0.66924715 0.66908683 0.66940748 0.66904102\n",
            " 0.66922425 0.66968233 0.6701633  0.67030073 0.67107945 0.6707588\n",
            " 0.67103365 0.67144591 0.67098784 0.67041524 0.6701404  0.6701404\n",
            " 0.6701404  0.67025492 0.67046105 0.66993427 0.67034653 0.67009459\n",
            " 0.67032363 0.66979684 0.66945329 0.67000298 0.66947619 0.66878908\n",
            " 0.66904102 0.6689036  0.66904102 0.66821649 0.6689265  0.66862875\n",
            " 0.66876618 0.66826229 0.66812487 0.6683081  0.66862875 0.66803326\n",
            " 0.66812487 0.66794164 0.66775841 0.66732324 0.66789583 0.66801035\n",
            " 0.66702549 0.66752937 0.66778132 0.668331   0.66837681 0.6682852\n",
            " 0.66826229 0.66812487 0.66817068 0.66826229 0.66814777 0.66791874\n",
            " 0.66823939 0.66807906 0.66874327 0.66869746 0.66883489 0.66844552\n",
            " 0.66837681 0.66860585 0.66869746 0.66858295 0.66835391 0.6676668\n",
            " 0.66805616 0.66803326 0.66746066 0.66741486 0.66693388 0.66677355\n",
            " 0.66665903 0.6670713  0.66734614 0.66748357 0.66755228 0.66826229\n",
            " 0.66904102 0.66894941 0.66835391 0.66835391 0.66849133 0.66819358\n",
            " 0.67168522 0.67530632 0.67851686 0.68157387 0.684484   0.68728638\n",
            " 0.69001424 0.69268811 0.69531745 0.69790512]\n",
            "11 min input [0.66947619 0.66924715 0.66908683 0.66940748 0.66904102 0.66922425\n",
            " 0.66968233 0.6701633  0.67030073 0.67107945 0.6707588  0.67103365\n",
            " 0.67144591 0.67098784 0.67041524 0.6701404  0.6701404  0.6701404\n",
            " 0.67025492 0.67046105 0.66993427 0.67034653 0.67009459 0.67032363\n",
            " 0.66979684 0.66945329 0.67000298 0.66947619 0.66878908 0.66904102\n",
            " 0.6689036  0.66904102 0.66821649 0.6689265  0.66862875 0.66876618\n",
            " 0.66826229 0.66812487 0.6683081  0.66862875 0.66803326 0.66812487\n",
            " 0.66794164 0.66775841 0.66732324 0.66789583 0.66801035 0.66702549\n",
            " 0.66752937 0.66778132 0.668331   0.66837681 0.6682852  0.66826229\n",
            " 0.66812487 0.66817068 0.66826229 0.66814777 0.66791874 0.66823939\n",
            " 0.66807906 0.66874327 0.66869746 0.66883489 0.66844552 0.66837681\n",
            " 0.66860585 0.66869746 0.66858295 0.66835391 0.6676668  0.66805616\n",
            " 0.66803326 0.66746066 0.66741486 0.66693388 0.66677355 0.66665903\n",
            " 0.6670713  0.66734614 0.66748357 0.66755228 0.66826229 0.66904102\n",
            " 0.66894941 0.66835391 0.66835391 0.66849133 0.66819358 0.67168522\n",
            " 0.67530632 0.67851686 0.68157387 0.684484   0.68728638 0.69001424\n",
            " 0.69268811 0.69531745 0.69790512 0.70045054]\n",
            "12 min input [0.66924715 0.66908683 0.66940748 0.66904102 0.66922425 0.66968233\n",
            " 0.6701633  0.67030073 0.67107945 0.6707588  0.67103365 0.67144591\n",
            " 0.67098784 0.67041524 0.6701404  0.6701404  0.6701404  0.67025492\n",
            " 0.67046105 0.66993427 0.67034653 0.67009459 0.67032363 0.66979684\n",
            " 0.66945329 0.67000298 0.66947619 0.66878908 0.66904102 0.6689036\n",
            " 0.66904102 0.66821649 0.6689265  0.66862875 0.66876618 0.66826229\n",
            " 0.66812487 0.6683081  0.66862875 0.66803326 0.66812487 0.66794164\n",
            " 0.66775841 0.66732324 0.66789583 0.66801035 0.66702549 0.66752937\n",
            " 0.66778132 0.668331   0.66837681 0.6682852  0.66826229 0.66812487\n",
            " 0.66817068 0.66826229 0.66814777 0.66791874 0.66823939 0.66807906\n",
            " 0.66874327 0.66869746 0.66883489 0.66844552 0.66837681 0.66860585\n",
            " 0.66869746 0.66858295 0.66835391 0.6676668  0.66805616 0.66803326\n",
            " 0.66746066 0.66741486 0.66693388 0.66677355 0.66665903 0.6670713\n",
            " 0.66734614 0.66748357 0.66755228 0.66826229 0.66904102 0.66894941\n",
            " 0.66835391 0.66835391 0.66849133 0.66819358 0.67168522 0.67530632\n",
            " 0.67851686 0.68157387 0.684484   0.68728638 0.69001424 0.69268811\n",
            " 0.69531745 0.69790512 0.70045054 0.70295203]\n",
            "13 min input [0.66908683 0.66940748 0.66904102 0.66922425 0.66968233 0.6701633\n",
            " 0.67030073 0.67107945 0.6707588  0.67103365 0.67144591 0.67098784\n",
            " 0.67041524 0.6701404  0.6701404  0.6701404  0.67025492 0.67046105\n",
            " 0.66993427 0.67034653 0.67009459 0.67032363 0.66979684 0.66945329\n",
            " 0.67000298 0.66947619 0.66878908 0.66904102 0.6689036  0.66904102\n",
            " 0.66821649 0.6689265  0.66862875 0.66876618 0.66826229 0.66812487\n",
            " 0.6683081  0.66862875 0.66803326 0.66812487 0.66794164 0.66775841\n",
            " 0.66732324 0.66789583 0.66801035 0.66702549 0.66752937 0.66778132\n",
            " 0.668331   0.66837681 0.6682852  0.66826229 0.66812487 0.66817068\n",
            " 0.66826229 0.66814777 0.66791874 0.66823939 0.66807906 0.66874327\n",
            " 0.66869746 0.66883489 0.66844552 0.66837681 0.66860585 0.66869746\n",
            " 0.66858295 0.66835391 0.6676668  0.66805616 0.66803326 0.66746066\n",
            " 0.66741486 0.66693388 0.66677355 0.66665903 0.6670713  0.66734614\n",
            " 0.66748357 0.66755228 0.66826229 0.66904102 0.66894941 0.66835391\n",
            " 0.66835391 0.66849133 0.66819358 0.67168522 0.67530632 0.67851686\n",
            " 0.68157387 0.684484   0.68728638 0.69001424 0.69268811 0.69531745\n",
            " 0.69790512 0.70045054 0.70295203 0.70540911]\n",
            "14 min input [0.66940748 0.66904102 0.66922425 0.66968233 0.6701633  0.67030073\n",
            " 0.67107945 0.6707588  0.67103365 0.67144591 0.67098784 0.67041524\n",
            " 0.6701404  0.6701404  0.6701404  0.67025492 0.67046105 0.66993427\n",
            " 0.67034653 0.67009459 0.67032363 0.66979684 0.66945329 0.67000298\n",
            " 0.66947619 0.66878908 0.66904102 0.6689036  0.66904102 0.66821649\n",
            " 0.6689265  0.66862875 0.66876618 0.66826229 0.66812487 0.6683081\n",
            " 0.66862875 0.66803326 0.66812487 0.66794164 0.66775841 0.66732324\n",
            " 0.66789583 0.66801035 0.66702549 0.66752937 0.66778132 0.668331\n",
            " 0.66837681 0.6682852  0.66826229 0.66812487 0.66817068 0.66826229\n",
            " 0.66814777 0.66791874 0.66823939 0.66807906 0.66874327 0.66869746\n",
            " 0.66883489 0.66844552 0.66837681 0.66860585 0.66869746 0.66858295\n",
            " 0.66835391 0.6676668  0.66805616 0.66803326 0.66746066 0.66741486\n",
            " 0.66693388 0.66677355 0.66665903 0.6670713  0.66734614 0.66748357\n",
            " 0.66755228 0.66826229 0.66904102 0.66894941 0.66835391 0.66835391\n",
            " 0.66849133 0.66819358 0.67168522 0.67530632 0.67851686 0.68157387\n",
            " 0.684484   0.68728638 0.69001424 0.69268811 0.69531745 0.69790512\n",
            " 0.70045054 0.70295203 0.70540911 0.70782202]\n",
            "15 min input [0.66904102 0.66922425 0.66968233 0.6701633  0.67030073 0.67107945\n",
            " 0.6707588  0.67103365 0.67144591 0.67098784 0.67041524 0.6701404\n",
            " 0.6701404  0.6701404  0.67025492 0.67046105 0.66993427 0.67034653\n",
            " 0.67009459 0.67032363 0.66979684 0.66945329 0.67000298 0.66947619\n",
            " 0.66878908 0.66904102 0.6689036  0.66904102 0.66821649 0.6689265\n",
            " 0.66862875 0.66876618 0.66826229 0.66812487 0.6683081  0.66862875\n",
            " 0.66803326 0.66812487 0.66794164 0.66775841 0.66732324 0.66789583\n",
            " 0.66801035 0.66702549 0.66752937 0.66778132 0.668331   0.66837681\n",
            " 0.6682852  0.66826229 0.66812487 0.66817068 0.66826229 0.66814777\n",
            " 0.66791874 0.66823939 0.66807906 0.66874327 0.66869746 0.66883489\n",
            " 0.66844552 0.66837681 0.66860585 0.66869746 0.66858295 0.66835391\n",
            " 0.6676668  0.66805616 0.66803326 0.66746066 0.66741486 0.66693388\n",
            " 0.66677355 0.66665903 0.6670713  0.66734614 0.66748357 0.66755228\n",
            " 0.66826229 0.66904102 0.66894941 0.66835391 0.66835391 0.66849133\n",
            " 0.66819358 0.67168522 0.67530632 0.67851686 0.68157387 0.684484\n",
            " 0.68728638 0.69001424 0.69268811 0.69531745 0.69790512 0.70045054\n",
            " 0.70295203 0.70540911 0.70782202 0.7101922 ]\n",
            "16 min input [0.66922425 0.66968233 0.6701633  0.67030073 0.67107945 0.6707588\n",
            " 0.67103365 0.67144591 0.67098784 0.67041524 0.6701404  0.6701404\n",
            " 0.6701404  0.67025492 0.67046105 0.66993427 0.67034653 0.67009459\n",
            " 0.67032363 0.66979684 0.66945329 0.67000298 0.66947619 0.66878908\n",
            " 0.66904102 0.6689036  0.66904102 0.66821649 0.6689265  0.66862875\n",
            " 0.66876618 0.66826229 0.66812487 0.6683081  0.66862875 0.66803326\n",
            " 0.66812487 0.66794164 0.66775841 0.66732324 0.66789583 0.66801035\n",
            " 0.66702549 0.66752937 0.66778132 0.668331   0.66837681 0.6682852\n",
            " 0.66826229 0.66812487 0.66817068 0.66826229 0.66814777 0.66791874\n",
            " 0.66823939 0.66807906 0.66874327 0.66869746 0.66883489 0.66844552\n",
            " 0.66837681 0.66860585 0.66869746 0.66858295 0.66835391 0.6676668\n",
            " 0.66805616 0.66803326 0.66746066 0.66741486 0.66693388 0.66677355\n",
            " 0.66665903 0.6670713  0.66734614 0.66748357 0.66755228 0.66826229\n",
            " 0.66904102 0.66894941 0.66835391 0.66835391 0.66849133 0.66819358\n",
            " 0.67168522 0.67530632 0.67851686 0.68157387 0.684484   0.68728638\n",
            " 0.69001424 0.69268811 0.69531745 0.69790512 0.70045054 0.70295203\n",
            " 0.70540911 0.70782202 0.7101922  0.71252215]\n",
            "17 min input [0.66968233 0.6701633  0.67030073 0.67107945 0.6707588  0.67103365\n",
            " 0.67144591 0.67098784 0.67041524 0.6701404  0.6701404  0.6701404\n",
            " 0.67025492 0.67046105 0.66993427 0.67034653 0.67009459 0.67032363\n",
            " 0.66979684 0.66945329 0.67000298 0.66947619 0.66878908 0.66904102\n",
            " 0.6689036  0.66904102 0.66821649 0.6689265  0.66862875 0.66876618\n",
            " 0.66826229 0.66812487 0.6683081  0.66862875 0.66803326 0.66812487\n",
            " 0.66794164 0.66775841 0.66732324 0.66789583 0.66801035 0.66702549\n",
            " 0.66752937 0.66778132 0.668331   0.66837681 0.6682852  0.66826229\n",
            " 0.66812487 0.66817068 0.66826229 0.66814777 0.66791874 0.66823939\n",
            " 0.66807906 0.66874327 0.66869746 0.66883489 0.66844552 0.66837681\n",
            " 0.66860585 0.66869746 0.66858295 0.66835391 0.6676668  0.66805616\n",
            " 0.66803326 0.66746066 0.66741486 0.66693388 0.66677355 0.66665903\n",
            " 0.6670713  0.66734614 0.66748357 0.66755228 0.66826229 0.66904102\n",
            " 0.66894941 0.66835391 0.66835391 0.66849133 0.66819358 0.67168522\n",
            " 0.67530632 0.67851686 0.68157387 0.684484   0.68728638 0.69001424\n",
            " 0.69268811 0.69531745 0.69790512 0.70045054 0.70295203 0.70540911\n",
            " 0.70782202 0.7101922  0.71252215 0.71481478]\n",
            "18 min input [0.6701633  0.67030073 0.67107945 0.6707588  0.67103365 0.67144591\n",
            " 0.67098784 0.67041524 0.6701404  0.6701404  0.6701404  0.67025492\n",
            " 0.67046105 0.66993427 0.67034653 0.67009459 0.67032363 0.66979684\n",
            " 0.66945329 0.67000298 0.66947619 0.66878908 0.66904102 0.6689036\n",
            " 0.66904102 0.66821649 0.6689265  0.66862875 0.66876618 0.66826229\n",
            " 0.66812487 0.6683081  0.66862875 0.66803326 0.66812487 0.66794164\n",
            " 0.66775841 0.66732324 0.66789583 0.66801035 0.66702549 0.66752937\n",
            " 0.66778132 0.668331   0.66837681 0.6682852  0.66826229 0.66812487\n",
            " 0.66817068 0.66826229 0.66814777 0.66791874 0.66823939 0.66807906\n",
            " 0.66874327 0.66869746 0.66883489 0.66844552 0.66837681 0.66860585\n",
            " 0.66869746 0.66858295 0.66835391 0.6676668  0.66805616 0.66803326\n",
            " 0.66746066 0.66741486 0.66693388 0.66677355 0.66665903 0.6670713\n",
            " 0.66734614 0.66748357 0.66755228 0.66826229 0.66904102 0.66894941\n",
            " 0.66835391 0.66835391 0.66849133 0.66819358 0.67168522 0.67530632\n",
            " 0.67851686 0.68157387 0.684484   0.68728638 0.69001424 0.69268811\n",
            " 0.69531745 0.69790512 0.70045054 0.70295203 0.70540911 0.70782202\n",
            " 0.7101922  0.71252215 0.71481478 0.71707332]\n",
            "19 min input [0.67030073 0.67107945 0.6707588  0.67103365 0.67144591 0.67098784\n",
            " 0.67041524 0.6701404  0.6701404  0.6701404  0.67025492 0.67046105\n",
            " 0.66993427 0.67034653 0.67009459 0.67032363 0.66979684 0.66945329\n",
            " 0.67000298 0.66947619 0.66878908 0.66904102 0.6689036  0.66904102\n",
            " 0.66821649 0.6689265  0.66862875 0.66876618 0.66826229 0.66812487\n",
            " 0.6683081  0.66862875 0.66803326 0.66812487 0.66794164 0.66775841\n",
            " 0.66732324 0.66789583 0.66801035 0.66702549 0.66752937 0.66778132\n",
            " 0.668331   0.66837681 0.6682852  0.66826229 0.66812487 0.66817068\n",
            " 0.66826229 0.66814777 0.66791874 0.66823939 0.66807906 0.66874327\n",
            " 0.66869746 0.66883489 0.66844552 0.66837681 0.66860585 0.66869746\n",
            " 0.66858295 0.66835391 0.6676668  0.66805616 0.66803326 0.66746066\n",
            " 0.66741486 0.66693388 0.66677355 0.66665903 0.6670713  0.66734614\n",
            " 0.66748357 0.66755228 0.66826229 0.66904102 0.66894941 0.66835391\n",
            " 0.66835391 0.66849133 0.66819358 0.67168522 0.67530632 0.67851686\n",
            " 0.68157387 0.684484   0.68728638 0.69001424 0.69268811 0.69531745\n",
            " 0.69790512 0.70045054 0.70295203 0.70540911 0.70782202 0.7101922\n",
            " 0.71252215 0.71481478 0.71707332 0.7193014 ]\n",
            "20 min input [0.67107945 0.6707588  0.67103365 0.67144591 0.67098784 0.67041524\n",
            " 0.6701404  0.6701404  0.6701404  0.67025492 0.67046105 0.66993427\n",
            " 0.67034653 0.67009459 0.67032363 0.66979684 0.66945329 0.67000298\n",
            " 0.66947619 0.66878908 0.66904102 0.6689036  0.66904102 0.66821649\n",
            " 0.6689265  0.66862875 0.66876618 0.66826229 0.66812487 0.6683081\n",
            " 0.66862875 0.66803326 0.66812487 0.66794164 0.66775841 0.66732324\n",
            " 0.66789583 0.66801035 0.66702549 0.66752937 0.66778132 0.668331\n",
            " 0.66837681 0.6682852  0.66826229 0.66812487 0.66817068 0.66826229\n",
            " 0.66814777 0.66791874 0.66823939 0.66807906 0.66874327 0.66869746\n",
            " 0.66883489 0.66844552 0.66837681 0.66860585 0.66869746 0.66858295\n",
            " 0.66835391 0.6676668  0.66805616 0.66803326 0.66746066 0.66741486\n",
            " 0.66693388 0.66677355 0.66665903 0.6670713  0.66734614 0.66748357\n",
            " 0.66755228 0.66826229 0.66904102 0.66894941 0.66835391 0.66835391\n",
            " 0.66849133 0.66819358 0.67168522 0.67530632 0.67851686 0.68157387\n",
            " 0.684484   0.68728638 0.69001424 0.69268811 0.69531745 0.69790512\n",
            " 0.70045054 0.70295203 0.70540911 0.70782202 0.7101922  0.71252215\n",
            " 0.71481478 0.71707332 0.7193014  0.72150242]\n",
            "21 min input [0.6707588  0.67103365 0.67144591 0.67098784 0.67041524 0.6701404\n",
            " 0.6701404  0.6701404  0.67025492 0.67046105 0.66993427 0.67034653\n",
            " 0.67009459 0.67032363 0.66979684 0.66945329 0.67000298 0.66947619\n",
            " 0.66878908 0.66904102 0.6689036  0.66904102 0.66821649 0.6689265\n",
            " 0.66862875 0.66876618 0.66826229 0.66812487 0.6683081  0.66862875\n",
            " 0.66803326 0.66812487 0.66794164 0.66775841 0.66732324 0.66789583\n",
            " 0.66801035 0.66702549 0.66752937 0.66778132 0.668331   0.66837681\n",
            " 0.6682852  0.66826229 0.66812487 0.66817068 0.66826229 0.66814777\n",
            " 0.66791874 0.66823939 0.66807906 0.66874327 0.66869746 0.66883489\n",
            " 0.66844552 0.66837681 0.66860585 0.66869746 0.66858295 0.66835391\n",
            " 0.6676668  0.66805616 0.66803326 0.66746066 0.66741486 0.66693388\n",
            " 0.66677355 0.66665903 0.6670713  0.66734614 0.66748357 0.66755228\n",
            " 0.66826229 0.66904102 0.66894941 0.66835391 0.66835391 0.66849133\n",
            " 0.66819358 0.67168522 0.67530632 0.67851686 0.68157387 0.684484\n",
            " 0.68728638 0.69001424 0.69268811 0.69531745 0.69790512 0.70045054\n",
            " 0.70295203 0.70540911 0.70782202 0.7101922  0.71252215 0.71481478\n",
            " 0.71707332 0.7193014  0.72150242 0.7236799 ]\n",
            "22 min input [0.67103365 0.67144591 0.67098784 0.67041524 0.6701404  0.6701404\n",
            " 0.6701404  0.67025492 0.67046105 0.66993427 0.67034653 0.67009459\n",
            " 0.67032363 0.66979684 0.66945329 0.67000298 0.66947619 0.66878908\n",
            " 0.66904102 0.6689036  0.66904102 0.66821649 0.6689265  0.66862875\n",
            " 0.66876618 0.66826229 0.66812487 0.6683081  0.66862875 0.66803326\n",
            " 0.66812487 0.66794164 0.66775841 0.66732324 0.66789583 0.66801035\n",
            " 0.66702549 0.66752937 0.66778132 0.668331   0.66837681 0.6682852\n",
            " 0.66826229 0.66812487 0.66817068 0.66826229 0.66814777 0.66791874\n",
            " 0.66823939 0.66807906 0.66874327 0.66869746 0.66883489 0.66844552\n",
            " 0.66837681 0.66860585 0.66869746 0.66858295 0.66835391 0.6676668\n",
            " 0.66805616 0.66803326 0.66746066 0.66741486 0.66693388 0.66677355\n",
            " 0.66665903 0.6670713  0.66734614 0.66748357 0.66755228 0.66826229\n",
            " 0.66904102 0.66894941 0.66835391 0.66835391 0.66849133 0.66819358\n",
            " 0.67168522 0.67530632 0.67851686 0.68157387 0.684484   0.68728638\n",
            " 0.69001424 0.69268811 0.69531745 0.69790512 0.70045054 0.70295203\n",
            " 0.70540911 0.70782202 0.7101922  0.71252215 0.71481478 0.71707332\n",
            " 0.7193014  0.72150242 0.7236799  0.72583699]\n",
            "23 min input [0.67144591 0.67098784 0.67041524 0.6701404  0.6701404  0.6701404\n",
            " 0.67025492 0.67046105 0.66993427 0.67034653 0.67009459 0.67032363\n",
            " 0.66979684 0.66945329 0.67000298 0.66947619 0.66878908 0.66904102\n",
            " 0.6689036  0.66904102 0.66821649 0.6689265  0.66862875 0.66876618\n",
            " 0.66826229 0.66812487 0.6683081  0.66862875 0.66803326 0.66812487\n",
            " 0.66794164 0.66775841 0.66732324 0.66789583 0.66801035 0.66702549\n",
            " 0.66752937 0.66778132 0.668331   0.66837681 0.6682852  0.66826229\n",
            " 0.66812487 0.66817068 0.66826229 0.66814777 0.66791874 0.66823939\n",
            " 0.66807906 0.66874327 0.66869746 0.66883489 0.66844552 0.66837681\n",
            " 0.66860585 0.66869746 0.66858295 0.66835391 0.6676668  0.66805616\n",
            " 0.66803326 0.66746066 0.66741486 0.66693388 0.66677355 0.66665903\n",
            " 0.6670713  0.66734614 0.66748357 0.66755228 0.66826229 0.66904102\n",
            " 0.66894941 0.66835391 0.66835391 0.66849133 0.66819358 0.67168522\n",
            " 0.67530632 0.67851686 0.68157387 0.684484   0.68728638 0.69001424\n",
            " 0.69268811 0.69531745 0.69790512 0.70045054 0.70295203 0.70540911\n",
            " 0.70782202 0.7101922  0.71252215 0.71481478 0.71707332 0.7193014\n",
            " 0.72150242 0.7236799  0.72583699 0.72797662]\n",
            "24 min input [0.67098784 0.67041524 0.6701404  0.6701404  0.6701404  0.67025492\n",
            " 0.67046105 0.66993427 0.67034653 0.67009459 0.67032363 0.66979684\n",
            " 0.66945329 0.67000298 0.66947619 0.66878908 0.66904102 0.6689036\n",
            " 0.66904102 0.66821649 0.6689265  0.66862875 0.66876618 0.66826229\n",
            " 0.66812487 0.6683081  0.66862875 0.66803326 0.66812487 0.66794164\n",
            " 0.66775841 0.66732324 0.66789583 0.66801035 0.66702549 0.66752937\n",
            " 0.66778132 0.668331   0.66837681 0.6682852  0.66826229 0.66812487\n",
            " 0.66817068 0.66826229 0.66814777 0.66791874 0.66823939 0.66807906\n",
            " 0.66874327 0.66869746 0.66883489 0.66844552 0.66837681 0.66860585\n",
            " 0.66869746 0.66858295 0.66835391 0.6676668  0.66805616 0.66803326\n",
            " 0.66746066 0.66741486 0.66693388 0.66677355 0.66665903 0.6670713\n",
            " 0.66734614 0.66748357 0.66755228 0.66826229 0.66904102 0.66894941\n",
            " 0.66835391 0.66835391 0.66849133 0.66819358 0.67168522 0.67530632\n",
            " 0.67851686 0.68157387 0.684484   0.68728638 0.69001424 0.69268811\n",
            " 0.69531745 0.69790512 0.70045054 0.70295203 0.70540911 0.70782202\n",
            " 0.7101922  0.71252215 0.71481478 0.71707332 0.7193014  0.72150242\n",
            " 0.7236799  0.72583699 0.72797662 0.73010159]\n",
            "25 min input [0.67041524 0.6701404  0.6701404  0.6701404  0.67025492 0.67046105\n",
            " 0.66993427 0.67034653 0.67009459 0.67032363 0.66979684 0.66945329\n",
            " 0.67000298 0.66947619 0.66878908 0.66904102 0.6689036  0.66904102\n",
            " 0.66821649 0.6689265  0.66862875 0.66876618 0.66826229 0.66812487\n",
            " 0.6683081  0.66862875 0.66803326 0.66812487 0.66794164 0.66775841\n",
            " 0.66732324 0.66789583 0.66801035 0.66702549 0.66752937 0.66778132\n",
            " 0.668331   0.66837681 0.6682852  0.66826229 0.66812487 0.66817068\n",
            " 0.66826229 0.66814777 0.66791874 0.66823939 0.66807906 0.66874327\n",
            " 0.66869746 0.66883489 0.66844552 0.66837681 0.66860585 0.66869746\n",
            " 0.66858295 0.66835391 0.6676668  0.66805616 0.66803326 0.66746066\n",
            " 0.66741486 0.66693388 0.66677355 0.66665903 0.6670713  0.66734614\n",
            " 0.66748357 0.66755228 0.66826229 0.66904102 0.66894941 0.66835391\n",
            " 0.66835391 0.66849133 0.66819358 0.67168522 0.67530632 0.67851686\n",
            " 0.68157387 0.684484   0.68728638 0.69001424 0.69268811 0.69531745\n",
            " 0.69790512 0.70045054 0.70295203 0.70540911 0.70782202 0.7101922\n",
            " 0.71252215 0.71481478 0.71707332 0.7193014  0.72150242 0.7236799\n",
            " 0.72583699 0.72797662 0.73010159 0.73221451]\n",
            "26 min input [0.6701404  0.6701404  0.6701404  0.67025492 0.67046105 0.66993427\n",
            " 0.67034653 0.67009459 0.67032363 0.66979684 0.66945329 0.67000298\n",
            " 0.66947619 0.66878908 0.66904102 0.6689036  0.66904102 0.66821649\n",
            " 0.6689265  0.66862875 0.66876618 0.66826229 0.66812487 0.6683081\n",
            " 0.66862875 0.66803326 0.66812487 0.66794164 0.66775841 0.66732324\n",
            " 0.66789583 0.66801035 0.66702549 0.66752937 0.66778132 0.668331\n",
            " 0.66837681 0.6682852  0.66826229 0.66812487 0.66817068 0.66826229\n",
            " 0.66814777 0.66791874 0.66823939 0.66807906 0.66874327 0.66869746\n",
            " 0.66883489 0.66844552 0.66837681 0.66860585 0.66869746 0.66858295\n",
            " 0.66835391 0.6676668  0.66805616 0.66803326 0.66746066 0.66741486\n",
            " 0.66693388 0.66677355 0.66665903 0.6670713  0.66734614 0.66748357\n",
            " 0.66755228 0.66826229 0.66904102 0.66894941 0.66835391 0.66835391\n",
            " 0.66849133 0.66819358 0.67168522 0.67530632 0.67851686 0.68157387\n",
            " 0.684484   0.68728638 0.69001424 0.69268811 0.69531745 0.69790512\n",
            " 0.70045054 0.70295203 0.70540911 0.70782202 0.7101922  0.71252215\n",
            " 0.71481478 0.71707332 0.7193014  0.72150242 0.7236799  0.72583699\n",
            " 0.72797662 0.73010159 0.73221451 0.73431742]\n",
            "27 min input [0.6701404  0.6701404  0.67025492 0.67046105 0.66993427 0.67034653\n",
            " 0.67009459 0.67032363 0.66979684 0.66945329 0.67000298 0.66947619\n",
            " 0.66878908 0.66904102 0.6689036  0.66904102 0.66821649 0.6689265\n",
            " 0.66862875 0.66876618 0.66826229 0.66812487 0.6683081  0.66862875\n",
            " 0.66803326 0.66812487 0.66794164 0.66775841 0.66732324 0.66789583\n",
            " 0.66801035 0.66702549 0.66752937 0.66778132 0.668331   0.66837681\n",
            " 0.6682852  0.66826229 0.66812487 0.66817068 0.66826229 0.66814777\n",
            " 0.66791874 0.66823939 0.66807906 0.66874327 0.66869746 0.66883489\n",
            " 0.66844552 0.66837681 0.66860585 0.66869746 0.66858295 0.66835391\n",
            " 0.6676668  0.66805616 0.66803326 0.66746066 0.66741486 0.66693388\n",
            " 0.66677355 0.66665903 0.6670713  0.66734614 0.66748357 0.66755228\n",
            " 0.66826229 0.66904102 0.66894941 0.66835391 0.66835391 0.66849133\n",
            " 0.66819358 0.67168522 0.67530632 0.67851686 0.68157387 0.684484\n",
            " 0.68728638 0.69001424 0.69268811 0.69531745 0.69790512 0.70045054\n",
            " 0.70295203 0.70540911 0.70782202 0.7101922  0.71252215 0.71481478\n",
            " 0.71707332 0.7193014  0.72150242 0.7236799  0.72583699 0.72797662\n",
            " 0.73010159 0.73221451 0.73431742 0.73641241]\n",
            "28 min input [0.6701404  0.67025492 0.67046105 0.66993427 0.67034653 0.67009459\n",
            " 0.67032363 0.66979684 0.66945329 0.67000298 0.66947619 0.66878908\n",
            " 0.66904102 0.6689036  0.66904102 0.66821649 0.6689265  0.66862875\n",
            " 0.66876618 0.66826229 0.66812487 0.6683081  0.66862875 0.66803326\n",
            " 0.66812487 0.66794164 0.66775841 0.66732324 0.66789583 0.66801035\n",
            " 0.66702549 0.66752937 0.66778132 0.668331   0.66837681 0.6682852\n",
            " 0.66826229 0.66812487 0.66817068 0.66826229 0.66814777 0.66791874\n",
            " 0.66823939 0.66807906 0.66874327 0.66869746 0.66883489 0.66844552\n",
            " 0.66837681 0.66860585 0.66869746 0.66858295 0.66835391 0.6676668\n",
            " 0.66805616 0.66803326 0.66746066 0.66741486 0.66693388 0.66677355\n",
            " 0.66665903 0.6670713  0.66734614 0.66748357 0.66755228 0.66826229\n",
            " 0.66904102 0.66894941 0.66835391 0.66835391 0.66849133 0.66819358\n",
            " 0.67168522 0.67530632 0.67851686 0.68157387 0.684484   0.68728638\n",
            " 0.69001424 0.69268811 0.69531745 0.69790512 0.70045054 0.70295203\n",
            " 0.70540911 0.70782202 0.7101922  0.71252215 0.71481478 0.71707332\n",
            " 0.7193014  0.72150242 0.7236799  0.72583699 0.72797662 0.73010159\n",
            " 0.73221451 0.73431742 0.73641241 0.73850119]\n",
            "29 min input [0.67025492 0.67046105 0.66993427 0.67034653 0.67009459 0.67032363\n",
            " 0.66979684 0.66945329 0.67000298 0.66947619 0.66878908 0.66904102\n",
            " 0.6689036  0.66904102 0.66821649 0.6689265  0.66862875 0.66876618\n",
            " 0.66826229 0.66812487 0.6683081  0.66862875 0.66803326 0.66812487\n",
            " 0.66794164 0.66775841 0.66732324 0.66789583 0.66801035 0.66702549\n",
            " 0.66752937 0.66778132 0.668331   0.66837681 0.6682852  0.66826229\n",
            " 0.66812487 0.66817068 0.66826229 0.66814777 0.66791874 0.66823939\n",
            " 0.66807906 0.66874327 0.66869746 0.66883489 0.66844552 0.66837681\n",
            " 0.66860585 0.66869746 0.66858295 0.66835391 0.6676668  0.66805616\n",
            " 0.66803326 0.66746066 0.66741486 0.66693388 0.66677355 0.66665903\n",
            " 0.6670713  0.66734614 0.66748357 0.66755228 0.66826229 0.66904102\n",
            " 0.66894941 0.66835391 0.66835391 0.66849133 0.66819358 0.67168522\n",
            " 0.67530632 0.67851686 0.68157387 0.684484   0.68728638 0.69001424\n",
            " 0.69268811 0.69531745 0.69790512 0.70045054 0.70295203 0.70540911\n",
            " 0.70782202 0.7101922  0.71252215 0.71481478 0.71707332 0.7193014\n",
            " 0.72150242 0.7236799  0.72583699 0.72797662 0.73010159 0.73221451\n",
            " 0.73431742 0.73641241 0.73850119 0.74058521]\n",
            "[[0.6716852188110352], [0.6753063201904297], [0.6785168647766113], [0.6815738677978516], [0.6844840049743652], [0.687286376953125], [0.6900142431259155], [0.6926881074905396], [0.6953174471855164], [0.6979051232337952], [0.7004505395889282], [0.7029520273208618], [0.7054091095924377], [0.7078220248222351], [0.7101922035217285], [0.7125221490859985], [0.7148147821426392], [0.7170733213424683], [0.7193014025688171], [0.721502423286438], [0.7236799001693726], [0.725836992263794], [0.7279766201972961], [0.7301015853881836], [0.7322145104408264], [0.734317421913147], [0.7364124059677124], [0.7385011911392212], [0.740585207939148], [0.7426656484603882]]\n"
          ]
        }
      ],
      "source": [
        "# demonstrate prediction for next 1 hour\n",
        "from numpy import array\n",
        "\n",
        "lst_output=[]\n",
        "n_steps=100\n",
        "i=0\n",
        "while(i<30):\n",
        "    \n",
        "    if(len(temp_input)>100):\n",
        "        #print(temp_input)\n",
        "        x_input=np.array(temp_input[1:])\n",
        "        print(\"{} min input {}\".format(i,x_input))\n",
        "        x_input=x_input.reshape(1,-1)\n",
        "        x_input = x_input.reshape((1, n_steps, 1))\n",
        "        #print(x_input)\n",
        "        yhat = model.predict(x_input, verbose=0)\n",
        "        #print(\"{} day output {}\".format(i,yhat))\n",
        "        temp_input.extend(yhat[0].tolist())\n",
        "        temp_input=temp_input[1:]\n",
        "        #print(temp_input)\n",
        "        lst_output.extend(yhat.tolist())\n",
        "        i=i+1\n",
        "    else:\n",
        "        x_input = x_input.reshape((1, n_steps,1))\n",
        "        yhat = model.predict(x_input, verbose=0)\n",
        "        print(yhat[0])\n",
        "        temp_input.extend(yhat[0].tolist())\n",
        "        print(len(temp_input))\n",
        "        lst_output.extend(yhat.tolist())\n",
        "        i=i+1\n",
        "    \n",
        "\n",
        "print(lst_output)"
      ]
    },
    {
      "cell_type": "code",
      "execution_count": null,
      "metadata": {
        "id": "8uOZ0hyivxGJ"
      },
      "outputs": [],
      "source": [
        "output = scaler.inverse_transform(lst_output)"
      ]
    },
    {
      "cell_type": "code",
      "execution_count": null,
      "metadata": {
        "colab": {
          "base_uri": "https://localhost:8080/"
        },
        "id": "XnNXtv55yP_Q",
        "outputId": "88551841-cd56-48e8-e951-d01318ccc779"
      },
      "outputs": [
        {
          "data": {
            "text/plain": [
              "array([[13169.86208463],\n",
              "       [13209.38731146],\n",
              "       [13244.43120825],\n",
              "       [13277.79916048],\n",
              "       [13309.5640353 ],\n",
              "       [13340.15262604],\n",
              "       [13369.92796728],\n",
              "       [13399.11386529],\n",
              "       [13427.81376539],\n",
              "       [13456.05889638],\n",
              "       [13483.84275225],\n",
              "       [13511.14711621],\n",
              "       [13537.96678348],\n",
              "       [13564.30435644],\n",
              "       [13590.17544949],\n",
              "       [13615.60738781],\n",
              "       [13640.63205078],\n",
              "       [13665.28457078],\n",
              "       [13689.60463439],\n",
              "       [13713.62932578],\n",
              "       [13737.39703032],\n",
              "       [13760.94222981],\n",
              "       [13784.29680361],\n",
              "       [13807.49132991],\n",
              "       [13830.55443509],\n",
              "       [13853.50823954],\n",
              "       [13876.37551424],\n",
              "       [13899.17512658],\n",
              "       [13921.92269096],\n",
              "       [13944.63121936]])"
            ]
          },
          "execution_count": 39,
          "metadata": {},
          "output_type": "execute_result"
        }
      ],
      "source": [
        "output"
      ]
    },
    {
      "cell_type": "code",
      "execution_count": null,
      "metadata": {
        "colab": {
          "base_uri": "https://localhost:8080/",
          "height": 206
        },
        "id": "fDwVM8Kiybqb",
        "outputId": "07dda1c8-b1fc-4a59-a297-e8c7745c589c"
      },
      "outputs": [
        {
          "data": {
            "text/html": [
              "\n",
              "  <div id=\"df-b02ede5f-3f2c-4232-97fc-b7df30495e4a\">\n",
              "    <div class=\"colab-df-container\">\n",
              "      <div>\n",
              "<style scoped>\n",
              "    .dataframe tbody tr th:only-of-type {\n",
              "        vertical-align: middle;\n",
              "    }\n",
              "\n",
              "    .dataframe tbody tr th {\n",
              "        vertical-align: top;\n",
              "    }\n",
              "\n",
              "    .dataframe thead th {\n",
              "        text-align: right;\n",
              "    }\n",
              "</style>\n",
              "<table border=\"1\" class=\"dataframe\">\n",
              "  <thead>\n",
              "    <tr style=\"text-align: right;\">\n",
              "      <th></th>\n",
              "      <th>Date</th>\n",
              "      <th>Time</th>\n",
              "      <th>Open</th>\n",
              "      <th>High</th>\n",
              "      <th>Low</th>\n",
              "      <th>Last</th>\n",
              "      <th>Volume</th>\n",
              "    </tr>\n",
              "  </thead>\n",
              "  <tbody>\n",
              "    <tr>\n",
              "      <th>762717</th>\n",
              "      <td>2022/5/3</td>\n",
              "      <td>01:17:00.0</td>\n",
              "      <td>13140.75</td>\n",
              "      <td>13145.25</td>\n",
              "      <td>13137.0</td>\n",
              "      <td>13140.00</td>\n",
              "      <td>174</td>\n",
              "    </tr>\n",
              "    <tr>\n",
              "      <th>762718</th>\n",
              "      <td>2022/5/3</td>\n",
              "      <td>01:19:00.0</td>\n",
              "      <td>13140.50</td>\n",
              "      <td>13141.50</td>\n",
              "      <td>13132.5</td>\n",
              "      <td>13133.50</td>\n",
              "      <td>97</td>\n",
              "    </tr>\n",
              "    <tr>\n",
              "      <th>762719</th>\n",
              "      <td>2022/5/3</td>\n",
              "      <td>01:21:00.0</td>\n",
              "      <td>13133.50</td>\n",
              "      <td>13135.00</td>\n",
              "      <td>13130.5</td>\n",
              "      <td>13133.50</td>\n",
              "      <td>44</td>\n",
              "    </tr>\n",
              "    <tr>\n",
              "      <th>762720</th>\n",
              "      <td>2022/5/3</td>\n",
              "      <td>01:23:00.0</td>\n",
              "      <td>13133.00</td>\n",
              "      <td>13137.25</td>\n",
              "      <td>13130.5</td>\n",
              "      <td>13135.00</td>\n",
              "      <td>86</td>\n",
              "    </tr>\n",
              "    <tr>\n",
              "      <th>762721</th>\n",
              "      <td>2022/5/3</td>\n",
              "      <td>01:25:00.0</td>\n",
              "      <td>13135.50</td>\n",
              "      <td>13136.75</td>\n",
              "      <td>13126.5</td>\n",
              "      <td>13131.75</td>\n",
              "      <td>171</td>\n",
              "    </tr>\n",
              "  </tbody>\n",
              "</table>\n",
              "</div>\n",
              "      <button class=\"colab-df-convert\" onclick=\"convertToInteractive('df-b02ede5f-3f2c-4232-97fc-b7df30495e4a')\"\n",
              "              title=\"Convert this dataframe to an interactive table.\"\n",
              "              style=\"display:none;\">\n",
              "        \n",
              "  <svg xmlns=\"http://www.w3.org/2000/svg\" height=\"24px\"viewBox=\"0 0 24 24\"\n",
              "       width=\"24px\">\n",
              "    <path d=\"M0 0h24v24H0V0z\" fill=\"none\"/>\n",
              "    <path d=\"M18.56 5.44l.94 2.06.94-2.06 2.06-.94-2.06-.94-.94-2.06-.94 2.06-2.06.94zm-11 1L8.5 8.5l.94-2.06 2.06-.94-2.06-.94L8.5 2.5l-.94 2.06-2.06.94zm10 10l.94 2.06.94-2.06 2.06-.94-2.06-.94-.94-2.06-.94 2.06-2.06.94z\"/><path d=\"M17.41 7.96l-1.37-1.37c-.4-.4-.92-.59-1.43-.59-.52 0-1.04.2-1.43.59L10.3 9.45l-7.72 7.72c-.78.78-.78 2.05 0 2.83L4 21.41c.39.39.9.59 1.41.59.51 0 1.02-.2 1.41-.59l7.78-7.78 2.81-2.81c.8-.78.8-2.07 0-2.86zM5.41 20L4 18.59l7.72-7.72 1.47 1.35L5.41 20z\"/>\n",
              "  </svg>\n",
              "      </button>\n",
              "      \n",
              "  <style>\n",
              "    .colab-df-container {\n",
              "      display:flex;\n",
              "      flex-wrap:wrap;\n",
              "      gap: 12px;\n",
              "    }\n",
              "\n",
              "    .colab-df-convert {\n",
              "      background-color: #E8F0FE;\n",
              "      border: none;\n",
              "      border-radius: 50%;\n",
              "      cursor: pointer;\n",
              "      display: none;\n",
              "      fill: #1967D2;\n",
              "      height: 32px;\n",
              "      padding: 0 0 0 0;\n",
              "      width: 32px;\n",
              "    }\n",
              "\n",
              "    .colab-df-convert:hover {\n",
              "      background-color: #E2EBFA;\n",
              "      box-shadow: 0px 1px 2px rgba(60, 64, 67, 0.3), 0px 1px 3px 1px rgba(60, 64, 67, 0.15);\n",
              "      fill: #174EA6;\n",
              "    }\n",
              "\n",
              "    [theme=dark] .colab-df-convert {\n",
              "      background-color: #3B4455;\n",
              "      fill: #D2E3FC;\n",
              "    }\n",
              "\n",
              "    [theme=dark] .colab-df-convert:hover {\n",
              "      background-color: #434B5C;\n",
              "      box-shadow: 0px 1px 3px 1px rgba(0, 0, 0, 0.15);\n",
              "      filter: drop-shadow(0px 1px 2px rgba(0, 0, 0, 0.3));\n",
              "      fill: #FFFFFF;\n",
              "    }\n",
              "  </style>\n",
              "\n",
              "      <script>\n",
              "        const buttonEl =\n",
              "          document.querySelector('#df-b02ede5f-3f2c-4232-97fc-b7df30495e4a button.colab-df-convert');\n",
              "        buttonEl.style.display =\n",
              "          google.colab.kernel.accessAllowed ? 'block' : 'none';\n",
              "\n",
              "        async function convertToInteractive(key) {\n",
              "          const element = document.querySelector('#df-b02ede5f-3f2c-4232-97fc-b7df30495e4a');\n",
              "          const dataTable =\n",
              "            await google.colab.kernel.invokeFunction('convertToInteractive',\n",
              "                                                     [key], {});\n",
              "          if (!dataTable) return;\n",
              "\n",
              "          const docLinkHtml = 'Like what you see? Visit the ' +\n",
              "            '<a target=\"_blank\" href=https://colab.research.google.com/notebooks/data_table.ipynb>data table notebook</a>'\n",
              "            + ' to learn more about interactive tables.';\n",
              "          element.innerHTML = '';\n",
              "          dataTable['output_type'] = 'display_data';\n",
              "          await google.colab.output.renderOutput(dataTable, element);\n",
              "          const docLink = document.createElement('div');\n",
              "          docLink.innerHTML = docLinkHtml;\n",
              "          element.appendChild(docLink);\n",
              "        }\n",
              "      </script>\n",
              "    </div>\n",
              "  </div>\n",
              "  "
            ],
            "text/plain": [
              "            Date         Time      Open      High      Low      Last   Volume\n",
              "762717  2022/5/3   01:17:00.0  13140.75  13145.25  13137.0  13140.00      174\n",
              "762718  2022/5/3   01:19:00.0  13140.50  13141.50  13132.5  13133.50       97\n",
              "762719  2022/5/3   01:21:00.0  13133.50  13135.00  13130.5  13133.50       44\n",
              "762720  2022/5/3   01:23:00.0  13133.00  13137.25  13130.5  13135.00       86\n",
              "762721  2022/5/3   01:25:00.0  13135.50  13136.75  13126.5  13131.75      171"
            ]
          },
          "execution_count": 40,
          "metadata": {},
          "output_type": "execute_result"
        }
      ],
      "source": [
        "df.tail()"
      ]
    },
    {
      "cell_type": "code",
      "execution_count": null,
      "metadata": {
        "id": "stwlAi5U7qNX"
      },
      "outputs": [],
      "source": [
        "d = \"2022/5/3\"\n",
        "t = \"01:25:00.0\"\n",
        "a = d.split(\"/\")"
      ]
    },
    {
      "cell_type": "code",
      "execution_count": null,
      "metadata": {
        "colab": {
          "base_uri": "https://localhost:8080/",
          "height": 35
        },
        "id": "d8F4RYPV8DqF",
        "outputId": "b8353587-5c86-4f91-b858-660e08670dd0"
      },
      "outputs": [
        {
          "data": {
            "application/vnd.google.colaboratory.intrinsic+json": {
              "type": "string"
            },
            "text/plain": [
              "'2022'"
            ]
          },
          "execution_count": 119,
          "metadata": {},
          "output_type": "execute_result"
        }
      ],
      "source": [
        "a[0]"
      ]
    },
    {
      "cell_type": "code",
      "execution_count": null,
      "metadata": {
        "id": "MxaD8A278aha"
      },
      "outputs": [],
      "source": [
        "listdates=[\"2022/5/3\"]\n",
        "listtimes=[\"01:25:00.0\"]"
      ]
    },
    {
      "cell_type": "code",
      "execution_count": null,
      "metadata": {
        "colab": {
          "base_uri": "https://localhost:8080/"
        },
        "id": "JnnkUJTa1gAs",
        "outputId": "0112e94a-2abe-45ba-af92-1dea3f99c7c6"
      },
      "outputs": [
        {
          "data": {
            "text/plain": [
              "Index(['Date', ' Time', ' Open', ' High', ' Low', ' Last', ' Volume'], dtype='object')"
            ]
          },
          "execution_count": 42,
          "metadata": {},
          "output_type": "execute_result"
        }
      ],
      "source": [
        "df.columns"
      ]
    },
    {
      "cell_type": "code",
      "execution_count": null,
      "metadata": {
        "id": "1XpqhFST6Ni-"
      },
      "outputs": [],
      "source": [
        "from datetime import datetime\n",
        "from datetime import timedelta\n",
        "\n",
        "for i in range(0,30):\n",
        "  d = listdates[-1]\n",
        "  t = listtimes[-1]\n",
        "  a = d.split(\"/\")\n",
        "\n",
        "  time_str = a[2]+\"/\"+a[1]+\"/\"+a[0]+ \" \" + t\n",
        "  date_format_str = '%d/%m/%Y %H:%M:%S.%f'\n",
        "  given_time = datetime.strptime(time_str, date_format_str)\n",
        "  n = 2\n",
        "  final_time = given_time + timedelta(minutes=n)\n",
        "  final_time_str = final_time.strftime('%d/%m/%Y %H:%M:%S.%f')\n",
        "  keep = final_time_str.split(\" \")\n",
        "  main = keep[0].split(\"/\")\n",
        "  final = \"\".join(main[2]+\"/\"+main[1]+\"/\"+main[0])\n",
        "  listdates.append(final)\n",
        "  listtimes.append(keep[1])"
      ]
    },
    {
      "cell_type": "code",
      "execution_count": null,
      "metadata": {
        "colab": {
          "base_uri": "https://localhost:8080/",
          "height": 36
        },
        "id": "7jDpn9iu9hgt",
        "outputId": "a7248b6f-0461-4fe0-93de-025018ba9e28"
      },
      "outputs": [
        {
          "data": {
            "application/vnd.google.colaboratory.intrinsic+json": {
              "type": "string"
            },
            "text/plain": [
              "'01:25:00.0'"
            ]
          },
          "execution_count": 44,
          "metadata": {},
          "output_type": "execute_result"
        }
      ],
      "source": [
        "listtimes.pop(0)"
      ]
    },
    {
      "cell_type": "code",
      "execution_count": null,
      "metadata": {
        "colab": {
          "base_uri": "https://localhost:8080/",
          "height": 36
        },
        "id": "Abb6m2WJ9kPc",
        "outputId": "d9dae353-13a9-480f-f35c-71003c70677b"
      },
      "outputs": [
        {
          "data": {
            "application/vnd.google.colaboratory.intrinsic+json": {
              "type": "string"
            },
            "text/plain": [
              "'2022/5/3'"
            ]
          },
          "execution_count": 45,
          "metadata": {},
          "output_type": "execute_result"
        }
      ],
      "source": [
        "listdates.pop(0)"
      ]
    },
    {
      "cell_type": "code",
      "execution_count": null,
      "metadata": {
        "colab": {
          "base_uri": "https://localhost:8080/"
        },
        "id": "Mx0nqux29nDa",
        "outputId": "03c99077-1c95-404a-fe79-9d93ae863a19"
      },
      "outputs": [
        {
          "data": {
            "text/plain": [
              "['01:27:00.000000',\n",
              " '01:29:00.000000',\n",
              " '01:31:00.000000',\n",
              " '01:33:00.000000',\n",
              " '01:35:00.000000',\n",
              " '01:37:00.000000',\n",
              " '01:39:00.000000',\n",
              " '01:41:00.000000',\n",
              " '01:43:00.000000',\n",
              " '01:45:00.000000',\n",
              " '01:47:00.000000',\n",
              " '01:49:00.000000',\n",
              " '01:51:00.000000',\n",
              " '01:53:00.000000',\n",
              " '01:55:00.000000',\n",
              " '01:57:00.000000',\n",
              " '01:59:00.000000',\n",
              " '02:01:00.000000',\n",
              " '02:03:00.000000',\n",
              " '02:05:00.000000',\n",
              " '02:07:00.000000',\n",
              " '02:09:00.000000',\n",
              " '02:11:00.000000',\n",
              " '02:13:00.000000',\n",
              " '02:15:00.000000',\n",
              " '02:17:00.000000',\n",
              " '02:19:00.000000',\n",
              " '02:21:00.000000',\n",
              " '02:23:00.000000',\n",
              " '02:25:00.000000']"
            ]
          },
          "execution_count": 46,
          "metadata": {},
          "output_type": "execute_result"
        }
      ],
      "source": [
        "listtimes"
      ]
    },
    {
      "cell_type": "code",
      "execution_count": null,
      "metadata": {
        "colab": {
          "base_uri": "https://localhost:8080/"
        },
        "id": "-5kZgxfl99BX",
        "outputId": "6b13a687-c916-423e-b3be-4053af16caac"
      },
      "outputs": [
        {
          "data": {
            "text/plain": [
              "['2022/05/03',\n",
              " '2022/05/03',\n",
              " '2022/05/03',\n",
              " '2022/05/03',\n",
              " '2022/05/03',\n",
              " '2022/05/03',\n",
              " '2022/05/03',\n",
              " '2022/05/03',\n",
              " '2022/05/03',\n",
              " '2022/05/03',\n",
              " '2022/05/03',\n",
              " '2022/05/03',\n",
              " '2022/05/03',\n",
              " '2022/05/03',\n",
              " '2022/05/03',\n",
              " '2022/05/03',\n",
              " '2022/05/03',\n",
              " '2022/05/03',\n",
              " '2022/05/03',\n",
              " '2022/05/03',\n",
              " '2022/05/03',\n",
              " '2022/05/03',\n",
              " '2022/05/03',\n",
              " '2022/05/03',\n",
              " '2022/05/03',\n",
              " '2022/05/03',\n",
              " '2022/05/03',\n",
              " '2022/05/03',\n",
              " '2022/05/03',\n",
              " '2022/05/03']"
            ]
          },
          "execution_count": 47,
          "metadata": {},
          "output_type": "execute_result"
        }
      ],
      "source": [
        "listdates"
      ]
    },
    {
      "cell_type": "code",
      "execution_count": null,
      "metadata": {
        "id": "j6Hwx4nD_mbS"
      },
      "outputs": [],
      "source": [
        "listtrends=['Up']\n",
        "\n",
        "for i in range(1,len(output)):\n",
        "\n",
        "  if output[i] > output[i-1]:\n",
        "    listtrends.append('Up')\n",
        "\n",
        "  elif output[i] < output[i-1]:\n",
        "    listtrends.append('Bottom')\n",
        "\n",
        "  else:\n",
        "    listtrends.append('Flat')"
      ]
    },
    {
      "cell_type": "code",
      "execution_count": null,
      "metadata": {
        "colab": {
          "base_uri": "https://localhost:8080/"
        },
        "id": "bBEAM3O6-QO8",
        "outputId": "9bcf62be-80b0-40a8-f4a7-6493a58c8134"
      },
      "outputs": [
        {
          "data": {
            "text/plain": [
              "['Up',\n",
              " 'Up',\n",
              " 'Up',\n",
              " 'Up',\n",
              " 'Up',\n",
              " 'Up',\n",
              " 'Up',\n",
              " 'Up',\n",
              " 'Up',\n",
              " 'Up',\n",
              " 'Up',\n",
              " 'Up',\n",
              " 'Up',\n",
              " 'Up',\n",
              " 'Up',\n",
              " 'Up',\n",
              " 'Up',\n",
              " 'Up',\n",
              " 'Up',\n",
              " 'Up',\n",
              " 'Up',\n",
              " 'Up',\n",
              " 'Up',\n",
              " 'Up',\n",
              " 'Up',\n",
              " 'Up',\n",
              " 'Up',\n",
              " 'Up',\n",
              " 'Up',\n",
              " 'Up']"
            ]
          },
          "execution_count": 49,
          "metadata": {},
          "output_type": "execute_result"
        }
      ],
      "source": [
        "listtrends"
      ]
    },
    {
      "cell_type": "code",
      "execution_count": null,
      "metadata": {
        "colab": {
          "base_uri": "https://localhost:8080/"
        },
        "id": "qLj1pK4VCvXr",
        "outputId": "bb5b4bf1-38e8-4361-a5af-4df119f91a93"
      },
      "outputs": [
        {
          "data": {
            "text/plain": [
              "[[0.6716852188110352],\n",
              " [0.6753063201904297],\n",
              " [0.6785168647766113],\n",
              " [0.6815738677978516],\n",
              " [0.6844840049743652],\n",
              " [0.687286376953125],\n",
              " [0.6900142431259155],\n",
              " [0.6926881074905396],\n",
              " [0.6953174471855164],\n",
              " [0.6979051232337952],\n",
              " [0.7004505395889282],\n",
              " [0.7029520273208618],\n",
              " [0.7054091095924377],\n",
              " [0.7078220248222351],\n",
              " [0.7101922035217285],\n",
              " [0.7125221490859985],\n",
              " [0.7148147821426392],\n",
              " [0.7170733213424683],\n",
              " [0.7193014025688171],\n",
              " [0.721502423286438],\n",
              " [0.7236799001693726],\n",
              " [0.725836992263794],\n",
              " [0.7279766201972961],\n",
              " [0.7301015853881836],\n",
              " [0.7322145104408264],\n",
              " [0.734317421913147],\n",
              " [0.7364124059677124],\n",
              " [0.7385011911392212],\n",
              " [0.740585207939148],\n",
              " [0.7426656484603882]]"
            ]
          },
          "execution_count": 50,
          "metadata": {},
          "output_type": "execute_result"
        }
      ],
      "source": [
        "lst_output"
      ]
    },
    {
      "cell_type": "code",
      "execution_count": null,
      "metadata": {
        "colab": {
          "base_uri": "https://localhost:8080/"
        },
        "id": "D1V024eRC5xk",
        "outputId": "21e3cbf0-3a8b-4e4e-98a8-8f30b0f8a9ad"
      },
      "outputs": [
        {
          "data": {
            "text/plain": [
              "(['2022/05/03',\n",
              "  '2022/05/03',\n",
              "  '2022/05/03',\n",
              "  '2022/05/03',\n",
              "  '2022/05/03',\n",
              "  '2022/05/03',\n",
              "  '2022/05/03',\n",
              "  '2022/05/03',\n",
              "  '2022/05/03',\n",
              "  '2022/05/03',\n",
              "  '2022/05/03',\n",
              "  '2022/05/03',\n",
              "  '2022/05/03',\n",
              "  '2022/05/03',\n",
              "  '2022/05/03',\n",
              "  '2022/05/03',\n",
              "  '2022/05/03',\n",
              "  '2022/05/03',\n",
              "  '2022/05/03',\n",
              "  '2022/05/03',\n",
              "  '2022/05/03',\n",
              "  '2022/05/03',\n",
              "  '2022/05/03',\n",
              "  '2022/05/03',\n",
              "  '2022/05/03',\n",
              "  '2022/05/03',\n",
              "  '2022/05/03',\n",
              "  '2022/05/03',\n",
              "  '2022/05/03',\n",
              "  '2022/05/03'],\n",
              " ['01:27:00.000000',\n",
              "  '01:29:00.000000',\n",
              "  '01:31:00.000000',\n",
              "  '01:33:00.000000',\n",
              "  '01:35:00.000000',\n",
              "  '01:37:00.000000',\n",
              "  '01:39:00.000000',\n",
              "  '01:41:00.000000',\n",
              "  '01:43:00.000000',\n",
              "  '01:45:00.000000',\n",
              "  '01:47:00.000000',\n",
              "  '01:49:00.000000',\n",
              "  '01:51:00.000000',\n",
              "  '01:53:00.000000',\n",
              "  '01:55:00.000000',\n",
              "  '01:57:00.000000',\n",
              "  '01:59:00.000000',\n",
              "  '02:01:00.000000',\n",
              "  '02:03:00.000000',\n",
              "  '02:05:00.000000',\n",
              "  '02:07:00.000000',\n",
              "  '02:09:00.000000',\n",
              "  '02:11:00.000000',\n",
              "  '02:13:00.000000',\n",
              "  '02:15:00.000000',\n",
              "  '02:17:00.000000',\n",
              "  '02:19:00.000000',\n",
              "  '02:21:00.000000',\n",
              "  '02:23:00.000000',\n",
              "  '02:25:00.000000'],\n",
              " ['Up',\n",
              "  'Up',\n",
              "  'Up',\n",
              "  'Up',\n",
              "  'Up',\n",
              "  'Up',\n",
              "  'Up',\n",
              "  'Up',\n",
              "  'Up',\n",
              "  'Up',\n",
              "  'Up',\n",
              "  'Up',\n",
              "  'Up',\n",
              "  'Up',\n",
              "  'Up',\n",
              "  'Up',\n",
              "  'Up',\n",
              "  'Up',\n",
              "  'Up',\n",
              "  'Up',\n",
              "  'Up',\n",
              "  'Up',\n",
              "  'Up',\n",
              "  'Up',\n",
              "  'Up',\n",
              "  'Up',\n",
              "  'Up',\n",
              "  'Up',\n",
              "  'Up',\n",
              "  'Up'],\n",
              " [[0.6716852188110352],\n",
              "  [0.6753063201904297],\n",
              "  [0.6785168647766113],\n",
              "  [0.6815738677978516],\n",
              "  [0.6844840049743652],\n",
              "  [0.687286376953125],\n",
              "  [0.6900142431259155],\n",
              "  [0.6926881074905396],\n",
              "  [0.6953174471855164],\n",
              "  [0.6979051232337952],\n",
              "  [0.7004505395889282],\n",
              "  [0.7029520273208618],\n",
              "  [0.7054091095924377],\n",
              "  [0.7078220248222351],\n",
              "  [0.7101922035217285],\n",
              "  [0.7125221490859985],\n",
              "  [0.7148147821426392],\n",
              "  [0.7170733213424683],\n",
              "  [0.7193014025688171],\n",
              "  [0.721502423286438],\n",
              "  [0.7236799001693726],\n",
              "  [0.725836992263794],\n",
              "  [0.7279766201972961],\n",
              "  [0.7301015853881836],\n",
              "  [0.7322145104408264],\n",
              "  [0.734317421913147],\n",
              "  [0.7364124059677124],\n",
              "  [0.7385011911392212],\n",
              "  [0.740585207939148],\n",
              "  [0.7426656484603882]])"
            ]
          },
          "execution_count": 51,
          "metadata": {},
          "output_type": "execute_result"
        }
      ],
      "source": [
        "listdates , listtimes , listtrends , lst_output"
      ]
    },
    {
      "cell_type": "code",
      "execution_count": null,
      "metadata": {
        "colab": {
          "base_uri": "https://localhost:8080/"
        },
        "id": "TDS0IK-cGLUE",
        "outputId": "31bd96e3-b7a1-4061-9bc7-d82331f0fb22"
      },
      "outputs": [
        {
          "data": {
            "text/plain": [
              "(30, 30, 30, 30)"
            ]
          },
          "execution_count": 52,
          "metadata": {},
          "output_type": "execute_result"
        }
      ],
      "source": [
        "len(listdates) , len(listtimes), len(listtrends) , len(lst_output)"
      ]
    },
    {
      "cell_type": "code",
      "execution_count": null,
      "metadata": {
        "id": "XWTrNs7AES3w"
      },
      "outputs": [],
      "source": [
        "import pandas as pd\n",
        "finaldf = pd.DataFrame({'Date':listdates,\n",
        "                        'Time':listtimes,\n",
        "                        'Trend':listtrends,\n",
        "                        'Future Close Price':list(output),\n",
        "                        'strength':lst_output\n",
        "                        ,})"
      ]
    },
    {
      "cell_type": "code",
      "execution_count": null,
      "metadata": {
        "colab": {
          "base_uri": "https://localhost:8080/",
          "height": 990
        },
        "id": "oitseI6OFRji",
        "outputId": "347d6aa5-7676-49ec-ff00-659ba2fa68cd"
      },
      "outputs": [
        {
          "data": {
            "text/html": [
              "\n",
              "  <div id=\"df-d5c6e68e-af05-4dbf-88f6-bedb492162a5\">\n",
              "    <div class=\"colab-df-container\">\n",
              "      <div>\n",
              "<style scoped>\n",
              "    .dataframe tbody tr th:only-of-type {\n",
              "        vertical-align: middle;\n",
              "    }\n",
              "\n",
              "    .dataframe tbody tr th {\n",
              "        vertical-align: top;\n",
              "    }\n",
              "\n",
              "    .dataframe thead th {\n",
              "        text-align: right;\n",
              "    }\n",
              "</style>\n",
              "<table border=\"1\" class=\"dataframe\">\n",
              "  <thead>\n",
              "    <tr style=\"text-align: right;\">\n",
              "      <th></th>\n",
              "      <th>Date</th>\n",
              "      <th>Time</th>\n",
              "      <th>Trend</th>\n",
              "      <th>Future Close Price</th>\n",
              "      <th>strength</th>\n",
              "    </tr>\n",
              "  </thead>\n",
              "  <tbody>\n",
              "    <tr>\n",
              "      <th>0</th>\n",
              "      <td>2022/05/03</td>\n",
              "      <td>01:27:00.000000</td>\n",
              "      <td>Up</td>\n",
              "      <td>[13169.862084627151]</td>\n",
              "      <td>[0.6716852188110352]</td>\n",
              "    </tr>\n",
              "    <tr>\n",
              "      <th>1</th>\n",
              "      <td>2022/05/03</td>\n",
              "      <td>01:29:00.000000</td>\n",
              "      <td>Up</td>\n",
              "      <td>[13209.387311458588]</td>\n",
              "      <td>[0.6753063201904297]</td>\n",
              "    </tr>\n",
              "    <tr>\n",
              "      <th>2</th>\n",
              "      <td>2022/05/03</td>\n",
              "      <td>01:31:00.000000</td>\n",
              "      <td>Up</td>\n",
              "      <td>[13244.431208252907]</td>\n",
              "      <td>[0.6785168647766113]</td>\n",
              "    </tr>\n",
              "    <tr>\n",
              "      <th>3</th>\n",
              "      <td>2022/05/03</td>\n",
              "      <td>01:33:00.000000</td>\n",
              "      <td>Up</td>\n",
              "      <td>[13277.7991604805]</td>\n",
              "      <td>[0.6815738677978516]</td>\n",
              "    </tr>\n",
              "    <tr>\n",
              "      <th>4</th>\n",
              "      <td>2022/05/03</td>\n",
              "      <td>01:35:00.000000</td>\n",
              "      <td>Up</td>\n",
              "      <td>[13309.56403529644]</td>\n",
              "      <td>[0.6844840049743652]</td>\n",
              "    </tr>\n",
              "    <tr>\n",
              "      <th>5</th>\n",
              "      <td>2022/05/03</td>\n",
              "      <td>01:37:00.000000</td>\n",
              "      <td>Up</td>\n",
              "      <td>[13340.152626037598]</td>\n",
              "      <td>[0.687286376953125]</td>\n",
              "    </tr>\n",
              "    <tr>\n",
              "      <th>6</th>\n",
              "      <td>2022/05/03</td>\n",
              "      <td>01:39:00.000000</td>\n",
              "      <td>Up</td>\n",
              "      <td>[13369.92796728015]</td>\n",
              "      <td>[0.6900142431259155]</td>\n",
              "    </tr>\n",
              "    <tr>\n",
              "      <th>7</th>\n",
              "      <td>2022/05/03</td>\n",
              "      <td>01:41:00.000000</td>\n",
              "      <td>Up</td>\n",
              "      <td>[13399.113865286112]</td>\n",
              "      <td>[0.6926881074905396]</td>\n",
              "    </tr>\n",
              "    <tr>\n",
              "      <th>8</th>\n",
              "      <td>2022/05/03</td>\n",
              "      <td>01:43:00.000000</td>\n",
              "      <td>Up</td>\n",
              "      <td>[13427.813765391707]</td>\n",
              "      <td>[0.6953174471855164]</td>\n",
              "    </tr>\n",
              "    <tr>\n",
              "      <th>9</th>\n",
              "      <td>2022/05/03</td>\n",
              "      <td>01:45:00.000000</td>\n",
              "      <td>Up</td>\n",
              "      <td>[13456.058896377683]</td>\n",
              "      <td>[0.6979051232337952]</td>\n",
              "    </tr>\n",
              "    <tr>\n",
              "      <th>10</th>\n",
              "      <td>2022/05/03</td>\n",
              "      <td>01:47:00.000000</td>\n",
              "      <td>Up</td>\n",
              "      <td>[13483.842752248049]</td>\n",
              "      <td>[0.7004505395889282]</td>\n",
              "    </tr>\n",
              "    <tr>\n",
              "      <th>11</th>\n",
              "      <td>2022/05/03</td>\n",
              "      <td>01:49:00.000000</td>\n",
              "      <td>Up</td>\n",
              "      <td>[13511.147116214037]</td>\n",
              "      <td>[0.7029520273208618]</td>\n",
              "    </tr>\n",
              "    <tr>\n",
              "      <th>12</th>\n",
              "      <td>2022/05/03</td>\n",
              "      <td>01:51:00.000000</td>\n",
              "      <td>Up</td>\n",
              "      <td>[13537.966783478856]</td>\n",
              "      <td>[0.7054091095924377]</td>\n",
              "    </tr>\n",
              "    <tr>\n",
              "      <th>13</th>\n",
              "      <td>2022/05/03</td>\n",
              "      <td>01:53:00.000000</td>\n",
              "      <td>Up</td>\n",
              "      <td>[13564.304356440902]</td>\n",
              "      <td>[0.7078220248222351]</td>\n",
              "    </tr>\n",
              "    <tr>\n",
              "      <th>14</th>\n",
              "      <td>2022/05/03</td>\n",
              "      <td>01:55:00.000000</td>\n",
              "      <td>Up</td>\n",
              "      <td>[13590.175449490547]</td>\n",
              "      <td>[0.7101922035217285]</td>\n",
              "    </tr>\n",
              "    <tr>\n",
              "      <th>15</th>\n",
              "      <td>2022/05/03</td>\n",
              "      <td>01:57:00.000000</td>\n",
              "      <td>Up</td>\n",
              "      <td>[13615.607387810946]</td>\n",
              "      <td>[0.7125221490859985]</td>\n",
              "    </tr>\n",
              "    <tr>\n",
              "      <th>16</th>\n",
              "      <td>2022/05/03</td>\n",
              "      <td>01:59:00.000000</td>\n",
              "      <td>Up</td>\n",
              "      <td>[13640.632050782442]</td>\n",
              "      <td>[0.7148147821426392]</td>\n",
              "    </tr>\n",
              "    <tr>\n",
              "      <th>17</th>\n",
              "      <td>2022/05/03</td>\n",
              "      <td>02:01:00.000000</td>\n",
              "      <td>Up</td>\n",
              "      <td>[13665.284570783377]</td>\n",
              "      <td>[0.7170733213424683]</td>\n",
              "    </tr>\n",
              "    <tr>\n",
              "      <th>18</th>\n",
              "      <td>2022/05/03</td>\n",
              "      <td>02:03:00.000000</td>\n",
              "      <td>Up</td>\n",
              "      <td>[13689.604634389281]</td>\n",
              "      <td>[0.7193014025688171]</td>\n",
              "    </tr>\n",
              "    <tr>\n",
              "      <th>19</th>\n",
              "      <td>2022/05/03</td>\n",
              "      <td>02:05:00.000000</td>\n",
              "      <td>Up</td>\n",
              "      <td>[13713.629325777292]</td>\n",
              "      <td>[0.721502423286438]</td>\n",
              "    </tr>\n",
              "    <tr>\n",
              "      <th>20</th>\n",
              "      <td>2022/05/03</td>\n",
              "      <td>02:07:00.000000</td>\n",
              "      <td>Up</td>\n",
              "      <td>[13737.397030323744]</td>\n",
              "      <td>[0.7236799001693726]</td>\n",
              "    </tr>\n",
              "    <tr>\n",
              "      <th>21</th>\n",
              "      <td>2022/05/03</td>\n",
              "      <td>02:09:00.000000</td>\n",
              "      <td>Up</td>\n",
              "      <td>[13760.942229807377]</td>\n",
              "      <td>[0.725836992263794]</td>\n",
              "    </tr>\n",
              "    <tr>\n",
              "      <th>22</th>\n",
              "      <td>2022/05/03</td>\n",
              "      <td>02:11:00.000000</td>\n",
              "      <td>Up</td>\n",
              "      <td>[13784.296803608537]</td>\n",
              "      <td>[0.7279766201972961]</td>\n",
              "    </tr>\n",
              "    <tr>\n",
              "      <th>23</th>\n",
              "      <td>2022/05/03</td>\n",
              "      <td>02:13:00.000000</td>\n",
              "      <td>Up</td>\n",
              "      <td>[13807.491329908371]</td>\n",
              "      <td>[0.7301015853881836]</td>\n",
              "    </tr>\n",
              "    <tr>\n",
              "      <th>24</th>\n",
              "      <td>2022/05/03</td>\n",
              "      <td>02:15:00.000000</td>\n",
              "      <td>Up</td>\n",
              "      <td>[13830.55443508923]</td>\n",
              "      <td>[0.7322145104408264]</td>\n",
              "    </tr>\n",
              "    <tr>\n",
              "      <th>25</th>\n",
              "      <td>2022/05/03</td>\n",
              "      <td>02:17:00.000000</td>\n",
              "      <td>Up</td>\n",
              "      <td>[13853.508239537477]</td>\n",
              "      <td>[0.734317421913147]</td>\n",
              "    </tr>\n",
              "    <tr>\n",
              "      <th>26</th>\n",
              "      <td>2022/05/03</td>\n",
              "      <td>02:19:00.000000</td>\n",
              "      <td>Up</td>\n",
              "      <td>[13876.375514239073]</td>\n",
              "      <td>[0.7364124059677124]</td>\n",
              "    </tr>\n",
              "    <tr>\n",
              "      <th>27</th>\n",
              "      <td>2022/05/03</td>\n",
              "      <td>02:21:00.000000</td>\n",
              "      <td>Up</td>\n",
              "      <td>[13899.175126582384]</td>\n",
              "      <td>[0.7385011911392212]</td>\n",
              "    </tr>\n",
              "    <tr>\n",
              "      <th>28</th>\n",
              "      <td>2022/05/03</td>\n",
              "      <td>02:23:00.000000</td>\n",
              "      <td>Up</td>\n",
              "      <td>[13921.922690957785]</td>\n",
              "      <td>[0.740585207939148]</td>\n",
              "    </tr>\n",
              "    <tr>\n",
              "      <th>29</th>\n",
              "      <td>2022/05/03</td>\n",
              "      <td>02:25:00.000000</td>\n",
              "      <td>Up</td>\n",
              "      <td>[13944.631219357252]</td>\n",
              "      <td>[0.7426656484603882]</td>\n",
              "    </tr>\n",
              "  </tbody>\n",
              "</table>\n",
              "</div>\n",
              "      <button class=\"colab-df-convert\" onclick=\"convertToInteractive('df-d5c6e68e-af05-4dbf-88f6-bedb492162a5')\"\n",
              "              title=\"Convert this dataframe to an interactive table.\"\n",
              "              style=\"display:none;\">\n",
              "        \n",
              "  <svg xmlns=\"http://www.w3.org/2000/svg\" height=\"24px\"viewBox=\"0 0 24 24\"\n",
              "       width=\"24px\">\n",
              "    <path d=\"M0 0h24v24H0V0z\" fill=\"none\"/>\n",
              "    <path d=\"M18.56 5.44l.94 2.06.94-2.06 2.06-.94-2.06-.94-.94-2.06-.94 2.06-2.06.94zm-11 1L8.5 8.5l.94-2.06 2.06-.94-2.06-.94L8.5 2.5l-.94 2.06-2.06.94zm10 10l.94 2.06.94-2.06 2.06-.94-2.06-.94-.94-2.06-.94 2.06-2.06.94z\"/><path d=\"M17.41 7.96l-1.37-1.37c-.4-.4-.92-.59-1.43-.59-.52 0-1.04.2-1.43.59L10.3 9.45l-7.72 7.72c-.78.78-.78 2.05 0 2.83L4 21.41c.39.39.9.59 1.41.59.51 0 1.02-.2 1.41-.59l7.78-7.78 2.81-2.81c.8-.78.8-2.07 0-2.86zM5.41 20L4 18.59l7.72-7.72 1.47 1.35L5.41 20z\"/>\n",
              "  </svg>\n",
              "      </button>\n",
              "      \n",
              "  <style>\n",
              "    .colab-df-container {\n",
              "      display:flex;\n",
              "      flex-wrap:wrap;\n",
              "      gap: 12px;\n",
              "    }\n",
              "\n",
              "    .colab-df-convert {\n",
              "      background-color: #E8F0FE;\n",
              "      border: none;\n",
              "      border-radius: 50%;\n",
              "      cursor: pointer;\n",
              "      display: none;\n",
              "      fill: #1967D2;\n",
              "      height: 32px;\n",
              "      padding: 0 0 0 0;\n",
              "      width: 32px;\n",
              "    }\n",
              "\n",
              "    .colab-df-convert:hover {\n",
              "      background-color: #E2EBFA;\n",
              "      box-shadow: 0px 1px 2px rgba(60, 64, 67, 0.3), 0px 1px 3px 1px rgba(60, 64, 67, 0.15);\n",
              "      fill: #174EA6;\n",
              "    }\n",
              "\n",
              "    [theme=dark] .colab-df-convert {\n",
              "      background-color: #3B4455;\n",
              "      fill: #D2E3FC;\n",
              "    }\n",
              "\n",
              "    [theme=dark] .colab-df-convert:hover {\n",
              "      background-color: #434B5C;\n",
              "      box-shadow: 0px 1px 3px 1px rgba(0, 0, 0, 0.15);\n",
              "      filter: drop-shadow(0px 1px 2px rgba(0, 0, 0, 0.3));\n",
              "      fill: #FFFFFF;\n",
              "    }\n",
              "  </style>\n",
              "\n",
              "      <script>\n",
              "        const buttonEl =\n",
              "          document.querySelector('#df-d5c6e68e-af05-4dbf-88f6-bedb492162a5 button.colab-df-convert');\n",
              "        buttonEl.style.display =\n",
              "          google.colab.kernel.accessAllowed ? 'block' : 'none';\n",
              "\n",
              "        async function convertToInteractive(key) {\n",
              "          const element = document.querySelector('#df-d5c6e68e-af05-4dbf-88f6-bedb492162a5');\n",
              "          const dataTable =\n",
              "            await google.colab.kernel.invokeFunction('convertToInteractive',\n",
              "                                                     [key], {});\n",
              "          if (!dataTable) return;\n",
              "\n",
              "          const docLinkHtml = 'Like what you see? Visit the ' +\n",
              "            '<a target=\"_blank\" href=https://colab.research.google.com/notebooks/data_table.ipynb>data table notebook</a>'\n",
              "            + ' to learn more about interactive tables.';\n",
              "          element.innerHTML = '';\n",
              "          dataTable['output_type'] = 'display_data';\n",
              "          await google.colab.output.renderOutput(dataTable, element);\n",
              "          const docLink = document.createElement('div');\n",
              "          docLink.innerHTML = docLinkHtml;\n",
              "          element.appendChild(docLink);\n",
              "        }\n",
              "      </script>\n",
              "    </div>\n",
              "  </div>\n",
              "  "
            ],
            "text/plain": [
              "          Date             Time Trend    Future Close Price  \\\n",
              "0   2022/05/03  01:27:00.000000    Up  [13169.862084627151]   \n",
              "1   2022/05/03  01:29:00.000000    Up  [13209.387311458588]   \n",
              "2   2022/05/03  01:31:00.000000    Up  [13244.431208252907]   \n",
              "3   2022/05/03  01:33:00.000000    Up    [13277.7991604805]   \n",
              "4   2022/05/03  01:35:00.000000    Up   [13309.56403529644]   \n",
              "5   2022/05/03  01:37:00.000000    Up  [13340.152626037598]   \n",
              "6   2022/05/03  01:39:00.000000    Up   [13369.92796728015]   \n",
              "7   2022/05/03  01:41:00.000000    Up  [13399.113865286112]   \n",
              "8   2022/05/03  01:43:00.000000    Up  [13427.813765391707]   \n",
              "9   2022/05/03  01:45:00.000000    Up  [13456.058896377683]   \n",
              "10  2022/05/03  01:47:00.000000    Up  [13483.842752248049]   \n",
              "11  2022/05/03  01:49:00.000000    Up  [13511.147116214037]   \n",
              "12  2022/05/03  01:51:00.000000    Up  [13537.966783478856]   \n",
              "13  2022/05/03  01:53:00.000000    Up  [13564.304356440902]   \n",
              "14  2022/05/03  01:55:00.000000    Up  [13590.175449490547]   \n",
              "15  2022/05/03  01:57:00.000000    Up  [13615.607387810946]   \n",
              "16  2022/05/03  01:59:00.000000    Up  [13640.632050782442]   \n",
              "17  2022/05/03  02:01:00.000000    Up  [13665.284570783377]   \n",
              "18  2022/05/03  02:03:00.000000    Up  [13689.604634389281]   \n",
              "19  2022/05/03  02:05:00.000000    Up  [13713.629325777292]   \n",
              "20  2022/05/03  02:07:00.000000    Up  [13737.397030323744]   \n",
              "21  2022/05/03  02:09:00.000000    Up  [13760.942229807377]   \n",
              "22  2022/05/03  02:11:00.000000    Up  [13784.296803608537]   \n",
              "23  2022/05/03  02:13:00.000000    Up  [13807.491329908371]   \n",
              "24  2022/05/03  02:15:00.000000    Up   [13830.55443508923]   \n",
              "25  2022/05/03  02:17:00.000000    Up  [13853.508239537477]   \n",
              "26  2022/05/03  02:19:00.000000    Up  [13876.375514239073]   \n",
              "27  2022/05/03  02:21:00.000000    Up  [13899.175126582384]   \n",
              "28  2022/05/03  02:23:00.000000    Up  [13921.922690957785]   \n",
              "29  2022/05/03  02:25:00.000000    Up  [13944.631219357252]   \n",
              "\n",
              "                strength  \n",
              "0   [0.6716852188110352]  \n",
              "1   [0.6753063201904297]  \n",
              "2   [0.6785168647766113]  \n",
              "3   [0.6815738677978516]  \n",
              "4   [0.6844840049743652]  \n",
              "5    [0.687286376953125]  \n",
              "6   [0.6900142431259155]  \n",
              "7   [0.6926881074905396]  \n",
              "8   [0.6953174471855164]  \n",
              "9   [0.6979051232337952]  \n",
              "10  [0.7004505395889282]  \n",
              "11  [0.7029520273208618]  \n",
              "12  [0.7054091095924377]  \n",
              "13  [0.7078220248222351]  \n",
              "14  [0.7101922035217285]  \n",
              "15  [0.7125221490859985]  \n",
              "16  [0.7148147821426392]  \n",
              "17  [0.7170733213424683]  \n",
              "18  [0.7193014025688171]  \n",
              "19   [0.721502423286438]  \n",
              "20  [0.7236799001693726]  \n",
              "21   [0.725836992263794]  \n",
              "22  [0.7279766201972961]  \n",
              "23  [0.7301015853881836]  \n",
              "24  [0.7322145104408264]  \n",
              "25   [0.734317421913147]  \n",
              "26  [0.7364124059677124]  \n",
              "27  [0.7385011911392212]  \n",
              "28   [0.740585207939148]  \n",
              "29  [0.7426656484603882]  "
            ]
          },
          "execution_count": 54,
          "metadata": {},
          "output_type": "execute_result"
        }
      ],
      "source": [
        "finaldf"
      ]
    },
    {
      "cell_type": "code",
      "execution_count": null,
      "metadata": {
        "colab": {
          "base_uri": "https://localhost:8080/"
        },
        "id": "s7qyvIEbLLcD",
        "outputId": "aed44fcc-4fb0-4887-cd57-3a2aaabbf0e0"
      },
      "outputs": [
        {
          "data": {
            "text/plain": [
              "(1, 100)"
            ]
          },
          "execution_count": 57,
          "metadata": {},
          "output_type": "execute_result"
        }
      ],
      "source": [
        "testing_inp = train_data[533805:].reshape(1,-1)\n",
        "testing_inp.shape"
      ]
    },
    {
      "cell_type": "code",
      "execution_count": null,
      "metadata": {
        "id": "cRexxxn1MbYh"
      },
      "outputs": [],
      "source": [
        "start_date = '2021/1/18'\n",
        "start_time = '01:09:00.0'\n",
        "n = 228817\n",
        "close_price = df.iloc[533905:,5]"
      ]
    },
    {
      "cell_type": "code",
      "execution_count": null,
      "metadata": {
        "id": "2R_MOC-NCRmA"
      },
      "outputs": [],
      "source": [
        "import numpy\n",
        "p = numpy.squeeze(output)"
      ]
    },
    {
      "cell_type": "code",
      "execution_count": null,
      "metadata": {
        "colab": {
          "base_uri": "https://localhost:8080/",
          "height": 424
        },
        "id": "bjmCsJN4DDLS",
        "outputId": "dd50a4d5-e7a3-41af-8a7a-2da2810b213e"
      },
      "outputs": [
        {
          "data": {
            "text/html": [
              "\n",
              "  <div id=\"df-622a9c17-f0a8-4df7-8506-a41d47d81e0a\">\n",
              "    <div class=\"colab-df-container\">\n",
              "      <div>\n",
              "<style scoped>\n",
              "    .dataframe tbody tr th:only-of-type {\n",
              "        vertical-align: middle;\n",
              "    }\n",
              "\n",
              "    .dataframe tbody tr th {\n",
              "        vertical-align: top;\n",
              "    }\n",
              "\n",
              "    .dataframe thead th {\n",
              "        text-align: right;\n",
              "    }\n",
              "</style>\n",
              "<table border=\"1\" class=\"dataframe\">\n",
              "  <thead>\n",
              "    <tr style=\"text-align: right;\">\n",
              "      <th></th>\n",
              "      <th>Date</th>\n",
              "      <th>Time</th>\n",
              "      <th>Open</th>\n",
              "      <th>High</th>\n",
              "      <th>Low</th>\n",
              "      <th>Last</th>\n",
              "      <th>Volume</th>\n",
              "    </tr>\n",
              "  </thead>\n",
              "  <tbody>\n",
              "    <tr>\n",
              "      <th>533905</th>\n",
              "      <td>2021/1/18</td>\n",
              "      <td>01:09:00.0</td>\n",
              "      <td>12778.00</td>\n",
              "      <td>12780.00</td>\n",
              "      <td>12776.50</td>\n",
              "      <td>12779.00</td>\n",
              "      <td>29</td>\n",
              "    </tr>\n",
              "    <tr>\n",
              "      <th>533906</th>\n",
              "      <td>2021/1/18</td>\n",
              "      <td>01:11:00.0</td>\n",
              "      <td>12777.25</td>\n",
              "      <td>12779.50</td>\n",
              "      <td>12776.50</td>\n",
              "      <td>12776.50</td>\n",
              "      <td>35</td>\n",
              "    </tr>\n",
              "    <tr>\n",
              "      <th>533907</th>\n",
              "      <td>2021/1/18</td>\n",
              "      <td>01:13:00.0</td>\n",
              "      <td>12775.25</td>\n",
              "      <td>12777.75</td>\n",
              "      <td>12775.25</td>\n",
              "      <td>12775.75</td>\n",
              "      <td>22</td>\n",
              "    </tr>\n",
              "    <tr>\n",
              "      <th>533908</th>\n",
              "      <td>2021/1/18</td>\n",
              "      <td>01:15:00.0</td>\n",
              "      <td>12777.00</td>\n",
              "      <td>12778.00</td>\n",
              "      <td>12775.50</td>\n",
              "      <td>12776.50</td>\n",
              "      <td>39</td>\n",
              "    </tr>\n",
              "    <tr>\n",
              "      <th>533909</th>\n",
              "      <td>2021/1/18</td>\n",
              "      <td>01:17:00.0</td>\n",
              "      <td>12777.25</td>\n",
              "      <td>12777.75</td>\n",
              "      <td>12776.25</td>\n",
              "      <td>12777.75</td>\n",
              "      <td>14</td>\n",
              "    </tr>\n",
              "    <tr>\n",
              "      <th>...</th>\n",
              "      <td>...</td>\n",
              "      <td>...</td>\n",
              "      <td>...</td>\n",
              "      <td>...</td>\n",
              "      <td>...</td>\n",
              "      <td>...</td>\n",
              "      <td>...</td>\n",
              "    </tr>\n",
              "    <tr>\n",
              "      <th>762717</th>\n",
              "      <td>2022/5/3</td>\n",
              "      <td>01:17:00.0</td>\n",
              "      <td>13140.75</td>\n",
              "      <td>13145.25</td>\n",
              "      <td>13137.00</td>\n",
              "      <td>13140.00</td>\n",
              "      <td>174</td>\n",
              "    </tr>\n",
              "    <tr>\n",
              "      <th>762718</th>\n",
              "      <td>2022/5/3</td>\n",
              "      <td>01:19:00.0</td>\n",
              "      <td>13140.50</td>\n",
              "      <td>13141.50</td>\n",
              "      <td>13132.50</td>\n",
              "      <td>13133.50</td>\n",
              "      <td>97</td>\n",
              "    </tr>\n",
              "    <tr>\n",
              "      <th>762719</th>\n",
              "      <td>2022/5/3</td>\n",
              "      <td>01:21:00.0</td>\n",
              "      <td>13133.50</td>\n",
              "      <td>13135.00</td>\n",
              "      <td>13130.50</td>\n",
              "      <td>13133.50</td>\n",
              "      <td>44</td>\n",
              "    </tr>\n",
              "    <tr>\n",
              "      <th>762720</th>\n",
              "      <td>2022/5/3</td>\n",
              "      <td>01:23:00.0</td>\n",
              "      <td>13133.00</td>\n",
              "      <td>13137.25</td>\n",
              "      <td>13130.50</td>\n",
              "      <td>13135.00</td>\n",
              "      <td>86</td>\n",
              "    </tr>\n",
              "    <tr>\n",
              "      <th>762721</th>\n",
              "      <td>2022/5/3</td>\n",
              "      <td>01:25:00.0</td>\n",
              "      <td>13135.50</td>\n",
              "      <td>13136.75</td>\n",
              "      <td>13126.50</td>\n",
              "      <td>13131.75</td>\n",
              "      <td>171</td>\n",
              "    </tr>\n",
              "  </tbody>\n",
              "</table>\n",
              "<p>228817 rows × 7 columns</p>\n",
              "</div>\n",
              "      <button class=\"colab-df-convert\" onclick=\"convertToInteractive('df-622a9c17-f0a8-4df7-8506-a41d47d81e0a')\"\n",
              "              title=\"Convert this dataframe to an interactive table.\"\n",
              "              style=\"display:none;\">\n",
              "        \n",
              "  <svg xmlns=\"http://www.w3.org/2000/svg\" height=\"24px\"viewBox=\"0 0 24 24\"\n",
              "       width=\"24px\">\n",
              "    <path d=\"M0 0h24v24H0V0z\" fill=\"none\"/>\n",
              "    <path d=\"M18.56 5.44l.94 2.06.94-2.06 2.06-.94-2.06-.94-.94-2.06-.94 2.06-2.06.94zm-11 1L8.5 8.5l.94-2.06 2.06-.94-2.06-.94L8.5 2.5l-.94 2.06-2.06.94zm10 10l.94 2.06.94-2.06 2.06-.94-2.06-.94-.94-2.06-.94 2.06-2.06.94z\"/><path d=\"M17.41 7.96l-1.37-1.37c-.4-.4-.92-.59-1.43-.59-.52 0-1.04.2-1.43.59L10.3 9.45l-7.72 7.72c-.78.78-.78 2.05 0 2.83L4 21.41c.39.39.9.59 1.41.59.51 0 1.02-.2 1.41-.59l7.78-7.78 2.81-2.81c.8-.78.8-2.07 0-2.86zM5.41 20L4 18.59l7.72-7.72 1.47 1.35L5.41 20z\"/>\n",
              "  </svg>\n",
              "      </button>\n",
              "      \n",
              "  <style>\n",
              "    .colab-df-container {\n",
              "      display:flex;\n",
              "      flex-wrap:wrap;\n",
              "      gap: 12px;\n",
              "    }\n",
              "\n",
              "    .colab-df-convert {\n",
              "      background-color: #E8F0FE;\n",
              "      border: none;\n",
              "      border-radius: 50%;\n",
              "      cursor: pointer;\n",
              "      display: none;\n",
              "      fill: #1967D2;\n",
              "      height: 32px;\n",
              "      padding: 0 0 0 0;\n",
              "      width: 32px;\n",
              "    }\n",
              "\n",
              "    .colab-df-convert:hover {\n",
              "      background-color: #E2EBFA;\n",
              "      box-shadow: 0px 1px 2px rgba(60, 64, 67, 0.3), 0px 1px 3px 1px rgba(60, 64, 67, 0.15);\n",
              "      fill: #174EA6;\n",
              "    }\n",
              "\n",
              "    [theme=dark] .colab-df-convert {\n",
              "      background-color: #3B4455;\n",
              "      fill: #D2E3FC;\n",
              "    }\n",
              "\n",
              "    [theme=dark] .colab-df-convert:hover {\n",
              "      background-color: #434B5C;\n",
              "      box-shadow: 0px 1px 3px 1px rgba(0, 0, 0, 0.15);\n",
              "      filter: drop-shadow(0px 1px 2px rgba(0, 0, 0, 0.3));\n",
              "      fill: #FFFFFF;\n",
              "    }\n",
              "  </style>\n",
              "\n",
              "      <script>\n",
              "        const buttonEl =\n",
              "          document.querySelector('#df-622a9c17-f0a8-4df7-8506-a41d47d81e0a button.colab-df-convert');\n",
              "        buttonEl.style.display =\n",
              "          google.colab.kernel.accessAllowed ? 'block' : 'none';\n",
              "\n",
              "        async function convertToInteractive(key) {\n",
              "          const element = document.querySelector('#df-622a9c17-f0a8-4df7-8506-a41d47d81e0a');\n",
              "          const dataTable =\n",
              "            await google.colab.kernel.invokeFunction('convertToInteractive',\n",
              "                                                     [key], {});\n",
              "          if (!dataTable) return;\n",
              "\n",
              "          const docLinkHtml = 'Like what you see? Visit the ' +\n",
              "            '<a target=\"_blank\" href=https://colab.research.google.com/notebooks/data_table.ipynb>data table notebook</a>'\n",
              "            + ' to learn more about interactive tables.';\n",
              "          element.innerHTML = '';\n",
              "          dataTable['output_type'] = 'display_data';\n",
              "          await google.colab.output.renderOutput(dataTable, element);\n",
              "          const docLink = document.createElement('div');\n",
              "          docLink.innerHTML = docLinkHtml;\n",
              "          element.appendChild(docLink);\n",
              "        }\n",
              "      </script>\n",
              "    </div>\n",
              "  </div>\n",
              "  "
            ],
            "text/plain": [
              "             Date         Time      Open      High       Low      Last  \\\n",
              "533905  2021/1/18   01:09:00.0  12778.00  12780.00  12776.50  12779.00   \n",
              "533906  2021/1/18   01:11:00.0  12777.25  12779.50  12776.50  12776.50   \n",
              "533907  2021/1/18   01:13:00.0  12775.25  12777.75  12775.25  12775.75   \n",
              "533908  2021/1/18   01:15:00.0  12777.00  12778.00  12775.50  12776.50   \n",
              "533909  2021/1/18   01:17:00.0  12777.25  12777.75  12776.25  12777.75   \n",
              "...           ...          ...       ...       ...       ...       ...   \n",
              "762717   2022/5/3   01:17:00.0  13140.75  13145.25  13137.00  13140.00   \n",
              "762718   2022/5/3   01:19:00.0  13140.50  13141.50  13132.50  13133.50   \n",
              "762719   2022/5/3   01:21:00.0  13133.50  13135.00  13130.50  13133.50   \n",
              "762720   2022/5/3   01:23:00.0  13133.00  13137.25  13130.50  13135.00   \n",
              "762721   2022/5/3   01:25:00.0  13135.50  13136.75  13126.50  13131.75   \n",
              "\n",
              "         Volume  \n",
              "533905       29  \n",
              "533906       35  \n",
              "533907       22  \n",
              "533908       39  \n",
              "533909       14  \n",
              "...         ...  \n",
              "762717      174  \n",
              "762718       97  \n",
              "762719       44  \n",
              "762720       86  \n",
              "762721      171  \n",
              "\n",
              "[228817 rows x 7 columns]"
            ]
          },
          "execution_count": 79,
          "metadata": {},
          "output_type": "execute_result"
        }
      ],
      "source": [
        "df[533905:]"
      ]
    },
    {
      "cell_type": "code",
      "execution_count": null,
      "metadata": {
        "id": "NoNBs6S6I6n6"
      },
      "outputs": [],
      "source": [
        "finallistdates = [\"2021/1/18\"]\n",
        "finallisttimes = [\"01:09:00.0\"]"
      ]
    },
    {
      "cell_type": "code",
      "execution_count": null,
      "metadata": {
        "id": "R_9ECkY-K75B"
      },
      "outputs": [],
      "source": [
        "from datetime import datetime\n",
        "from datetime import timedelta\n",
        "\n",
        "for i in range(0,n):\n",
        "  d = finallistdates[-1]\n",
        "  t = finallisttimes[-1]\n",
        "  a = d.split(\"/\")\n",
        "\n",
        "  time_str = a[2]+\"/\"+a[1]+\"/\"+a[0]+ \" \" + t\n",
        "  date_format_str = '%d/%m/%Y %H:%M:%S.%f'\n",
        "  given_time = datetime.strptime(time_str, date_format_str)\n",
        "  final_time = given_time + timedelta(minutes=2)\n",
        "  final_time_str = final_time.strftime('%d/%m/%Y %H:%M:%S.%f')\n",
        "  keep = final_time_str.split(\" \")\n",
        "  main = keep[0].split(\"/\")\n",
        "  final = \"\".join(main[2]+\"/\"+main[1]+\"/\"+main[0])\n",
        "  finallistdates.append(final)\n",
        "  finallisttimes.append(keep[1])"
      ]
    },
    {
      "cell_type": "code",
      "execution_count": null,
      "metadata": {
        "colab": {
          "base_uri": "https://localhost:8080/",
          "height": 36
        },
        "id": "QMuuN9YOLOs9",
        "outputId": "b1156855-a497-4213-a67e-54ac5cc864dc"
      },
      "outputs": [
        {
          "data": {
            "application/vnd.google.colaboratory.intrinsic+json": {
              "type": "string"
            },
            "text/plain": [
              "'2021/12/01'"
            ]
          },
          "execution_count": 94,
          "metadata": {},
          "output_type": "execute_result"
        }
      ],
      "source": [
        "finallistdates[-1]"
      ]
    },
    {
      "cell_type": "code",
      "execution_count": null,
      "metadata": {
        "colab": {
          "base_uri": "https://localhost:8080/",
          "height": 36
        },
        "id": "4j3KEVapPBl1",
        "outputId": "c2a9b5a4-d6c7-4323-e0c4-d7b03dc33abd"
      },
      "outputs": [
        {
          "data": {
            "application/vnd.google.colaboratory.intrinsic+json": {
              "type": "string"
            },
            "text/plain": [
              "'20:23:00.000000'"
            ]
          },
          "execution_count": 95,
          "metadata": {},
          "output_type": "execute_result"
        }
      ],
      "source": [
        "finallisttimes[-1]"
      ]
    },
    {
      "cell_type": "code",
      "execution_count": null,
      "metadata": {
        "id": "X0riipwnQB7v"
      },
      "outputs": [],
      "source": [
        "finallistdates = list(df.iloc[534006:,0])\n",
        "finallisttimes = list(df.iloc[534006:,1])\n",
        "finallistcloseprice = list(df.iloc[534006:,5])\n"
      ]
    },
    {
      "cell_type": "code",
      "execution_count": null,
      "metadata": {
        "colab": {
          "base_uri": "https://localhost:8080/"
        },
        "id": "GHvQUDf7SwOn",
        "outputId": "54708c73-39d6-4125-9204-84e751b4d449"
      },
      "outputs": [
        {
          "data": {
            "text/plain": [
              "228717"
            ]
          },
          "execution_count": 245,
          "metadata": {},
          "output_type": "execute_result"
        }
      ],
      "source": [
        "len(df[534005:])"
      ]
    },
    {
      "cell_type": "code",
      "execution_count": null,
      "metadata": {
        "id": "ejGd8ZVpSumT"
      },
      "outputs": [],
      "source": [
        "finalactualtrends=['Up']\n",
        "\n",
        "for i in range(1,len(finallistcloseprice)):\n",
        "\n",
        "  if finallistcloseprice[i] > finallistcloseprice[i-1]:\n",
        "    finalactualtrends.append('Up')\n",
        "\n",
        "  elif finallistcloseprice[i] < finallistcloseprice[i-1]:\n",
        "    finalactualtrends.append('Bottom')\n",
        "\n",
        "  else:\n",
        "    finalactualtrends.append('Flat')"
      ]
    },
    {
      "cell_type": "code",
      "execution_count": null,
      "metadata": {
        "colab": {
          "base_uri": "https://localhost:8080/"
        },
        "id": "5wbntbZiTI2H",
        "outputId": "1b5bffb8-d38d-48b4-95e1-6f501c9ec575"
      },
      "outputs": [
        {
          "data": {
            "text/plain": [
              "228716"
            ]
          },
          "execution_count": 207,
          "metadata": {},
          "output_type": "execute_result"
        }
      ],
      "source": [
        "len(test_predict)"
      ]
    },
    {
      "cell_type": "code",
      "execution_count": null,
      "metadata": {
        "colab": {
          "base_uri": "https://localhost:8080/"
        },
        "id": "m8qUAbEbTONl",
        "outputId": "9ec3680d-8a77-45a3-d122-d7f53ae0987e"
      },
      "outputs": [
        {
          "data": {
            "text/plain": [
              "228716"
            ]
          },
          "execution_count": 208,
          "metadata": {},
          "output_type": "execute_result"
        }
      ],
      "source": [
        "len(finallistdates)"
      ]
    },
    {
      "cell_type": "code",
      "execution_count": null,
      "metadata": {
        "colab": {
          "base_uri": "https://localhost:8080/"
        },
        "id": "S8PB90YXYRRJ",
        "outputId": "e21b879a-aee1-40ef-ab8c-9a4e7020044b"
      },
      "outputs": [
        {
          "data": {
            "text/plain": [
              "(533905, 228817)"
            ]
          },
          "execution_count": 195,
          "metadata": {},
          "output_type": "execute_result"
        }
      ],
      "source": [
        "len(train_data),len(test_data)"
      ]
    },
    {
      "cell_type": "code",
      "execution_count": null,
      "metadata": {
        "colab": {
          "base_uri": "https://localhost:8080/"
        },
        "id": "cqIFHDRfYage",
        "outputId": "4e7b75a3-35bc-48ee-e155-ecaff5c4cde5"
      },
      "outputs": [
        {
          "data": {
            "text/plain": [
              "533804"
            ]
          },
          "execution_count": 140,
          "metadata": {},
          "output_type": "execute_result"
        }
      ],
      "source": [
        "len(train_predict)"
      ]
    },
    {
      "cell_type": "code",
      "execution_count": null,
      "metadata": {
        "colab": {
          "base_uri": "https://localhost:8080/"
        },
        "id": "8BmmZlwGYb7v",
        "outputId": "5b7fdff5-b601-43c7-8dff-99bdb6cecf63"
      },
      "outputs": [
        {
          "data": {
            "text/plain": [
              "(533804, 533804)"
            ]
          },
          "execution_count": 142,
          "metadata": {},
          "output_type": "execute_result"
        }
      ],
      "source": [
        "len(Y_train),len(train_predict)"
      ]
    },
    {
      "cell_type": "code",
      "execution_count": null,
      "metadata": {
        "colab": {
          "base_uri": "https://localhost:8080/"
        },
        "id": "PCu5kfkgZQA_",
        "outputId": "e6ae46dd-baf4-4001-a83a-2360a616d058"
      },
      "outputs": [
        {
          "data": {
            "text/plain": [
              "(228716, 228716)"
            ]
          },
          "execution_count": 144,
          "metadata": {},
          "output_type": "execute_result"
        }
      ],
      "source": [
        "len(Y_test),len(test_predict)"
      ]
    },
    {
      "cell_type": "code",
      "execution_count": null,
      "metadata": {
        "colab": {
          "base_uri": "https://localhost:8080/"
        },
        "id": "StKWtKmDZUmm",
        "outputId": "c3df9f03-e752-40ef-baef-c3096c095c3d"
      },
      "outputs": [
        {
          "data": {
            "text/plain": [
              "228716"
            ]
          },
          "execution_count": 149,
          "metadata": {},
          "output_type": "execute_result"
        }
      ],
      "source": [
        "len(test_predict)"
      ]
    },
    {
      "cell_type": "code",
      "execution_count": null,
      "metadata": {
        "colab": {
          "base_uri": "https://localhost:8080/",
          "height": 424
        },
        "id": "HycAr_JDZyQW",
        "outputId": "4dfd445d-ebd1-4b6a-d6a0-39c76342599f"
      },
      "outputs": [
        {
          "data": {
            "text/html": [
              "\n",
              "  <div id=\"df-a599390e-9346-49a1-98ae-64e291fc89ee\">\n",
              "    <div class=\"colab-df-container\">\n",
              "      <div>\n",
              "<style scoped>\n",
              "    .dataframe tbody tr th:only-of-type {\n",
              "        vertical-align: middle;\n",
              "    }\n",
              "\n",
              "    .dataframe tbody tr th {\n",
              "        vertical-align: top;\n",
              "    }\n",
              "\n",
              "    .dataframe thead th {\n",
              "        text-align: right;\n",
              "    }\n",
              "</style>\n",
              "<table border=\"1\" class=\"dataframe\">\n",
              "  <thead>\n",
              "    <tr style=\"text-align: right;\">\n",
              "      <th></th>\n",
              "      <th>Date</th>\n",
              "      <th>Time</th>\n",
              "      <th>Open</th>\n",
              "      <th>High</th>\n",
              "      <th>Low</th>\n",
              "      <th>Last</th>\n",
              "      <th>Volume</th>\n",
              "    </tr>\n",
              "  </thead>\n",
              "  <tbody>\n",
              "    <tr>\n",
              "      <th>533905</th>\n",
              "      <td>2021/1/18</td>\n",
              "      <td>01:09:00.0</td>\n",
              "      <td>12778.00</td>\n",
              "      <td>12780.00</td>\n",
              "      <td>12776.50</td>\n",
              "      <td>12779.00</td>\n",
              "      <td>29</td>\n",
              "    </tr>\n",
              "    <tr>\n",
              "      <th>533906</th>\n",
              "      <td>2021/1/18</td>\n",
              "      <td>01:11:00.0</td>\n",
              "      <td>12777.25</td>\n",
              "      <td>12779.50</td>\n",
              "      <td>12776.50</td>\n",
              "      <td>12776.50</td>\n",
              "      <td>35</td>\n",
              "    </tr>\n",
              "    <tr>\n",
              "      <th>533907</th>\n",
              "      <td>2021/1/18</td>\n",
              "      <td>01:13:00.0</td>\n",
              "      <td>12775.25</td>\n",
              "      <td>12777.75</td>\n",
              "      <td>12775.25</td>\n",
              "      <td>12775.75</td>\n",
              "      <td>22</td>\n",
              "    </tr>\n",
              "    <tr>\n",
              "      <th>533908</th>\n",
              "      <td>2021/1/18</td>\n",
              "      <td>01:15:00.0</td>\n",
              "      <td>12777.00</td>\n",
              "      <td>12778.00</td>\n",
              "      <td>12775.50</td>\n",
              "      <td>12776.50</td>\n",
              "      <td>39</td>\n",
              "    </tr>\n",
              "    <tr>\n",
              "      <th>533909</th>\n",
              "      <td>2021/1/18</td>\n",
              "      <td>01:17:00.0</td>\n",
              "      <td>12777.25</td>\n",
              "      <td>12777.75</td>\n",
              "      <td>12776.25</td>\n",
              "      <td>12777.75</td>\n",
              "      <td>14</td>\n",
              "    </tr>\n",
              "    <tr>\n",
              "      <th>...</th>\n",
              "      <td>...</td>\n",
              "      <td>...</td>\n",
              "      <td>...</td>\n",
              "      <td>...</td>\n",
              "      <td>...</td>\n",
              "      <td>...</td>\n",
              "      <td>...</td>\n",
              "    </tr>\n",
              "    <tr>\n",
              "      <th>762717</th>\n",
              "      <td>2022/5/3</td>\n",
              "      <td>01:17:00.0</td>\n",
              "      <td>13140.75</td>\n",
              "      <td>13145.25</td>\n",
              "      <td>13137.00</td>\n",
              "      <td>13140.00</td>\n",
              "      <td>174</td>\n",
              "    </tr>\n",
              "    <tr>\n",
              "      <th>762718</th>\n",
              "      <td>2022/5/3</td>\n",
              "      <td>01:19:00.0</td>\n",
              "      <td>13140.50</td>\n",
              "      <td>13141.50</td>\n",
              "      <td>13132.50</td>\n",
              "      <td>13133.50</td>\n",
              "      <td>97</td>\n",
              "    </tr>\n",
              "    <tr>\n",
              "      <th>762719</th>\n",
              "      <td>2022/5/3</td>\n",
              "      <td>01:21:00.0</td>\n",
              "      <td>13133.50</td>\n",
              "      <td>13135.00</td>\n",
              "      <td>13130.50</td>\n",
              "      <td>13133.50</td>\n",
              "      <td>44</td>\n",
              "    </tr>\n",
              "    <tr>\n",
              "      <th>762720</th>\n",
              "      <td>2022/5/3</td>\n",
              "      <td>01:23:00.0</td>\n",
              "      <td>13133.00</td>\n",
              "      <td>13137.25</td>\n",
              "      <td>13130.50</td>\n",
              "      <td>13135.00</td>\n",
              "      <td>86</td>\n",
              "    </tr>\n",
              "    <tr>\n",
              "      <th>762721</th>\n",
              "      <td>2022/5/3</td>\n",
              "      <td>01:25:00.0</td>\n",
              "      <td>13135.50</td>\n",
              "      <td>13136.75</td>\n",
              "      <td>13126.50</td>\n",
              "      <td>13131.75</td>\n",
              "      <td>171</td>\n",
              "    </tr>\n",
              "  </tbody>\n",
              "</table>\n",
              "<p>228817 rows × 7 columns</p>\n",
              "</div>\n",
              "      <button class=\"colab-df-convert\" onclick=\"convertToInteractive('df-a599390e-9346-49a1-98ae-64e291fc89ee')\"\n",
              "              title=\"Convert this dataframe to an interactive table.\"\n",
              "              style=\"display:none;\">\n",
              "        \n",
              "  <svg xmlns=\"http://www.w3.org/2000/svg\" height=\"24px\"viewBox=\"0 0 24 24\"\n",
              "       width=\"24px\">\n",
              "    <path d=\"M0 0h24v24H0V0z\" fill=\"none\"/>\n",
              "    <path d=\"M18.56 5.44l.94 2.06.94-2.06 2.06-.94-2.06-.94-.94-2.06-.94 2.06-2.06.94zm-11 1L8.5 8.5l.94-2.06 2.06-.94-2.06-.94L8.5 2.5l-.94 2.06-2.06.94zm10 10l.94 2.06.94-2.06 2.06-.94-2.06-.94-.94-2.06-.94 2.06-2.06.94z\"/><path d=\"M17.41 7.96l-1.37-1.37c-.4-.4-.92-.59-1.43-.59-.52 0-1.04.2-1.43.59L10.3 9.45l-7.72 7.72c-.78.78-.78 2.05 0 2.83L4 21.41c.39.39.9.59 1.41.59.51 0 1.02-.2 1.41-.59l7.78-7.78 2.81-2.81c.8-.78.8-2.07 0-2.86zM5.41 20L4 18.59l7.72-7.72 1.47 1.35L5.41 20z\"/>\n",
              "  </svg>\n",
              "      </button>\n",
              "      \n",
              "  <style>\n",
              "    .colab-df-container {\n",
              "      display:flex;\n",
              "      flex-wrap:wrap;\n",
              "      gap: 12px;\n",
              "    }\n",
              "\n",
              "    .colab-df-convert {\n",
              "      background-color: #E8F0FE;\n",
              "      border: none;\n",
              "      border-radius: 50%;\n",
              "      cursor: pointer;\n",
              "      display: none;\n",
              "      fill: #1967D2;\n",
              "      height: 32px;\n",
              "      padding: 0 0 0 0;\n",
              "      width: 32px;\n",
              "    }\n",
              "\n",
              "    .colab-df-convert:hover {\n",
              "      background-color: #E2EBFA;\n",
              "      box-shadow: 0px 1px 2px rgba(60, 64, 67, 0.3), 0px 1px 3px 1px rgba(60, 64, 67, 0.15);\n",
              "      fill: #174EA6;\n",
              "    }\n",
              "\n",
              "    [theme=dark] .colab-df-convert {\n",
              "      background-color: #3B4455;\n",
              "      fill: #D2E3FC;\n",
              "    }\n",
              "\n",
              "    [theme=dark] .colab-df-convert:hover {\n",
              "      background-color: #434B5C;\n",
              "      box-shadow: 0px 1px 3px 1px rgba(0, 0, 0, 0.15);\n",
              "      filter: drop-shadow(0px 1px 2px rgba(0, 0, 0, 0.3));\n",
              "      fill: #FFFFFF;\n",
              "    }\n",
              "  </style>\n",
              "\n",
              "      <script>\n",
              "        const buttonEl =\n",
              "          document.querySelector('#df-a599390e-9346-49a1-98ae-64e291fc89ee button.colab-df-convert');\n",
              "        buttonEl.style.display =\n",
              "          google.colab.kernel.accessAllowed ? 'block' : 'none';\n",
              "\n",
              "        async function convertToInteractive(key) {\n",
              "          const element = document.querySelector('#df-a599390e-9346-49a1-98ae-64e291fc89ee');\n",
              "          const dataTable =\n",
              "            await google.colab.kernel.invokeFunction('convertToInteractive',\n",
              "                                                     [key], {});\n",
              "          if (!dataTable) return;\n",
              "\n",
              "          const docLinkHtml = 'Like what you see? Visit the ' +\n",
              "            '<a target=\"_blank\" href=https://colab.research.google.com/notebooks/data_table.ipynb>data table notebook</a>'\n",
              "            + ' to learn more about interactive tables.';\n",
              "          element.innerHTML = '';\n",
              "          dataTable['output_type'] = 'display_data';\n",
              "          await google.colab.output.renderOutput(dataTable, element);\n",
              "          const docLink = document.createElement('div');\n",
              "          docLink.innerHTML = docLinkHtml;\n",
              "          element.appendChild(docLink);\n",
              "        }\n",
              "      </script>\n",
              "    </div>\n",
              "  </div>\n",
              "  "
            ],
            "text/plain": [
              "             Date         Time      Open      High       Low      Last  \\\n",
              "533905  2021/1/18   01:09:00.0  12778.00  12780.00  12776.50  12779.00   \n",
              "533906  2021/1/18   01:11:00.0  12777.25  12779.50  12776.50  12776.50   \n",
              "533907  2021/1/18   01:13:00.0  12775.25  12777.75  12775.25  12775.75   \n",
              "533908  2021/1/18   01:15:00.0  12777.00  12778.00  12775.50  12776.50   \n",
              "533909  2021/1/18   01:17:00.0  12777.25  12777.75  12776.25  12777.75   \n",
              "...           ...          ...       ...       ...       ...       ...   \n",
              "762717   2022/5/3   01:17:00.0  13140.75  13145.25  13137.00  13140.00   \n",
              "762718   2022/5/3   01:19:00.0  13140.50  13141.50  13132.50  13133.50   \n",
              "762719   2022/5/3   01:21:00.0  13133.50  13135.00  13130.50  13133.50   \n",
              "762720   2022/5/3   01:23:00.0  13133.00  13137.25  13130.50  13135.00   \n",
              "762721   2022/5/3   01:25:00.0  13135.50  13136.75  13126.50  13131.75   \n",
              "\n",
              "         Volume  \n",
              "533905       29  \n",
              "533906       35  \n",
              "533907       22  \n",
              "533908       39  \n",
              "533909       14  \n",
              "...         ...  \n",
              "762717      174  \n",
              "762718       97  \n",
              "762719       44  \n",
              "762720       86  \n",
              "762721      171  \n",
              "\n",
              "[228817 rows x 7 columns]"
            ]
          },
          "execution_count": 155,
          "metadata": {},
          "output_type": "execute_result"
        }
      ],
      "source": [
        "df[533905:]"
      ]
    },
    {
      "cell_type": "code",
      "execution_count": null,
      "metadata": {
        "colab": {
          "base_uri": "https://localhost:8080/"
        },
        "id": "CLCcVG7xZ-Py",
        "outputId": "55a42216-aa6e-4c42-cfc0-0a8785c1e256"
      },
      "outputs": [
        {
          "data": {
            "text/plain": [
              "array([[12821.024 ],\n",
              "       [12821.801 ],\n",
              "       [12820.384 ],\n",
              "       ...,\n",
              "       [13177.087 ],\n",
              "       [13171.1455],\n",
              "       [13171.976 ]], dtype=float32)"
            ]
          },
          "execution_count": 148,
          "metadata": {},
          "output_type": "execute_result"
        }
      ],
      "source": [
        "test_predict"
      ]
    },
    {
      "cell_type": "code",
      "execution_count": null,
      "metadata": {
        "colab": {
          "base_uri": "https://localhost:8080/"
        },
        "id": "GguLgthPaDNy",
        "outputId": "53cbc97c-37d7-4a12-8812-364ac5049150"
      },
      "outputs": [
        {
          "data": {
            "text/plain": [
              "22871600"
            ]
          },
          "execution_count": 161,
          "metadata": {},
          "output_type": "execute_result"
        }
      ],
      "source": [
        "dummy = scaler.inverse_transform(X_test.reshape(1,-1))\n",
        "len(dummy[0])"
      ]
    },
    {
      "cell_type": "code",
      "execution_count": null,
      "metadata": {
        "colab": {
          "base_uri": "https://localhost:8080/"
        },
        "id": "yzPiNV9SaaRZ",
        "outputId": "14b5762b-e52c-45ed-8957-6964794f8695"
      },
      "outputs": [
        {
          "data": {
            "text/plain": [
              "228716"
            ]
          },
          "execution_count": 162,
          "metadata": {},
          "output_type": "execute_result"
        }
      ],
      "source": [
        "len(test_predict)"
      ]
    },
    {
      "cell_type": "code",
      "execution_count": null,
      "metadata": {
        "id": "eSnnonYPbppi"
      },
      "outputs": [],
      "source": [
        "finalpredictedcloseprice = test_predict"
      ]
    },
    {
      "cell_type": "code",
      "execution_count": null,
      "metadata": {
        "id": "lj1yTkx2aiWr"
      },
      "outputs": [],
      "source": [
        "finalpredictedtrends = ['Up']\n",
        "\n",
        "for i in range(1,len(finalpredictedcloseprice)):\n",
        "\n",
        "  if finalpredictedcloseprice[i] > finalpredictedcloseprice[i-1]:\n",
        "    finalpredictedtrends.append('Up')\n",
        "\n",
        "  elif finalpredictedcloseprice[i] < finalpredictedcloseprice[i-1]:\n",
        "    finalpredictedtrends.append('Bottom')\n",
        "\n",
        "  else:\n",
        "    finalpredictedtrends.append('Flat')"
      ]
    },
    {
      "cell_type": "code",
      "execution_count": null,
      "metadata": {
        "colab": {
          "base_uri": "https://localhost:8080/"
        },
        "id": "gWB85c1OcC50",
        "outputId": "646a7296-decd-4ce0-f5e9-fb6f23ae1091"
      },
      "outputs": [
        {
          "data": {
            "text/plain": [
              "228716"
            ]
          },
          "execution_count": 228,
          "metadata": {},
          "output_type": "execute_result"
        }
      ],
      "source": [
        "len(finalpredictedtrends)"
      ]
    },
    {
      "cell_type": "code",
      "execution_count": null,
      "metadata": {
        "colab": {
          "base_uri": "https://localhost:8080/"
        },
        "id": "j30OGcqioTDg",
        "outputId": "3f848ad1-946c-48f0-f57f-facb9b856714"
      },
      "outputs": [
        {
          "data": {
            "text/plain": [
              "list"
            ]
          },
          "execution_count": 230,
          "metadata": {},
          "output_type": "execute_result"
        }
      ],
      "source": [
        "type(listtrends)"
      ]
    },
    {
      "cell_type": "code",
      "execution_count": null,
      "metadata": {
        "colab": {
          "base_uri": "https://localhost:8080/"
        },
        "id": "TsHYvy3aoONu",
        "outputId": "636ef25f-a49a-4dc3-c0e3-6f036ad13e0a"
      },
      "outputs": [
        {
          "data": {
            "text/plain": [
              "list"
            ]
          },
          "execution_count": 229,
          "metadata": {},
          "output_type": "execute_result"
        }
      ],
      "source": [
        "type(finalpredictedtrends)"
      ]
    },
    {
      "cell_type": "code",
      "execution_count": null,
      "metadata": {
        "id": "DbHWlsHOnr61"
      },
      "outputs": [],
      "source": [
        "finalpredictedtrends = list(finalpredictedtrends)"
      ]
    },
    {
      "cell_type": "code",
      "execution_count": null,
      "metadata": {
        "id": "QYHenBO0dSYK"
      },
      "outputs": [],
      "source": [
        "#For strength"
      ]
    },
    {
      "cell_type": "code",
      "execution_count": null,
      "metadata": {
        "id": "q1FdnQMKcFY1"
      },
      "outputs": [],
      "source": [
        "df2 = pd.DataFrame(df.reset_index()[' Last'])"
      ]
    },
    {
      "cell_type": "code",
      "execution_count": null,
      "metadata": {
        "colab": {
          "base_uri": "https://localhost:8080/",
          "height": 424
        },
        "id": "vPC4RpWwc_zt",
        "outputId": "5a46dfdc-a9ce-420a-fbfd-a6070a18ff91"
      },
      "outputs": [
        {
          "data": {
            "text/html": [
              "\n",
              "  <div id=\"df-7c44c5a5-c647-4ab1-bf22-6e45c503f101\">\n",
              "    <div class=\"colab-df-container\">\n",
              "      <div>\n",
              "<style scoped>\n",
              "    .dataframe tbody tr th:only-of-type {\n",
              "        vertical-align: middle;\n",
              "    }\n",
              "\n",
              "    .dataframe tbody tr th {\n",
              "        vertical-align: top;\n",
              "    }\n",
              "\n",
              "    .dataframe thead th {\n",
              "        text-align: right;\n",
              "    }\n",
              "</style>\n",
              "<table border=\"1\" class=\"dataframe\">\n",
              "  <thead>\n",
              "    <tr style=\"text-align: right;\">\n",
              "      <th></th>\n",
              "      <th>Last</th>\n",
              "    </tr>\n",
              "  </thead>\n",
              "  <tbody>\n",
              "    <tr>\n",
              "      <th>0</th>\n",
              "      <td>6407.75</td>\n",
              "    </tr>\n",
              "    <tr>\n",
              "      <th>1</th>\n",
              "      <td>6411.25</td>\n",
              "    </tr>\n",
              "    <tr>\n",
              "      <th>2</th>\n",
              "      <td>6411.50</td>\n",
              "    </tr>\n",
              "    <tr>\n",
              "      <th>3</th>\n",
              "      <td>6415.00</td>\n",
              "    </tr>\n",
              "    <tr>\n",
              "      <th>4</th>\n",
              "      <td>6413.50</td>\n",
              "    </tr>\n",
              "    <tr>\n",
              "      <th>...</th>\n",
              "      <td>...</td>\n",
              "    </tr>\n",
              "    <tr>\n",
              "      <th>762717</th>\n",
              "      <td>13140.00</td>\n",
              "    </tr>\n",
              "    <tr>\n",
              "      <th>762718</th>\n",
              "      <td>13133.50</td>\n",
              "    </tr>\n",
              "    <tr>\n",
              "      <th>762719</th>\n",
              "      <td>13133.50</td>\n",
              "    </tr>\n",
              "    <tr>\n",
              "      <th>762720</th>\n",
              "      <td>13135.00</td>\n",
              "    </tr>\n",
              "    <tr>\n",
              "      <th>762721</th>\n",
              "      <td>13131.75</td>\n",
              "    </tr>\n",
              "  </tbody>\n",
              "</table>\n",
              "<p>762722 rows × 1 columns</p>\n",
              "</div>\n",
              "      <button class=\"colab-df-convert\" onclick=\"convertToInteractive('df-7c44c5a5-c647-4ab1-bf22-6e45c503f101')\"\n",
              "              title=\"Convert this dataframe to an interactive table.\"\n",
              "              style=\"display:none;\">\n",
              "        \n",
              "  <svg xmlns=\"http://www.w3.org/2000/svg\" height=\"24px\"viewBox=\"0 0 24 24\"\n",
              "       width=\"24px\">\n",
              "    <path d=\"M0 0h24v24H0V0z\" fill=\"none\"/>\n",
              "    <path d=\"M18.56 5.44l.94 2.06.94-2.06 2.06-.94-2.06-.94-.94-2.06-.94 2.06-2.06.94zm-11 1L8.5 8.5l.94-2.06 2.06-.94-2.06-.94L8.5 2.5l-.94 2.06-2.06.94zm10 10l.94 2.06.94-2.06 2.06-.94-2.06-.94-.94-2.06-.94 2.06-2.06.94z\"/><path d=\"M17.41 7.96l-1.37-1.37c-.4-.4-.92-.59-1.43-.59-.52 0-1.04.2-1.43.59L10.3 9.45l-7.72 7.72c-.78.78-.78 2.05 0 2.83L4 21.41c.39.39.9.59 1.41.59.51 0 1.02-.2 1.41-.59l7.78-7.78 2.81-2.81c.8-.78.8-2.07 0-2.86zM5.41 20L4 18.59l7.72-7.72 1.47 1.35L5.41 20z\"/>\n",
              "  </svg>\n",
              "      </button>\n",
              "      \n",
              "  <style>\n",
              "    .colab-df-container {\n",
              "      display:flex;\n",
              "      flex-wrap:wrap;\n",
              "      gap: 12px;\n",
              "    }\n",
              "\n",
              "    .colab-df-convert {\n",
              "      background-color: #E8F0FE;\n",
              "      border: none;\n",
              "      border-radius: 50%;\n",
              "      cursor: pointer;\n",
              "      display: none;\n",
              "      fill: #1967D2;\n",
              "      height: 32px;\n",
              "      padding: 0 0 0 0;\n",
              "      width: 32px;\n",
              "    }\n",
              "\n",
              "    .colab-df-convert:hover {\n",
              "      background-color: #E2EBFA;\n",
              "      box-shadow: 0px 1px 2px rgba(60, 64, 67, 0.3), 0px 1px 3px 1px rgba(60, 64, 67, 0.15);\n",
              "      fill: #174EA6;\n",
              "    }\n",
              "\n",
              "    [theme=dark] .colab-df-convert {\n",
              "      background-color: #3B4455;\n",
              "      fill: #D2E3FC;\n",
              "    }\n",
              "\n",
              "    [theme=dark] .colab-df-convert:hover {\n",
              "      background-color: #434B5C;\n",
              "      box-shadow: 0px 1px 3px 1px rgba(0, 0, 0, 0.15);\n",
              "      filter: drop-shadow(0px 1px 2px rgba(0, 0, 0, 0.3));\n",
              "      fill: #FFFFFF;\n",
              "    }\n",
              "  </style>\n",
              "\n",
              "      <script>\n",
              "        const buttonEl =\n",
              "          document.querySelector('#df-7c44c5a5-c647-4ab1-bf22-6e45c503f101 button.colab-df-convert');\n",
              "        buttonEl.style.display =\n",
              "          google.colab.kernel.accessAllowed ? 'block' : 'none';\n",
              "\n",
              "        async function convertToInteractive(key) {\n",
              "          const element = document.querySelector('#df-7c44c5a5-c647-4ab1-bf22-6e45c503f101');\n",
              "          const dataTable =\n",
              "            await google.colab.kernel.invokeFunction('convertToInteractive',\n",
              "                                                     [key], {});\n",
              "          if (!dataTable) return;\n",
              "\n",
              "          const docLinkHtml = 'Like what you see? Visit the ' +\n",
              "            '<a target=\"_blank\" href=https://colab.research.google.com/notebooks/data_table.ipynb>data table notebook</a>'\n",
              "            + ' to learn more about interactive tables.';\n",
              "          element.innerHTML = '';\n",
              "          dataTable['output_type'] = 'display_data';\n",
              "          await google.colab.output.renderOutput(dataTable, element);\n",
              "          const docLink = document.createElement('div');\n",
              "          docLink.innerHTML = docLinkHtml;\n",
              "          element.appendChild(docLink);\n",
              "        }\n",
              "      </script>\n",
              "    </div>\n",
              "  </div>\n",
              "  "
            ],
            "text/plain": [
              "            Last\n",
              "0        6407.75\n",
              "1        6411.25\n",
              "2        6411.50\n",
              "3        6415.00\n",
              "4        6413.50\n",
              "...          ...\n",
              "762717  13140.00\n",
              "762718  13133.50\n",
              "762719  13133.50\n",
              "762720  13135.00\n",
              "762721  13131.75\n",
              "\n",
              "[762722 rows x 1 columns]"
            ]
          },
          "execution_count": 185,
          "metadata": {},
          "output_type": "execute_result"
        }
      ],
      "source": [
        "df2"
      ]
    },
    {
      "cell_type": "code",
      "execution_count": null,
      "metadata": {
        "colab": {
          "base_uri": "https://localhost:8080/",
          "height": 424
        },
        "id": "hb0AOJYBdNh5",
        "outputId": "db7a8fc7-1758-4d48-e7ad-f352afdc29df"
      },
      "outputs": [
        {
          "data": {
            "text/html": [
              "\n",
              "  <div id=\"df-44af76d6-088c-4330-8a9f-67840b81a637\">\n",
              "    <div class=\"colab-df-container\">\n",
              "      <div>\n",
              "<style scoped>\n",
              "    .dataframe tbody tr th:only-of-type {\n",
              "        vertical-align: middle;\n",
              "    }\n",
              "\n",
              "    .dataframe tbody tr th {\n",
              "        vertical-align: top;\n",
              "    }\n",
              "\n",
              "    .dataframe thead th {\n",
              "        text-align: right;\n",
              "    }\n",
              "</style>\n",
              "<table border=\"1\" class=\"dataframe\">\n",
              "  <thead>\n",
              "    <tr style=\"text-align: right;\">\n",
              "      <th></th>\n",
              "      <th>Last</th>\n",
              "      <th>diff</th>\n",
              "    </tr>\n",
              "  </thead>\n",
              "  <tbody>\n",
              "    <tr>\n",
              "      <th>0</th>\n",
              "      <td>6407.75</td>\n",
              "      <td>NaN</td>\n",
              "    </tr>\n",
              "    <tr>\n",
              "      <th>1</th>\n",
              "      <td>6411.25</td>\n",
              "      <td>3.50</td>\n",
              "    </tr>\n",
              "    <tr>\n",
              "      <th>2</th>\n",
              "      <td>6411.50</td>\n",
              "      <td>0.25</td>\n",
              "    </tr>\n",
              "    <tr>\n",
              "      <th>3</th>\n",
              "      <td>6415.00</td>\n",
              "      <td>3.50</td>\n",
              "    </tr>\n",
              "    <tr>\n",
              "      <th>4</th>\n",
              "      <td>6413.50</td>\n",
              "      <td>-1.50</td>\n",
              "    </tr>\n",
              "    <tr>\n",
              "      <th>...</th>\n",
              "      <td>...</td>\n",
              "      <td>...</td>\n",
              "    </tr>\n",
              "    <tr>\n",
              "      <th>762717</th>\n",
              "      <td>13140.00</td>\n",
              "      <td>-1.00</td>\n",
              "    </tr>\n",
              "    <tr>\n",
              "      <th>762718</th>\n",
              "      <td>13133.50</td>\n",
              "      <td>-6.50</td>\n",
              "    </tr>\n",
              "    <tr>\n",
              "      <th>762719</th>\n",
              "      <td>13133.50</td>\n",
              "      <td>0.00</td>\n",
              "    </tr>\n",
              "    <tr>\n",
              "      <th>762720</th>\n",
              "      <td>13135.00</td>\n",
              "      <td>1.50</td>\n",
              "    </tr>\n",
              "    <tr>\n",
              "      <th>762721</th>\n",
              "      <td>13131.75</td>\n",
              "      <td>-3.25</td>\n",
              "    </tr>\n",
              "  </tbody>\n",
              "</table>\n",
              "<p>762722 rows × 2 columns</p>\n",
              "</div>\n",
              "      <button class=\"colab-df-convert\" onclick=\"convertToInteractive('df-44af76d6-088c-4330-8a9f-67840b81a637')\"\n",
              "              title=\"Convert this dataframe to an interactive table.\"\n",
              "              style=\"display:none;\">\n",
              "        \n",
              "  <svg xmlns=\"http://www.w3.org/2000/svg\" height=\"24px\"viewBox=\"0 0 24 24\"\n",
              "       width=\"24px\">\n",
              "    <path d=\"M0 0h24v24H0V0z\" fill=\"none\"/>\n",
              "    <path d=\"M18.56 5.44l.94 2.06.94-2.06 2.06-.94-2.06-.94-.94-2.06-.94 2.06-2.06.94zm-11 1L8.5 8.5l.94-2.06 2.06-.94-2.06-.94L8.5 2.5l-.94 2.06-2.06.94zm10 10l.94 2.06.94-2.06 2.06-.94-2.06-.94-.94-2.06-.94 2.06-2.06.94z\"/><path d=\"M17.41 7.96l-1.37-1.37c-.4-.4-.92-.59-1.43-.59-.52 0-1.04.2-1.43.59L10.3 9.45l-7.72 7.72c-.78.78-.78 2.05 0 2.83L4 21.41c.39.39.9.59 1.41.59.51 0 1.02-.2 1.41-.59l7.78-7.78 2.81-2.81c.8-.78.8-2.07 0-2.86zM5.41 20L4 18.59l7.72-7.72 1.47 1.35L5.41 20z\"/>\n",
              "  </svg>\n",
              "      </button>\n",
              "      \n",
              "  <style>\n",
              "    .colab-df-container {\n",
              "      display:flex;\n",
              "      flex-wrap:wrap;\n",
              "      gap: 12px;\n",
              "    }\n",
              "\n",
              "    .colab-df-convert {\n",
              "      background-color: #E8F0FE;\n",
              "      border: none;\n",
              "      border-radius: 50%;\n",
              "      cursor: pointer;\n",
              "      display: none;\n",
              "      fill: #1967D2;\n",
              "      height: 32px;\n",
              "      padding: 0 0 0 0;\n",
              "      width: 32px;\n",
              "    }\n",
              "\n",
              "    .colab-df-convert:hover {\n",
              "      background-color: #E2EBFA;\n",
              "      box-shadow: 0px 1px 2px rgba(60, 64, 67, 0.3), 0px 1px 3px 1px rgba(60, 64, 67, 0.15);\n",
              "      fill: #174EA6;\n",
              "    }\n",
              "\n",
              "    [theme=dark] .colab-df-convert {\n",
              "      background-color: #3B4455;\n",
              "      fill: #D2E3FC;\n",
              "    }\n",
              "\n",
              "    [theme=dark] .colab-df-convert:hover {\n",
              "      background-color: #434B5C;\n",
              "      box-shadow: 0px 1px 3px 1px rgba(0, 0, 0, 0.15);\n",
              "      filter: drop-shadow(0px 1px 2px rgba(0, 0, 0, 0.3));\n",
              "      fill: #FFFFFF;\n",
              "    }\n",
              "  </style>\n",
              "\n",
              "      <script>\n",
              "        const buttonEl =\n",
              "          document.querySelector('#df-44af76d6-088c-4330-8a9f-67840b81a637 button.colab-df-convert');\n",
              "        buttonEl.style.display =\n",
              "          google.colab.kernel.accessAllowed ? 'block' : 'none';\n",
              "\n",
              "        async function convertToInteractive(key) {\n",
              "          const element = document.querySelector('#df-44af76d6-088c-4330-8a9f-67840b81a637');\n",
              "          const dataTable =\n",
              "            await google.colab.kernel.invokeFunction('convertToInteractive',\n",
              "                                                     [key], {});\n",
              "          if (!dataTable) return;\n",
              "\n",
              "          const docLinkHtml = 'Like what you see? Visit the ' +\n",
              "            '<a target=\"_blank\" href=https://colab.research.google.com/notebooks/data_table.ipynb>data table notebook</a>'\n",
              "            + ' to learn more about interactive tables.';\n",
              "          element.innerHTML = '';\n",
              "          dataTable['output_type'] = 'display_data';\n",
              "          await google.colab.output.renderOutput(dataTable, element);\n",
              "          const docLink = document.createElement('div');\n",
              "          docLink.innerHTML = docLinkHtml;\n",
              "          element.appendChild(docLink);\n",
              "        }\n",
              "      </script>\n",
              "    </div>\n",
              "  </div>\n",
              "  "
            ],
            "text/plain": [
              "            Last  diff\n",
              "0        6407.75   NaN\n",
              "1        6411.25  3.50\n",
              "2        6411.50  0.25\n",
              "3        6415.00  3.50\n",
              "4        6413.50 -1.50\n",
              "...          ...   ...\n",
              "762717  13140.00 -1.00\n",
              "762718  13133.50 -6.50\n",
              "762719  13133.50  0.00\n",
              "762720  13135.00  1.50\n",
              "762721  13131.75 -3.25\n",
              "\n",
              "[762722 rows x 2 columns]"
            ]
          },
          "execution_count": 186,
          "metadata": {},
          "output_type": "execute_result"
        }
      ],
      "source": [
        "df2['diff'] = df2.diff(1)\n",
        "df2"
      ]
    },
    {
      "cell_type": "code",
      "execution_count": null,
      "metadata": {
        "colab": {
          "base_uri": "https://localhost:8080/"
        },
        "id": "QjMi1fG7dVgf",
        "outputId": "04a6128d-e7d7-49d7-ec7c-875546217714"
      },
      "outputs": [
        {
          "data": {
            "text/plain": [
              "0          NaN\n",
              "1         3.50\n",
              "2         0.25\n",
              "3         3.50\n",
              "4        -1.50\n",
              "          ... \n",
              "762717   -1.00\n",
              "762718   -6.50\n",
              "762719    0.00\n",
              "762720    1.50\n",
              "762721   -3.25\n",
              "Name: diff, Length: 762722, dtype: float64"
            ]
          },
          "execution_count": 187,
          "metadata": {},
          "output_type": "execute_result"
        }
      ],
      "source": [
        "df2['diff']"
      ]
    },
    {
      "cell_type": "code",
      "execution_count": null,
      "metadata": {
        "id": "FKDQnBAkdb5Z"
      },
      "outputs": [],
      "source": [
        "df2['gain'] = df2['diff'].clip(lower=0).round(2)\n",
        "df2['loss'] = df2['diff'].clip(upper=0).abs().round(2)\n"
      ]
    },
    {
      "cell_type": "code",
      "execution_count": null,
      "metadata": {
        "colab": {
          "base_uri": "https://localhost:8080/",
          "height": 424
        },
        "id": "RC_ex73LdqNv",
        "outputId": "f05948c0-e4af-4f89-a822-f34e5511030a"
      },
      "outputs": [
        {
          "data": {
            "text/html": [
              "\n",
              "  <div id=\"df-e64fa1bd-8ef6-412b-956c-eeb48cf5523b\">\n",
              "    <div class=\"colab-df-container\">\n",
              "      <div>\n",
              "<style scoped>\n",
              "    .dataframe tbody tr th:only-of-type {\n",
              "        vertical-align: middle;\n",
              "    }\n",
              "\n",
              "    .dataframe tbody tr th {\n",
              "        vertical-align: top;\n",
              "    }\n",
              "\n",
              "    .dataframe thead th {\n",
              "        text-align: right;\n",
              "    }\n",
              "</style>\n",
              "<table border=\"1\" class=\"dataframe\">\n",
              "  <thead>\n",
              "    <tr style=\"text-align: right;\">\n",
              "      <th></th>\n",
              "      <th>Last</th>\n",
              "      <th>diff</th>\n",
              "      <th>gain</th>\n",
              "      <th>loss</th>\n",
              "    </tr>\n",
              "  </thead>\n",
              "  <tbody>\n",
              "    <tr>\n",
              "      <th>0</th>\n",
              "      <td>6407.75</td>\n",
              "      <td>NaN</td>\n",
              "      <td>NaN</td>\n",
              "      <td>NaN</td>\n",
              "    </tr>\n",
              "    <tr>\n",
              "      <th>1</th>\n",
              "      <td>6411.25</td>\n",
              "      <td>3.50</td>\n",
              "      <td>3.50</td>\n",
              "      <td>0.00</td>\n",
              "    </tr>\n",
              "    <tr>\n",
              "      <th>2</th>\n",
              "      <td>6411.50</td>\n",
              "      <td>0.25</td>\n",
              "      <td>0.25</td>\n",
              "      <td>0.00</td>\n",
              "    </tr>\n",
              "    <tr>\n",
              "      <th>3</th>\n",
              "      <td>6415.00</td>\n",
              "      <td>3.50</td>\n",
              "      <td>3.50</td>\n",
              "      <td>0.00</td>\n",
              "    </tr>\n",
              "    <tr>\n",
              "      <th>4</th>\n",
              "      <td>6413.50</td>\n",
              "      <td>-1.50</td>\n",
              "      <td>0.00</td>\n",
              "      <td>1.50</td>\n",
              "    </tr>\n",
              "    <tr>\n",
              "      <th>...</th>\n",
              "      <td>...</td>\n",
              "      <td>...</td>\n",
              "      <td>...</td>\n",
              "      <td>...</td>\n",
              "    </tr>\n",
              "    <tr>\n",
              "      <th>762717</th>\n",
              "      <td>13140.00</td>\n",
              "      <td>-1.00</td>\n",
              "      <td>0.00</td>\n",
              "      <td>1.00</td>\n",
              "    </tr>\n",
              "    <tr>\n",
              "      <th>762718</th>\n",
              "      <td>13133.50</td>\n",
              "      <td>-6.50</td>\n",
              "      <td>0.00</td>\n",
              "      <td>6.50</td>\n",
              "    </tr>\n",
              "    <tr>\n",
              "      <th>762719</th>\n",
              "      <td>13133.50</td>\n",
              "      <td>0.00</td>\n",
              "      <td>0.00</td>\n",
              "      <td>0.00</td>\n",
              "    </tr>\n",
              "    <tr>\n",
              "      <th>762720</th>\n",
              "      <td>13135.00</td>\n",
              "      <td>1.50</td>\n",
              "      <td>1.50</td>\n",
              "      <td>0.00</td>\n",
              "    </tr>\n",
              "    <tr>\n",
              "      <th>762721</th>\n",
              "      <td>13131.75</td>\n",
              "      <td>-3.25</td>\n",
              "      <td>0.00</td>\n",
              "      <td>3.25</td>\n",
              "    </tr>\n",
              "  </tbody>\n",
              "</table>\n",
              "<p>762722 rows × 4 columns</p>\n",
              "</div>\n",
              "      <button class=\"colab-df-convert\" onclick=\"convertToInteractive('df-e64fa1bd-8ef6-412b-956c-eeb48cf5523b')\"\n",
              "              title=\"Convert this dataframe to an interactive table.\"\n",
              "              style=\"display:none;\">\n",
              "        \n",
              "  <svg xmlns=\"http://www.w3.org/2000/svg\" height=\"24px\"viewBox=\"0 0 24 24\"\n",
              "       width=\"24px\">\n",
              "    <path d=\"M0 0h24v24H0V0z\" fill=\"none\"/>\n",
              "    <path d=\"M18.56 5.44l.94 2.06.94-2.06 2.06-.94-2.06-.94-.94-2.06-.94 2.06-2.06.94zm-11 1L8.5 8.5l.94-2.06 2.06-.94-2.06-.94L8.5 2.5l-.94 2.06-2.06.94zm10 10l.94 2.06.94-2.06 2.06-.94-2.06-.94-.94-2.06-.94 2.06-2.06.94z\"/><path d=\"M17.41 7.96l-1.37-1.37c-.4-.4-.92-.59-1.43-.59-.52 0-1.04.2-1.43.59L10.3 9.45l-7.72 7.72c-.78.78-.78 2.05 0 2.83L4 21.41c.39.39.9.59 1.41.59.51 0 1.02-.2 1.41-.59l7.78-7.78 2.81-2.81c.8-.78.8-2.07 0-2.86zM5.41 20L4 18.59l7.72-7.72 1.47 1.35L5.41 20z\"/>\n",
              "  </svg>\n",
              "      </button>\n",
              "      \n",
              "  <style>\n",
              "    .colab-df-container {\n",
              "      display:flex;\n",
              "      flex-wrap:wrap;\n",
              "      gap: 12px;\n",
              "    }\n",
              "\n",
              "    .colab-df-convert {\n",
              "      background-color: #E8F0FE;\n",
              "      border: none;\n",
              "      border-radius: 50%;\n",
              "      cursor: pointer;\n",
              "      display: none;\n",
              "      fill: #1967D2;\n",
              "      height: 32px;\n",
              "      padding: 0 0 0 0;\n",
              "      width: 32px;\n",
              "    }\n",
              "\n",
              "    .colab-df-convert:hover {\n",
              "      background-color: #E2EBFA;\n",
              "      box-shadow: 0px 1px 2px rgba(60, 64, 67, 0.3), 0px 1px 3px 1px rgba(60, 64, 67, 0.15);\n",
              "      fill: #174EA6;\n",
              "    }\n",
              "\n",
              "    [theme=dark] .colab-df-convert {\n",
              "      background-color: #3B4455;\n",
              "      fill: #D2E3FC;\n",
              "    }\n",
              "\n",
              "    [theme=dark] .colab-df-convert:hover {\n",
              "      background-color: #434B5C;\n",
              "      box-shadow: 0px 1px 3px 1px rgba(0, 0, 0, 0.15);\n",
              "      filter: drop-shadow(0px 1px 2px rgba(0, 0, 0, 0.3));\n",
              "      fill: #FFFFFF;\n",
              "    }\n",
              "  </style>\n",
              "\n",
              "      <script>\n",
              "        const buttonEl =\n",
              "          document.querySelector('#df-e64fa1bd-8ef6-412b-956c-eeb48cf5523b button.colab-df-convert');\n",
              "        buttonEl.style.display =\n",
              "          google.colab.kernel.accessAllowed ? 'block' : 'none';\n",
              "\n",
              "        async function convertToInteractive(key) {\n",
              "          const element = document.querySelector('#df-e64fa1bd-8ef6-412b-956c-eeb48cf5523b');\n",
              "          const dataTable =\n",
              "            await google.colab.kernel.invokeFunction('convertToInteractive',\n",
              "                                                     [key], {});\n",
              "          if (!dataTable) return;\n",
              "\n",
              "          const docLinkHtml = 'Like what you see? Visit the ' +\n",
              "            '<a target=\"_blank\" href=https://colab.research.google.com/notebooks/data_table.ipynb>data table notebook</a>'\n",
              "            + ' to learn more about interactive tables.';\n",
              "          element.innerHTML = '';\n",
              "          dataTable['output_type'] = 'display_data';\n",
              "          await google.colab.output.renderOutput(dataTable, element);\n",
              "          const docLink = document.createElement('div');\n",
              "          docLink.innerHTML = docLinkHtml;\n",
              "          element.appendChild(docLink);\n",
              "        }\n",
              "      </script>\n",
              "    </div>\n",
              "  </div>\n",
              "  "
            ],
            "text/plain": [
              "            Last  diff  gain  loss\n",
              "0        6407.75   NaN   NaN   NaN\n",
              "1        6411.25  3.50  3.50  0.00\n",
              "2        6411.50  0.25  0.25  0.00\n",
              "3        6415.00  3.50  3.50  0.00\n",
              "4        6413.50 -1.50  0.00  1.50\n",
              "...          ...   ...   ...   ...\n",
              "762717  13140.00 -1.00  0.00  1.00\n",
              "762718  13133.50 -6.50  0.00  6.50\n",
              "762719  13133.50  0.00  0.00  0.00\n",
              "762720  13135.00  1.50  1.50  0.00\n",
              "762721  13131.75 -3.25  0.00  3.25\n",
              "\n",
              "[762722 rows x 4 columns]"
            ]
          },
          "execution_count": 189,
          "metadata": {},
          "output_type": "execute_result"
        }
      ],
      "source": [
        "df2"
      ]
    },
    {
      "cell_type": "code",
      "execution_count": null,
      "metadata": {
        "id": "Eg3yhbJ-drJO"
      },
      "outputs": [],
      "source": [
        "window_length=100\n",
        "df2['avg_gain'] = df2['gain'].rolling(window=window_length, min_periods=window_length).mean()[:window_length+1]\n",
        "df2['avg_loss'] = df2['loss'].rolling(window=window_length, min_periods=window_length).mean()[:window_length+1]"
      ]
    },
    {
      "cell_type": "code",
      "execution_count": null,
      "metadata": {
        "id": "w98Www61d8ma"
      },
      "outputs": [],
      "source": [
        "for i, row in enumerate(df2['avg_gain'].iloc[window_length+1:]):\n",
        "    df2['avg_gain'].iloc[i + window_length + 1] =\\\n",
        "        (df2['avg_gain'].iloc[i + window_length] *\n",
        "         (window_length - 1) +\n",
        "         df2['gain'].iloc[i + window_length + 1])\\\n",
        "        / window_length\n",
        "# Average Losses\n",
        "for i, row in enumerate(df2['avg_loss'].iloc[window_length+1:]):\n",
        "    df2['avg_loss'].iloc[i + window_length + 1] =\\\n",
        "        (df2['avg_loss'].iloc[i + window_length] *\n",
        "         (window_length - 1) +\n",
        "         df2['loss'].iloc[i + window_length + 1])\\\n",
        "        / window_length\n"
      ]
    },
    {
      "cell_type": "code",
      "execution_count": null,
      "metadata": {
        "id": "AgE6SyYveGsR"
      },
      "outputs": [],
      "source": [
        "df2['rs'] = df2['avg_gain'] / df2['avg_loss']\n"
      ]
    },
    {
      "cell_type": "code",
      "execution_count": null,
      "metadata": {
        "colab": {
          "base_uri": "https://localhost:8080/"
        },
        "id": "1aQju7HheLLk",
        "outputId": "32a2b76e-c65b-4647-e673-c7d538cd6048"
      },
      "outputs": [
        {
          "name": "stdout",
          "output_type": "stream",
          "text": [
            "            Last  diff  gain  loss  avg_gain  avg_loss        rs        rsi\n",
            "0        6407.75   NaN   NaN   NaN       NaN       NaN       NaN        NaN\n",
            "1        6411.25  3.50  3.50  0.00       NaN       NaN       NaN        NaN\n",
            "2        6411.50  0.25  0.25  0.00       NaN       NaN       NaN        NaN\n",
            "3        6415.00  3.50  3.50  0.00       NaN       NaN       NaN        NaN\n",
            "4        6413.50 -1.50  0.00  1.50       NaN       NaN       NaN        NaN\n",
            "...          ...   ...   ...   ...       ...       ...       ...        ...\n",
            "762717  13140.00 -1.00  0.00  1.00  2.458924  2.020018  1.217278  54.899658\n",
            "762718  13133.50 -6.50  0.00  6.50  2.434334  2.064818  1.178958  54.106513\n",
            "762719  13133.50  0.00  0.00  0.00  2.409991  2.044170  1.178958  54.106513\n",
            "762720  13135.00  1.50  1.50  0.00  2.400891  2.023728  1.186370  54.262098\n",
            "762721  13131.75 -3.25  0.00  3.25  2.376882  2.035991  1.167433  53.862467\n",
            "\n",
            "[762722 rows x 8 columns]\n"
          ]
        }
      ],
      "source": [
        "df2['rsi'] = 100 - (100 / (1.0 + df2['rs']))\n",
        "# View Result\n",
        "print(df2)"
      ]
    },
    {
      "cell_type": "code",
      "execution_count": null,
      "metadata": {
        "colab": {
          "base_uri": "https://localhost:8080/"
        },
        "id": "C7Tk1xb3eUvT",
        "outputId": "22df6ec2-3512-4a98-dca2-6b016d65f368"
      },
      "outputs": [
        {
          "data": {
            "text/plain": [
              "0            NaN\n",
              "1            NaN\n",
              "2            NaN\n",
              "3            NaN\n",
              "4            NaN\n",
              "         ...    \n",
              "96           NaN\n",
              "97           NaN\n",
              "98           NaN\n",
              "99           NaN\n",
              "100    62.083333\n",
              "Name:  Last, Length: 101, dtype: float64"
            ]
          },
          "execution_count": 181,
          "metadata": {},
          "output_type": "execute_result"
        }
      ],
      "source": [
        "df2['rsi']"
      ]
    },
    {
      "cell_type": "code",
      "execution_count": null,
      "metadata": {
        "colab": {
          "base_uri": "https://localhost:8080/"
        },
        "id": "d1W1j2D-eXII",
        "outputId": "fdd8c0b2-33fe-4de7-82b4-2a0f099ad87e"
      },
      "outputs": [
        {
          "data": {
            "text/plain": [
              "(228716, 228716, 228716, 228716, 228716, 228716)"
            ]
          },
          "execution_count": 211,
          "metadata": {},
          "output_type": "execute_result"
        }
      ],
      "source": [
        "len(finallistdates) ,len(finallisttimes) , len(finallistcloseprice) , len(finalactualtrends) , len(finalpredictedcloseprice) , len(finalpredictedtrends)"
      ]
    },
    {
      "cell_type": "code",
      "execution_count": null,
      "metadata": {
        "id": "1iWPrWSPekE9"
      },
      "outputs": [],
      "source": [
        "finalliststrength = list(df2.iloc[534006:,7])"
      ]
    },
    {
      "cell_type": "code",
      "execution_count": null,
      "metadata": {
        "colab": {
          "base_uri": "https://localhost:8080/"
        },
        "id": "iraIlT-BemSj",
        "outputId": "a013a959-dc8f-41fc-fda4-95fc8f1d78fa"
      },
      "outputs": [
        {
          "data": {
            "text/plain": [
              "228716"
            ]
          },
          "execution_count": 217,
          "metadata": {},
          "output_type": "execute_result"
        }
      ],
      "source": [
        "len(finalliststrength)"
      ]
    },
    {
      "cell_type": "code",
      "execution_count": null,
      "metadata": {
        "id": "PuoBG-HXmhpC"
      },
      "outputs": [],
      "source": [
        "total_df = pd.DataFrame({'Date':finallistdates,\n",
        "                        'Time':finallisttimes,\n",
        "                        'Actual Close Price':finallistcloseprice,\n",
        "                        'Actual Trend': finalactualtrends,\n",
        "                        'strength':finalliststrength,\n",
        "                        'Predicted Close Price':list(finalpredictedcloseprice),\n",
        "                        'Predicted Trend':finalpredictedtrends})"
      ]
    },
    {
      "cell_type": "code",
      "execution_count": null,
      "metadata": {
        "colab": {
          "base_uri": "https://localhost:8080/",
          "height": 424
        },
        "id": "2B0Gkot4nl0M",
        "outputId": "ae3b5179-a7e9-41d4-bf55-139adabead7c"
      },
      "outputs": [
        {
          "data": {
            "text/html": [
              "\n",
              "  <div id=\"df-44af9dc6-faeb-4cf7-b3c0-de3df6b5ee7d\">\n",
              "    <div class=\"colab-df-container\">\n",
              "      <div>\n",
              "<style scoped>\n",
              "    .dataframe tbody tr th:only-of-type {\n",
              "        vertical-align: middle;\n",
              "    }\n",
              "\n",
              "    .dataframe tbody tr th {\n",
              "        vertical-align: top;\n",
              "    }\n",
              "\n",
              "    .dataframe thead th {\n",
              "        text-align: right;\n",
              "    }\n",
              "</style>\n",
              "<table border=\"1\" class=\"dataframe\">\n",
              "  <thead>\n",
              "    <tr style=\"text-align: right;\">\n",
              "      <th></th>\n",
              "      <th>Date</th>\n",
              "      <th>Time</th>\n",
              "      <th>Actual Close Price</th>\n",
              "      <th>Actual Trend</th>\n",
              "      <th>strength</th>\n",
              "      <th>Predicted Close Price</th>\n",
              "      <th>Predicted Trend</th>\n",
              "    </tr>\n",
              "  </thead>\n",
              "  <tbody>\n",
              "    <tr>\n",
              "      <th>0</th>\n",
              "      <td>2021/1/18</td>\n",
              "      <td>04:31:00.0</td>\n",
              "      <td>12783.75</td>\n",
              "      <td>Up</td>\n",
              "      <td>51.540493</td>\n",
              "      <td>[12821.024]</td>\n",
              "      <td>Up</td>\n",
              "    </tr>\n",
              "    <tr>\n",
              "      <th>1</th>\n",
              "      <td>2021/1/18</td>\n",
              "      <td>04:33:00.0</td>\n",
              "      <td>12784.00</td>\n",
              "      <td>Up</td>\n",
              "      <td>51.601824</td>\n",
              "      <td>[12821.801]</td>\n",
              "      <td>Up</td>\n",
              "    </tr>\n",
              "    <tr>\n",
              "      <th>2</th>\n",
              "      <td>2021/1/18</td>\n",
              "      <td>04:35:00.0</td>\n",
              "      <td>12785.25</td>\n",
              "      <td>Up</td>\n",
              "      <td>51.909217</td>\n",
              "      <td>[12820.384]</td>\n",
              "      <td>Bottom</td>\n",
              "    </tr>\n",
              "    <tr>\n",
              "      <th>3</th>\n",
              "      <td>2021/1/18</td>\n",
              "      <td>04:37:00.0</td>\n",
              "      <td>12785.00</td>\n",
              "      <td>Bottom</td>\n",
              "      <td>51.842697</td>\n",
              "      <td>[12820.87]</td>\n",
              "      <td>Up</td>\n",
              "    </tr>\n",
              "    <tr>\n",
              "      <th>4</th>\n",
              "      <td>2021/1/18</td>\n",
              "      <td>04:39:00.0</td>\n",
              "      <td>12783.00</td>\n",
              "      <td>Bottom</td>\n",
              "      <td>51.311359</td>\n",
              "      <td>[12822.038]</td>\n",
              "      <td>Up</td>\n",
              "    </tr>\n",
              "    <tr>\n",
              "      <th>...</th>\n",
              "      <td>...</td>\n",
              "      <td>...</td>\n",
              "      <td>...</td>\n",
              "      <td>...</td>\n",
              "      <td>...</td>\n",
              "      <td>...</td>\n",
              "      <td>...</td>\n",
              "    </tr>\n",
              "    <tr>\n",
              "      <th>228711</th>\n",
              "      <td>2022/5/3</td>\n",
              "      <td>01:17:00.0</td>\n",
              "      <td>13140.00</td>\n",
              "      <td>Bottom</td>\n",
              "      <td>54.899658</td>\n",
              "      <td>[13170.867]</td>\n",
              "      <td>Up</td>\n",
              "    </tr>\n",
              "    <tr>\n",
              "      <th>228712</th>\n",
              "      <td>2022/5/3</td>\n",
              "      <td>01:19:00.0</td>\n",
              "      <td>13133.50</td>\n",
              "      <td>Bottom</td>\n",
              "      <td>54.106513</td>\n",
              "      <td>[13178.624]</td>\n",
              "      <td>Up</td>\n",
              "    </tr>\n",
              "    <tr>\n",
              "      <th>228713</th>\n",
              "      <td>2022/5/3</td>\n",
              "      <td>01:21:00.0</td>\n",
              "      <td>13133.50</td>\n",
              "      <td>Flat</td>\n",
              "      <td>54.106513</td>\n",
              "      <td>[13177.087]</td>\n",
              "      <td>Bottom</td>\n",
              "    </tr>\n",
              "    <tr>\n",
              "      <th>228714</th>\n",
              "      <td>2022/5/3</td>\n",
              "      <td>01:23:00.0</td>\n",
              "      <td>13135.00</td>\n",
              "      <td>Up</td>\n",
              "      <td>54.262098</td>\n",
              "      <td>[13171.1455]</td>\n",
              "      <td>Bottom</td>\n",
              "    </tr>\n",
              "    <tr>\n",
              "      <th>228715</th>\n",
              "      <td>2022/5/3</td>\n",
              "      <td>01:25:00.0</td>\n",
              "      <td>13131.75</td>\n",
              "      <td>Bottom</td>\n",
              "      <td>53.862467</td>\n",
              "      <td>[13171.976]</td>\n",
              "      <td>Up</td>\n",
              "    </tr>\n",
              "  </tbody>\n",
              "</table>\n",
              "<p>228716 rows × 7 columns</p>\n",
              "</div>\n",
              "      <button class=\"colab-df-convert\" onclick=\"convertToInteractive('df-44af9dc6-faeb-4cf7-b3c0-de3df6b5ee7d')\"\n",
              "              title=\"Convert this dataframe to an interactive table.\"\n",
              "              style=\"display:none;\">\n",
              "        \n",
              "  <svg xmlns=\"http://www.w3.org/2000/svg\" height=\"24px\"viewBox=\"0 0 24 24\"\n",
              "       width=\"24px\">\n",
              "    <path d=\"M0 0h24v24H0V0z\" fill=\"none\"/>\n",
              "    <path d=\"M18.56 5.44l.94 2.06.94-2.06 2.06-.94-2.06-.94-.94-2.06-.94 2.06-2.06.94zm-11 1L8.5 8.5l.94-2.06 2.06-.94-2.06-.94L8.5 2.5l-.94 2.06-2.06.94zm10 10l.94 2.06.94-2.06 2.06-.94-2.06-.94-.94-2.06-.94 2.06-2.06.94z\"/><path d=\"M17.41 7.96l-1.37-1.37c-.4-.4-.92-.59-1.43-.59-.52 0-1.04.2-1.43.59L10.3 9.45l-7.72 7.72c-.78.78-.78 2.05 0 2.83L4 21.41c.39.39.9.59 1.41.59.51 0 1.02-.2 1.41-.59l7.78-7.78 2.81-2.81c.8-.78.8-2.07 0-2.86zM5.41 20L4 18.59l7.72-7.72 1.47 1.35L5.41 20z\"/>\n",
              "  </svg>\n",
              "      </button>\n",
              "      \n",
              "  <style>\n",
              "    .colab-df-container {\n",
              "      display:flex;\n",
              "      flex-wrap:wrap;\n",
              "      gap: 12px;\n",
              "    }\n",
              "\n",
              "    .colab-df-convert {\n",
              "      background-color: #E8F0FE;\n",
              "      border: none;\n",
              "      border-radius: 50%;\n",
              "      cursor: pointer;\n",
              "      display: none;\n",
              "      fill: #1967D2;\n",
              "      height: 32px;\n",
              "      padding: 0 0 0 0;\n",
              "      width: 32px;\n",
              "    }\n",
              "\n",
              "    .colab-df-convert:hover {\n",
              "      background-color: #E2EBFA;\n",
              "      box-shadow: 0px 1px 2px rgba(60, 64, 67, 0.3), 0px 1px 3px 1px rgba(60, 64, 67, 0.15);\n",
              "      fill: #174EA6;\n",
              "    }\n",
              "\n",
              "    [theme=dark] .colab-df-convert {\n",
              "      background-color: #3B4455;\n",
              "      fill: #D2E3FC;\n",
              "    }\n",
              "\n",
              "    [theme=dark] .colab-df-convert:hover {\n",
              "      background-color: #434B5C;\n",
              "      box-shadow: 0px 1px 3px 1px rgba(0, 0, 0, 0.15);\n",
              "      filter: drop-shadow(0px 1px 2px rgba(0, 0, 0, 0.3));\n",
              "      fill: #FFFFFF;\n",
              "    }\n",
              "  </style>\n",
              "\n",
              "      <script>\n",
              "        const buttonEl =\n",
              "          document.querySelector('#df-44af9dc6-faeb-4cf7-b3c0-de3df6b5ee7d button.colab-df-convert');\n",
              "        buttonEl.style.display =\n",
              "          google.colab.kernel.accessAllowed ? 'block' : 'none';\n",
              "\n",
              "        async function convertToInteractive(key) {\n",
              "          const element = document.querySelector('#df-44af9dc6-faeb-4cf7-b3c0-de3df6b5ee7d');\n",
              "          const dataTable =\n",
              "            await google.colab.kernel.invokeFunction('convertToInteractive',\n",
              "                                                     [key], {});\n",
              "          if (!dataTable) return;\n",
              "\n",
              "          const docLinkHtml = 'Like what you see? Visit the ' +\n",
              "            '<a target=\"_blank\" href=https://colab.research.google.com/notebooks/data_table.ipynb>data table notebook</a>'\n",
              "            + ' to learn more about interactive tables.';\n",
              "          element.innerHTML = '';\n",
              "          dataTable['output_type'] = 'display_data';\n",
              "          await google.colab.output.renderOutput(dataTable, element);\n",
              "          const docLink = document.createElement('div');\n",
              "          docLink.innerHTML = docLinkHtml;\n",
              "          element.appendChild(docLink);\n",
              "        }\n",
              "      </script>\n",
              "    </div>\n",
              "  </div>\n",
              "  "
            ],
            "text/plain": [
              "             Date         Time  Actual Close Price Actual Trend   strength  \\\n",
              "0       2021/1/18   04:31:00.0            12783.75           Up  51.540493   \n",
              "1       2021/1/18   04:33:00.0            12784.00           Up  51.601824   \n",
              "2       2021/1/18   04:35:00.0            12785.25           Up  51.909217   \n",
              "3       2021/1/18   04:37:00.0            12785.00       Bottom  51.842697   \n",
              "4       2021/1/18   04:39:00.0            12783.00       Bottom  51.311359   \n",
              "...           ...          ...                 ...          ...        ...   \n",
              "228711   2022/5/3   01:17:00.0            13140.00       Bottom  54.899658   \n",
              "228712   2022/5/3   01:19:00.0            13133.50       Bottom  54.106513   \n",
              "228713   2022/5/3   01:21:00.0            13133.50         Flat  54.106513   \n",
              "228714   2022/5/3   01:23:00.0            13135.00           Up  54.262098   \n",
              "228715   2022/5/3   01:25:00.0            13131.75       Bottom  53.862467   \n",
              "\n",
              "       Predicted Close Price Predicted Trend  \n",
              "0                [12821.024]              Up  \n",
              "1                [12821.801]              Up  \n",
              "2                [12820.384]          Bottom  \n",
              "3                 [12820.87]              Up  \n",
              "4                [12822.038]              Up  \n",
              "...                      ...             ...  \n",
              "228711           [13170.867]              Up  \n",
              "228712           [13178.624]              Up  \n",
              "228713           [13177.087]          Bottom  \n",
              "228714          [13171.1455]          Bottom  \n",
              "228715           [13171.976]              Up  \n",
              "\n",
              "[228716 rows x 7 columns]"
            ]
          },
          "execution_count": 237,
          "metadata": {},
          "output_type": "execute_result"
        }
      ],
      "source": [
        "total_df"
      ]
    },
    {
      "cell_type": "code",
      "execution_count": null,
      "metadata": {
        "colab": {
          "base_uri": "https://localhost:8080/"
        },
        "id": "r-pzxhv1n2mM",
        "outputId": "4e65ff68-11b0-4969-861d-e42a745b1b3e"
      },
      "outputs": [
        {
          "data": {
            "text/plain": [
              "0.3287690192564652"
            ]
          },
          "execution_count": 240,
          "metadata": {},
          "output_type": "execute_result"
        }
      ],
      "source": [
        "from sklearn.metrics import precision_score\n",
        "precision_score(finalactualtrends,finalpredictedtrends,average='macro')"
      ]
    },
    {
      "cell_type": "code",
      "execution_count": null,
      "metadata": {
        "id": "9QyJqsI2pZcz"
      },
      "outputs": [],
      "source": [
        ""
      ]
    }
  ],
  "metadata": {
    "accelerator": "GPU",
    "colab": {
      "name": "Predicting StockPrice with SC data.ipynb",
      "provenance": [],
      "include_colab_link": true
    },
    "kernelspec": {
      "display_name": "Python 3",
      "name": "python3"
    },
    "language_info": {
      "name": "python"
    }
  },
  "nbformat": 4,
  "nbformat_minor": 0
}